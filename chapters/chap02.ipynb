{
  "cells": [
    {
      "cell_type": "markdown",
      "metadata": {
        "id": "view-in-github",
        "colab_type": "text"
      },
      "source": [
        "<a href=\"https://colab.research.google.com/github/alphaxiao1/alphaxiao1/blob/main/chapters/chap02.ipynb\" target=\"_parent\"><img src=\"https://colab.research.google.com/assets/colab-badge.svg\" alt=\"Open In Colab\"/></a>"
      ]
    },
    {
      "cell_type": "markdown",
      "id": "victorian-latitude",
      "metadata": {
        "id": "victorian-latitude"
      },
      "source": [
        "# Bike Share System"
      ]
    },
    {
      "cell_type": "markdown",
      "id": "imported-table",
      "metadata": {
        "tags": [],
        "id": "imported-table"
      },
      "source": [
        "*Modeling and Simulation in Python*\n",
        "\n",
        "Copyright 2021 Allen Downey\n",
        "\n",
        "License: [Creative Commons Attribution-NonCommercial-ShareAlike 4.0 International](https://creativecommons.org/licenses/by-nc-sa/4.0/)"
      ]
    },
    {
      "cell_type": "code",
      "execution_count": 1,
      "id": "electoral-turkey",
      "metadata": {
        "tags": [],
        "id": "electoral-turkey",
        "outputId": "3f425459-4cd7-4f2b-e2a5-e48315e12a55",
        "colab": {
          "base_uri": "https://localhost:8080/"
        }
      },
      "outputs": [
        {
          "output_type": "stream",
          "name": "stdout",
          "text": [
            "Collecting pint\n",
            "  Downloading Pint-0.23-py3-none-any.whl (305 kB)\n",
            "\u001b[2K     \u001b[90m━━━━━━━━━━━━━━━━━━━━━━━━━━━━━━━━━━━━━━━━\u001b[0m \u001b[32m305.0/305.0 kB\u001b[0m \u001b[31m1.7 MB/s\u001b[0m eta \u001b[36m0:00:00\u001b[0m\n",
            "\u001b[?25hRequirement already satisfied: typing-extensions in /usr/local/lib/python3.10/dist-packages (from pint) (4.5.0)\n",
            "Installing collected packages: pint\n",
            "Successfully installed pint-0.23\n"
          ]
        }
      ],
      "source": [
        "# install Pint if necessary\n",
        "\n",
        "try:\n",
        "    import pint\n",
        "except ImportError:\n",
        "    !pip install pint"
      ]
    },
    {
      "cell_type": "code",
      "execution_count": 2,
      "id": "formal-context",
      "metadata": {
        "tags": [],
        "id": "formal-context",
        "outputId": "d6adae62-90f3-45fa-bf65-53a16e10a8be",
        "colab": {
          "base_uri": "https://localhost:8080/"
        }
      },
      "outputs": [
        {
          "output_type": "stream",
          "name": "stdout",
          "text": [
            "Downloaded modsim.py\n"
          ]
        }
      ],
      "source": [
        "# download modsim.py if necessary\n",
        "\n",
        "from os.path import basename, exists\n",
        "\n",
        "def download(url):\n",
        "    filename = basename(url)\n",
        "    if not exists(filename):\n",
        "        from urllib.request import urlretrieve\n",
        "        local, _ = urlretrieve(url, filename)\n",
        "        print('Downloaded ' + local)\n",
        "\n",
        "download('https://raw.githubusercontent.com/AllenDowney/' +\n",
        "         'ModSimPy/master/modsim.py')"
      ]
    },
    {
      "cell_type": "code",
      "execution_count": 3,
      "id": "progressive-typing",
      "metadata": {
        "tags": [],
        "id": "progressive-typing"
      },
      "outputs": [],
      "source": [
        "# import functions from modsim\n",
        "\n",
        "from modsim import *"
      ]
    },
    {
      "cell_type": "markdown",
      "id": "unlimited-antenna",
      "metadata": {
        "id": "unlimited-antenna"
      },
      "source": [
        "This chapter presents a simple model of a bike share system and\n",
        "demonstrates the features of Python we'll use to develop simulations of real-world systems.\n",
        "\n",
        "Along the way, we'll make decisions about how to model the system. In\n",
        "the next chapter we'll review these decisions and gradually improve the model."
      ]
    },
    {
      "cell_type": "markdown",
      "id": "electronic-radius",
      "metadata": {
        "id": "electronic-radius"
      },
      "source": [
        "This chapter is available as a Jupyter notebook where you can read the text, run the code, and work on the exercises.\n",
        "Click here to access the notebooks: <https://allendowney.github.io/ModSimPy/>."
      ]
    },
    {
      "cell_type": "markdown",
      "id": "above-denial",
      "metadata": {
        "id": "above-denial"
      },
      "source": [
        "## Modeling a Bike Share System\n",
        "\n",
        "Imagine a bike share system for students traveling between Olin College and Wellesley College, which are about three miles apart in eastern Massachusetts.\n",
        "\n",
        "Suppose the system contains 12 bikes and two bike racks, one at Olin and one at Wellesley, each with the capacity to hold 12 bikes.\n",
        "\n",
        "As students arrive, check out a bike, and ride to the other campus, the number of bikes in each location changes. In the simulation, we'll need to keep track of where the bikes are. To do that, we'll use a function called `State`, which is defined in the ModSim library."
      ]
    },
    {
      "cell_type": "code",
      "execution_count": 4,
      "id": "incorrect-comparison",
      "metadata": {
        "id": "incorrect-comparison"
      },
      "outputs": [],
      "source": [
        "bikeshare = State(olin=10, wellesley=2)"
      ]
    },
    {
      "cell_type": "markdown",
      "id": "living-wayne",
      "metadata": {
        "id": "living-wayne"
      },
      "source": [
        "The equations in parentheses create two variables, `olin` and `wellesley`, and give them the values `10` and `2`.\n",
        "The `State` function stores these variables and their values in a `State` object, which gets assigned to a new variable named `bikeshare`.\n",
        "\n",
        "Variables stored inside a `State` object are called *state variables*.\n",
        "In this example, the state variables represent the number of\n",
        "bikes at each location. Their values indicate that there are 10 bikes at Olin and 2 at Wellesley.\n",
        "\n",
        "The `State` object is assigned to a new variable named `bikeshare`.\n",
        "We can get the value of a variable in a `State` object using the *dot operator*, like this:"
      ]
    },
    {
      "cell_type": "code",
      "execution_count": 5,
      "id": "brief-diversity",
      "metadata": {
        "id": "brief-diversity",
        "outputId": "3637d85d-9b78-46b0-8d37-9c6acb245868",
        "colab": {
          "base_uri": "https://localhost:8080/"
        }
      },
      "outputs": [
        {
          "output_type": "execute_result",
          "data": {
            "text/plain": [
              "10"
            ]
          },
          "metadata": {},
          "execution_count": 5
        }
      ],
      "source": [
        "bikeshare.olin"
      ]
    },
    {
      "cell_type": "markdown",
      "id": "intermediate-midwest",
      "metadata": {
        "id": "intermediate-midwest"
      },
      "source": [
        "And this:"
      ]
    },
    {
      "cell_type": "code",
      "execution_count": 6,
      "id": "designed-brazilian",
      "metadata": {
        "id": "designed-brazilian",
        "outputId": "3eb7aa19-96cc-4482-e4a5-8a38977db5ba",
        "colab": {
          "base_uri": "https://localhost:8080/"
        }
      },
      "outputs": [
        {
          "output_type": "execute_result",
          "data": {
            "text/plain": [
              "2"
            ]
          },
          "metadata": {},
          "execution_count": 6
        }
      ],
      "source": [
        "bikeshare.wellesley"
      ]
    },
    {
      "cell_type": "markdown",
      "id": "phantom-oklahoma",
      "metadata": {
        "id": "phantom-oklahoma"
      },
      "source": [
        "Or, to display all of the state variables and their values, you can enter just the name of the object:"
      ]
    },
    {
      "cell_type": "code",
      "execution_count": 7,
      "id": "impaired-potter",
      "metadata": {
        "id": "impaired-potter",
        "outputId": "34756949-c04a-4a88-9a0c-ebd6f96a1865",
        "colab": {
          "base_uri": "https://localhost:8080/"
        }
      },
      "outputs": [
        {
          "output_type": "execute_result",
          "data": {
            "text/plain": [
              "olin         10\n",
              "wellesley     2\n",
              "Name: state, dtype: int64"
            ]
          },
          "metadata": {},
          "execution_count": 7
        }
      ],
      "source": [
        "bikeshare"
      ]
    },
    {
      "cell_type": "markdown",
      "id": "vital-journal",
      "metadata": {
        "id": "vital-journal"
      },
      "source": [
        "These values make up the *state* of the system."
      ]
    },
    {
      "cell_type": "markdown",
      "id": "fleet-beijing",
      "metadata": {
        "tags": [],
        "id": "fleet-beijing"
      },
      "source": [
        "The ModSim library provides a function called `show` that displays a `State` object as a table."
      ]
    },
    {
      "cell_type": "code",
      "execution_count": 8,
      "id": "basic-fabric",
      "metadata": {
        "tags": [],
        "id": "basic-fabric",
        "outputId": "4a869dc3-3847-4a52-9c71-696f55d5cdc0",
        "colab": {
          "base_uri": "https://localhost:8080/",
          "height": 112
        }
      },
      "outputs": [
        {
          "output_type": "execute_result",
          "data": {
            "text/plain": [
              "           state\n",
              "olin          10\n",
              "wellesley      2"
            ],
            "text/html": [
              "\n",
              "  <div id=\"df-fd14622e-b81c-40a6-af99-e75608df6ed6\" class=\"colab-df-container\">\n",
              "    <div>\n",
              "<style scoped>\n",
              "    .dataframe tbody tr th:only-of-type {\n",
              "        vertical-align: middle;\n",
              "    }\n",
              "\n",
              "    .dataframe tbody tr th {\n",
              "        vertical-align: top;\n",
              "    }\n",
              "\n",
              "    .dataframe thead th {\n",
              "        text-align: right;\n",
              "    }\n",
              "</style>\n",
              "<table border=\"1\" class=\"dataframe\">\n",
              "  <thead>\n",
              "    <tr style=\"text-align: right;\">\n",
              "      <th></th>\n",
              "      <th>state</th>\n",
              "    </tr>\n",
              "  </thead>\n",
              "  <tbody>\n",
              "    <tr>\n",
              "      <th>olin</th>\n",
              "      <td>10</td>\n",
              "    </tr>\n",
              "    <tr>\n",
              "      <th>wellesley</th>\n",
              "      <td>2</td>\n",
              "    </tr>\n",
              "  </tbody>\n",
              "</table>\n",
              "</div>\n",
              "    <div class=\"colab-df-buttons\">\n",
              "\n",
              "  <div class=\"colab-df-container\">\n",
              "    <button class=\"colab-df-convert\" onclick=\"convertToInteractive('df-fd14622e-b81c-40a6-af99-e75608df6ed6')\"\n",
              "            title=\"Convert this dataframe to an interactive table.\"\n",
              "            style=\"display:none;\">\n",
              "\n",
              "  <svg xmlns=\"http://www.w3.org/2000/svg\" height=\"24px\" viewBox=\"0 -960 960 960\">\n",
              "    <path d=\"M120-120v-720h720v720H120Zm60-500h600v-160H180v160Zm220 220h160v-160H400v160Zm0 220h160v-160H400v160ZM180-400h160v-160H180v160Zm440 0h160v-160H620v160ZM180-180h160v-160H180v160Zm440 0h160v-160H620v160Z\"/>\n",
              "  </svg>\n",
              "    </button>\n",
              "\n",
              "  <style>\n",
              "    .colab-df-container {\n",
              "      display:flex;\n",
              "      gap: 12px;\n",
              "    }\n",
              "\n",
              "    .colab-df-convert {\n",
              "      background-color: #E8F0FE;\n",
              "      border: none;\n",
              "      border-radius: 50%;\n",
              "      cursor: pointer;\n",
              "      display: none;\n",
              "      fill: #1967D2;\n",
              "      height: 32px;\n",
              "      padding: 0 0 0 0;\n",
              "      width: 32px;\n",
              "    }\n",
              "\n",
              "    .colab-df-convert:hover {\n",
              "      background-color: #E2EBFA;\n",
              "      box-shadow: 0px 1px 2px rgba(60, 64, 67, 0.3), 0px 1px 3px 1px rgba(60, 64, 67, 0.15);\n",
              "      fill: #174EA6;\n",
              "    }\n",
              "\n",
              "    .colab-df-buttons div {\n",
              "      margin-bottom: 4px;\n",
              "    }\n",
              "\n",
              "    [theme=dark] .colab-df-convert {\n",
              "      background-color: #3B4455;\n",
              "      fill: #D2E3FC;\n",
              "    }\n",
              "\n",
              "    [theme=dark] .colab-df-convert:hover {\n",
              "      background-color: #434B5C;\n",
              "      box-shadow: 0px 1px 3px 1px rgba(0, 0, 0, 0.15);\n",
              "      filter: drop-shadow(0px 1px 2px rgba(0, 0, 0, 0.3));\n",
              "      fill: #FFFFFF;\n",
              "    }\n",
              "  </style>\n",
              "\n",
              "    <script>\n",
              "      const buttonEl =\n",
              "        document.querySelector('#df-fd14622e-b81c-40a6-af99-e75608df6ed6 button.colab-df-convert');\n",
              "      buttonEl.style.display =\n",
              "        google.colab.kernel.accessAllowed ? 'block' : 'none';\n",
              "\n",
              "      async function convertToInteractive(key) {\n",
              "        const element = document.querySelector('#df-fd14622e-b81c-40a6-af99-e75608df6ed6');\n",
              "        const dataTable =\n",
              "          await google.colab.kernel.invokeFunction('convertToInteractive',\n",
              "                                                    [key], {});\n",
              "        if (!dataTable) return;\n",
              "\n",
              "        const docLinkHtml = 'Like what you see? Visit the ' +\n",
              "          '<a target=\"_blank\" href=https://colab.research.google.com/notebooks/data_table.ipynb>data table notebook</a>'\n",
              "          + ' to learn more about interactive tables.';\n",
              "        element.innerHTML = '';\n",
              "        dataTable['output_type'] = 'display_data';\n",
              "        await google.colab.output.renderOutput(dataTable, element);\n",
              "        const docLink = document.createElement('div');\n",
              "        docLink.innerHTML = docLinkHtml;\n",
              "        element.appendChild(docLink);\n",
              "      }\n",
              "    </script>\n",
              "  </div>\n",
              "\n",
              "\n",
              "<div id=\"df-a09b13c8-1f1a-48e5-bbca-83ca9a79e2f1\">\n",
              "  <button class=\"colab-df-quickchart\" onclick=\"quickchart('df-a09b13c8-1f1a-48e5-bbca-83ca9a79e2f1')\"\n",
              "            title=\"Suggest charts\"\n",
              "            style=\"display:none;\">\n",
              "\n",
              "<svg xmlns=\"http://www.w3.org/2000/svg\" height=\"24px\"viewBox=\"0 0 24 24\"\n",
              "     width=\"24px\">\n",
              "    <g>\n",
              "        <path d=\"M19 3H5c-1.1 0-2 .9-2 2v14c0 1.1.9 2 2 2h14c1.1 0 2-.9 2-2V5c0-1.1-.9-2-2-2zM9 17H7v-7h2v7zm4 0h-2V7h2v10zm4 0h-2v-4h2v4z\"/>\n",
              "    </g>\n",
              "</svg>\n",
              "  </button>\n",
              "\n",
              "<style>\n",
              "  .colab-df-quickchart {\n",
              "      --bg-color: #E8F0FE;\n",
              "      --fill-color: #1967D2;\n",
              "      --hover-bg-color: #E2EBFA;\n",
              "      --hover-fill-color: #174EA6;\n",
              "      --disabled-fill-color: #AAA;\n",
              "      --disabled-bg-color: #DDD;\n",
              "  }\n",
              "\n",
              "  [theme=dark] .colab-df-quickchart {\n",
              "      --bg-color: #3B4455;\n",
              "      --fill-color: #D2E3FC;\n",
              "      --hover-bg-color: #434B5C;\n",
              "      --hover-fill-color: #FFFFFF;\n",
              "      --disabled-bg-color: #3B4455;\n",
              "      --disabled-fill-color: #666;\n",
              "  }\n",
              "\n",
              "  .colab-df-quickchart {\n",
              "    background-color: var(--bg-color);\n",
              "    border: none;\n",
              "    border-radius: 50%;\n",
              "    cursor: pointer;\n",
              "    display: none;\n",
              "    fill: var(--fill-color);\n",
              "    height: 32px;\n",
              "    padding: 0;\n",
              "    width: 32px;\n",
              "  }\n",
              "\n",
              "  .colab-df-quickchart:hover {\n",
              "    background-color: var(--hover-bg-color);\n",
              "    box-shadow: 0 1px 2px rgba(60, 64, 67, 0.3), 0 1px 3px 1px rgba(60, 64, 67, 0.15);\n",
              "    fill: var(--button-hover-fill-color);\n",
              "  }\n",
              "\n",
              "  .colab-df-quickchart-complete:disabled,\n",
              "  .colab-df-quickchart-complete:disabled:hover {\n",
              "    background-color: var(--disabled-bg-color);\n",
              "    fill: var(--disabled-fill-color);\n",
              "    box-shadow: none;\n",
              "  }\n",
              "\n",
              "  .colab-df-spinner {\n",
              "    border: 2px solid var(--fill-color);\n",
              "    border-color: transparent;\n",
              "    border-bottom-color: var(--fill-color);\n",
              "    animation:\n",
              "      spin 1s steps(1) infinite;\n",
              "  }\n",
              "\n",
              "  @keyframes spin {\n",
              "    0% {\n",
              "      border-color: transparent;\n",
              "      border-bottom-color: var(--fill-color);\n",
              "      border-left-color: var(--fill-color);\n",
              "    }\n",
              "    20% {\n",
              "      border-color: transparent;\n",
              "      border-left-color: var(--fill-color);\n",
              "      border-top-color: var(--fill-color);\n",
              "    }\n",
              "    30% {\n",
              "      border-color: transparent;\n",
              "      border-left-color: var(--fill-color);\n",
              "      border-top-color: var(--fill-color);\n",
              "      border-right-color: var(--fill-color);\n",
              "    }\n",
              "    40% {\n",
              "      border-color: transparent;\n",
              "      border-right-color: var(--fill-color);\n",
              "      border-top-color: var(--fill-color);\n",
              "    }\n",
              "    60% {\n",
              "      border-color: transparent;\n",
              "      border-right-color: var(--fill-color);\n",
              "    }\n",
              "    80% {\n",
              "      border-color: transparent;\n",
              "      border-right-color: var(--fill-color);\n",
              "      border-bottom-color: var(--fill-color);\n",
              "    }\n",
              "    90% {\n",
              "      border-color: transparent;\n",
              "      border-bottom-color: var(--fill-color);\n",
              "    }\n",
              "  }\n",
              "</style>\n",
              "\n",
              "  <script>\n",
              "    async function quickchart(key) {\n",
              "      const quickchartButtonEl =\n",
              "        document.querySelector('#' + key + ' button');\n",
              "      quickchartButtonEl.disabled = true;  // To prevent multiple clicks.\n",
              "      quickchartButtonEl.classList.add('colab-df-spinner');\n",
              "      try {\n",
              "        const charts = await google.colab.kernel.invokeFunction(\n",
              "            'suggestCharts', [key], {});\n",
              "      } catch (error) {\n",
              "        console.error('Error during call to suggestCharts:', error);\n",
              "      }\n",
              "      quickchartButtonEl.classList.remove('colab-df-spinner');\n",
              "      quickchartButtonEl.classList.add('colab-df-quickchart-complete');\n",
              "    }\n",
              "    (() => {\n",
              "      let quickchartButtonEl =\n",
              "        document.querySelector('#df-a09b13c8-1f1a-48e5-bbca-83ca9a79e2f1 button');\n",
              "      quickchartButtonEl.style.display =\n",
              "        google.colab.kernel.accessAllowed ? 'block' : 'none';\n",
              "    })();\n",
              "  </script>\n",
              "</div>\n",
              "\n",
              "    </div>\n",
              "  </div>\n"
            ]
          },
          "metadata": {},
          "execution_count": 8
        }
      ],
      "source": [
        "show(bikeshare)"
      ]
    },
    {
      "cell_type": "markdown",
      "id": "specified-definition",
      "metadata": {
        "tags": [],
        "id": "specified-definition"
      },
      "source": [
        "You don't have to use `show`, but I think the results look better."
      ]
    },
    {
      "cell_type": "markdown",
      "id": "delayed-ocean",
      "metadata": {
        "id": "delayed-ocean"
      },
      "source": [
        "We can update the state by assigning new values to the variables.\n",
        "For example, if a student moves a bike from Olin to Wellesley, we can figure out the new values and assign them:"
      ]
    },
    {
      "cell_type": "code",
      "execution_count": 9,
      "id": "floppy-trainer",
      "metadata": {
        "id": "floppy-trainer"
      },
      "outputs": [],
      "source": [
        "bikeshare.olin = 9\n",
        "bikeshare.wellesley = 3"
      ]
    },
    {
      "cell_type": "markdown",
      "id": "natural-gossip",
      "metadata": {
        "id": "natural-gossip"
      },
      "source": [
        "Or we can use *update operators*, `-=` and `+=`, to subtract 1 from\n",
        "`olin` and add 1 to `wellesley`:"
      ]
    },
    {
      "cell_type": "code",
      "execution_count": 10,
      "id": "hungarian-bride",
      "metadata": {
        "id": "hungarian-bride"
      },
      "outputs": [],
      "source": [
        "bikeshare.olin -= 1\n",
        "bikeshare.wellesley += 1"
      ]
    },
    {
      "cell_type": "markdown",
      "id": "radical-mills",
      "metadata": {
        "id": "radical-mills"
      },
      "source": [
        "The result is the same either way."
      ]
    },
    {
      "cell_type": "markdown",
      "id": "controversial-opportunity",
      "metadata": {
        "id": "controversial-opportunity"
      },
      "source": [
        "## Defining Functions\n",
        "\n",
        "So far we have used functions defined in NumPy and the ModSim library. Now we're going to define our own functions.\n",
        "\n",
        "When you are developing code in Jupyter, it is often efficient to write a few lines of code, test them to confirm they do what you intend, and then use them to define a new function. For example, these lines move a bike from Olin to Wellesley:"
      ]
    },
    {
      "cell_type": "code",
      "execution_count": 11,
      "id": "vertical-drawing",
      "metadata": {
        "id": "vertical-drawing"
      },
      "outputs": [],
      "source": [
        "bikeshare.olin -= 1\n",
        "bikeshare.wellesley += 1"
      ]
    },
    {
      "cell_type": "markdown",
      "id": "approximate-rolling",
      "metadata": {
        "id": "approximate-rolling"
      },
      "source": [
        "Rather than repeat them every time a bike moves, we can define a new\n",
        "function:"
      ]
    },
    {
      "cell_type": "code",
      "execution_count": 12,
      "id": "significant-nutrition",
      "metadata": {
        "id": "significant-nutrition"
      },
      "outputs": [],
      "source": [
        "def bike_to_wellesley():\n",
        "    bikeshare.olin -= 1\n",
        "    bikeshare.wellesley += 1"
      ]
    },
    {
      "cell_type": "markdown",
      "id": "generous-tracker",
      "metadata": {
        "id": "generous-tracker"
      },
      "source": [
        "`def` is a special word in Python that indicates we are defining a new\n",
        "function. The name of the function is `bike_to_wellesley`. The empty\n",
        "parentheses indicate that this function requires no additional\n",
        "information when it runs. The colon indicates the beginning of an\n",
        "indented *code block*.\n",
        "\n",
        "The next two lines are the *body* of the function. They have to be\n",
        "indented; by convention, the indentation is four spaces.\n",
        "\n",
        "When you define a function, it has no immediate effect. The body of the\n",
        "function doesn't run until you *call* the function. Here's how to call\n",
        "this function:"
      ]
    },
    {
      "cell_type": "code",
      "execution_count": 13,
      "id": "moving-jurisdiction",
      "metadata": {
        "id": "moving-jurisdiction"
      },
      "outputs": [],
      "source": [
        "bike_to_wellesley()"
      ]
    },
    {
      "cell_type": "markdown",
      "id": "meaningful-christmas",
      "metadata": {
        "id": "meaningful-christmas"
      },
      "source": [
        "When you call the function, it runs the statements in the body, which\n",
        "update the variables of the `bikeshare` object; you can check by\n",
        "displaying the new state."
      ]
    },
    {
      "cell_type": "code",
      "execution_count": 14,
      "id": "proper-symposium",
      "metadata": {
        "id": "proper-symposium",
        "outputId": "e4c88aa6-ad38-43e9-fca1-b8d0a1729f01",
        "colab": {
          "base_uri": "https://localhost:8080/",
          "height": 112
        }
      },
      "outputs": [
        {
          "output_type": "execute_result",
          "data": {
            "text/plain": [
              "           state\n",
              "olin           6\n",
              "wellesley      6"
            ],
            "text/html": [
              "\n",
              "  <div id=\"df-cfeeb756-45fa-49ba-879d-9593faf7fe19\" class=\"colab-df-container\">\n",
              "    <div>\n",
              "<style scoped>\n",
              "    .dataframe tbody tr th:only-of-type {\n",
              "        vertical-align: middle;\n",
              "    }\n",
              "\n",
              "    .dataframe tbody tr th {\n",
              "        vertical-align: top;\n",
              "    }\n",
              "\n",
              "    .dataframe thead th {\n",
              "        text-align: right;\n",
              "    }\n",
              "</style>\n",
              "<table border=\"1\" class=\"dataframe\">\n",
              "  <thead>\n",
              "    <tr style=\"text-align: right;\">\n",
              "      <th></th>\n",
              "      <th>state</th>\n",
              "    </tr>\n",
              "  </thead>\n",
              "  <tbody>\n",
              "    <tr>\n",
              "      <th>olin</th>\n",
              "      <td>6</td>\n",
              "    </tr>\n",
              "    <tr>\n",
              "      <th>wellesley</th>\n",
              "      <td>6</td>\n",
              "    </tr>\n",
              "  </tbody>\n",
              "</table>\n",
              "</div>\n",
              "    <div class=\"colab-df-buttons\">\n",
              "\n",
              "  <div class=\"colab-df-container\">\n",
              "    <button class=\"colab-df-convert\" onclick=\"convertToInteractive('df-cfeeb756-45fa-49ba-879d-9593faf7fe19')\"\n",
              "            title=\"Convert this dataframe to an interactive table.\"\n",
              "            style=\"display:none;\">\n",
              "\n",
              "  <svg xmlns=\"http://www.w3.org/2000/svg\" height=\"24px\" viewBox=\"0 -960 960 960\">\n",
              "    <path d=\"M120-120v-720h720v720H120Zm60-500h600v-160H180v160Zm220 220h160v-160H400v160Zm0 220h160v-160H400v160ZM180-400h160v-160H180v160Zm440 0h160v-160H620v160ZM180-180h160v-160H180v160Zm440 0h160v-160H620v160Z\"/>\n",
              "  </svg>\n",
              "    </button>\n",
              "\n",
              "  <style>\n",
              "    .colab-df-container {\n",
              "      display:flex;\n",
              "      gap: 12px;\n",
              "    }\n",
              "\n",
              "    .colab-df-convert {\n",
              "      background-color: #E8F0FE;\n",
              "      border: none;\n",
              "      border-radius: 50%;\n",
              "      cursor: pointer;\n",
              "      display: none;\n",
              "      fill: #1967D2;\n",
              "      height: 32px;\n",
              "      padding: 0 0 0 0;\n",
              "      width: 32px;\n",
              "    }\n",
              "\n",
              "    .colab-df-convert:hover {\n",
              "      background-color: #E2EBFA;\n",
              "      box-shadow: 0px 1px 2px rgba(60, 64, 67, 0.3), 0px 1px 3px 1px rgba(60, 64, 67, 0.15);\n",
              "      fill: #174EA6;\n",
              "    }\n",
              "\n",
              "    .colab-df-buttons div {\n",
              "      margin-bottom: 4px;\n",
              "    }\n",
              "\n",
              "    [theme=dark] .colab-df-convert {\n",
              "      background-color: #3B4455;\n",
              "      fill: #D2E3FC;\n",
              "    }\n",
              "\n",
              "    [theme=dark] .colab-df-convert:hover {\n",
              "      background-color: #434B5C;\n",
              "      box-shadow: 0px 1px 3px 1px rgba(0, 0, 0, 0.15);\n",
              "      filter: drop-shadow(0px 1px 2px rgba(0, 0, 0, 0.3));\n",
              "      fill: #FFFFFF;\n",
              "    }\n",
              "  </style>\n",
              "\n",
              "    <script>\n",
              "      const buttonEl =\n",
              "        document.querySelector('#df-cfeeb756-45fa-49ba-879d-9593faf7fe19 button.colab-df-convert');\n",
              "      buttonEl.style.display =\n",
              "        google.colab.kernel.accessAllowed ? 'block' : 'none';\n",
              "\n",
              "      async function convertToInteractive(key) {\n",
              "        const element = document.querySelector('#df-cfeeb756-45fa-49ba-879d-9593faf7fe19');\n",
              "        const dataTable =\n",
              "          await google.colab.kernel.invokeFunction('convertToInteractive',\n",
              "                                                    [key], {});\n",
              "        if (!dataTable) return;\n",
              "\n",
              "        const docLinkHtml = 'Like what you see? Visit the ' +\n",
              "          '<a target=\"_blank\" href=https://colab.research.google.com/notebooks/data_table.ipynb>data table notebook</a>'\n",
              "          + ' to learn more about interactive tables.';\n",
              "        element.innerHTML = '';\n",
              "        dataTable['output_type'] = 'display_data';\n",
              "        await google.colab.output.renderOutput(dataTable, element);\n",
              "        const docLink = document.createElement('div');\n",
              "        docLink.innerHTML = docLinkHtml;\n",
              "        element.appendChild(docLink);\n",
              "      }\n",
              "    </script>\n",
              "  </div>\n",
              "\n",
              "\n",
              "<div id=\"df-fba82adb-60a1-4663-995e-9e6573f38c86\">\n",
              "  <button class=\"colab-df-quickchart\" onclick=\"quickchart('df-fba82adb-60a1-4663-995e-9e6573f38c86')\"\n",
              "            title=\"Suggest charts\"\n",
              "            style=\"display:none;\">\n",
              "\n",
              "<svg xmlns=\"http://www.w3.org/2000/svg\" height=\"24px\"viewBox=\"0 0 24 24\"\n",
              "     width=\"24px\">\n",
              "    <g>\n",
              "        <path d=\"M19 3H5c-1.1 0-2 .9-2 2v14c0 1.1.9 2 2 2h14c1.1 0 2-.9 2-2V5c0-1.1-.9-2-2-2zM9 17H7v-7h2v7zm4 0h-2V7h2v10zm4 0h-2v-4h2v4z\"/>\n",
              "    </g>\n",
              "</svg>\n",
              "  </button>\n",
              "\n",
              "<style>\n",
              "  .colab-df-quickchart {\n",
              "      --bg-color: #E8F0FE;\n",
              "      --fill-color: #1967D2;\n",
              "      --hover-bg-color: #E2EBFA;\n",
              "      --hover-fill-color: #174EA6;\n",
              "      --disabled-fill-color: #AAA;\n",
              "      --disabled-bg-color: #DDD;\n",
              "  }\n",
              "\n",
              "  [theme=dark] .colab-df-quickchart {\n",
              "      --bg-color: #3B4455;\n",
              "      --fill-color: #D2E3FC;\n",
              "      --hover-bg-color: #434B5C;\n",
              "      --hover-fill-color: #FFFFFF;\n",
              "      --disabled-bg-color: #3B4455;\n",
              "      --disabled-fill-color: #666;\n",
              "  }\n",
              "\n",
              "  .colab-df-quickchart {\n",
              "    background-color: var(--bg-color);\n",
              "    border: none;\n",
              "    border-radius: 50%;\n",
              "    cursor: pointer;\n",
              "    display: none;\n",
              "    fill: var(--fill-color);\n",
              "    height: 32px;\n",
              "    padding: 0;\n",
              "    width: 32px;\n",
              "  }\n",
              "\n",
              "  .colab-df-quickchart:hover {\n",
              "    background-color: var(--hover-bg-color);\n",
              "    box-shadow: 0 1px 2px rgba(60, 64, 67, 0.3), 0 1px 3px 1px rgba(60, 64, 67, 0.15);\n",
              "    fill: var(--button-hover-fill-color);\n",
              "  }\n",
              "\n",
              "  .colab-df-quickchart-complete:disabled,\n",
              "  .colab-df-quickchart-complete:disabled:hover {\n",
              "    background-color: var(--disabled-bg-color);\n",
              "    fill: var(--disabled-fill-color);\n",
              "    box-shadow: none;\n",
              "  }\n",
              "\n",
              "  .colab-df-spinner {\n",
              "    border: 2px solid var(--fill-color);\n",
              "    border-color: transparent;\n",
              "    border-bottom-color: var(--fill-color);\n",
              "    animation:\n",
              "      spin 1s steps(1) infinite;\n",
              "  }\n",
              "\n",
              "  @keyframes spin {\n",
              "    0% {\n",
              "      border-color: transparent;\n",
              "      border-bottom-color: var(--fill-color);\n",
              "      border-left-color: var(--fill-color);\n",
              "    }\n",
              "    20% {\n",
              "      border-color: transparent;\n",
              "      border-left-color: var(--fill-color);\n",
              "      border-top-color: var(--fill-color);\n",
              "    }\n",
              "    30% {\n",
              "      border-color: transparent;\n",
              "      border-left-color: var(--fill-color);\n",
              "      border-top-color: var(--fill-color);\n",
              "      border-right-color: var(--fill-color);\n",
              "    }\n",
              "    40% {\n",
              "      border-color: transparent;\n",
              "      border-right-color: var(--fill-color);\n",
              "      border-top-color: var(--fill-color);\n",
              "    }\n",
              "    60% {\n",
              "      border-color: transparent;\n",
              "      border-right-color: var(--fill-color);\n",
              "    }\n",
              "    80% {\n",
              "      border-color: transparent;\n",
              "      border-right-color: var(--fill-color);\n",
              "      border-bottom-color: var(--fill-color);\n",
              "    }\n",
              "    90% {\n",
              "      border-color: transparent;\n",
              "      border-bottom-color: var(--fill-color);\n",
              "    }\n",
              "  }\n",
              "</style>\n",
              "\n",
              "  <script>\n",
              "    async function quickchart(key) {\n",
              "      const quickchartButtonEl =\n",
              "        document.querySelector('#' + key + ' button');\n",
              "      quickchartButtonEl.disabled = true;  // To prevent multiple clicks.\n",
              "      quickchartButtonEl.classList.add('colab-df-spinner');\n",
              "      try {\n",
              "        const charts = await google.colab.kernel.invokeFunction(\n",
              "            'suggestCharts', [key], {});\n",
              "      } catch (error) {\n",
              "        console.error('Error during call to suggestCharts:', error);\n",
              "      }\n",
              "      quickchartButtonEl.classList.remove('colab-df-spinner');\n",
              "      quickchartButtonEl.classList.add('colab-df-quickchart-complete');\n",
              "    }\n",
              "    (() => {\n",
              "      let quickchartButtonEl =\n",
              "        document.querySelector('#df-fba82adb-60a1-4663-995e-9e6573f38c86 button');\n",
              "      quickchartButtonEl.style.display =\n",
              "        google.colab.kernel.accessAllowed ? 'block' : 'none';\n",
              "    })();\n",
              "  </script>\n",
              "</div>\n",
              "\n",
              "    </div>\n",
              "  </div>\n"
            ]
          },
          "metadata": {},
          "execution_count": 14
        }
      ],
      "source": [
        "show(bikeshare)"
      ]
    },
    {
      "cell_type": "markdown",
      "id": "eleven-brook",
      "metadata": {
        "id": "eleven-brook"
      },
      "source": [
        "When you call a function, you have to include the parentheses. If you\n",
        "leave them out, you get this:"
      ]
    },
    {
      "cell_type": "code",
      "execution_count": 15,
      "id": "identical-yacht",
      "metadata": {
        "id": "identical-yacht",
        "outputId": "1ffbcd6c-e54b-4a86-8e2a-15ca7a6efe7e",
        "colab": {
          "base_uri": "https://localhost:8080/"
        }
      },
      "outputs": [
        {
          "output_type": "execute_result",
          "data": {
            "text/plain": [
              "<function __main__.bike_to_wellesley()>"
            ]
          },
          "metadata": {},
          "execution_count": 15
        }
      ],
      "source": [
        "bike_to_wellesley"
      ]
    },
    {
      "cell_type": "markdown",
      "id": "premier-youth",
      "metadata": {
        "id": "premier-youth"
      },
      "source": [
        "This result indicates that `bike_to_wellesley` is a function. You don't have to know what `__main__` means, but if you see something like this, it probably means that you named a function but didn't actually call it.\n",
        "So don't forget the parentheses."
      ]
    },
    {
      "cell_type": "markdown",
      "id": "brazilian-medicare",
      "metadata": {
        "id": "brazilian-medicare"
      },
      "source": [
        "## Print Statements\n",
        "\n",
        "As you write more complicated programs, it is easy to lose track of what\n",
        "is going on. One of the most useful tools for debugging is the *print statement*, which displays text in the Jupyter notebook.\n",
        "\n",
        "Normally when Jupyter runs the code in a cell, it displays the value of\n",
        "the last line of code. For example, if you run:"
      ]
    },
    {
      "cell_type": "code",
      "execution_count": 16,
      "id": "heavy-patrol",
      "metadata": {
        "id": "heavy-patrol",
        "outputId": "51d4fb3b-3835-41cf-9797-02b2e7011170",
        "colab": {
          "base_uri": "https://localhost:8080/"
        }
      },
      "outputs": [
        {
          "output_type": "execute_result",
          "data": {
            "text/plain": [
              "6"
            ]
          },
          "metadata": {},
          "execution_count": 16
        }
      ],
      "source": [
        "bikeshare.olin\n",
        "bikeshare.wellesley"
      ]
    },
    {
      "cell_type": "markdown",
      "id": "ancient-projection",
      "metadata": {
        "id": "ancient-projection"
      },
      "source": [
        "Jupyter runs both lines, but it only displays the value of the\n",
        "second. If you want to display more than one value, you can use\n",
        "print statements:"
      ]
    },
    {
      "cell_type": "code",
      "execution_count": 17,
      "id": "french-preference",
      "metadata": {
        "id": "french-preference",
        "outputId": "818723c8-6623-4c99-beed-53aab86404a7",
        "colab": {
          "base_uri": "https://localhost:8080/"
        }
      },
      "outputs": [
        {
          "output_type": "stream",
          "name": "stdout",
          "text": [
            "6\n",
            "6\n"
          ]
        }
      ],
      "source": [
        "print(bikeshare.olin)\n",
        "print(bikeshare.wellesley)"
      ]
    },
    {
      "cell_type": "markdown",
      "id": "original-hollywood",
      "metadata": {
        "id": "original-hollywood"
      },
      "source": [
        "When you call the `print` function, you can put a variable in\n",
        "parentheses, as in the previous example, or you can provide a sequence\n",
        "of variables separated by commas, like this:"
      ]
    },
    {
      "cell_type": "code",
      "execution_count": 18,
      "id": "alternative-keyboard",
      "metadata": {
        "id": "alternative-keyboard",
        "outputId": "1e760a01-2ea4-49db-ea7b-dae0eb2e96c1",
        "colab": {
          "base_uri": "https://localhost:8080/"
        }
      },
      "outputs": [
        {
          "output_type": "stream",
          "name": "stdout",
          "text": [
            "6 6\n"
          ]
        }
      ],
      "source": [
        "print(bikeshare.olin, bikeshare.wellesley)"
      ]
    },
    {
      "cell_type": "markdown",
      "id": "described-produce",
      "metadata": {
        "id": "described-produce"
      },
      "source": [
        "Python looks up the values of the variables and displays them; in this\n",
        "example, it displays two values on the same line, with a space between\n",
        "them.\n",
        "\n",
        "Print statements are useful for debugging functions. For example, we can\n",
        "add a print statement to `bike_to_wellesley`, like this:"
      ]
    },
    {
      "cell_type": "code",
      "execution_count": 19,
      "id": "robust-holly",
      "metadata": {
        "id": "robust-holly"
      },
      "outputs": [],
      "source": [
        "def bike_to_wellesley():\n",
        "    print('Moving a bike to Wellesley')\n",
        "    bikeshare.olin -= 1\n",
        "    bikeshare.wellesley += 1"
      ]
    },
    {
      "cell_type": "markdown",
      "id": "vital-lender",
      "metadata": {
        "id": "vital-lender"
      },
      "source": [
        "Each time we call this version of the function, it displays a message,\n",
        "which can help us keep track of what the program is doing.\n",
        "The message in this example is a *string*, which is a sequence of\n",
        "letters and other symbols in quotes.\n",
        "\n",
        "Just like `bike_to_wellesley`, we can define a function that moves a\n",
        "bike from Wellesley to Olin:"
      ]
    },
    {
      "cell_type": "code",
      "execution_count": 20,
      "id": "fifteen-atmosphere",
      "metadata": {
        "id": "fifteen-atmosphere"
      },
      "outputs": [],
      "source": [
        "def bike_to_olin():\n",
        "    print('Moving a bike to Olin')\n",
        "    bikeshare.wellesley -= 1\n",
        "    bikeshare.olin += 1"
      ]
    },
    {
      "cell_type": "markdown",
      "id": "requested-glasgow",
      "metadata": {
        "id": "requested-glasgow"
      },
      "source": [
        "And call it like this:"
      ]
    },
    {
      "cell_type": "code",
      "execution_count": 21,
      "id": "matched-narrow",
      "metadata": {
        "id": "matched-narrow",
        "outputId": "6cc9559a-aed6-4096-ac87-ebd62aeb42ae",
        "colab": {
          "base_uri": "https://localhost:8080/"
        }
      },
      "outputs": [
        {
          "output_type": "stream",
          "name": "stdout",
          "text": [
            "Moving a bike to Olin\n"
          ]
        }
      ],
      "source": [
        "bike_to_olin()"
      ]
    },
    {
      "cell_type": "markdown",
      "id": "sitting-semiconductor",
      "metadata": {
        "id": "sitting-semiconductor"
      },
      "source": [
        "One benefit of defining functions is that you avoid repeating chunks of\n",
        "code, which makes programs smaller. Another benefit is that the name you\n",
        "give the function documents what it does, which makes programs more\n",
        "readable."
      ]
    },
    {
      "cell_type": "markdown",
      "id": "enhanced-maintenance",
      "metadata": {
        "id": "enhanced-maintenance"
      },
      "source": [
        "## If Statements\n",
        "\n",
        "At this point we have functions that simulate moving bikes; now let's think about simulating customers. As a simple model of customer behavior, I will use a random number generator to determine when customers arrive at each station.\n",
        "\n",
        "The ModSim library provides a function called `flip` that generates random \"coin tosses\".\n",
        "When you call it, you provide a probability between 0 and 1, like this:"
      ]
    },
    {
      "cell_type": "code",
      "execution_count": 22,
      "id": "29c1f41a",
      "metadata": {
        "tags": [],
        "id": "29c1f41a"
      },
      "outputs": [],
      "source": [
        "# this line sets the random number generator so the results in\n",
        "# the book are the same every time we run it\n",
        "np.random.seed(17)"
      ]
    },
    {
      "cell_type": "code",
      "execution_count": 28,
      "id": "illegal-metropolitan",
      "metadata": {
        "id": "illegal-metropolitan",
        "outputId": "04034866-4fd8-4c4c-8c04-2701a4ec695f",
        "colab": {
          "base_uri": "https://localhost:8080/"
        }
      },
      "outputs": [
        {
          "output_type": "execute_result",
          "data": {
            "text/plain": [
              "True"
            ]
          },
          "metadata": {},
          "execution_count": 28
        }
      ],
      "source": [
        "flip(0.7)"
      ]
    },
    {
      "cell_type": "markdown",
      "id": "appropriate-funds",
      "metadata": {
        "id": "appropriate-funds"
      },
      "source": [
        "The result is one of two values: `True` with probability 0.7 (in this example) or `False`\n",
        "with probability 0.3. If you run `flip` like this 100 times, you should\n",
        "get `True` about 70 times and `False` about 30 times. But the results\n",
        "are random, so they might differ from these expectations.\n",
        "\n",
        "`True` and `False` are special values defined by Python.\n",
        "They are called *boolean* values because they are\n",
        "related to Boolean algebra (<https://modsimpy.com/boolean>).\n",
        "\n",
        "Note that they are not strings. There is a difference between `True`, which is a boolean value, and `'True'`, which is a string.\n",
        "\n",
        "We can use boolean values to control the behavior of the program, using an *if statement*:"
      ]
    },
    {
      "cell_type": "code",
      "execution_count": 29,
      "id": "excessive-murder",
      "metadata": {
        "id": "excessive-murder"
      },
      "outputs": [],
      "source": [
        "if flip(0.5):\n",
        "    print('heads')"
      ]
    },
    {
      "cell_type": "markdown",
      "id": "seventh-profile",
      "metadata": {
        "id": "seventh-profile"
      },
      "source": [
        "If the result from `flip` is `True`, the program displays the string\n",
        "`'heads'`. Otherwise it does nothing.\n",
        "\n",
        "The syntax for `if` statements is similar to the syntax for\n",
        "function definitions: the first line has to end with a colon, and the\n",
        "lines inside the `if` statement have to be indented.\n",
        "\n",
        "Optionally, you can add an *else clause* to indicate what should\n",
        "happen if the result is `False`:"
      ]
    },
    {
      "cell_type": "code",
      "execution_count": 30,
      "id": "fundamental-nursing",
      "metadata": {
        "id": "fundamental-nursing",
        "outputId": "5f645a88-1253-44b8-c007-42ce7ae15eb9",
        "colab": {
          "base_uri": "https://localhost:8080/"
        }
      },
      "outputs": [
        {
          "output_type": "stream",
          "name": "stdout",
          "text": [
            "tails\n"
          ]
        }
      ],
      "source": [
        "if flip(0.5):\n",
        "    print('heads')\n",
        "else:\n",
        "    print('tails')"
      ]
    },
    {
      "cell_type": "markdown",
      "id": "recovered-chemical",
      "metadata": {
        "id": "recovered-chemical"
      },
      "source": [
        "If you run the previous cell a few times, it should print `heads` about half the time, and `tails` about half the time.\n",
        "\n",
        "Now we can use `flip` to simulate the arrival of customers who want to\n",
        "borrow a bike. Suppose students arrive at the Olin station every two\n",
        "minutes on average.\n",
        "In that case, the chance of an arrival during any one-minute period is 50%, and we can simulate it like this:"
      ]
    },
    {
      "cell_type": "code",
      "execution_count": 31,
      "id": "twenty-health",
      "metadata": {
        "id": "twenty-health",
        "outputId": "7b2eba81-5249-475b-bfe8-bd907f62d160",
        "colab": {
          "base_uri": "https://localhost:8080/"
        }
      },
      "outputs": [
        {
          "output_type": "stream",
          "name": "stdout",
          "text": [
            "Moving a bike to Wellesley\n"
          ]
        }
      ],
      "source": [
        "if flip(0.5):\n",
        "    bike_to_wellesley()"
      ]
    },
    {
      "cell_type": "markdown",
      "id": "difficult-construction",
      "metadata": {
        "id": "difficult-construction"
      },
      "source": [
        "If students arrive at the Wellesley station every three minutes, on average,\n",
        "the chance of an arrival during any one-minute period is 33%, and we can\n",
        "simulate it like this:"
      ]
    },
    {
      "cell_type": "code",
      "execution_count": 32,
      "id": "played-character",
      "metadata": {
        "id": "played-character"
      },
      "outputs": [],
      "source": [
        "if flip(0.33):\n",
        "    bike_to_olin()"
      ]
    },
    {
      "cell_type": "markdown",
      "id": "standard-party",
      "metadata": {
        "id": "standard-party"
      },
      "source": [
        "We can combine these snippets into a function that simulates a *time step*, which is an interval of time, in this case one minute:"
      ]
    },
    {
      "cell_type": "code",
      "execution_count": 33,
      "id": "ecological-colon",
      "metadata": {
        "id": "ecological-colon"
      },
      "outputs": [],
      "source": [
        "def step():\n",
        "    if flip(0.5):\n",
        "        bike_to_wellesley()\n",
        "\n",
        "    if flip(0.33):\n",
        "        bike_to_olin()"
      ]
    },
    {
      "cell_type": "markdown",
      "id": "amateur-exposure",
      "metadata": {
        "id": "amateur-exposure"
      },
      "source": [
        "Then we can simulate a time step like this:"
      ]
    },
    {
      "cell_type": "code",
      "execution_count": 34,
      "id": "mediterranean-german",
      "metadata": {
        "id": "mediterranean-german",
        "outputId": "f931ccdc-b27a-4bf5-b654-b431e39a2109",
        "colab": {
          "base_uri": "https://localhost:8080/"
        }
      },
      "outputs": [
        {
          "output_type": "stream",
          "name": "stdout",
          "text": [
            "Moving a bike to Olin\n"
          ]
        }
      ],
      "source": [
        "step()"
      ]
    },
    {
      "cell_type": "markdown",
      "id": "sought-mobile",
      "metadata": {
        "id": "sought-mobile"
      },
      "source": [
        "Depending on the results from `flip`, this function might move a bike to Olin, or to Wellesley, or neither, or both."
      ]
    },
    {
      "cell_type": "markdown",
      "id": "organic-proportion",
      "metadata": {
        "id": "organic-proportion"
      },
      "source": [
        "## Parameters\n",
        "\n",
        "The previous version of `step` is fine if the arrival probabilities\n",
        "never change, but in reality they vary over time.\n",
        "\n",
        "So instead of putting the constant values 0.5 and 0.33 in `step`, we can replace them with *parameters*.\n",
        "Parameters are variables whose values are set when a function is called.\n",
        "\n",
        "Here's a version of `step` that takes two parameters, `p1` and `p2`:"
      ]
    },
    {
      "cell_type": "code",
      "execution_count": 35,
      "id": "hollywood-shopping",
      "metadata": {
        "id": "hollywood-shopping"
      },
      "outputs": [],
      "source": [
        "def step(p1, p2):\n",
        "    if flip(p1):\n",
        "        bike_to_wellesley()\n",
        "\n",
        "    if flip(p2):\n",
        "        bike_to_olin()"
      ]
    },
    {
      "cell_type": "markdown",
      "id": "encouraging-arkansas",
      "metadata": {
        "id": "encouraging-arkansas"
      },
      "source": [
        "The values of `p1` and `p2` are not set inside this function; instead,\n",
        "they are provided when the function is called, like this:"
      ]
    },
    {
      "cell_type": "code",
      "execution_count": 36,
      "id": "buried-alert",
      "metadata": {
        "id": "buried-alert"
      },
      "outputs": [],
      "source": [
        "step(0.5, 0.33)"
      ]
    },
    {
      "cell_type": "markdown",
      "id": "aggregate-dynamics",
      "metadata": {
        "id": "aggregate-dynamics"
      },
      "source": [
        "The values you provide when you call the function are called\n",
        "*arguments*. The arguments, `0.5` and `0.33` in this example, get\n",
        "assigned to the parameters, `p1` and `p2`, in order. So running this\n",
        "function has the same effect as:"
      ]
    },
    {
      "cell_type": "code",
      "execution_count": null,
      "id": "recognized-denmark",
      "metadata": {
        "id": "recognized-denmark"
      },
      "outputs": [],
      "source": [
        "p1 = 0.5\n",
        "p2 = 0.33\n",
        "\n",
        "if flip(p1):\n",
        "    bike_to_wellesley()\n",
        "\n",
        "if flip(p2):\n",
        "    bike_to_olin()"
      ]
    },
    {
      "cell_type": "markdown",
      "id": "raised-museum",
      "metadata": {
        "id": "raised-museum"
      },
      "source": [
        "The advantage of using parameters is that you can call the same function many times, providing different arguments each time.\n",
        "\n",
        "Adding parameters to a function is called *generalization*, because it makes the function more general; without parameters, the function always does the same thing; with parameters, it can do a range of things."
      ]
    },
    {
      "cell_type": "markdown",
      "id": "scenic-african",
      "metadata": {
        "id": "scenic-african"
      },
      "source": [
        "## For Loops\n",
        "\n",
        "At some point you will get sick of running cells over and over.\n",
        "Fortunately, there is an easy way to repeat a chunk of code, the *for loop*. Here's an example:"
      ]
    },
    {
      "cell_type": "code",
      "execution_count": 37,
      "id": "polish-river",
      "metadata": {
        "id": "polish-river",
        "outputId": "f77bf55e-9a1e-41ac-c0e6-213e669d4feb",
        "colab": {
          "base_uri": "https://localhost:8080/"
        }
      },
      "outputs": [
        {
          "output_type": "stream",
          "name": "stdout",
          "text": [
            "0\n",
            "Moving a bike to Wellesley\n",
            "1\n",
            "Moving a bike to Wellesley\n",
            "2\n",
            "Moving a bike to Wellesley\n"
          ]
        }
      ],
      "source": [
        "for i in range(3):\n",
        "    print(i)\n",
        "    bike_to_wellesley()"
      ]
    },
    {
      "cell_type": "markdown",
      "id": "compatible-conspiracy",
      "metadata": {
        "id": "compatible-conspiracy"
      },
      "source": [
        "The syntax here should look familiar; the first line ends with a\n",
        "colon, and the lines inside the `for` loop are indented. The other\n",
        "elements of the loop are:\n",
        "\n",
        "-   The words `for` and `in` are special words we have to use in a for\n",
        "    loop.\n",
        "\n",
        "-   `range` is a Python function we use to control the number of times the loop runs.\n",
        "\n",
        "-   `i` is a *loop variable* that gets created when the for loop runs.\n",
        "\n",
        "When this loop runs, it runs the statements inside the loop three times.  The first time, the value of `i` is `0`; the second time, it is `1`; the third time, it is `2`.\n",
        "\n",
        "Each time through the loop, it prints the value of `i` and moves one bike to Wellesley."
      ]
    },
    {
      "cell_type": "markdown",
      "id": "breeding-groove",
      "metadata": {
        "id": "breeding-groove"
      },
      "source": [
        "## TimeSeries\n",
        "\n",
        "When we run a simulation, we often want to save the results for later analysis. The ModSim library provides a `TimeSeries` object for this purpose. A `TimeSeries` contains a sequence of timestamps and a\n",
        "corresponding sequence of quantities.\n",
        "\n",
        "In this example, the timestamps are integers representing minutes and the quantities are the number of bikes at one location.\n",
        "\n",
        "Since we have moved a number of bikes around, let's start again with a new `State` object."
      ]
    },
    {
      "cell_type": "code",
      "execution_count": 38,
      "id": "every-consultation",
      "metadata": {
        "id": "every-consultation"
      },
      "outputs": [],
      "source": [
        "bikeshare = State(olin=10, wellesley=2)"
      ]
    },
    {
      "cell_type": "markdown",
      "id": "cross-sharp",
      "metadata": {
        "id": "cross-sharp"
      },
      "source": [
        "We can create a new, empty `TimeSeries` like this:"
      ]
    },
    {
      "cell_type": "code",
      "execution_count": 39,
      "id": "changing-planet",
      "metadata": {
        "id": "changing-planet"
      },
      "outputs": [],
      "source": [
        "results = TimeSeries()"
      ]
    },
    {
      "cell_type": "markdown",
      "id": "attractive-revision",
      "metadata": {
        "id": "attractive-revision"
      },
      "source": [
        "And we can add a quantity like this:"
      ]
    },
    {
      "cell_type": "code",
      "execution_count": 40,
      "id": "aquatic-richardson",
      "metadata": {
        "id": "aquatic-richardson"
      },
      "outputs": [],
      "source": [
        "results[0] = bikeshare.olin"
      ]
    },
    {
      "cell_type": "markdown",
      "id": "searching-funeral",
      "metadata": {
        "id": "searching-funeral"
      },
      "source": [
        "The number in brackets is the timestamp, also called a *label*.\n",
        "\n",
        "We can use a `TimeSeries` inside a for loop to store the results of the simulation:"
      ]
    },
    {
      "cell_type": "code",
      "execution_count": 41,
      "id": "english-titanium",
      "metadata": {
        "id": "english-titanium",
        "outputId": "fcdf9771-570f-45c7-b7bf-f54b411000bf",
        "colab": {
          "base_uri": "https://localhost:8080/"
        }
      },
      "outputs": [
        {
          "output_type": "stream",
          "name": "stdout",
          "text": [
            "0\n",
            "Moving a bike to Wellesley\n",
            "1\n",
            "Moving a bike to Wellesley\n",
            "Moving a bike to Olin\n",
            "2\n",
            "Moving a bike to Wellesley\n",
            "Moving a bike to Olin\n"
          ]
        }
      ],
      "source": [
        "for i in range(3):\n",
        "    print(i)\n",
        "    step(0.6, 0.6)\n",
        "    results[i+1] = bikeshare.olin"
      ]
    },
    {
      "cell_type": "markdown",
      "id": "prospective-joining",
      "metadata": {
        "id": "prospective-joining"
      },
      "source": [
        "Each time through the loop, we print the value of `i` and call `step`, which updates `bikeshare`.\n",
        "Then we store the number of bikes at Olin in `results`.\n",
        "We use the loop variable, `i`, to compute the timestamp, `i+1`.\n",
        "\n",
        "The first time through the loop, the value of `i` is `0`, so the timestamp is `1`.\n",
        "The last time, the value of `i` is `2`, so the timestamp is `3`.\n",
        "\n",
        "When the loop exits, `results` contains 4 timestamps, from 0 through\n",
        "3, and the number of bikes at Olin at the end of each time step.\n",
        "\n",
        "We can display the `TimeSeries` like this:"
      ]
    },
    {
      "cell_type": "code",
      "execution_count": 42,
      "id": "indonesian-singing",
      "metadata": {
        "id": "indonesian-singing",
        "outputId": "fb4ab3c8-dea7-4d18-a14b-47e1cc3c50a6",
        "colab": {
          "base_uri": "https://localhost:8080/",
          "height": 508
        }
      },
      "outputs": [
        {
          "output_type": "execute_result",
          "data": {
            "text/plain": [
              "      Quantity\n",
              "Time          \n",
              "0           10\n",
              "1            9\n",
              "2            9\n",
              "3            9"
            ],
            "text/html": [
              "\n",
              "  <div id=\"df-072a70c1-67d7-44d3-995c-83dac789d38b\" class=\"colab-df-container\">\n",
              "    <div>\n",
              "<style scoped>\n",
              "    .dataframe tbody tr th:only-of-type {\n",
              "        vertical-align: middle;\n",
              "    }\n",
              "\n",
              "    .dataframe tbody tr th {\n",
              "        vertical-align: top;\n",
              "    }\n",
              "\n",
              "    .dataframe thead th {\n",
              "        text-align: right;\n",
              "    }\n",
              "</style>\n",
              "<table border=\"1\" class=\"dataframe\">\n",
              "  <thead>\n",
              "    <tr style=\"text-align: right;\">\n",
              "      <th></th>\n",
              "      <th>Quantity</th>\n",
              "    </tr>\n",
              "    <tr>\n",
              "      <th>Time</th>\n",
              "      <th></th>\n",
              "    </tr>\n",
              "  </thead>\n",
              "  <tbody>\n",
              "    <tr>\n",
              "      <th>0</th>\n",
              "      <td>10</td>\n",
              "    </tr>\n",
              "    <tr>\n",
              "      <th>1</th>\n",
              "      <td>9</td>\n",
              "    </tr>\n",
              "    <tr>\n",
              "      <th>2</th>\n",
              "      <td>9</td>\n",
              "    </tr>\n",
              "    <tr>\n",
              "      <th>3</th>\n",
              "      <td>9</td>\n",
              "    </tr>\n",
              "  </tbody>\n",
              "</table>\n",
              "</div>\n",
              "    <div class=\"colab-df-buttons\">\n",
              "\n",
              "  <div class=\"colab-df-container\">\n",
              "    <button class=\"colab-df-convert\" onclick=\"convertToInteractive('df-072a70c1-67d7-44d3-995c-83dac789d38b')\"\n",
              "            title=\"Convert this dataframe to an interactive table.\"\n",
              "            style=\"display:none;\">\n",
              "\n",
              "  <svg xmlns=\"http://www.w3.org/2000/svg\" height=\"24px\" viewBox=\"0 -960 960 960\">\n",
              "    <path d=\"M120-120v-720h720v720H120Zm60-500h600v-160H180v160Zm220 220h160v-160H400v160Zm0 220h160v-160H400v160ZM180-400h160v-160H180v160Zm440 0h160v-160H620v160ZM180-180h160v-160H180v160Zm440 0h160v-160H620v160Z\"/>\n",
              "  </svg>\n",
              "    </button>\n",
              "\n",
              "  <style>\n",
              "    .colab-df-container {\n",
              "      display:flex;\n",
              "      gap: 12px;\n",
              "    }\n",
              "\n",
              "    .colab-df-convert {\n",
              "      background-color: #E8F0FE;\n",
              "      border: none;\n",
              "      border-radius: 50%;\n",
              "      cursor: pointer;\n",
              "      display: none;\n",
              "      fill: #1967D2;\n",
              "      height: 32px;\n",
              "      padding: 0 0 0 0;\n",
              "      width: 32px;\n",
              "    }\n",
              "\n",
              "    .colab-df-convert:hover {\n",
              "      background-color: #E2EBFA;\n",
              "      box-shadow: 0px 1px 2px rgba(60, 64, 67, 0.3), 0px 1px 3px 1px rgba(60, 64, 67, 0.15);\n",
              "      fill: #174EA6;\n",
              "    }\n",
              "\n",
              "    .colab-df-buttons div {\n",
              "      margin-bottom: 4px;\n",
              "    }\n",
              "\n",
              "    [theme=dark] .colab-df-convert {\n",
              "      background-color: #3B4455;\n",
              "      fill: #D2E3FC;\n",
              "    }\n",
              "\n",
              "    [theme=dark] .colab-df-convert:hover {\n",
              "      background-color: #434B5C;\n",
              "      box-shadow: 0px 1px 3px 1px rgba(0, 0, 0, 0.15);\n",
              "      filter: drop-shadow(0px 1px 2px rgba(0, 0, 0, 0.3));\n",
              "      fill: #FFFFFF;\n",
              "    }\n",
              "  </style>\n",
              "\n",
              "    <script>\n",
              "      const buttonEl =\n",
              "        document.querySelector('#df-072a70c1-67d7-44d3-995c-83dac789d38b button.colab-df-convert');\n",
              "      buttonEl.style.display =\n",
              "        google.colab.kernel.accessAllowed ? 'block' : 'none';\n",
              "\n",
              "      async function convertToInteractive(key) {\n",
              "        const element = document.querySelector('#df-072a70c1-67d7-44d3-995c-83dac789d38b');\n",
              "        const dataTable =\n",
              "          await google.colab.kernel.invokeFunction('convertToInteractive',\n",
              "                                                    [key], {});\n",
              "        if (!dataTable) return;\n",
              "\n",
              "        const docLinkHtml = 'Like what you see? Visit the ' +\n",
              "          '<a target=\"_blank\" href=https://colab.research.google.com/notebooks/data_table.ipynb>data table notebook</a>'\n",
              "          + ' to learn more about interactive tables.';\n",
              "        element.innerHTML = '';\n",
              "        dataTable['output_type'] = 'display_data';\n",
              "        await google.colab.output.renderOutput(dataTable, element);\n",
              "        const docLink = document.createElement('div');\n",
              "        docLink.innerHTML = docLinkHtml;\n",
              "        element.appendChild(docLink);\n",
              "      }\n",
              "    </script>\n",
              "  </div>\n",
              "\n",
              "\n",
              "<div id=\"df-6fa3a72e-e61b-4499-8407-fffe71b729c0\">\n",
              "  <button class=\"colab-df-quickchart\" onclick=\"quickchart('df-6fa3a72e-e61b-4499-8407-fffe71b729c0')\"\n",
              "            title=\"Suggest charts\"\n",
              "            style=\"display:none;\">\n",
              "\n",
              "<svg xmlns=\"http://www.w3.org/2000/svg\" height=\"24px\"viewBox=\"0 0 24 24\"\n",
              "     width=\"24px\">\n",
              "    <g>\n",
              "        <path d=\"M19 3H5c-1.1 0-2 .9-2 2v14c0 1.1.9 2 2 2h14c1.1 0 2-.9 2-2V5c0-1.1-.9-2-2-2zM9 17H7v-7h2v7zm4 0h-2V7h2v10zm4 0h-2v-4h2v4z\"/>\n",
              "    </g>\n",
              "</svg>\n",
              "  </button>\n",
              "\n",
              "<style>\n",
              "  .colab-df-quickchart {\n",
              "      --bg-color: #E8F0FE;\n",
              "      --fill-color: #1967D2;\n",
              "      --hover-bg-color: #E2EBFA;\n",
              "      --hover-fill-color: #174EA6;\n",
              "      --disabled-fill-color: #AAA;\n",
              "      --disabled-bg-color: #DDD;\n",
              "  }\n",
              "\n",
              "  [theme=dark] .colab-df-quickchart {\n",
              "      --bg-color: #3B4455;\n",
              "      --fill-color: #D2E3FC;\n",
              "      --hover-bg-color: #434B5C;\n",
              "      --hover-fill-color: #FFFFFF;\n",
              "      --disabled-bg-color: #3B4455;\n",
              "      --disabled-fill-color: #666;\n",
              "  }\n",
              "\n",
              "  .colab-df-quickchart {\n",
              "    background-color: var(--bg-color);\n",
              "    border: none;\n",
              "    border-radius: 50%;\n",
              "    cursor: pointer;\n",
              "    display: none;\n",
              "    fill: var(--fill-color);\n",
              "    height: 32px;\n",
              "    padding: 0;\n",
              "    width: 32px;\n",
              "  }\n",
              "\n",
              "  .colab-df-quickchart:hover {\n",
              "    background-color: var(--hover-bg-color);\n",
              "    box-shadow: 0 1px 2px rgba(60, 64, 67, 0.3), 0 1px 3px 1px rgba(60, 64, 67, 0.15);\n",
              "    fill: var(--button-hover-fill-color);\n",
              "  }\n",
              "\n",
              "  .colab-df-quickchart-complete:disabled,\n",
              "  .colab-df-quickchart-complete:disabled:hover {\n",
              "    background-color: var(--disabled-bg-color);\n",
              "    fill: var(--disabled-fill-color);\n",
              "    box-shadow: none;\n",
              "  }\n",
              "\n",
              "  .colab-df-spinner {\n",
              "    border: 2px solid var(--fill-color);\n",
              "    border-color: transparent;\n",
              "    border-bottom-color: var(--fill-color);\n",
              "    animation:\n",
              "      spin 1s steps(1) infinite;\n",
              "  }\n",
              "\n",
              "  @keyframes spin {\n",
              "    0% {\n",
              "      border-color: transparent;\n",
              "      border-bottom-color: var(--fill-color);\n",
              "      border-left-color: var(--fill-color);\n",
              "    }\n",
              "    20% {\n",
              "      border-color: transparent;\n",
              "      border-left-color: var(--fill-color);\n",
              "      border-top-color: var(--fill-color);\n",
              "    }\n",
              "    30% {\n",
              "      border-color: transparent;\n",
              "      border-left-color: var(--fill-color);\n",
              "      border-top-color: var(--fill-color);\n",
              "      border-right-color: var(--fill-color);\n",
              "    }\n",
              "    40% {\n",
              "      border-color: transparent;\n",
              "      border-right-color: var(--fill-color);\n",
              "      border-top-color: var(--fill-color);\n",
              "    }\n",
              "    60% {\n",
              "      border-color: transparent;\n",
              "      border-right-color: var(--fill-color);\n",
              "    }\n",
              "    80% {\n",
              "      border-color: transparent;\n",
              "      border-right-color: var(--fill-color);\n",
              "      border-bottom-color: var(--fill-color);\n",
              "    }\n",
              "    90% {\n",
              "      border-color: transparent;\n",
              "      border-bottom-color: var(--fill-color);\n",
              "    }\n",
              "  }\n",
              "</style>\n",
              "\n",
              "  <script>\n",
              "    async function quickchart(key) {\n",
              "      const quickchartButtonEl =\n",
              "        document.querySelector('#' + key + ' button');\n",
              "      quickchartButtonEl.disabled = true;  // To prevent multiple clicks.\n",
              "      quickchartButtonEl.classList.add('colab-df-spinner');\n",
              "      try {\n",
              "        const charts = await google.colab.kernel.invokeFunction(\n",
              "            'suggestCharts', [key], {});\n",
              "      } catch (error) {\n",
              "        console.error('Error during call to suggestCharts:', error);\n",
              "      }\n",
              "      quickchartButtonEl.classList.remove('colab-df-spinner');\n",
              "      quickchartButtonEl.classList.add('colab-df-quickchart-complete');\n",
              "    }\n",
              "    (() => {\n",
              "      let quickchartButtonEl =\n",
              "        document.querySelector('#df-6fa3a72e-e61b-4499-8407-fffe71b729c0 button');\n",
              "      quickchartButtonEl.style.display =\n",
              "        google.colab.kernel.accessAllowed ? 'block' : 'none';\n",
              "    })();\n",
              "  </script>\n",
              "</div>\n",
              "\n",
              "    </div>\n",
              "  </div>\n"
            ]
          },
          "metadata": {},
          "execution_count": 42
        },
        {
          "output_type": "display_data",
          "data": {
            "text/plain": [
              "<google.colab._quickchart_helpers.SectionTitle at 0x786d1443f160>"
            ],
            "text/html": [
              "<h4 class=\"colab-quickchart-section-title\">Distributions</h4>\n",
              "<style>\n",
              "  .colab-quickchart-section-title {\n",
              "      clear: both;\n",
              "  }\n",
              "</style>"
            ]
          },
          "metadata": {}
        },
        {
          "output_type": "display_data",
          "data": {
            "text/plain": [
              "from matplotlib import pyplot as plt\n",
              "_df_0['Quantity'].plot(kind='hist', bins=20, title='Quantity')\n",
              "plt.gca().spines[['top', 'right',]].set_visible(False)"
            ],
            "text/html": [
              "      <div class=\"colab-quickchart-chart-with-code\" id=\"chart-0105b537-df5a-46f1-8202-b69f256c5462\">\n",
              "        <img style=\"width: 180px;\" src=\"data:image/png;base64,iVBORw0KGgoAAAANSUhEUgAABiYAAAROCAYAAABQYIrJAAAAOXRFWHRTb2Z0d2FyZQBNYXRwbG90\n",
              "bGliIHZlcnNpb24zLjcuMSwgaHR0cHM6Ly9tYXRwbG90bGliLm9yZy/bCgiHAAAACXBIWXMAAC4j\n",
              "AAAuIwF4pT92AACGOklEQVR4nOzdebhVdd3//9eGw6AgyCyoOICKkmPOAyFqemMOqZg4T5lS3f7q\n",
              "zqxuc2q06c4hs3IAGzTNysqhVMScDS1FFAcQJxCQSQEB4ezfH17ur0cZDucc1t7i43Fd52qtvddn\n",
              "rTfWH3merLVK5XK5HAAAAAAAgAK0qvYAAAAAAADAR4cwAQAAAAAAFEaYAAAAAAAACiNMAAAAAAAA\n",
              "hREmAAAAAACAwggTAAAAAABAYYQJAAAAAACgMMIEAAAAAABQGGECAAAAAAAojDABAAAAAAAURpgA\n",
              "AAAAAAAKI0wAAAAAAACFESYAAAAAAIDCCBMAAAAAAEBhhAkAAAAAAKAwwgQAAAAAAFAYYQIAAAAA\n",
              "ACiMMAEAAAAAABRGmAAAAAAAAAojTAAAAAAAAIURJgAAAAAAgMIIEwAAAAAAQGGECQAAAAAAoDDC\n",
              "BAAAAAAAUBhhAgAAAAAAKIwwAQAAAAAAFEaYAAAAAAAACiNMAAAAAAAAhREmAAAAAACAwtRVewAA\n",
              "AKC6nn322YwbNy4vv/xy5s2blzZt2qRr167p379/dtxxx6yzzjrVHpGVGDx4cO65554kyUYbbZTJ\n",
              "kydXdyAAAFgBYQIAAD6CXnnllVxyySW57rrr8sorryz3uNatW2fw4MH57Gc/m2HDhqVVKzddAwAA\n",
              "zePfKgAA4CPk7bffzvnnn5/+/fvnhz/84QqjRJIsXbo0d911V4466qhst912+de//lXQpB8t559/\n",
              "fkqlUuVndd7xcOKJJza4FgAAFM0dEwAA8BExa9asfPrTn84///nPD3zXs2fPbLHFFunTp0/mzZuX\n",
              "V199NePGjcvSpUsrx4wbNy577rlnfvGLX+TEE08scHIAAGBNIkwAAMBHwJtvvpn99tsvjz32WIPP\n",
              "/+u//itf/epXM2jQoA88pmn69Om57rrrcsEFF2T27NlJksWLF+fkk09OfX19Tj755MLmBwAA1hwe\n",
              "5QQAAB8BX/jCFxpEibq6ulx99dW59dZbM3jw4GW+O6Jnz54588wz89RTT2XQoEGVz8vlckaMGJFx\n",
              "48YVMjsrN2bMmJTL5ZTLZS++BgCg5gkTAACwhrvxxhtz7bXXVvZbtWqVX//61znppJMatX699dbL\n",
              "Lbfckp133rny2aJFi3L00Udn0aJFLT4vAACwZhMmAABgDbZkyZL8z//8T4PPPv/5z+eoo45apfN0\n",
              "7NgxN954Yzp06FD57Mknn8yVV17ZInMCAAAfHd4xAQAAa7A//vGPefnllyv7vXr1yre//e0mnatv\n",
              "374555xz8vWvf73y2SWXXJIRI0akVCo1e9aWMGfOnDz55JN59tlnM2vWrCxevDjrrrtuevXqlV12\n",
              "2SUbbLBBi19z7NixmTBhQl599dWstdZaWX/99TN48OB069atxa8FAABrAndMAADAGuxnP/tZg/1T\n",
              "TjklnTp1avL5zjjjjLRv376y/+yzz+aOO+74wHGTJ09OqVSq/Jx//vmNvsbIkSMbrB0zZswKj3/6\n",
              "6adz7rnnZscdd0y3bt2y11575ZRTTslZZ52V//3f/83nP//5HHHEEdlwww0zcODAXHPNNVmyZEmj\n",
              "53nvLCeeeGLl81//+tfZaqutstNOO+W4447L1772tZx55pk54ogj0rNnzwwfPrxBFHq/9/4zuuCC\n",
              "Cxp8t8kmmzS47sr+WQ4ePLjy/cYbb/yB78eMGVP5ftSoUcv9873/Z+TIkUmSO+64o8HnZ599dqP/\n",
              "+b1r3LhxDc5xyimnrPI5AABYMwgTAACwhpo/f34eeOCBBp+dcMIJzTpn586dc+ihhzb47M4772zW\n",
              "OZtj0qRJ2WqrrfKtb30rjz76aOrr61d4/FNPPZWTTz45+++/f2bNmtWkay5evDjHH398jj/++Dz9\n",
              "9NPLPKa+vj7XX399dtlllzz11FNNuk4t2XfffdOvX7/K/qhRo1Yp7iTJr371qwb7p556aovMBgDA\n",
              "h48wAQAAa6iHH364wS+PN9xww2y++ebNPu8+++zTYP/+++9v9jmb6v0honXr1hkwYECGDh2a4cOH\n",
              "58gjj8wnPvGJdO7cucFxo0ePziGHHJKlS5eu8jU///nP59e//nWSpE2bNtl9991z5JFH5tOf/nT6\n",
              "9+/f4NipU6dm2LBhWbx48Spfp5aUSqUGIWHatGn529/+1uj1ixYtym9/+9vK/sCBA7Pbbru16IwA\n",
              "AHx4eMcEAACsoR566KEG+zvssEOLnPf953n00UezdOnStG7dukXOv6rat2+f4cOH57DDDss+++yT\n",
              "tdZa6wPHvP322/nTn/6Us846Ky+99FKS5L777stPfvKTnHXWWY2+1t/+9rfMnDkzrVq1ytlnn52v\n",
              "fvWrWXfddRscc8stt+TYY4/NnDlzkrxzl8ZVV12VM844o8FxG2ywQV544YUkyU9/+tNcfPHFle/u\n",
              "vffe5b4P4/3Xa4xdd921cq2vfOUruemmmyrfvfv5snTv3r2yfdJJJ+Xcc8/N22+/nSS58sorP3D3\n",
              "zPLcdNNNDe5QcbcEAMBHmzABAABrqFdffbXB/lZbbdUi5x04cGCD/UWLFmXWrFnp0aNHi5x/VfTp\n",
              "0ycvv/xyg1+gL0ubNm1y5JFHZvDgwdljjz3y/PPPJ0kuvvjifOlLX0pdXeP+1WjmzJkplUq57rrr\n",
              "cuSRRy7zmAMPPDDXX399DjjggMpn11xzzQfCRF1dXeV9EO+PDRtssMEy3xXRVO3bt6+cr2PHjg2+\n",
              "a+x1evXqlUMPPTQ33nhjkuT222/Pq6++mvXXX3+la6+88srKdrt27XLcccc1bnAAANZIHuUEAABr\n",
              "qNmzZzfY79KlS4uct127dg1egL2saxVl7bXXXmmUeK+ePXvmJz/5SWX/1VdfzX333bdK1/zsZz+7\n",
              "3Cjxrv3337/Bo4oeffTRzJ8/f5WuU4tOO+20yvbSpUsrL8dekYkTJzZ4gfmhhx6abt26rYbpAAD4\n",
              "sBAmAABgDfX+WNCpU6cWO/f739nQ1BdJV8MBBxyQdu3aVfYffvjhVVr/1a9+tVHHDR06tLJdX1+f\n",
              "cePGrdJ1atE+++zT4CXYV199dcrl8grXvP8Yj3ECAECYAACAj4hSqbTaztWS524pCxYsyLRp0/Li\n",
              "iy9m8uTJlZ9XX321wd0jEyZMaPQ5N9tsswa/mF+RAQMGNNifMWNGo69Tq0qlUj772c9W9idNmpS7\n",
              "7757uce//66KTTfd9AMvTwcA4KPHOyYAAGAN9f5HN82dO7fFzv3ui53ftc4667TYuZvq8ccfz+9+\n",
              "97vcd999GTduXN58881GrVuVx1BtueWWjT72/XeVvPHGG41eW8tOOumkfPOb32zwEuwhQ4Ys89hb\n",
              "b701U6ZMqeyffPLJNRmxAAAoljABAABrqPeHiZZ6D8SiRYuycOHCBp917dq1Rc7dFK+88kq++MUv\n",
              "5s9//nOT1q9KMHh/bFiRNm3aNNh/9xf5H3Y9e/bMpz/96dxwww1Jkj/96U+ZPXv2Mt9h8t6XXrdu\n",
              "3TonnXRSYXMCAFC7PMoJAADWUOuvv36D/aeffrpFzvvUU0812O/cuXPWW2+9Fjn3qpo8eXL23HPP\n",
              "JkeJ5J33PzRWq1b+FSpp+BLshQsX5je/+c0Hjpk6dWpuvfXWyv7QoUPTp0+fQuYDAKC2+X/VAACw\n",
              "htp1110b7D/22GMtct73n2fgwIEtct6mOPnkk/Piiy9W9jt16pQzzjgjN954Y5544om8/vrrWbBg\n",
              "Qerr61Mulys/G220UdVmXhMMGTIk/fv3r+xfddVVHzhm5MiRWbJkSWXfS68BAHiXMAEAAGuoXXbZ\n",
              "JXV1/+/prS+99FKeffbZZp/3rrvuarDf0i8zbuwdDPfdd1+DFy9/7GMfy4QJE3L55ZfniCOOyNZb\n",
              "b51u3bplrbXW+sB7DRr7/gmWrVQqNbhr4vHHH8+//vWvyn65XM7VV19d2e/du3cOPPDAQmcEAKB2\n",
              "CRMAALCG6tChQ3bfffcGn40aNapZ55w7d27+9Kc/NfjsoIMO+sBx7w0iSRr8zfmVef+LtZfnlltu\n",
              "abB/xRVXpHfv3itdt3DhwkZfg+U78cQT07Zt28r+e++auOeee/L88883OLZ169aFzgcAQO0SJgAA\n",
              "YA32+c9/vsH+VVddtUove36/n//85w1efL3DDjtkp512+sBxnTp1arC/KiHg/e+wWJ73/uK7Y8eO\n",
              "2WOPPRq17l//+tcqvVeiCO+/o+PDcK0ePXrk05/+dGX/uuuuy4IFC5I0fOl1qVTyGCcAABoQJgAA\n",
              "YA122GGHZcMNN6zsT5s2Ld/85jebdK6XXnop3/72txt89tWvfnWZx66zzjpp3759ZX/ChAmNukZ9\n",
              "fX3uvPPORh07d+7cBtdrrN/+9reNPrYo7dq1a7C/ePHiD8W13vs4pzfeeCM33nhj5syZk5tuuqny\n",
              "+d57751NN920ydcAAGDNI0wAAMAarK6uLj/+8Y8bfHbZZZfl+uuvX6XzzJs3L0ceeWTmz59f+WzI\n",
              "kCE58sgjl3l8qVTK1ltvXdm///77G/Veh+uuu67By6xXZN11161sT58+vVF3ZTzzzDO59tprG3X+\n",
              "InXu3LnB/muvvfahuNbee++dzTbbrLJ/5ZVX5je/+U2Du2rcLQEAwPsJEwAAsIYbNmxYTjjhhMp+\n",
              "fX19jjvuuIwcObJR66dNm5ZPfepTefjhhyufdevWLVdeeeUKHwu09957V7YXLlyYH/7whyu8zlNP\n",
              "PZUvfvGLjZopSYPwsXTp0lxyySUrPH7GjBkZNmxY3nrrrUZfoyhbbLFFg/33vtS7lq/1/pdg33ff\n",
              "ffnBD35Q2e/WrVsOO+ywJp8fAIA1kzABAAAfAZdeeml22GGHyv6SJUty0kknZejQobnnnnuW+c6F\n",
              "GTNm5JJLLsmWW26Ze+65p/J5x44dc+utt2aTTTZZ4TVPPPHEBuHi29/+dn74wx9+4EXYb7/9dq66\n",
              "6qrsueeemT17doM7IVbksMMOa3D+Cy64ID/4wQ+yaNGiBsfV19fnL3/5S3bdddeMGzcu7du3T8eO\n",
              "HRt1jaLstNNOWWuttSr7F110Ub7zne/koYceysSJEzN58uTKT3Nf3L3XXns12P/yl7+cSy65JI8+\n",
              "+mgmTZrU4Frz5s1b6fne/xLsl19+ubJ97LHHfuDRUQAAIEwAAMBHwDrrrJN//OMfH/il9G233ZbB\n",
              "gwenT58+GTx4cIYPH56DDjooO+ywQ/r06ZMzzzwzs2fPrhy/6aab5t57783OO++80mtuueWWDR7j\n",
              "Uy6X89WvfjV9+vTJwQcfnGOOOSaf/OQn071795x66qmZPXt2+vfvn3PPPbdRf6aBAwfm2GOPrezX\n",
              "19fn7LPPTu/evTN06NAce+yxOfDAA9OnT58ccsghmTRpUpLkRz/6Ubp169aoaxRlnXXWaXBXy1tv\n",
              "vZVzzjknu+22W/r3759NNtmk8vPTn/60WdfabLPNcsABB1T2Z82alTPPPDM77rhj+vXr1+Baf/jD\n",
              "H1Z6vu7duy/3rgiPcQIAYFnqqj0AAABQjG7duuWuu+7Kt771rVx00UUNXno8bdq0TJs2bblr27Zt\n",
              "mzPOOCPnn39+o+9oSJKf/OQneeaZZ/LPf/6z8tmMGTPy17/+9QPHbrHFFrn99tszZsyYRp//iiuu\n",
              "yKRJk3L//fdXPps9e3Zuu+22ZR7/rW99K5///OdX+lipavjhD3+Yp556qsE/q9Xlqquuyv77758n\n",
              "n3yyRc532mmnfeC9Jbvssks+9rGPtcj5AQBYs7hjAgAAPkLatGmTCy+8MBMnTsxZZ52V9ddfv1Hr\n",
              "jjjiiPz0pz9dpSiRvPPYp7///e/55je/udzHJ3Xr1i1nnXVWxo4dm4033niVzr/22mvn7rvvzrnn\n",
              "nvuBlzq/q3Xr1tlvv/1y991355xzzlml8xepY8eOufvuu/PHP/4xRx99dLbaaqt07tw5dXUt//fJ\n",
              "+vTpk7Fjx2bUqFE5/PDDs9lmm6VTp05p1app/4q49957Z/PNN2/w2Wc/+9mWGBUAgDVQqVwul6s9\n",
              "BAAAUD3PPPNMnnjiibzyyiuZP39+lixZkvHjx3/gMT7f+ta3mvWL/UWLFuWf//xnnnvuucyZMyc9\n",
              "evTIxhtvnEGDBrXIewjeeuutPPDAA3n66aczd+7cdO3aNX369Mkuu+yS9dZbr9nnZ8V22mmnjB07\n",
              "Nsk7kWXq1Kk19y4PAABqgzABAAB8QLlczqmnnpqrr766wedXX311TjrppCpNRa168skns/XWW1f2\n",
              "Tz311PzqV7+q4kQAANQyj3ICAAA+oFQq5Ve/+lWOPvroBp+fdtppufXWW6s0FbXq/RHCY5wAAFgR\n",
              "d0wAAADLtWTJknzmM5/JH//4x8pnHTp0yOjRo7PzzjtXcTJqxZw5c9K3b9+8+eabSZIddtghjz76\n",
              "aJWnAgCglrljAgAAWK66urpcd911GTp0aOWz+fPn51Of+lSee+65Kk5GrTjnnHMqUSJJvvjFL1Zx\n",
              "GgAAPgzcMQEAAECjzJkzJ3PmzEl9fX1efvnljBw5MiNHjqx8369fv0yYMCF1dXXVGxIAgJrn/y0C\n",
              "AADQKD/96U9zwQUXLPf7yy67TJQAAGClPMoJAACAZvv2t7+dAw44oNpjAADwIeCvsgAAALDKWrdu\n",
              "ne7du2fXXXfNf//3f2fIkCHVHgkAgA8J75gAAAAAAAAK41FOAAAAAABAYYQJAAAAAACgMMIEAAAA\n",
              "AABQGGECAAAAAAAojDABAAAAAAAURpgAAAAAAAAKI0wAAAAAAACFESYAAAAAAIDCCBMAAAAAAEBh\n",
              "hAkAAAAAAKAwwgQAAAAAAFAYYQIAAAAAACiMMAEAAAAAABRGmAAAAAAAAAojTNDiDj744Bx88MHV\n",
              "HgMAAAAAgBpUV+0BWPNMnDix2iMAAAAAAFCj3DEBAAAAAAAURpgAAAAAAAAKI0wAAAAAAACFESYA\n",
              "AAAAAIDCCBMAAAAAAEBhhAkAAAAAAKAwwgQAAAAAAFAYYQIAAAAAACiMMAEAAAAAABRGmAAAAAAA\n",
              "AAojTAAAAAAAAIURJgAAAAAAgMIIEwAAAAAAQGGECQAAAAAAoDDCBAAAAAAAUBhhAgAAAAAAKIww\n",
              "AQAAAAAAFEaYAAAAAAAACiNMAAAAAAAAhREmAAAAAACAwggTAAAAAABAYYQJAAAAAACgMMIEAAAA\n",
              "AABQGGECAAAAAAAojDABAAAAAAAURpgAAAAAAAAKI0wAAAAAAACFESYAAAAAAIDCCBMAAAAAAEBh\n",
              "hAkAAAAAAKAwwgQAAAAAAFCYumoPUMtef/313H///XnkkUcybty4TJw4MVOmTMm8efPSpk2bdOnS\n",
              "JR/72McyePDgHH/88Vl//fVXyxyLFy/O73//+1x33XUZP358pk2bli5dumSTTTbJYYcdlhNPPDHd\n",
              "u3dfLdcGAAAAAICWVCqXy+VqD1GrPvWpT+WWW25p1LHt2rXL17/+9Xzzm99Mq1YtdyPKhAkTMnz4\n",
              "8PznP/9Z7jE9e/bMNddck6FDh7bYdZtj4MCBSZLx48dXeRIAAAAAAGqNOyYaqXv37tlyyy2z0UYb\n",
              "pWPHjlmwYEGef/75PPLII1myZEkWLVqU888/P5MmTcqoUaNa5JqvvPJK9tlnn0yZMiVJUiqVMmjQ\n",
              "oPTr1y8zZszInXfembfeeivTp0/PoYcemttvvz1DhgxpkWsDAAAAAMDq4I6JFfjRj36UddZZJ/vs\n",
              "s0/69++/zGOmTZuWL33pS7nuuusqn91444054ogjmn39QYMG5d57702SbLTRRrn55puz7bbbVr5/\n",
              "/fXXc9RRR+Wuu+5KknTt2jUTJ07Muuuu2+xrN4c7JgAAAAAAWB5hogWUy+Xsu+++GT16dJJk3333\n",
              "zR133NGsc95666058MADkyRt27bN2LFjs/XWW3/guPnz52ebbbbJpEmTkiRf//rX893vfrdZ124u\n",
              "YQIAAAAAgOVpuZchfISVSqWcdNJJlf1///vfzT7nz372s8r2CSecsMwokSQdOnTIhRdeWNn/xS9+\n",
              "kSVLljT7+gAAAAAAsDoIEy2kR48ele0333yzWeeaN29e5fFMSRpEj2U5/PDD07FjxyTJrFmz8s9/\n",
              "/rNZ1wcAAAAAgNVFmGghTz31VGV74403bta5HnjggSxatCjJO3dE7LTTTis8vn379tltt90q++8+\n",
              "UgoAAAAAAGqNMNECpkyZkh/96EeV/ea++Prpp5+ubG+99dapq6tb6ZoddthhmesBAAAAAKCWCBNN\n",
              "tGDBgjz11FP58Y9/nO233z5TpkxJkmy55Zb52te+1qxzP/PMM5XtjTbaqFFr+vbtW9meMGFCs64P\n",
              "AAAAAACry8r/Kj5Jkvvuuy977bXXCo8ZOnRofvvb32adddZp1rVmzpxZ2e7Vq1ej1qy33nqV7Vmz\n",
              "ZjXr+u+aPn16ZsyYscrrFi1a1Ki7PAAAAAAA+Ojx2+MW0KVLl1x++eU56qijWuR88+bNq2yvtdZa\n",
              "jVrz3uPeu745Lr/88lxwwQVNWvvel4EDAAAAAMC7hIlG6tOnTz7/+c8nScrlct58880888wzeeyx\n",
              "xzJ79uwMHz48v/zlL3PFFVdk8803b9a1Fi5cWNlu27Zto9a0a9eusv3WW2816/o0z8Zfu6XaI1TV\n",
              "5O8fWO0RAAAAAIAaJkw00qabbprLLrvsA59PmTIl//u//5uRI0fm7rvvzq677poxY8Zkm222afK1\n",
              "2rdvX9levHhxo9YsWrSost3YuywAAAAAAKBowkQz9enTJ9dcc006deqUSy65JLNnz85RRx2VcePG\n",
              "pXXr1k06Z8eOHSvbjb374b3HvXd9c4wYMSLDhg1b5XWHHHKId0wAAAAAALBMfnvcQr73ve9l5MiR\n",
              "eeONN/L000/ntttuy6c+9akmnatbt26V7WnTpjVqzWuvvVbZ7tq1a5Ou+349e/ZMz549V3ndex8r\n",
              "BQAAAAAA79Wq2gOsKdZee+3svvvulf3777+/yefaYostKtsvvvhio9a89NJLle0BAwY0+doAAAAA\n",
              "ALA6CRMtqEuXLpXtmTNnNvk8W265ZWV73LhxWbJkyUrXPPbYY8tcDwAAAAAAtUSYaEFTp06tbDfn\n",
              "cUq777575XFI8+fPz9ixY1d4/KJFi/LQQw9V9ocMGdLkawMAAAAAwOokTLSQmTNn5sEHH6zsN+eu\n",
              "hY4dO2afffap7I8cOXKFx//xj3/Mm2++meSdIDJo0KAmXxsAAAAAAFYnYWI5Zs2a1ehj6+vr84Uv\n",
              "fCGLFi1K8s7Ln5v64ut3jRgxorI9cuTIjB8/fpnHLViwIOeee25l/7TTTktdnXeaAwAAAABQm4SJ\n",
              "5bj22muz00475dprr80bb7yx3OOeeOKJDB06NNdff33ls7POOivdunX7wLGTJ09OqVSq/KzoTogD\n",
              "Dzwwe+21V5J3HtX0qU99Kk888USDY2bOnJlDDz00zz//fJJ37pY4++yzV+WPCQAAAAAAhfJX61dg\n",
              "7NixOeGEE1JXV5cBAwZkiy22SJcuXVIqlTJz5sw88cQTlSjwrsMPPzznnXdei1z/d7/7XXbeeedM\n",
              "nTo1kydPznbbbZdPfOIT6devX2bMmJE777wzCxYsSJLU1dXlhhtuyLrrrtsi1wYAAAAAgNVBmFiO\n",
              "d18+nSRLlizJk08+mSeffHK5x6+zzjo5//zzc+aZZ6Z169YtMsMGG2yQ0aNHZ/jw4fnPf/6Tcrmc\n",
              "MWPGZMyYMQ2O69GjR6655poG76UAAAAAAIBaJEwsxxlnnJF99tknd955Zx5++OGMHz8+L730UubM\n",
              "mZMk6dSpU3r37p3tttsu++67bw4//PB07NixxecYMGBAHn744Vx//fW57rrrMn78+EybNi3rrrtu\n",
              "Nt100xx22GE56aST0r179xa/NgAAAAAAtLRSuVwuV3sI1iwDBw5MkuW+sHtNt/HXbqn2CFU1+fsH\n",
              "VnsEAAAAAKCGefk1AAAAAABQGGECAAAAAAAojDABAAAAAAAURpgAAAAAAAAKI0wAAAAAAACFESYA\n",
              "AAAAAIDCCBMAAAAAAEBhhAkAAAAAAKAwwgQAAAAAAFAYYQIAAAAAACiMMAEAAAAAABRGmAAAAAAA\n",
              "AAojTAAAAAAAAIURJgAAAAAAgMIIEwAAAAAAQGGECQAAAAAAoDDCBAAAAAAAUBhhAgAAAAAAKIww\n",
              "AQAAAAAAFEaYAAAAAAAACiNMAAAAAAAAhREmAAAAAACAwggTAAAAAABAYYQJAAAAAACgMMIEAAAA\n",
              "AABQGGECAAAAAAAojDABAAAAAAAURpgAAAAAAAAKI0wAAAAAAACFESYAAAAAAIDCCBMAAAAAAEBh\n",
              "hAkAAAAAAKAwwgQAAAAAAFAYYQIAAAAAACiMMAEAAAAAABRGmAAAAAAAAAojTAAAAAAAAIURJgAA\n",
              "AAAAgMIIEwAAAAAAQGGECQAAAAAAoDDCBAAAAAAAUBhhAgAAAAAAKIwwAQAAAAAAFEaYAAAAAAAA\n",
              "CiNMAAAAAAAAhREmAAAAAACAwggTAAAAAABAYYQJAAAAAACgMMIEAAAAAABQGGECAAAAAAAojDAB\n",
              "AAAAAAAURpgAAAAAAAAKI0wAAAAAAACFESYAAAAAAIDCCBMAAAAAAEBhhAkAAAAAAKAwwgQAAAAA\n",
              "AFAYYQIAAAAAACiMMAEAAAAAABRGmAAAAAAAAAojTAAAAAAAAIURJgAAAAAAgMIIEwAAAAAAQGGE\n",
              "CQAAAAAAoDDCBAAAAAAAUBhhAgAAAAAAKIwwAQAAAAAAFEaYAAAAAAAACiNMAAAAAAAAhREmAAAA\n",
              "AACAwggTAAAAAABAYYQJAAAAAACgMMIEAAAAAABQGGECAAAAAAAojDABAAAAAAAURpgAAAAAAAAK\n",
              "I0wAAAAAAACFESYAAAAAAIDCCBMAAAAAAEBhhAkAAAAAAKAwwgQAAAAAAFAYYQIAAAAAACiMMAEA\n",
              "AAAAABRGmAAAAAAAAAojTAAAAAAAAIURJgAAAAAAgMIIEwAAAAAAQGGECQAAAAAAoDDCBAAAAAAA\n",
              "UBhhAgAAAAAAKIwwAQAAAAAAFEaYAAAAAAAACiNMAAAAAAAAhREmAAAAAACAwggTAAAAAABAYYQJ\n",
              "AAAAAACgMMIEAAAAAABQGGECAAAAAAAojDABAAAAAAAURpgAAAAAAAAKI0wAAAAAAACFESYAAAAA\n",
              "AIDCCBMAAAAAAEBhhAkAAAAAAKAwwgQAAAAAAFAYYQIAAAAAACiMMAEAAAAAABRGmAAAAAAAAAoj\n",
              "TAAAAAAAAIURJgAAAAAAgMIIEwAAAAAAQGGECQAAAAAAoDDCBAAAAAAAUBhhAgAAAAAAKIwwAQAA\n",
              "AAAAFEaYAAAAAAAACiNMAAAAAAAAhREmAAAAAACAwggTAAAAAABAYYQJAAAAAACgMMIEAAAAAABQ\n",
              "GGFiJSZPnpxf/epXOfbYY7PtttumS5cuadOmTbp27Zptttkmn/vc53LPPfe0+HXHjBmTUqm0Sj/7\n",
              "7rtvi88BAAAAAAAtqa7aA9Sqf//73zn99NPzyCOPLPP72bNnZ/bs2Rk3blx++ctfZvDgwRk1alT6\n",
              "9u1b8KQAAAAAAPDhIUwsxzPPPPOBKLH55pvnYx/7WLp37545c+bkgQceyCuvvJLknTscdtttt9x7\n",
              "773ZdNNNW3SWPn365NOf/vRKjxswYECLXhcAAAAAAFqaMLES/fv3z6mnnppjjz0266+/foPv6uvr\n",
              "M3LkyHzxi1/MggULMmXKlBxzzDF54IEHUiqVWmyGzTbbLJdddlmLnQ8AAAAAAKpFmFiO3r1755pr\n",
              "rslxxx2X1q1bL/OYVq1a5eSTT06XLl1y2GGHJUkeeuih/OMf/8j+++9f5LgAAAAAAPCh4OXXy/GJ\n",
              "T3wiJ5544nKjxHt9+tOfzs4771zZv+WWW1bnaAAAAAAA8KElTLSQPfbYo7I9efLk6g0CAAAAAAA1\n",
              "TJhoIe99p8TSpUurOAkAAAAAANQu75hoIePGjatsb7jhhi167rfeeit//etf8/jjj2fWrFnp0KFD\n",
              "evXqlV122SXbb7996ur81wgAAAAAwIeD32i3gJdeeimjR4+u7O+7774tev5HHnkkBx988DK/69On\n",
              "T770pS/lzDPPTJs2bVr0utOnT8+MGTNWed2iRYvEEgAAAAAAlslvj1vAl7/85crjm/r27ZuDDjqo\n",
              "sGtPmTIlZ511Vm666ab8+c9/Tq9evVrs3JdffnkuuOCCJq3t0aNHi80BAAAAAMCawzsmmmnUqFG5\n",
              "6aabKvvf+9730q5duxY5d48ePTJixIj86U9/yqRJk7JgwYIsXLgwkyZNyqhRo7LTTjtVjn3ooYdy\n",
              "0EEH5a233mqRawMAAAAAwOrgjolmGDt2bE4//fTK/vDhw3P00Ue3yLl33HHHvPLKK2nbtu0Hvttk\n",
              "k02yySab5Ljjjst5552Xb33rW0mSf/3rX/nxj3+cc845p0VmAAAAAACAllYql8vlag/xYfTCCy9k\n",
              "9913z2uvvZYk2WabbXLvvfemU6dOhc9yzDHH5He/+12SpEuXLpk+fXqLvOOhqe+YOOSQQ1JXV5cJ\n",
              "EyY0e4YPo42/dku1R6iqyd8/sNojAAAAAAA1zB0TTTB16tTst99+lSix6aab5vbbb69KlEiSCy+8\n",
              "sBImZs+enYceeih77rlns8/bs2fP9OzZc5XXtdSjrAAAAAAAWPN4x8QqmjlzZvbbb79MnDgxSdK7\n",
              "d+/ceeed6d27d9Vm6tevXzbeeOPK/tNPP121WQAAAAAAYEWEiVXwxhtvZP/998/48eOTJN27d8+d\n",
              "d96ZTTbZpMqTpUEYef3116s4CQAAAAAALJ8w0Ujz58/P0KFD8+ijjyZJOnfunNtvvz1bbbVVlSd7\n",
              "x/z58yvbHTp0qOIkAAAAAACwfMJEIyxcuDAHH3xw7r///iTJ2muvnVtuuSUf//jHqzzZOxYsWJBn\n",
              "nnmmst+nT58qTgMAAAAAAMsnTKzE22+/ncMPPzyjR49O8s6LnW+++ebsscceVZ7s//nd736XRYsW\n",
              "JUlKpVIGDRpU5YkAAAAAAGDZhIkVWLp0aY4++ujceuutSZK6urrccMMN2XfffVfrdRcsWJD6+vpG\n",
              "Hfvcc8/la1/7WmX/k5/8ZHr27Lm6RgMAAAAAgGYRJpajXC7nlFNOyR/+8IckSatWrfLrX/86Bx98\n",
              "cLPOWyqVKj/nn3/+Mo955JFHMnDgwPz85z/P9OnTl3nM0qVL85vf/Ca77bZbZs6cmSRp27ZtLrro\n",
              "ombNBwAAAAAAq1NdtQeoVT//+c8zatSoyn6/fv1y33335b777mvU+ssuu6xZ158wYUJGjBiRL3zh\n",
              "C+nfv38GDhyYrl27plWrVnnttdfy4IMP5vXXX68c37p161x77bXZdtttm3VdAAAAAABYnYSJ5Xj/\n",
              "nQrPPfdcnnvuuUavb26YeFd9fX2effbZPPvss8s9ZosttsjVV1+d3XffvUWuCQAAAAAAq4swUYP2\n",
              "2muvjB07Ng8++GAeeOCBPPPMM5k5c2ZmzpyZRYsWpXPnztlwww2zyy675OCDD84BBxyQUqlU7bEB\n",
              "AAAAAGClSuVyuVztIVizDBw4MEkyfvz4Kk9SHRt/7ZZqj1BVk79/YLVHAAAAAABqmJdfAwAAAAAA\n",
              "hREmAAAAAACAwggTAAAAAABAYYQJAAAAAACgMMIEAAAAAABQGGECAAAAAAAojDABAAAAAAAURpgA\n",
              "AAAAAAAKI0wAAAAAAACFESYAAAAAAIDCCBMAAAAAAEBhhAkAAAAAAKAwwgQAAAAAAFAYYQIAAAAA\n",
              "ACiMMAEAAAAAABRGmAAAAAAAAAojTAAAAAAAAIURJgAAAAAAgMIIEwAAAAAAQGGECQAAAAAAoDDC\n",
              "BAAAAAAAUBhhAgAAAAAAKIwwAQAAAAAAFEaYAAAAAAAACiNMAAAAAAAAhREmAAAAAACAwggTAAAA\n",
              "AABAYYQJAAAAAACgMMIEAAAAAABQGGECAAAAAAAojDABAAAAAAAURpgAAAAAAAAKI0wAAAAAAACF\n",
              "ESYAAAAAAIDCCBMAAAAAAEBhhAkAAAAAAKAwwgQAAAAAAFAYYQIAAAAAACiMMAEAAAAAABRGmAAA\n",
              "AAAAAAojTAAAAAAAAIURJgAAAAAAgMIIEwAAAAAAQGGECQAAAAAAoDDCBAAAAAAAUBhhAgAAAAAA\n",
              "KIwwAQAAAAAAFEaYAAAAAAAACiNMAAAAAAAAhREmAAAAAACAwggTAAAAAABAYYQJAAAAAACgMMIE\n",
              "AAAAAABQGGECAAAAAAAojDABAAAAAAAURpgAAAAAAAAKI0wAAAAAAACFESYAAAAAAIDCCBMAAAAA\n",
              "AEBhhAkAAAAAAKAwwgQAAAAAAFAYYQIAAAAAACiMMAEAAAAAABRGmAAAAAAAAAojTAAAAAAAAIUR\n",
              "JgAAAAAAgMIIEwAAAAAAQGGECQAAAAAAoDDCBAAAAAAAUBhhAgAAAAAAKIwwAQAAAAAAFEaYAAAA\n",
              "AAAACiNMAAAAAAAAhREmAAAAAACAwggTAAAAAABAYYQJAAAAAACgMMIEAAAAAABQGGECAAAAAAAo\n",
              "jDABAAAAAAAURpgAAAAAAAAKI0wAAAAAAACFESYAAAAAAIDCCBMAAAAAAEBhhAkAAAAAAKAwwgQA\n",
              "AAAAAFAYYQIAAAAAACiMMAEAAAAAABRGmAAAAAAAAAojTAAAAAAAAIURJgAAAAAAgMIIEwAAAAAA\n",
              "QGGECQAAAAAAoDDCBAAAAAAAUBhhAgAAAAAAKIwwAQAAAAAAFEaYAAAAAAAACiNMAAAAAAAAhREm\n",
              "AAAAAACAwggTAAAAAABAYYQJAAAAAACgMMIEAAAAAABQGGECAAAAAAAojDABAAAAAAAURpgAAAAA\n",
              "AAAKI0wAAAAAAACFESYAAAAAAIDCCBMAAAAAAEBhhAkAAAAAAKAwwgQAAAAAAFAYYQIAAAAAACiM\n",
              "MAEAAAAAABRGmAAAAAAAAAojTAAAAAAAAIURJgAAAAAAgMIIEwAAAAAAQGGECQAAAAAAoDDCBAAA\n",
              "AAAAUBhhAgAAAAAAKIwwAQAAAAAAFEaYAAAAAAAACiNMrMTkyZPzq1/9Kscee2y23XbbdOnSJW3a\n",
              "tEnXrl2zzTbb5HOf+1zuueee1TpDuVzOn/70pxxxxBHp169f1lprrfTo0SM77rhjLrjggrz00kur\n",
              "9foAAAAAANBSSuVyuVztIWrRv//975x++ul55JFHGnX84MGDM2rUqPTt27dF55gyZUqOO+64jB49\n",
              "ernHdOzYMZdeemlOPPHEFr12Uw0cODBJMn78+CpPUh0bf+2Wao9QVZO/f2C1RwAAAAAAalhdtQeo\n",
              "Vc8888wHosTmm2+ej33sY+nevXvmzJmTBx54IK+88kqSZMyYMdltt91y7733ZtNNN22RGd54443s\n",
              "v//+efLJJyuf7bzzzhk4cGDmzp2b0aNHZ86cOZk3b15OOumktGrVKscff3yLXBsAAAAAAFYHYWIl\n",
              "+vfvn1NPPTXHHnts1l9//Qbf1dfXZ+TIkfniF7+YBQsWZMqUKTnmmGPywAMPpFQqNfvaX/jCFypR\n",
              "omvXrrnxxhszZMiQyvfz58/P5z73ufz2t79Nknz2s5/N7rvvnv79+zf72gAAAAAAsDp4x8Ry9O7d\n",
              "O9dcc00mTJiQs88++wNRIklatWqVk08+Ob/5zW8qnz300EP5xz/+0ezrP/nkk5XgkCS/+93vGkSJ\n",
              "JOnQoUOuvfba7L777kmSxYsX59xzz232tQEAAAAAYHURJpbjE5/4RE488cS0bt16pcd++tOfzs47\n",
              "71zZv+WW5r9j4Oc//3nq6+uTJPvtt1/233//ZR7XqlWr/OAHP6js33DDDXn99debfX0AAAAAAFgd\n",
              "hIkWsscee1S2J0+e3Kxzlcvl/OUvf6nsn3TSSSu99ruPb1q6dGmDtQAAAAAAUEuEiRby3ndKLF26\n",
              "tFnneu655yov1U6SwYMHr3TN3nvvXdkePXp0s64PAAAAAACrizDRQsaNG1fZ3nDDDZt1rqeffrqy\n",
              "vd5666V3794rXbPDDjsscz0AAAAAANQSYaIFvPTSSw3uUth3332bdb5nnnmmsr3RRhs1ak3fvn0r\n",
              "2xMmTGjW9QEAAAAAYHWpq/YAa4Ivf/nLlcc39e3bNwcddFCzzjdz5szKdq9evRq1Zr311qtsL1iw\n",
              "IIsWLUq7du2aNcf06dMzY8aMVV63aNGi1NX5nxYAAAAAAB/kt8fNNGrUqNx0002V/e9973vNDgLz\n",
              "5s2rbK+11lqNWvP+4+bNm9fsOS6//PJccMEFTVrbo0ePZl0bAAAAAIA1k0c5NcPYsWNz+umnV/aH\n",
              "Dx+eo48+utnnXbhwYWW7bdu2jVrz/gjx1ltvNXsOAAAAAABoacJEE73wwgs56KCDKhFhm222yRVX\n",
              "XNEi527fvn1le/HixY1as2jRogb7jb3TAgAAAAAAiuRRTk0wderU7LfffnnttdeSJJtuumluv/32\n",
              "dOrUqUXO37Fjx8p2Y+98eP9x7z1HU40YMSLDhg1b5XWHHHKId0wAAAAAALBMfnu8imbOnJn99tsv\n",
              "EydOTJL07t07d955Z3r37t1i1+jWrVtle9q0aY1a824kSZK111672e+XSJKePXumZ8+eq7yuJa4N\n",
              "AAAAAMCayaOcVsEbb7yR/fffP+PHj0+SdO/ePXfeeWc22WSTFr3OFltsUdl+8cUXG7XmpZdeqmwP\n",
              "GDCgRecBAAAAAICWIkw00vz58zN06NA8+uijSZLOnTvn9ttvz1ZbbdXi19pyyy0r26+99lqDuyGW\n",
              "57HHHlvmegAAAAAAqCXCRCMsXLgwBx98cO6///4k7zwq6ZZbbsnHP/7x1XK9zTbbLBtssEFlf8yY\n",
              "MStdc88991S2hwwZsjrGAgAAAACAZhMmVuLtt9/O4YcfntGjRyd55/0JN998c/bYY4/Vds1SqZSD\n",
              "Dz64sj9y5MgVHv/ggw/m2WefTZK0bt06Bx100GqbDQAAAAAAmkOYWIGlS5fm6KOPzq233pokqaur\n",
              "yw033JB99913tV/79NNPT6tW7/zX8/e//z133HHHMo+rr6/PV7/61cr+sGHD0qNHj9U+HwAAAAAA\n",
              "NIUwsRzlcjmnnHJK/vCHPyRJWrVqlV//+tcN7mRoilKpVPk5//zzl3vc1ltvnWOOOaayP3z48A88\n",
              "0mn+/Pk58cQTc9999yVJ2rZtm29961vNmg8AAAAAAFanumoPUKt+/vOfZ9SoUZX9fv365b777qtE\n",
              "gJW57LLLmj3DZZddlsceeyzjx4/PzJkzs/fee2eXXXbJVlttlTfeeCOjR4/O7NmzK8f/8pe/TP/+\n",
              "/Zt9XQAAAAAAWF2EieWYPn16g/3nnnsuzz33XKPXt0SY6NSpU/7xj3/kuOOOq7zj4uGHH87DDz/c\n",
              "4LiOHTvmkksuyQknnNDsawIAAAAAwOokTNS4Pn365M4778yf/vSn/Pa3v81jjz2WqVOnpmPHjunb\n",
              "t28OOuignHLKKenbt2+1RwUAAAAAgJUqlcvlcrWHYM0ycODAJMn48eOrPEl1bPy1W6o9QlVN/v6B\n",
              "1R4BAAAAAKhhXn4NAAAAAAAURpgAAAAAAAAKI0wAAAAAAACFESYAAAAAAIDCCBMAAAAAAEBhhAkA\n",
              "AAAAAKAwwgQAAAAAAFAYYQIAAAAAACiMMAEAAAAAABRGmAAAAAAAAAojTAAAAAAAAIURJgAAAAAA\n",
              "gMIIEwAAAAAAQGGECQAAAAAAoDDCBAAAAAAAUBhhAgAAAAAAKIwwAQAAAAAAFEaYAAAAAAAACiNM\n",
              "AAAAAAAAhREmAAAAAACAwggTAAAAAABAYYQJAAAAAACgMMIEAAAAAABQGGECAAAAAAAojDABAAAA\n",
              "AAAURpgAAAAAAAAKI0wAAAAAAACFESYAAAAAAIDCCBMAAAAAAEBhhAkAAAAAAKAwNR0m/va3v6Vc\n",
              "Lld7DAAAAAAAoIXUdJg4+OCDs+GGG+ab3/xmXnjhhWqPAwAAAAAANFNNh4kkmTp1ar773e9ms802\n",
              "y7777pvf//73Wbx4cbXHAgAAAAAAmqCmw8RGG22Ucrmccrmc+vr63H333Tn66KPTp0+ffOlLX8qT\n",
              "Tz5Z7REBAAAAAIBVUNNh4oUXXsgdd9yRz3zmM2nXrl0lUsyaNSuXXHJJtt122+y666656qqrMn/+\n",
              "/GqPCwAAAAAArERNh4kk2WeffXLddddlypQpufjii7PtttsmSSVS/Otf/8ppp52W3r1759RTT82D\n",
              "Dz5Y5YkBAAAAAIDlqfkw8a4uXbrki1/8Yv79739n7NixOf3009O5c+dKoJg3b16uueaa7LnnnvnY\n",
              "xz6Wn/70p5k5c2a1xwYAAAAAAN7jQxMm3muHHXbI5ZdfnqlTp+baa6/N4MGDUyqVKpHiqaeeyv/8\n",
              "z/9kgw02yFFHHZU77rij2iMDAAAAAAD5kIaJd7Vv3z7HHntsRo8eneeeey5f//rX06dPnyTvPOpp\n",
              "0aJFufHGG3PAAQdk0003zXe+85289tprVZ4aAAAAAAA+uj7UYeK93g0P99xzT3bZZZckSalUSvJO\n",
              "pHjxxRdz7rnnZqONNsrxxx+fiRMnVnNcAAAAAAD4SFojwsTixYvz+9//Pp/85CezxRZb5JFHHmnw\n",
              "aKd27dpVtt9+++389re/zdZbb51f/OIX1R4dAAAAAAA+Uj7UYeKJJ57ImWeemT59+uToo4/OXXfd\n",
              "lfr6+pTL5ZRKpQwdOjR//vOf8+abb2bMmDE59thj0759+5TL5SxcuDAjRozIbbfdVu0/BgAAAAAA\n",
              "fGR86MLEG2+8kSuuuCI77bRTtt9++1x22WWZNWtW5Y6IDTfcMOedd14mT56cv/3tbzn44INTV1eX\n",
              "QYMG5dprr80LL7yQYcOGJXnnEU8/+tGPqvwnAgAAAACAj466ag/QWPfcc0+uuuqq3HTTTVm4cGGS\n",
              "d8JCkrRu3TpDhw7Naaedlv/6r/9Kq1bL7y29evXKddddl8cffzzPPvtsHn300ULmBwAAAAAAajxM\n",
              "TJ06NSNHjszVV1+dSZMmJfl/MSJJNtpoo5xyyik5+eST06dPn0aft1WrVtlrr73y7LPP5s0332zx\n",
              "uQEAAAAAgGWr6TCx4YYbVkLEu/9ZV1eXT33qUznttNOy//77p1QqNencHTt2bLE5AQAAAACAxqnp\n",
              "MFFfX1/Z3mSTTXLqqafmpJNOynrrrdfsc++888454YQTmn0eAAAAAACg8Wo6TLRp0yYHH3xwTjvt\n",
              "tOy3334teu7hw4dn+PDhLXpOAAAAAABgxWo6TLzyyivp0aNHtccAAAAAAABaSKtqD7AiogQAAAAA\n",
              "AKxZajpMAAAAAAAAa5aafpTT0qVLc9xxx2XhwoXZbLPNctFFFzV67dlnn53nnnsu66yzTkaNGrUa\n",
              "pwQAAAAAABqrpu+YuPXWW3P99dfn5ptvTv/+/Vdpbf/+/fPnP/85v/nNb/L3v/99NU0IAAAAAACs\n",
              "ipoOE7fcckuSpE2bNjnyyCNXae2RRx6ZNm3aJEn++te/tvhsAAAAAADAqqvpMPGvf/0rSbLtttum\n",
              "c+fOq7S2c+fO2W677VIul/PII4+sjvEAAAAAAIBVVNNhYtKkSSmVStliiy2atH7zzTevnAcAAAAA\n",
              "AKi+mg4T8+fPT5J06NChSes7duyYJHnjjTdabCYAAAAAAKDpajpMdOrUKUkya9asJq1/d11TwwYA\n",
              "AAAAANCyajpM9O7du1nviHh3Xa9evVpyLAAAAAAAoIlqOkzsscceSZKXXnopd9xxxyqt/cc//pEX\n",
              "X3wxpVIpu+222+oYDwAAAAAAWEU1HSYOPfTQyvYZZ5yR119/vVHrpk+fnjPOOGOZ5wEAAAAAAKqn\n",
              "psPEAQcckI9//ONJkhdeeCE777zzSu+cuOOOO7LrrrvmhRdeSKlUyrbbbptDDjmkiHEBAAAAAICV\n",
              "qKv2ACszcuTI7L777pk3b14mT56cAw44IJtttlkGDx6cTTfdNB07dsy8efPywgsv5O67785zzz1X\n",
              "WduxY8eMGjWqitMDAAAAAADvVfNhYuDAgbn55ptz5JFH5vXXX0+5XM5zzz3XIEC8V7lcTpJ07do1\n",
              "N9xwQ7beeusixwUAAAAAAFagph/l9K7Bgwfnsccey9FHH526urqUy+Xl/tTV1eWYY47Jf/7znwwZ\n",
              "MqTaowMAAAAAAO9R83dMvGuDDTbIb37zm/zgBz/InXfemYceeijTpk3Lm2++mXXWWSe9evXKrrvu\n",
              "mv322y+9e/eu9rgAAAAAAMAyfGjCxLv69OmT448/Pscff3y1RwEAAAAAAFbRh+JRTgAAAAAAwJpB\n",
              "mAAAAAAAAAojTAAAAAAAAIX5UL1jYtq0aRk7dmwmT56cN954I2+//Xaj15577rmrcTIAAAAAAKAx\n",
              "PhRh4pFHHsk3vvGNjBkzJuVyuUnnECYAAAAAAKD6aj5MXHnllTnjjDNSX1/f5ChRKpVaeCoAAAAA\n",
              "AKApajpMjB8/PmeccUaWLl2a5J3AsNNOO2X77bdPt27d0qZNmypPCAAAAAAArIqaDhP/93//l6VL\n",
              "l6ZUKmXgwIG57rrrMnDgwGqPBQAAAAAANFFNh4m77747SbLWWmvltttuy/rrr1/liQAAAAAAgOZo\n",
              "Ve0BVmTq1KkplUoZMmSIKAEAAAAAAGuAmg4THTp0SBJRAgAAAAAA1hA1HSY22WSTJMnMmTOrPAkA\n",
              "AAAAANASajpMHH744SmXy7n33ntTX19f7XEAAAAAAIBmqukwcdppp6VPnz6ZPn16Lr300mqPAwAA\n",
              "AAAANFNNh4kuXbrk97//fTp06JCzzjorV111VbVHAgAAAAAAmqGu2gOsyD//+c8kyfe+97185Stf\n",
              "yWmnnZZLL700w4YNy9Zbb53OnTunVCo16lyDBg1anaMCAAAAAACNUNNhYvDgwQ3CQ7lczrhx4zJu\n",
              "3LhVOk+pVMqSJUtaejwAAAAAAGAV1XSYSN6JESvaBwAAAAAAPjxqOkwMGjSo0Y9qAgAAAAAAal9N\n",
              "h4kxY8ZUewQAAAAAAKAFtar2AAAAAAAAwEeHMAEAAAAAABRGmAAAAAAAAApT0++YWJbZs2fn/vvv\n",
              "z8svv5zZs2dnyZIlOffcc6s9FgAAAAAA0AgfmjDx8MMP58ILL8zf//73lMvlBt+9P0xMmzYthxxy\n",
              "SOrr67Pbbrvl4osvLnJUAAAAAABgOT4Uj3L6/ve/n7322iu333576uvrUy6XKz/L0qtXr6y33noZ\n",
              "O3ZsfvGLX2TmzJkFTwwAAAAAACxLzYeJn/3sZ/nGN76RJUuWpFwuZ8CAATnjjDOy4447rnDdSSed\n",
              "lCR5++23c+uttxYxKgAAAAAAsBI1HSamTp2ar371q0mS9u3b55prrslTTz2Vn/3sZ9lll11WuPaA\n",
              "Aw5Iu3btkiR33333ap8VAAAAAABYuZoOE1dccUXeeuutlEql/N///V9OOOGERq9t165dPvaxj6Vc\n",
              "LmfcuHGrcUoAAAAAAKCxajpM/P3vf0+S9OnTJ6eddtoqr+/Xr1+S5MUXX2zRuQAAAAAAgKap6TAx\n",
              "adKklEql7LHHHimVSqu8ft11102SvPHGGy08GQAAAAAA0BQ1HSbmzp2bJOnatWuT1i9atChJ0qZN\n",
              "mxabCQAAAAAAaLqaDhNdunRJksyePbtJ61966aUkSffu3VtsJgAAAAAAoOlqOkxstNFGKZfLefTR\n",
              "R1d57fz58/Pwww+nVCplq622Wg3TAQAAAAAAq6qmw8S+++6bJJk4cWLuvffeVVp76aWXZsGCBQ3O\n",
              "AwAAAAAAVFdNh4njjjsurVu3TpJ87nOfy6xZsxq17q677sr555+fJFl77bVz/PHHr64RAQAAAACA\n",
              "VVDTYWLAgAE55ZRTUi6X88wzz2TXXXfN3/72t5TL5WUeP2nSpHzlK1/J0KFDs3jx4pRKpfzP//xP\n",
              "unXrVvDkAAAAAADAstRVe4CVueSSS/Lkk0/mgQceyMSJE3PIIYekU6dOadOmTeWY7bffPq+99lqm\n",
              "T5+eJJVw8clPfjLnnXdeVeYGAAAAAAA+qKbvmEiStm3b5h//+EeOO+64lMvllMvlzJ07NzNnzkyp\n",
              "VEqSPPHEE5k2bVrl+yQ54YQTcvPNN1eOAQAAAAAAqq/mw0TyznsiRo0alXvuuSeHHHJIOnToUIkQ\n",
              "740R7dq1y3/9139lzJgxueaaa9K2bdsqTw4AAAAAALxXzT/K6b322muv7LXXXlm6dGmeeOKJTJky\n",
              "JXPnzk2HDh3Sq1evbLfddmnfvn21xwQAAAAAAJbjQxUm3tW6detsv/322X777as9CgAAAAAAsAo+\n",
              "FI9yAgAAAAAA1gzCBAAAAAAAUBhhAgAAAAAAKExNv2NiyJAhLXKeUqmUu+66q0XOBQAAAAAANF1N\n",
              "h4kxY8akVCo16xzlcrnZ5wAAAAAAAFpGTYeJ5J2wsKpKpVKT1gEAAAAAAKtXTYeJu+++u1HH1dfX\n",
              "Z+7cuRk3blxuuOGGjB8/Pu3bt8+PfvSjDBw4cDVPCQAAAAAANFapvAbeWnD55ZfnzDPPzNprr53b\n",
              "brstu+++e7VH+kh5NwaNHz++ypNUx8Zfu6XaI1TV5O8fWO0RAAAAAIAa1qraA6wOI0aMyPe///28\n",
              "+eab+cxnPpNZs2ZVeyQAAAAAACBraJhIkv/v//v/0rNnz0yZMiW//OUvqz0OAAAAAACQNThMtG7d\n",
              "OoMGDUq5XM4f/vCHao8DAAAAAABkDQ4TSdK1a9ckyQsvvFDlSQAAAAAAgGQNDxOvvvpqkmThwoVN\n",
              "PsfSpUvzxBNP5KqrrsoZZ5yRHXfcMW3btk2pVEqpVMrgwYNbaNqGRo4cWblGY39OPfXU1TILAAAA\n",
              "AAC0lLpqD7C6vPrqqxk9enRKpVJ69+7dpHP8+c9/zjHHHJMFCxa08HQAAAAAAPDRtEaGiWeeeSbD\n",
              "hw/PW2+9lVKplCFDhjTpPHPmzKmJKDFgwIDss88+Kz1u9913L2AaAAAAAABoupoOExdeeGGjj12y\n",
              "ZElmzpyZ//znP3n44YdTLpeTvPMS7C9/+cvNmqNXr17ZaaedKj9///vfc/HFFzfrnKtil112yWWX\n",
              "XVbY9QAAAAAAYHWp6TBx/vnnp1QqrfK6d6NEq1at8otf/CIDBgxo0vUPOOCAvPjii+nbt2+Dzx9+\n",
              "+OEmnQ8AAAAAAD7qajpMJP8vMqyKdx/f9J3vfCc777xzk6+93nrrNXktAAAAAADwQTUdJs4777xG\n",
              "H9umTZt06tQpG2+8cXbaaaf06tVrNU4GAAAAAAA0xRoTJgAAAAAAgNpX02GCd8yZMyc33nhjxo8f\n",
              "n7lz56ZTp07p06dPdtttt2y99dZNeg8HAAAAAABUgzDxIXDzzTfn5ptvXuZ3m222Wc4+++ycfPLJ\n",
              "AgUAAAAAADVPmPiQe+6553Lqqafmz3/+c66//vp06NChxc49ffr0zJgxY5XXLVq0KHV1/qcFAAAA\n",
              "AMAH+e1xDevbt2+GDRuWffbZJ1tvvXV69OiRpUuX5pVXXsldd92VSy65JBMmTEiS/O1vf8vRRx+d\n",
              "P/3pT2nVqlWLXP/yyy/PBRdc0KS1PXr0aJEZAAAAAABYs9R0mDj55JNX+zVKpVKuuuqq1X6dVXXo\n",
              "oYfm+OOPX2Zk2HzzzbP55pvnlFNOyemnn55rrrkmSfKXv/wlv/vd73LssccWPS4AAAAAADRKTYeJ\n",
              "kSNHFvLehFoME+uuu+5Kj2nbtm2uvPLKPP/887n33nuTJBdddJEwAQAAAABAzarpMJEk5XK5wX6p\n",
              "VPrAZ6vy/bKO/zBr1apVzjvvvOy7775JkieffDKvvPJKNthgg2afe8SIERk2bNgqrzvkkEO8YwIA\n",
              "AAAAgGWq6d8ev/uIopdeeinf+c53snjx4iTJbrvtlt122y19+/ZNhw4dMn/+/Lz88st58MEH8+CD\n",
              "DyZJ2rVrl2984xvp27dv1eYvyqBBg9KmTZu8/fbbSZKnn366RcJEz54907Nnz1Ve165du2ZfGwAA\n",
              "AACANVNNh4kTTjghDz/8cL785S/n7bffzic/+clceuml2WyzzZa75vnnn89///d/5/bbb8/FF1+c\n",
              "W265JbvsskuBUxevTZs26d69e6ZOnZokef3116s8EQAAAAAALNsH36xcQ2bPnp1hw4Zlzpw5Oeqo\n",
              "o3LbbbetMEokSf/+/XPLLbdk+PDhmTVrVoYNG5ZZs2YVNHH1zJ8/v7LdoUOHKk4CAAAAAADLV9Nh\n",
              "4sorr8wrr7ySDh065Iorrmj0+yBKpVKuuOKKdOzYMa+++mp+9atfreZJq2vSpEl54403Kvt9+vSp\n",
              "4jQAAAAAALB8NR0m/vCHP6RUKmXIkCFZZ511VmntOuuskyFDhqRcLuemm25aTRPWhquvvrqy3blz\n",
              "52y33XbVGwYAAAAAAFagpsPECy+8kCRZb731mrS+V69eSZLJkye31EiFmDdvXqOPfeCBB/LjH/+4\n",
              "sn/UUUelrq6mXx0CAAAAAMBHWE2HiXd/Qf/uS51X1WuvvdbgPNU2efLklEqlys/IkSOXedwf/vCH\n",
              "7Lzzzrn22mszd+7cZR6zcOHCXHLJJdl3332zcOHCJMm6666b8847b3WNDwAAAAAAzVbTf7W+d+/e\n",
              "eeGFFzJ69OjMnTs3nTt3bvTauXPnZvTo0SmVSundu3eTZxg6dGimTJnS4LN3g0eSjB07dpmPTrr1\n",
              "1lub9a6Hf/3rXznhhBNSV1eXAQMGZMCAAenSpUuWLl2aV199NQ8++GCD90qstdZaufnmm5v1ZwUA\n",
              "AAAAgNWtpsPEPvvskyuvvDILFizI5z73uVx33XWNfgH26aefnvnz51feUdFUTz31VF588cXlfj9/\n",
              "/vw8/vjjH/h88eLFTb7mey1ZsiRPPvlknnzyyeUes/POO2fkyJHZcsstW+SaAAAAAACwutR0mDjj\n",
              "jDNyzTXXpL6+PjfeeGNmz56dSy65JFtsscVy1zz77LM588wz849//CNJ0qpVq4wYMaKokVvE8OHD\n",
              "s/nmm+eBBx7IQw89lIkTJ+b111/PzJkzU19fn86dO2eTTTbJrrvumiOOOCJ77rlntUcGAAAAAIBG\n",
              "KZXL5XK1h1iRc845J9/97ncb3Cnx8Y9/PLvttlv69u2btddeOwsWLMhLL72Uhx56KGPHjk2SvPvH\n",
              "+vrXv57vfOc7VZn9o2rgwIFJkvHjx1d5kurY+Gu3VHuEqpr8/QOrPQIAAAAAUMNq+o6JJPn2t7+d\n",
              "+vr6XHTRRZXY8Oijj+bRRx9d5vHvHlMqlfKVr3xFlAAAAAAAgBrSqtoDNMZ3v/vd3H333dltt92S\n",
              "vBMflveTJLvvvntGjx6diy66qJpjAwAAAAAA71Pzd0y8a9CgQbn//vszYcKE3H333fn3v/+dGTNm\n",
              "ZN68eenYsWN69OiR7bffPnvvvXcGDBhQ7XEBAAAAAIBl+NCEiXcNGDBAeAAAAAAAgA+pD8WjnAAA\n",
              "AAAAgDWDMAEAAAAAABTmQ/cop//85z+577778vLLL2f27NlZunRprrrqqmqPBQAAAAAANMKHJkz8\n",
              "4Q9/yPnnn5+nn3668lm5XE6pVPpAmJg2bVq23377LFmyJHvuuWf++Mc/Fj0uAAAAAACwDB+KRzmd\n",
              "fvrp+cxnPpOnn3465XK58rM8vXr1yj777JPXX389f/nLX/Lqq68WOC0AAAAAALA8NR8mzjnnnPzy\n",
              "l7+sxIj9998/F110Ufbee+8Vrjv++OOTvHNXxa233lrEqAAAAAAAwErUdJh47rnn8oMf/CBJsu66\n",
              "62b06NG57bbbctZZZ2WrrbZa4dohQ4akQ4cOSZIxY8as7lEBAAAAAIBGqOkw8ctf/jJLlixJqVTK\n",
              "r371qwwePLjRa1u3bp1tttkm5XI548ePX31DAgAAAAAAjVbTYeKuu+5KkvTr1y+HH374Kq/feOON\n",
              "kySvvPJKS44FAAAAAAA0UU2HiRdffDGlUim77LJLk9Z36tQpSfLmm2+25FgAAAAAAEAT1XSYmD9/\n",
              "fpKkY8eOTVq/YMGCJEn79u1bbCYAAAAAAKDpajpMdOvWLUkyY8aMJq2fOHFikqRHjx4tNhMAAAAA\n",
              "ANB0NR0m+vXrl3K5nEceeWSV186cOTNjx45NqVTKtttuuxqmAwAAAAAAVlVNh4lPfvKTSZJXX301\n",
              "N9988yqt/f73v5/FixcnSfbbb78Wnw0AAAAAAFh1NR0mTjzxxMr7IUaMGJHJkyc3at2oUaPyk5/8\n",
              "JKVSKV26dMlxxx23GqcEAAAAAAAaq6bDxAYbbJCvfOUrKZfLee2117LTTjvlsssuy8yZMz9w7MKF\n",
              "CzN69OgcccQROfnkk1Mul5MkF1xwQTp06FD06AAAAAAAwDKUyu/+Br9GlcvlDBs2LH/84x9TKpUq\n",
              "n7dt2zaLFi1KqVRKp06d8sYbbzRYk7xzx8XVV19d+MwfdQMHDkySjB8/vsqTVMfGX7ul2iNU1eTv\n",
              "H1jtEQAAAACAGlbTd0wkSalUyg033JBzzjknrVq1SrlcTrlczuLFiyuhYu7cuZXPy+VyWrdunfPO\n",
              "O0+UAAAAAACAGlPzYSJJWrVqlQsvvDDPP/98zjzzzGy++eYNQsS7Ntxww5xxxhl55plnct5551Vx\n",
              "YgAAAAAAYFlq/lFOyzNr1qxMnTo1c+fOTYcOHdKrV6+st9561R6LeJSTRzl5lBMAAAAAsHx11R5g\n",
              "Rb785S8neeeOie9973tp06ZN5buuXbuma9eu1RoNAAAAAABogpoOEz/96U9TKpWyxx57NIgSAAAA\n",
              "AADAh1NNv2OiU6dOSZLNN9+8ypMAAAAAAAAtoabDRO/evZMkb7/9dpUnAQAAAAAAWkJNh4k999wz\n",
              "5XI5jz/+eLVHAQAAAAAAWkBNh4kTTzwxSTJu3Lg88MAD1R0GAAAAAABotpoOE3vssUdOO+20lMvl\n",
              "HHPMMZk4cWK1RwIAAAAAAJqhpsNEklx66aUZMWJEXnzxxWy33Xb5xje+kccffzz19fXVHg0AAAAA\n",
              "AFhFddUeYEU23XTTynbr1q0zf/78XHTRRbnooovSpk2bdOnSJWuttdZKz1MqldxtAQAAAAAANaCm\n",
              "w8TkyZNTKpUq++9ul8vlLF68ONOnT1/pOcrlcoNzAAAAAAAA1VPTYSJ5Jyw05TsAAAAAAKD21HSY\n",
              "eOGFF6o9AgAAAAAA0IJqIkz885//TJKsv/766devX+XzjTbaqFojAQAAAAAAq0Grag+QJIMHD87e\n",
              "e++diy++eIXHTZ06NU888USeeOKJgiYDAAAAAABaUk2Eicb67ne/m+233z477LBDtUcBAAAAAACa\n",
              "oCYe5bQqvPAaAAAAAAA+vD5Ud0wAAAAAAAAfbsIEAAAAAABQGGECAAAAAAAojDABAAAAAAAURpgA\n",
              "AAAAAAAKI0wAAAAAAACFESYAAAAAAIDC1FV7gPd65JFHcuGFF67w+3et6LhlOffcc5s8FwAAAAAA\n",
              "0DJK5XK5XO0hWrVqlVKptFqvsXTp0tV6fv6fgQMHJknGjx9f5UmqY+Ov3VLtEapq8vcPrPYIAAAA\n",
              "AEANq6k7JlZXI1nd0QMAAAAAAGicmggTgwYNEg8AAAAAAOAjoCbCxJgxY6o9AgAAAAAAUIBW1R4A\n",
              "AAAAAAD46BAmAAAAAACAwggTAAAAAABAYYQJAAAAAACgMMIEAAAAAABQGGECAAAAAAAojDABAAAA\n",
              "AAAURpgAAAAAAAAKI0wAAAAAAACFESYAAAAAAIDCCBMAAAAAAEBhhAkAAAAAAKAwwgQAAAAAAFAY\n",
              "YQIAAAAAACiMMAEAAAAAABRGmAAAAAAAAAojTAAAAAAAAIURJgAAAAAAgMIIEwAAAAAAQGGECQAA\n",
              "AAAAoDDCBAAAAAAAUBhhAgAAAAAAKIwwAQAAAAAAFEaYAAAAAAAACiNMAAAAAAAAhREmAAAAAACA\n",
              "wggTAAAAAABAYYQJAAAAAACgMMIEAAAAAABQGGECAAAAAAAojDABAAAAAAAURpgAAAAAAAAKI0wA\n",
              "AAAAAACFESYAAAAAAIDCCBMAAAAAAEBhhAkAAAAAAKAwwgQAAAAAAFAYYQIAAAAAACiMMAEAAAAA\n",
              "ABRGmAAAAAAAAAojTAAAAAAAAIURJgAAAAAAgMIIEwAAAAAAQGGECQAAAAAAoDDCBAAAAAAAUBhh\n",
              "AgAAAAAAKIwwAQAAAAAAFEaYAAAAAAAACiNMAAAAAAAAhREmAAAAAACAwggTAAAAAABAYYQJAAAA\n",
              "AACgMMIEAAAAAABQGGECAAAAAAAojDABAAAAAAAURpgAAAAAAAAKI0wAAAAAAACFESYAAAAAAIDC\n",
              "CBMAAAAAAEBhhAkAAAAAAKAwwgQAAAAAAFAYYQIAAAAAACiMMAEAAAAAABRGmAAAAAAAAAojTAAA\n",
              "AAAAAIURJgAAAAAAgMIIEwAAAAAAQGGECQAAAAAAoDDCBAAAAAAAUBhhYiWWLl2aJ554IldddVXO\n",
              "OOOM7Ljjjmnbtm1KpVJKpVIGDx682mdYvHhxfv3rX2fo0KHZaKON0r59+/Tu3Tu77757fvSjH+X1\n",
              "119f7TMAAAAAAEBLqKv2ALXsz3/+c4455pgsWLCgajNMmDAhw4cPz3/+858Gn7/22mt57bXX8uCD\n",
              "D+aHP/xhrrnmmgwdOrQ6QwIAAAAAQCMJEyswZ86cqkaJV155Jfvss0+mTJmSJCmVShk0aFD69euX\n",
              "GTNm5M4778xbb72V6dOn59BDD83tt9+eIUOGVG1eAAAAAABYGWGiEXr16pWddtqp8vP3v/89F198\n",
              "8Wq/7tFHH12JEhtttFFuvvnmbLvttpXvX3/99Rx11FG566678vbbb2fYsGGZOHFi1l133dU+GwAA\n",
              "AAAANIUwsQIHHHBAXnzxxfTt27fB5w8//PBqv/att96ae++9N0nStm3b/PWvf83WW2/d4Jju3bvn\n",
              "5ptvzjbbbJNJkyZl1qxZ+cEPfpDvfve7q30+AAAAAABoCi+/XoH11lvvA1GiKD/72c8q2yeccMIH\n",
              "osS7OnTokAsvvLCy/4tf/CJLlixZ7fMBAAAAAEBTCBM1aN68ebnrrrsq+yeddNIKjz/88MPTsWPH\n",
              "JMmsWbPyz3/+c7XOBwAAAAAATSVM1KAHHnggixYtSvLOHRE77bTTCo9v3759dtttt8r+6NGjV+t8\n",
              "AAAAAADQVMJEDXr66acr21tvvXXq6lb+KpAddthhmesBAAAAAKCWCBM16Jlnnqlsb7TRRo1a8953\n",
              "YUyYMKHFZwIAAAAAgJaw8r+KT+FmzpxZ2e7Vq1ej1qy33nqV7VmzZrXIHNOnT8+MGTNWed2iRYsa\n",
              "dZcHAAAAAAAfPX57XIPmzZtX2V5rrbUatea9x713fXNcfvnlueCCC5q0tkePHi0yAwAAAAAAaxZh\n",
              "ogYtXLiwst22bdtGrWnXrl1l+6233mrxmQAAAACANdfGX7ul2iNUzeTvH1jtET5yvGOiBrVv376y\n",
              "vXjx4katWbRoUWW7sXdZAAAAAABA0dwxUYM6duxY2W7s3Q/vPe6965tjxIgRGTZs2CqvO+SQQ7xj\n",
              "AgAAAACAZfLb4xrUrVu3yva0adMatea1116rbHft2rVF5ujZs2d69uy5yuve+1gpAAAAAAB4L49y\n",
              "qkFbbLFFZfvFF19s1JqXXnqpsj1gwIAWnwkAAAAAAFqCMFGDttxyy8r2uHHjsmTJkpWueeyxx5a5\n",
              "HgAAAAAAaokwUYN23333yuOQ5s+fn7Fjx67w+EWLFuWhhx6q7A8ZMmS1zgcAAAAAAE0lTNSgjh07\n",
              "Zp999qnsjxw5coXH//GPf8ybb76Z5J33SwwaNGh1jgcAAAAAAE0mTNSoESNGVLZHjhyZ8ePHL/O4\n",
              "BQsW5Nxzz63sn3baaamr805zAAAAAABqkzBRoMmTJ6dUKlV+VnQnxIEHHpi99toryTuPavrUpz6V\n",
              "J554osExM2fOzKGHHprnn38+yTt3S5x99tmrbX4AAAAAAGguf7V+JYYOHZopU6Y0+Oy1116rbI8d\n",
              "OzbbbbfdB9bdeuut6dOnT7Ou/bvf/S4777xzpk6dmsmTJ2e77bbLJz7xifTr1y8zZszInXfemQUL\n",
              "FiRJ6urqcsMNN2Tddddt1jUBAAAAAGB1EiZW4qmnnsqLL7643O/nz5+fxx9//AOfL168uNnX3mCD\n",
              "DTJ69OgMHz48//nPf1IulzNmzJiMGTOmwXE9evTINddc0+C9FAAAAAAAUIuEiRo3YMCAPPzww7n+\n",
              "+utz3XXXZfz48Zk2bVrWXXfdbLrppjnssMNy0kknpXv37tUeFQAAAAAAVkqYWInJkye32Lk23njj\n",
              "lMvlVV7Xtm3bHH/88Tn++ONbbBYAAAAAAKgGL78GAAAAAAAKI0wAAAAAAACFESYAAAAAAIDCCBMA\n",
              "AAAAAEBhhAkAAAAAAKAwwgQAAAAAAFAYYQIAAAAAACiMMAEAAAAAABRGmAAAAAAAAAojTAAAAAAA\n",
              "AIURJgAAAAAAgMIIEwAAAAAAQGGECQAAAAAAoDDCBAAAAAAAUBhhAgAAAAAAKIwwAQAAAAAAFEaY\n",
              "AAAAAAAACiNMAAAAAAAAhREmAAAAAACAwggTAAAAAABAYYQJAAAAAACgMMIEAAAAAABQGGECAAAA\n",
              "AAAojDABAAAAAAAURpgAAAAAAAAKI0wAAAAAAACFESYAAAAAAIDCCBMAAAAAAEBhhAkAAAAAAKAw\n",
              "wgQAAAAAAFAYYQIAAAAAACiMMAEAAAAAABRGmAAAAAAAAAojTAAAAAAAAIURJgAAAAAAgMIIEwAA\n",
              "AAAAQGGECQAAAAAAoDDCBAAAAAAAUBhhAgAAAAAAKIwwAQAAAAAAFEaYAAAAAAAACiNMAAAAAAAA\n",
              "hREmAAAAAACAwggTAAAAAABAYYQJAAAAAACgMMIEAAAAAABQGGECAAAAAAAojDABAAAAAAAURpgA\n",
              "AAAAAAAKI0wAAAAAAACFESYAAAAAAIDCCBMAAAAAAEBhhAkAAAAAAKAwwgQAAAAAAFAYYQIAAAAA\n",
              "ACiMMAEAAAAAABRGmAAAAAAAAAojTAAAAAAAAIURJgAAAAAAgMIIEwAAAAAAQGGECQAAAP7/9u48\n",
              "yKrqzgP4rxHoZom0yCJGQCEiJOKCAaUdQEHLCKgIIQqZCBhDAlaSSqpSmqSi0WSymqmajIk6MQHF\n",
              "AURF0ehQCSBuCIkSAnTABUVEtgaisjaLb/5gvNOt9EL36/to3udT1VXnvHfO/d2m6vBe3+9dAAAg\n",
              "NYIJAAAAAAAgNYIJAAAAAAAgNYIJAAAAAAAgNYIJAAAAAAAgNYIJAAAAAAAgNYIJAAAAAAAgNYIJ\n",
              "AAAAAAAgNYIJAAAAAAAgNYIJAAAAAAAgNYIJAAAAAAAgNYIJAAAAAAAgNYIJAAAAAAAgNYIJAAAA\n",
              "AAAgNYIJAAAAAAAgNYIJAAAAAAAgNYIJAAAAAAAgNYIJAAAAAAAgNYIJAAAAAAAgNYIJAAAAAAAg\n",
              "NYIJAAAAAAAgNYIJAAAAAAAgNYIJAAAAAAAgNYIJAAAAAAAgNYIJAAAAAAAgNYIJAAAAAAAgNYIJ\n",
              "AAAAAAAgNYIJAAAAAAAgNYIJAAAAAAAgNYIJAAAAAAAgNYIJAAAAAAAgNYIJAAAAAAAgNYIJAAAA\n",
              "AAAgNYIJAAAAAAAgNYIJAAAAAAAgNYIJAAAAAAAgNYIJAAAAAAAgNYIJAAAAAAAgNYIJAAAAAAAg\n",
              "NYIJAAAAAAAgNYIJAAAAAAAgNYIJAAAAAAAgNYIJAAAAAAAgNYIJAAAAAAAgNYIJAAAAAAAgNYIJ\n",
              "AAAAAAAgNYIJAAAAAAAgNYIJAAAAAAAgNYIJAAAAAAAgNYIJAAAAAAAgNYIJAAAAAAAgNYIJAAAA\n",
              "AAAgNYIJAAAAAAAgNYIJAAAAAAAgNYIJAAAAAAAgNYIJAAAAAAAgNYIJAAAAAAAgNYIJAAAAAAAg\n",
              "NYIJAAAAAAAgNYIJAAAAAAAgNYKJWtq3b19MmzYthg4dGl27do2ioqLo1KlTlJSUxB133BFbt27N\n",
              "ar2pU6dGQUHBEf3ccMMNWd0HAAAAAADItqa53oHGYPXq1TFmzJhYtmxZpdc3bdoUmzZtihdffDF+\n",
              "+ctfxpQpU2Lo0KG52UkAAAAAAGgEBBM1WL9+fQwZMiQ2bNgQEREFBQUxcODA6N69e5SVlcW8efNi\n",
              "z549sWXLlhgxYkTMnTs3Bg8enNV96NmzZwwZMqTGcSUlJVmtCwAAAAAA2SaYqMHYsWOTUKJr164x\n",
              "Z86cOPvss5P3t27dGtdee23Mnz8/9u/fH6NHj441a9ZEcXFx1vbh/PPPjzvvvDNr2wMAAAAAgFzx\n",
              "jIlqPPXUU/Hcc89FRETz5s3jiSeeqBRKRES0a9cu5syZE926dYuIiO3bt8cvfvGL1PcVAAAAAAAa\n",
              "A8FENX7zm98k7XHjxkXv3r0PO65Vq1Zx++23J/177rknDhw40OD7BwAAAAAAjY1gogo7d+6M+fPn\n",
              "J/0JEyZUO37UqFHRunXriDh01cSzzz7boPsHAAAAAACNkWCiCosWLYry8vKIOHRFRN++fasdX1RU\n",
              "FP3790/6CxYsaND9AwAAAACAxsjDr6uwatWqpN27d+9o2rTmf6o+ffrEn//854/Nr6933303Hnro\n",
              "oSgtLY333nsvjj/++Dj55JOjf//+0bt37ygoKMhaLQAAAAAAaEiCiSq88sorSbtr1661mtOlS5ek\n",
              "vXr16qzty5w5c2LOnDmHfe/000+Pm266Ka6//noBBQAAAAAARz3BRBW2bduWtDt27FirOSeddFLS\n",
              "3r59e9b36XBee+21uOGGG+Kxxx6LmTNnRqtWrbK27S1btkRZWdkRzysvL6/VFSYAAAAAAOQfR4+r\n",
              "sHPnzqTdokWLWs2pOK7i/Lrq0qVLjB49OoYMGRK9e/eO9u3bx8GDB2P9+vUxf/78+PWvf51cmfHH\n",
              "P/4xxo4dG48++mg0aZKdR4f89re/jdtuu61Oc9u3b5+VfQAAAAAA4Nji4ddV2Lt3b9Ju3rx5reYU\n",
              "FhYm7T179tSr/ogRI+LNN9+MO+64Iy6//PI45ZRTorCwMFq2bBk9evSISZMmxd///veYMGFCMufx\n",
              "xx+P6dOn16suAAAAAAA0JMFEFYqKipL2vn37ajWnvLw8adf2KouqFBcX13jlQ/PmzePee++NAQMG\n",
              "JK/9/Oc/r1ddAAAAAABoSG7lVIXWrVsn7dpe/VBxXMX5DalJkyZx6623xiWXXBIREStXroz169fH\n",
              "KaecUu9tT548OUaPHn3E86666irPmAAAAAAA4LAcPa7CiSeemLQ3b95cqzmbNm1K2m3bts36PlVl\n",
              "4MCB0axZs9i/f39ERKxatSorwUSHDh2iQ4cORzyv4i2tAAAAAACgIrdyqsIZZ5yRtN96661azVm3\n",
              "bl3S7tmzZ9b3qSrNmjWLdu3aJf2tW7emVhsAAAAAAI6EYKIKvXr1StorVqyIAwcO1Dhn6dKlh52f\n",
              "hl27diXtVq1apVobAAAAAABqSzBRhZKSkuSWRLt27YqXXnqp2vHl5eWxePHipD948OAG3b+K3njj\n",
              "jXj//feT/sknn5xabQAAAAAAOBKCiSq0bt06hgwZkvSnTp1a7fjZs2fHjh07IuLQ8yUGDhzYkLtX\n",
              "yR/+8Iek3aZNmzjnnHNSqw0AAAAAAEdCMFGNyZMnJ+2pU6dGaWnpYcft3r07brnllqQ/ceLEaNq0\n",
              "7s8V37lzZ63HLlq0KH71q18l/WuvvbZetQEAAAAAoCEJJqoxbNiwGDBgQEQculXT8OHDY/ny5ZXG\n",
              "bNu2LUaMGBGvv/56RBy6WuKmm2467PbWrl0bBQUFyU9VV2E8/PDD0a9fv7j//vvjvffeO+yYvXv3\n",
              "xq9//eu45JJLYu/evRERUVxcHLfeemtdflUAAAAAAEiFU+trMH369OjXr19s3Lgx1q5dG+ecc04M\n",
              "GjQounfvHmVlZTFv3rzYvXt3REQ0bdo0Zs2aFcXFxfWu+9e//jXGjRsXTZs2jZ49e0bPnj3jhBNO\n",
              "iIMHD8Y777wTL774YqXnSrRo0SLmzJkTnTp1qndtAAAAAABoKIKJGpxyyimxYMGCGDNmTCxbtiwy\n",
              "mUwsXLgwFi5cWGlc+/btY8qUKZWeS5ENBw4ciJUrV8bKlSurHNOvX7+YOnVq9OrVK6u1AQAAAAAg\n",
              "2wQTtdCzZ89YsmRJzJw5M2bMmBGlpaWxefPmKC4ujm7dusXIkSNjwoQJ0a5du6zUGzNmTPTo0SMW\n",
              "LVoUixcvjjVr1sTWrVtj27Zt8cEHH0SbNm3itNNOiwsuuCA+//nPx7/8y79kpS4AAAAAADQ0wUQt\n",
              "NW/ePK677rq47rrr6ryNU089NTKZTI3jCgsLo6SkJEpKSupcCwAAAAAAjkYefg0AAAAAAKRGMAEA\n",
              "AAAAAKRGMAEAAAAAAKRGMAEAAAAAAKRGMAEAAAAAAKRGMAEAAAAAAKRGMAEAAAAAAKRGMAEAAAAA\n",
              "AKRGMAEAAAAAAKRGMAEAAAAAAKRGMAEAAAAAAKRGMAEAAAAAAKRGMAEAAAAAAKRGMAEAAAAAAKRG\n",
              "MAEAAAAAAKRGMAEAAAAAAKRGMAEAAAAAAKRGMAEAAAAAAKRGMAEAAAAAAKRGMAEAAAAAAKRGMAEA\n",
              "AAAAAKRGMAEAAAAAAKRGMAEAAAAAAKRGMAEAAAAAAKRGMAEAAAAAAKRGMAEAAAAAAKRGMAEAAAAA\n",
              "AKRGMAEAAAAAAKRGMAEAAAAAAKRGMAEAAAAAAKRGMAEAAAAAAKRGMAEAAAAAAKRGMAEAAAAAAKRG\n",
              "MAEAAAAAAKRGMAEAAAAAAKRGMAEAAAAAAKRGMAEAAAAAAKRGMAEAAAAAAKRGMAEAAAAAAKRGMAEA\n",
              "AAAAAKRGMAEAAAAAAKRGMAEAAAAAAKRGMAEAAAAAAKRGMAEAAAAAAKRGMAEAAAAAAKRGMAEAAAAA\n",
              "AKRGMAEAAAAAAKRGMAEAAAAAAKRGMAEAAAAAAKRGMAEAAAAAAKRGMAEAAAAAAKRGMAEAAAAAAKRG\n",
              "MAEAAAAAAKRGMAEAAAAAAKRGMAEAAAAAAKRGMAEAAAAAAKRGMAEAAAAAAKRGMAEAAAAAAKRGMAEA\n",
              "AAAAAKRGMAEAAAAAAKRGMAEAAAAAAKRGMAEAAAAAAKRGMAEAAAAAAKRGMAEAAAAAAKRGMAEAAAAA\n",
              "AKRGMAEAAAAAAKRGMAEAAAAAAKRGMAEAAAAAAKRGMAEAAAAAAKRGMAEAAAAAAKRGMAEAAAAAAKRG\n",
              "MAEAAAAAAKRGMAEAAAAAAKRGMAEAAAAAAKRGMAEAAAAAAKRGMAEAAAAAAKRGMAEAAAAAAKRGMAEA\n",
              "AAAAAKRGMAEAAAAAAKRGMAEAAAAAAKRGMAEAAAAAAKRGMAEAAAAAAKRGMAEAAAAAAKRGMAEAAAAA\n",
              "AKRGMAEAAAAAAKRGMAEAAAAAAKRGMAEAAAAAAKRGMAEAAAAAAKRGMAEAAAAAAKRGMAEAAAAAAKRG\n",
              "MAEAAAAAAKRGMAEAAAAAAKRGMAEAAAAAAKRGMAEAAAAAAKRGMAEAAAAAAKRGMAEAAAAAAKRGMAEA\n",
              "AAAAAKRGMAEAAAAAAKRGMAEAAAAAAKRGMAEAAAAAAKRGMAEAAAAAAKRGMAEAAAAAAKRGMAEAAAAA\n",
              "AKRGMAEAAAAAAKRGMAEAAAAAAKRGMAEAAAAAAKRGMAEAAAAAAKRGMAEAAAAAAKRGMAEAAAAAAKRG\n",
              "MAEAAAAAAKRGMAEAAAAAAKRGMAEAAAAAAKRGMAEAAAAAAKRGMAEAAAAAAKRGMAEAAAAAAKRGMAEA\n",
              "AAAAAKRGMAEAAAAAAKRGMAEAAAAAAKRGMAEAAAAAAKRGMAEAAAAAAKRGMAEAAAAAAKRGMFFL+/bt\n",
              "i2nTpsXQoUOja9euUVRUFJ06dYqSkpK44447YuvWrcdkbQAAAAAAyKaCTCaTyfVOHO1Wr14dY8aM\n",
              "iWXLllU5pkOHDjFlypQYOnToMVO7rj7zmc9ERERpaWmO9yQ3Tr35yVzvQk6t/dmwXO8CAAAAAEco\n",
              "n49pOZ6Vvqa53oGj3fr162PIkCGxYcOGiIgoKCiIgQMHRvfu3aOsrCzmzZsXe/bsiS1btsSIESNi\n",
              "7ty5MXjw4EZfGwAAAAAAGoJgogZjx45NgoGuXbvGnDlz4uyzz07e37p1a1x77bUxf/782L9/f4we\n",
              "PTrWrFkTxcXFjbo2AAAAAAA0BM+YqMZTTz0Vzz33XERENG/ePJ544olKwUBERLt27WLOnDnRrVu3\n",
              "iIjYvn17/OIXv2jUtQEAAAAAoKEIJqrxm9/8JmmPGzcuevfufdhxrVq1ittvvz3p33PPPXHgwIFG\n",
              "WxsAAAAAABqKYKIKO3fujPnz5yf9CRMmVDt+1KhR0bp164g4dOXCs88+2yhrAwAAAABAQxJMVGHR\n",
              "okVRXl4eEYeuSujbt2+144uKiqJ///5Jf8GCBY2yNgAAAAAANCTBRBVWrVqVtHv37h1Nm9b8nPA+\n",
              "ffocdn5jqg0AAAAAAA1JMFGFV155JWl37dq1VnO6dOmStFevXt0oawMAAAAAQEOq+VT8PLVt27ak\n",
              "3bFjx1rNOemkk5L29u3bG2XtirZs2RJlZWVHPK+8vLxWV3kAAAAAAJB/HD2uws6dO5N2ixYtajWn\n",
              "4riK8xtT7Yp++9vfxm233Vanuccdd1x85jOfycp+NDYbNmfn37+x+swTrXO9CwAAAAAcoXw+ppXv\n",
              "x7O6d+8ejz/+eKo1BRNV2Lt3b9Ju3rx5reYUFhYm7T179jTK2tly3HHH5XoXUnfw4MHYvn17FP/f\n",
              "DdLatm2bl/8OkE8+XPcfsu7h2GbNQ/6x7iH/WPfks9M75t/B+Q/XfFnZoeOp1nx6BBNVKCoqStr7\n",
              "9u2r1Zzy8vKkXdsrHY622tny3e9+N374wx/mejdSVVpaGmeeeWbSf/rpp/P2qhHIF9Y95BdrHvKP\n",
              "dQ/5x7qH/GLN545gogqtW/9/QljbKxAqjqs4vzHVrmjy5MkxevToOs1t3759VvYBAAAAAIBji2Ci\n",
              "CieeeGLS3rx5c63mbNq0KWm3bdu2UdauqEOHDtGhQ4esbAsAAAAAACIimuR6B45WZ5xxRtJ+6623\n",
              "ajVn3bp1Sbtnz56NsjYAAAAAADQkwUQVevXqlbRXrFgRBw4cqHHO0qVLDzu/MdUGAAAAAICGJJio\n",
              "QklJSRQWFkZExK5du+Kll16qdnx5eXksXrw46Q8ePLhR1gYAAAAAgIYkmKhC69atY8iQIUl/6tSp\n",
              "1Y6fPXt27NixIyIOPeNh4MCBjbI2AAAAAAA0JMFENSZPnpy0p06dGqWlpYcdt3v37rjllluS/sSJ\n",
              "E6Np0/o9VzyXtQEAAAAAoKEIJqoxbNiwGDBgQEQcul3S8OHDY/ny5ZXGbNu2LUaMGBGvv/56RBy6\n",
              "YuGmm2467PbWrl0bBQUFyU91V0JkuzYAAAAAABwNnFpfg+nTp0e/fv1i48aNsXbt2jjnnHNi0KBB\n",
              "0b179ygrK4t58+bF7t27IyKiadOmMWvWrCguLm70tQEAAAAAoCEIJmpwyimnxIIFC2LMmDGxbNmy\n",
              "yGQysXDhwli4cGGlce3bt48pU6ZUejZEY64NAAAAAAANQTBRCz179owlS5bEzJkzY8aMGVFaWhqb\n",
              "N2+O4uLi6NatW4wcOTImTJgQ7dq1O6ZqAwAAAABAtgkmaql58+Zx3XXXxXXXXVfnbZx66qmRyWRy\n",
              "UhsAAAAAAI4GHn4NAAAAAACkxhUTkCXt27ePW2+9tVIfOLZZ95BfrHnIP9Y95B/rHvKLNZ87BZm6\n",
              "3FsIAAAAAACgDtzKCQAAAAAASI1gAgAAAAAASI1gAgAAAAAASI1gAgAAAAAASI1gAgAAAAAASI1g\n",
              "AgAAAAAASI1gAgAAAAAASI1gAgAAAAAASI1gAgAAAAAASI1gAgAAAAAASI1gAgAAAAAASI1gAgAA\n",
              "AAAASI1gAgAAAAAASI1ggrz3zDPPxFe+8pXo2bNntGnTJlq0aBHdunWLESNGxIwZM+LAgQMNVnvf\n",
              "vn0xbdq0GDp0aHTt2jWKioqiU6dOUVJSEnfccUds3bq1wWpDvsrFml+7dm387ne/i3/913+Ns88+\n",
              "O0444YRo1qxZtG3bNs4666z46le/Gs8880zW6wKH5PKz/nC+/e1vR0FBQfJz6qmnplof8sHRsO6X\n",
              "Ll0aN998c3z2s5+NTp06RWFhYZx88snRp0+fuP7662PatGmxadOmBt8PyAe5XPMvvvhiTJ48Ofr0\n",
              "6RNt27aNZs2axfHHHx+nn356fOELX4jp06dHeXl5g9WHY8XBgwdj+fLl8fvf/z4mTZoUn/3sZ6N5\n",
              "8+bJd+aLLrqoztueP39+XHfdddGjR49o1apV8rf4d77znVi9enX2fomjtP5RKwN5auvWrZnLL788\n",
              "ExHV/px33nmZVatWZb3+qlWrMuecc061tTt06JB58skns14b8lEu1vzSpUsz/fr1q7Hmhz8XXXRR\n",
              "5q233spKbSD3n/WHs2TJkkyTJk0q1e/atWsqtSEfHA3rfvPmzZkvfvGLtfrsv/HGGxtkHyBf5HLN\n",
              "b926NXPVVVfVaq1379498/zzz2e1PhxLHn300UzLli2rXUeDBg064u2+9957mWuuuaba7TZr1izz\n",
              "k5/8JPu/1FFQ/2hXkMlkMjVkF3DM+ec//xkXXHBBvPrqq8lr3bp1i/79+0dRUVGsWbMmXnjhhdi/\n",
              "f39ERHTs2DEWL16ctTMa169fH+eff35s2LAhIiIKCgpi4MCB0b179ygrK4t58+bFnj17IiKiWbNm\n",
              "MXfu3Bg8eHBWakM+ytWanzlzZowZM6bSaz169Igzzzwz2rVrF++++24sWrQo1q9fn7x/8sknx3PP\n",
              "PRfdunWrV23Id7n+rD+c/fv3x3nnnRcrVqyo9HrXrl1j7dq1DVYX8sXRsO7XrVsXF110Ubz55pvJ\n",
              "a2eccUb07t07TjzxxNi9e3esWbMmli1bFrt3744bb7wx7rzzzqzVh3ySyzW/Z8+eKCkpiWXLliWv\n",
              "tW/fPs4999w45ZRToqysLEpLS+ONN95I3m/ZsmUsWLAgzj///HrXh2PN1KlTY8KECdWOGTRoUCxc\n",
              "uLDW29y/f3987nOfiwULFiSvnXnmmdGnT5/Yu3dvPPfcc7Fx48bkvdtuuy1uueWWI973o7V+o5Dr\n",
              "ZARy4eqrr06SyaKiosz999//sTGvv/56pm/fvsm4Pn36ZD744IOs1B8wYEClsySXLVtW6f2ysrLM\n",
              "kCFDkjFt27bN/POf/8xKbchHuVrzM2bMyERE5lOf+lTmZz/7WWb9+vUfG3Pw4MHM73//+0pnh1xw\n",
              "wQVZ+/8G8lWuP+sP50c/+lFSa+zYsa6YgCzL9bp/9913M926dUu2ffHFF2f+/ve/H3ZseXl55n/+\n",
              "538ys2bNykptyEe5XPO33nprss2CgoLMj3/848zu3bsrjfnggw8yM2bMyLRp0yYZ27t373rXhmPR\n",
              "lClTMhGR6dixY2b48OGZ2267LfPUU09lvvnNb9b5iokf/OAHlf6PmDFjRqX3y8vLM9/5zncqreWF\n",
              "Cxdm7XfKdf3GQDBB3nnppZcqXTI1ffr0Ksf+85//zHTp0iUZ+8ADD9S7/pNPPplsr3nz5pnly5cf\n",
              "dtzOnTsr/WHz3e9+t961IR/lcs0vXLgwM2XKlMyBAwdqHDt79uxK+zl37tx61YZ8luvP+sNZtWpV\n",
              "prCwMBMRmS9+8YvJH1+CCciOo2Hd33DDDck2r7nmmlp9/gN1k+s137Vr12R73/zmN6sd+9BDD1Xa\n",
              "16qOAUA+27hx42Fva1wxBDySYGLz5s2ZVq1aJXPvvvvuKsdWvNVS//7967L7R139xsLDr8k7Dz30\n",
              "UNI+66yzPnablYqKi4vje9/7XtL/j//4j3rX/81vfpO0x40bF7179z7suFatWsXtt9+e9O+5557U\n",
              "H84Jx4JcrvlBgwbF+PHj47jjjqtx7NVXXx39+vVL+k8++WS9akM+y/Vn/UdlMpm44YYbory8PE44\n",
              "4YT493//96zXgHyX63W/bNmyuPfeeyMionPnzvG73/2uVp//QN3kcs2///778dZbbyX96mpHRIwY\n",
              "MSJatmyZ9Cveego45KSTToouXbpkbXv33Xdf7Nq1KyIO3U554sSJVY79xS9+EU2aHDpE/uKLL8bf\n",
              "/va3Rl+/sRBMkHeWLFmStIcOHVrj+GHDhiXtv/71r7Fu3bo61965c2fMnz8/6dd0/7xRo0ZF69at\n",
              "IyJi+/bt8eyzz9a5NuSrXK75I3XhhRcmbfebh7o72tb9XXfdFS+88EJERPzyl7+MDh06ZHX7QO7X\n",
              "/d133520b7zxxvjEJz5Rr+0B1cv13/UVnXDCCdWOb9q0aRx//PFJ/4MPPqhzbaB2HnvssaQ9fvz4\n",
              "KCgoqHJsly5dKj3X9dFHH2309RsLwQR5Z/PmzUm7a9euNY7/5Cc/Welsp4oPrTlSixYtivLy8og4\n",
              "dEVE3759qx1fVFQU/fv3z0ptyFe5XPNHquKXlYMHD6ZWF441R9O6f/vtt+Pmm2+OiIgBAwbE9ddf\n",
              "n7VtA/8vl+v+4MGDMWPGjKQ/atSoOm8LqJ1crvn27dtHUVFR0i8tLa12fFlZWWzZsiXpn3322XWu\n",
              "DdRs7969sXjx4qR/0UUX1Tjn4osvTtr1/Vsg1/UbE8EEeSeTyRzR+IKCgkoHC2v60lGdVatWJe3e\n",
              "vXtH06ZNa5zTp0+fw84HaieXa/5IrVixIml37tw5tbpwrDma1v3kyZNjx44d0bx587jnnnuqPVsK\n",
              "qLtcrvuVK1fG+++/HxERbdq0ie7du8eBAwdiypQpMWTIkDjppJOisLAwPvnJT8bll18ed911V3Ky\n",
              "ElA3uVzzzZo1i8svvzzp//jHP47du3dXOf6mm25KrpIYMmRI9OjRo861gZq98soryZorKCiIc889\n",
              "t8Y52Tz2luv6jYlggrzTvn37pF2byzffeeedSs92qM9/EK+88krSrs1ZHRFR6R57q1evrnNtyFe5\n",
              "XPNHYt26dZXOjLjkkktSqQvHoqNl3c+cOTP++Mc/RsShgxK9evXKynaBj8vluv/rX/+atDt37hzr\n",
              "16+PCy+8MK6//vpYsGBBbN68Ofbt2xcbNmyIuXPnxuTJk6NHjx6V5gFHJtef9T/5yU+S2y4vXbo0\n",
              "zjrrrLjvvvvi9ddfj71798bbb78dTz75ZAwYMCCmTJkSERGf/vSnkzbQcCoee+vQoUOlK5yqUvHY\n",
              "2/bt26OsrKzR1m9MBBPknfPOOy9pz507t8bxTz31VKX+9u3b61x727ZtSbtjx461mnPSSSdlpTbk\n",
              "q1yu+SPx7W9/O7l9U5cuXeKKK65IpS4ci46Gdb9t27b4xje+ERGHHnj3/e9/v97bBKqWy3X/9ttv\n",
              "V+pffvnl8Ze//CUiInr27Blf+tKXYvz48ZXOhly3bl1cdNFF8fLLL9e5LuSzXH/W9+zZM1544YXk\n",
              "YOKaNWti/Pjxcfrpp0eLFi2iS5cuMXz48Hj++eejuLg4vv71r8fixYtdFQ0pqO+xt4jcHvurb/3G\n",
              "RDBB3rnqqquS9t/+9rd4+OGHqxy7Y8eO+NnPfvax1+qq4kOyWrRoUas5Fcd99CFbQM1yueZr6777\n",
              "7otHHnkk6f/0pz+NwsLCBq8Lx6qjYd1/61vfSs50uvvuu61paGC5XPfvvvtu0l65cmWUlpZGy5Yt\n",
              "Y9asWbFq1aq4//77Y8qUKfHyyy/HggULol27dhERsXv37rjmmmti3759da4N+epo+Kw/66yz4tVX\n",
              "X40777wzWrVqVeW4yy67LMaMGROf+MQn6l0TqFl9j719dBuNrX5jIpgg71x00UVx4YUXJv3x48fH\n",
              "zJkzPzZu7dq18bnPfS7eeOONSq/v2bOnzrX37t2btJs3b16rORUPZNSnNuSrXK752njppZfia1/7\n",
              "WtIfM2ZMjB07tkFrwrEu1+v+T3/6U0ybNi0iIsaNG1fpYXZAw8jlut+1a9fHXnvggQdi9OjRH3v9\n",
              "4osvjscffzyaNDn0p/iaNWviv//7v+tcG/JVrj/rIyK2bt0akyZNim9961uxa9euOOmkk2LkyJEx\n",
              "ceLE+MIXvpDcvvnBBx+MkpKS+OpXv5pcIQ00nPoee4vI7bG/+tZvTAQT5KUHHnggOVNp165dMWbM\n",
              "mDj99NPjS1/6UnzlK1+JwYMHR48ePWLRokXRsmXLuOyyy5K59TnLoeJ95Wp7ZlTFB+PVNmkFKsvV\n",
              "mq/Jm2++GVdccUXyxeWss86Ku+++u8HqQT7J1brftWtXfPWrX42IiBNPPDHuuOOO+v0iQK0dDd/x\n",
              "IyL69+8fV199dZXj+/fvHyNHjkz6Dz74YJ1rQz7L5Xf81157Lc4999yYMmVKNGnSJO688854++23\n",
              "45FHHol77rknHnzwwXjzzTdj+vTpcfzxx0dExH/913/F17/+9XrVBWpW32NvEfU7/pbr+o2JYIK8\n",
              "dOqpp8aiRYuid+/eyWuvv/56PPDAA3HvvffG008/Hfv374+OHTvG448/Hj169EjGFRcX17nuhw/H\n",
              "iqh9+llxXMX5QO3las1XZ+PGjXHppZfGpk2bIiKiW7duMXfu3OQPF6B+crXuv//978fatWsjIuJX\n",
              "v/pVcsAEaHhHw3f8iKg2lDjcmEWLFtW5NuSzXK35AwcOxMiRI2P9+vURceiWjTfeeGM0bdq00riC\n",
              "goIYM2ZMpdtM3XXXXckzaICGUd9jbx/dRmOr35gIJshbp59+eixbtixmzJgRo0aNis6dO0dRUVG0\n",
              "adMmzj333PjRj34UK1eujCFDhsTWrVuTefV5WNWJJ56YtDdv3lyrOR8etIyIaNu2bZ1rQ77LxZqv\n",
              "yrZt2+LSSy+NNWvWREREp06dYt68edGpU6es14J8lva6X7p0afznf/5nRBy6Xcu4ceOy8nsAtZfr\n",
              "7/gREZ/+9KdrnNOrV6+kvWPHjlSeaQXHolys+UceeSRWrlwZERFnnHFGjZ/3l156aVxyySVJf8qU\n",
              "KXWuDdSsvsfeIup3/C3X9RuTpjUPgWNXkyZN4tprr41rr7222nGlpaVJu2/fvnWud8YZZyTtt956\n",
              "q1Zz1q1bl7R79uxZ59pA+mv+cN5///247LLLkhrt2rWLefPmxWmnnZbVOsAhaa775cuXxwcffBAR\n",
              "hz6/L7jggirHfvhg7IhDV1BVHPuDH/wghg0bVqd9ANL/vP/od/TanOX40dvI7Nixw4NxoY7SXvNz\n",
              "585N2hdffHEUFBTUOGfw4MExb968iDj0jDmg4VQ89rZly5bYu3fvx267+FEVj721bds22rdv32jr\n",
              "NyaCCajBu+++G6tWrUr6JSUldd5WxTOjVqxYEQcOHPjY5Z4ftXTp0sPOBxpGNtf8R+3atSuGDh0a\n",
              "L7/8ckREtGnTJubOnVurMyuBhtMQ637NmjXJVVE12bdvXyxZsiTpVwwtgIaRzXV/5plnVurv3Lmz\n",
              "xjkfvUKiTZs2da4P1Cyba/6dd95J2h+9YqoqFW/t+N5779W5NlCzM844I5o0aRIffPBBZDKZWLZs\n",
              "WbUnDEVk99hbrus3Jm7lBDWYPXt27N+/PyIOXZZ93nnn1XlbJSUlUVhYGBGHDlDWdKZEeXl5LF68\n",
              "OOkPHjy4zrWB2snmmq9o7969ceWVV8YLL7wQEREtW7aMJ598MmvbB+quodY9cPTK5ro/7bTTKl35\n",
              "+I9//KPGORUPkLZt2zZatWpV5/pAzbK55is+lHb79u21mrNt27ak3VDPsAMOKSoqqhQELFy4sMY5\n",
              "zzzzTNKu77G3XNdvTAQTUI3y8vL4t3/7t6T/ta99rV7ba926dQwZMiTpT506tdrxs2fPTs6matu2\n",
              "bQwcOLBe9YHqZXvNf2j//v0xatSoWLBgQUREFBYWxpw5c+LCCy/MyvaBusvmuh8/fnxkMpla/VS8\n",
              "v3TXrl0rvTd+/Pj6/EpADRri837kyJFJ+7HHHqtxfMUxvuNDw8r2mu/SpUvSfvrpp2s158O/AyIi\n",
              "PvWpT9WrPlCzESNGJO2ajr29/fbbMX/+/MPObaz1GwvBBFQhk8nEpEmT4o033oiIQ5doZ+OPlsmT\n",
              "JyftqVOnVrrPZUW7d++OW265JelPnDixxts+AXXXUGv+4MGDMXbs2HjqqaciIqJp06Yxa9asSg/A\n",
              "A3KjodY9cPRqqHU/adKkaNasWURELFq0KB5//PEqx/7lL3+J2bNnJ31hJDSchljzFb/Hr169OqZN\n",
              "m1bt+AULFsSf//znpH/ZZZfVqz5Qs3HjxiVXI77yyitx7733Vjn2pptuioMHD0ZERP/+/aNPnz6N\n",
              "vn5jIZggL/3pT3+KW2+9Nfly8lFr1qyJK664IjmbsUWLFvGHP/wh+WPjo9auXRsFBQXJT3Vp6LBh\n",
              "w2LAgAERcejMjeHDh8fy5csrjdm2bVuMGDEiXn/99Yg4dLXETTfddKS/JvB/crXmM5lMfPnLX46H\n",
              "H344Ig49mG/atGlx5ZVX1v+XAqqVy896IDdyue67d+9e6QSksWPHVgofPvTMM8/E8OHDkwMQF1xw\n",
              "ge8FUEe5WvPDhg2LHj16JP2JEyfG3XffnazrD2UymZg1a1alK6o6d+5c40O6gfrr0KFDfPvb3076\n",
              "3/jGN2LWrFmVxuzfvz9uvvnmmDFjRvLaT3/602q3e+qppyb/R1R3YkFD1T/WOP2avLR9+/a4/fbb\n",
              "4/bbb48ePXpE796948QTT4wdO3bEK6+8UumhM0VFRTFnzpzo27dv1upPnz49+vXrFxs3boy1a9fG\n",
              "OeecE4MGDYru3btHWVlZzJs3L3bv3h0R/392tftQQt3las3fddddcd999yX97t27x/PPPx/PP/98\n",
              "rebfeeed9d4HyFe5/qwH0pfrdf/zn/88li5dGs8991zs2rUrRo0aFb169Yq+ffvGcccdF8uXL4+X\n",
              "X345Gd+pU6eYNWtWFBQUZG0fIJ/kas03bdo07r///hg8eHDs3r079u7dG5MmTYrbb789SkpKol27\n",
              "dvHee+/F4sWLY+3atcm8wsLCmD59evLcSaCyoUOHxoYNGyq9tmnTpqT90ksvxTnnnPOxeU899VSc\n",
              "fPLJH3v9Bz/4QbzwwguxYMGC2LNnT1xzzTXx4x//OPr06RN79+6NZ599NjZu3JiMv+2222LQoEFZ\n",
              "+31yXb8xEEyQ91599dV49dVXD/veZz/72bjnnnuyfhnVKaecEgsWLIgxY8bEsmXLIpPJxMKFCz/2\n",
              "QJz27dvHlClTKj2XAqifNNf8li1bKvVfe+21eO2112o9XzAB2ZGLz3ogt3Kx7gsLC+OJJ56ISZMm\n",
              "JWc/rlq1qtKDrj90/vnnx0MPPRSdO3fO6j5Avkp7zZ9//vnx9NNPx5e+9KWk7saNG+ORRx457PjT\n",
              "Tjstpk2b5hlzUI1//OMf8dZbb1X5/q5du+Lvf//7x17ft2/fYcc3a9YsZs+eHRMnTkyuVlixYkWs\n",
              "WLHiY+N++MMfxve+97167P3RV78xEEyQl4YPHx6PPvpozJ8/P5YsWRIbN26MsrKyaNGiRXTq1Cn6\n",
              "9esXo0ePjssvvzyaNGmYO5717NkzlixZEjNnzowZM2ZEaWlpbN68OYqLi6Nbt24xcuTImDBhQrRr\n",
              "165B6kM+ORrWPJAu6x7yz9Gw7tu0aRPTp0+Pr33ta3H//ffH888/H++8804cPHgwOnbsGBdccEF8\n",
              "4QtfiBEjRrhSAuop12u+X79+UVpaGo8//ng89thj8dJLL8WGDRti586d0apVq+jYsWOcd955ceWV\n",
              "V8bnP//5Km8hBTScNm3axIMPPhhf+cpX4r777osXX3wxNm7cGM2aNYvOnTvHZZddFl/+8pejV69e\n",
              "x2T9o11BJpPJ5HonAAAAAACA/OD0MAAAAAAAIDWCCQAAAAAAIDWCCQAAAAAAIDWCCQAAAAAAIDWC\n",
              "CQAAAAAAIDWCCQAAAAAAIDWCCQAAAAAAIDWCCQAAAAAAIDWCCQAAAAAAIDWCCQAAAAAAIDWCCQAA\n",
              "AAAAIDWCCQAAAAAAIDWCCQAAAAAAIDWCCQAAAAAAIDWCCQAAAAAAIDWCCQAAAAAAIDWCCQAAAAAA\n",
              "IDWCCQAAAAAAIDWCCQAAAAAAIDWCCQAAAAAAIDWCCQAAAAAAIDWCCQAAAAAAIDWCCQAAAAAAIDWC\n",
              "CQAAAAAAIDWCCQAAAAAAIDWCCQAAAAAAIDWCCQAAAAAAIDWCCQAAAAAAIDWCCQAAAAAAIDWCCQAA\n",
              "AAAAIDWCCQAAAAAAIDWCCQAAAAAAIDWCCQAAAAAAIDWCCQAAAAAAIDWCCQAAAAAAIDWCCQAAAAAA\n",
              "IDX/C0vw+5OGjabLAAAAAElFTkSuQmCC\n",
              "\">\n",
              "      </div>\n",
              "      <script type=\"text/javascript\">\n",
              "        (() => {\n",
              "          const chartElement = document.getElementById(\"chart-0105b537-df5a-46f1-8202-b69f256c5462\");\n",
              "          async function getCodeForChartHandler(event) {\n",
              "            const chartCodeResponse =  await google.colab.kernel.invokeFunction(\n",
              "                'getCodeForChart', [\"chart-0105b537-df5a-46f1-8202-b69f256c5462\"], {});\n",
              "            const responseJson = chartCodeResponse.data['application/json'];\n",
              "            await google.colab.notebook.addCell(responseJson.code, 'code');\n",
              "          }\n",
              "          chartElement.onclick = getCodeForChartHandler;\n",
              "        })();\n",
              "      </script>\n",
              "      <style>\n",
              "        .colab-quickchart-chart-with-code  {\n",
              "            display: block;\n",
              "            float: left;\n",
              "            border: 1px solid transparent;\n",
              "        }\n",
              "\n",
              "        .colab-quickchart-chart-with-code:hover {\n",
              "            cursor: pointer;\n",
              "            border: 1px solid #aaa;\n",
              "        }\n",
              "      </style>"
            ]
          },
          "metadata": {}
        },
        {
          "output_type": "display_data",
          "data": {
            "text/plain": [
              "<google.colab._quickchart_helpers.SectionTitle at 0x786d1443ead0>"
            ],
            "text/html": [
              "<h4 class=\"colab-quickchart-section-title\">Values</h4>\n",
              "<style>\n",
              "  .colab-quickchart-section-title {\n",
              "      clear: both;\n",
              "  }\n",
              "</style>"
            ]
          },
          "metadata": {}
        },
        {
          "output_type": "display_data",
          "data": {
            "text/plain": [
              "from matplotlib import pyplot as plt\n",
              "_df_1['Quantity'].plot(kind='line', figsize=(8, 4), title='Quantity')\n",
              "plt.gca().spines[['top', 'right']].set_visible(False)"
            ],
            "text/html": [
              "      <div class=\"colab-quickchart-chart-with-code\" id=\"chart-a37bdfbf-efb5-4575-b5e7-44e28d356f89\">\n",
              "        <img style=\"width: 180px;\" src=\"data:image/png;base64,iVBORw0KGgoAAAANSUhEUgAAB+cAAARzCAYAAAC+dyTlAAAAOXRFWHRTb2Z0d2FyZQBNYXRwbG90\n",
              "bGliIHZlcnNpb24zLjcuMSwgaHR0cHM6Ly9tYXRwbG90bGliLm9yZy/bCgiHAAAACXBIWXMAAC4j\n",
              "AAAuIwF4pT92AADJy0lEQVR4nOzdd5TU9dk34Hu2sEtHehfpHYNiL2CJvVGMJjGxRGNJ4pNE1Bgb\n",
              "tsSSPKa8KU+ssWAEu6JGBXusRHpRECkivZdlF/b9wzhxZQZhy2y7rnM4Z35z/2a+NxY4+mE+kygu\n",
              "Li4OAAAAAAAAAKDCZFX2AgAAAAAAAABQ0wnnAQAAAAAAAKCCCecBAAAAAAAAoIIJ5wEAAAAAAACg\n",
              "ggnnAQAAAAAAAKCCCecBAAAAAAAAoIIJ5wEAAAAAAACgggnnAQAAAAAAAKCCCecBAAAAAAAAoIIJ\n",
              "5wEAAAAAAACgggnnAQAAAAAAAKCCCecBAAAAAAAAoIIJ5wEAAAAAAACgggnnAQAAAAAAAKCCCecB\n",
              "AAAAAAAAoIIJ5wEAAAAAAACgggnnAQAAAAAAAKCCCecBAAAAAAAAoIIJ5wEAAAAAAACgggnnAQAA\n",
              "AAAAAKCCCecBAAAAAAAAoIIJ5wEAAAAAAACgggnnAQAAAAAAAKCCCecBAAAAAAAAoIIJ5wEAAAAA\n",
              "AACgggnnAQAAAAAAAKCCCecBAAAAAAAAoIIJ5wEAAAAAAACgggnnAQAAAAAAAKCC5VT2AgAAAFBT\n",
              "zZ49O6ZMmRILFiyI9evXR25ubjRt2jS6du0ae++9dzRs2LCyV+RrDB48OF555ZWIiNh9991j3rx5\n",
              "lbsQAAAA1ZZwHgAAAMrRwoUL4/e//32MHj06Fi5cmPa+7OzsGDx4cJx77rkxYsSIyMpSbgcAAAA1\n",
              "mf/yBwAAgHJQWFgY1157bXTt2jVuvfXWHQbzERFbt26Nl156KU477bTYc8894913383QprXLtdde\n",
              "G4lEIvmjIj/5fuaZZ5Y4CwAAAL7MJ+cBAACgjFauXBmnnHJKvPrqq9vNWrZsGT169Ii2bdvG+vXr\n",
              "Y9GiRTFlypTYunVr8p4pU6bEQQcdFH/961/jzDPPzODmAAAAQKYI5wEAAKAM1q1bF0ceeWRMnDix\n",
              "xPPHHHNMXHrppXHIIYdsV1m/dOnSGD16dIwaNSpWrVoVERFbtmyJs88+O7Zt2xZnn312xvYHAAAA\n",
              "MkOtPQAAAJTBj370oxLBfE5OTtx1110xbty4GDx4cMrvkm/ZsmVcfPHFMX369DjkkEOSzxcXF8eF\n",
              "F14YU6ZMycjufL2XX345iouLo7i4uEIr8QEAAKj5hPMAAABQSmPGjIm///3vyeusrKy477774qyz\n",
              "ztqp17du3TqeeeaZ2GeffZLPFRQUxLe//e0oKCgo930BAACAyiOcBwAAgFIoKiqKn//85yWeu+ii\n",
              "i+K0007bpfdp0KBBjBkzJurXr598burUqXHHHXeUy54AAABA1eA75wEAAKAUHn300ViwYEHyulWr\n",
              "VnHDDTeU6r06duwYV155ZfziF79IPvf73/8+LrzwwkgkEmXetTysXr06pk6dGrNnz46VK1fGli1b\n",
              "okmTJtGqVavYd999o3379uV+5nvvvRczZ86MRYsWRd26daNdu3YxePDgaNasWbmfBQAAABXNJ+cB\n",
              "AACgFP7f//t/Ja7POeecaNSoUanf74ILLoj8/Pzk9ezZs+OFF17Y7r558+ZFIpFI/rj22mt3+ox7\n",
              "7rmnxGtffvnlHd4/Y8aMuPrqq2PvvfeOZs2axcEHHxznnHNOjBw5Mn75y1/GRRddFMOHD48OHTpE\n",
              "nz594u67746ioqKd3ufLu5x55pnJ5++7777o3bt3DBo0KM4444y4/PLL4+KLL47hw4dHy5Yt4/TT\n",
              "Ty/xByO+6st/jUaNGlVitscee5Q49+v+Wg4ePDg579Sp03bzl19+OTm/99570/78vvrjnnvuiYiI\n",
              "F154ocTzl1122U7/9fvClClTSrzHOeecs8vvAQAAQMUTzgMAAMAu2rBhQ7z55pslnvv+979fpvds\n",
              "3LhxnHzyySWee/HFF8v0nmUxd+7c6N27d1x//fXx/vvvx7Zt23Z4//Tp0+Pss8+Oo446KlauXFmq\n",
              "M7ds2RLf+9734nvf+17MmDEj5T3btm2Lhx56KPbdd9+YPn16qc6pSo444ojo0qVL8vree+/dpT/g\n",
              "EBHxt7/9rcT1D37wg3LZDQAAgPIlnAcAAIBd9Pbbb5cIUDt06BDdu3cv8/sefvjhJa7feOONMr9n\n",
              "aX01jM/Ozo6ePXvGscceG6effnqceuqpceihh0bjxo1L3Dd+/Pg46aSTYuvWrbt85kUXXRT33Xdf\n",
              "RETk5ubGAQccEKeeemqccsop0bVr1xL3Ll68OEaMGBFbtmzZ5XOqkkQiUSJMX7JkSTz99NM7/fqC\n",
              "goJ44IEHktd9+vSJ/fffv1x3BAAAoHz4znkAAADYRW+99VaJ64EDB5bL+371fd5///3YunVrZGdn\n",
              "l8v776r8/Pw4/fTTY+jQoXH44YdH3bp1t7unsLAwHnvssRg5cmTMnz8/IiJef/31+O1vfxsjR47c\n",
              "6bOefvrpWLFiRWRlZcVll10Wl156aTRp0qTEPc8880x897vfjdWrV0fE55/Wv/POO+OCCy4ocV/7\n",
              "9u3j448/joiI22+/PX73u98lZ6+99lq0b98+5Q5fPW9n7LfffsmzLrnkknjkkUeSsy+eT6V58+bJ\n",
              "x2eddVZcffXVUVhYGBERd9xxx3YtCuk88sgjJZoKfGoeAACg6hLOAwAAwC5atGhRievevXuXy/v2\n",
              "6dOnxHVBQUGsXLkyWrRoUS7vvyvatm0bCxYsKBEip5KbmxunnnpqDB48OA488MD46KOPIiLid7/7\n",
              "Xfz0pz+NnJyd+18PK1asiEQiEaNHj45TTz015T3HHXdcPPTQQ3H00Ucnn7v77ru3C+dzcnKS3w//\n",
              "1cC9ffv2Kb87vrTy8/OT79egQYMSs509p1WrVnHyySfHmDFjIiLiueeei0WLFkW7du2+9rV33HFH\n",
              "8nFeXl6cccYZO7c4AAAAGafWHgAAAHbRqlWrSlzvtttu5fK+eXl5kZ+fv8OzMqVevXpfG8x/WcuW\n",
              "LeO3v/1t8nrRokXx+uuv79KZ5557btpg/gtHHXVUidr2999/PzZs2LBL51RF5513XvLx1q1b4557\n",
              "7vna18yZMydefvnl5PXJJ58czZo1q4DtAAAAKA/CeQAAANhFXw3MGzVqVG7v/dXvcP9yZXlVd/TR\n",
              "R0deXl7y+u23396l11966aU7dd+xxx6bfLxt27aYMmXKLp1TFR1++OHRpUuX5PVdd90VxcXFO3zN\n",
              "V+9RaQ8AAFC1CecBAACgjBKJRIW9V3m+d3nZuHFjLFmyJD755JOYN29e8seiRYtKtAjMnDlzp9+z\n",
              "W7duJcLpHenZs2eJ62XLlu30OVVVIpGIc889N3k9d+7cmDBhQtr7v/rp+s6dO8fhhx9ekSsCAABQ\n",
              "Rr5zHgAAAHbRV2vs16xZU27vvXr16hLXDRs2LLf3Lq1JkybFgw8+GK+//npMmTIl1q1bt1Ov25VK\n",
              "/l69eu30vV9tF1i7du1Ov7YqO+uss+Kqq66KwsLCiPj8++QPO+ywlPeOGzcuPv300+T12WefXSX/\n",
              "IAcAAAD/JZwHAACAXfTVcL68vhe+oKAgNm/eXOK5pk2blst7l8bChQvjxz/+cTz++OOlev2uhOZf\n",
              "Ddx3JDc3t8T1F2F2ddeyZcs45ZRT4uGHH46IiMceeyxWrVq13T9vEZ8H91/Izs6Os846K2N7AgAA\n",
              "UDpq7QEAAGAXtWvXrsT1jBkzyuV9p0+fXuK6cePG0bp163J57101b968OOigg0odzEd8/n3wOysr\n",
              "y/+iiIg477zzko83b94c999//3b3LF68OMaNG5e8PvbYY6Nt27YZ2Q8AAIDS81++AAAAsIv222+/\n",
              "EtcTJ04sl/f96vv06dOnXN63NM4+++z45JNPkteNGjWKCy64IMaMGROTJ0+O5cuXx8aNG2Pbtm1R\n",
              "XFyc/LH77rtX2s41wWGHHRZdu3ZNXt95553b3XPPPfdEUVFR8voHP/hBRnYDAACgbITzAAAAsIv2\n",
              "3XffyMn57zfFzZ8/P2bPnl3m933ppZdKXB9++OFlfs8v29lPsr/++usxYcKE5HXfvn1j5syZ8ac/\n",
              "/SmGDx8e/fr1i2bNmkXdunW3+57znf0+elJLJBIlPj0/adKkePfdd5PXxcXFcddddyWv27RpE8cd\n",
              "d1xGdwQAAKB0hPMAAACwi+rXrx8HHHBAiefuvffeMr3nmjVr4rHHHivx3AknnLDdfV/+QwERUeIT\n",
              "1F9n9erVO3XfM888U+L6L3/5S7Rp0+ZrX7d58+adPoP0zjzzzKhTp07y+sufnn/llVfio48+KnFv\n",
              "dnZ2RvcDAACgdITzAAAAUAoXXXRRies777wz1q5dW+r3+/Of/xybN29OXg8cODAGDRq03X2NGjUq\n",
              "cb0rYfhXv9M+nS+Hvw0aNIgDDzxwp1737rvv7tL3zGfCVz/ZXx3OatGiRZxyyinJ69GjR8fGjRsj\n",
              "IuKOO+4ocZ5KewAAgOpDOA8AAAClMHTo0OjQoUPyesmSJXHVVVeV6r3mz58fN9xwQ4nnLr300pT3\n",
              "NmzYMPLz85PXM2fO3Kkztm3bFi+++OJO3btmzZoS5+2sBx54YKfvzZS8vLwS11u2bKkWZ3252n7t\n",
              "2rUxZsyYWL16dTzyyCPJ54cMGRKdO3cu9RkAAABklnAeAAAASiEnJyd+85vflHjuj3/8Yzz00EO7\n",
              "9D7r16+PU089NTZs2JB87rDDDotTTz015f2JRCL69euXvH7jjTd26nveR48eHZ988slO7dSkSZPk\n",
              "46VLl+7Up/NnzZoVf//733fq/TOpcePGJa4/++yzanHWkCFDolu3bsnrO+64I+6///4S7Qo+NQ8A\n",
              "AFC9COcBAACglEaMGBHf//73k9fbtm2LM844I+65556dev2SJUvi+OOPj7fffjv5XLNmzeKOO+7Y\n",
              "YUX6kCFDko83b94ct9566w7PmT59evz4xz/eqZ0iokT4v3Xr1vj973+/w/uXLVsWI0aMiE2bNu30\n",
              "GZnSo0ePEtcTJkyoFmclEokSn55//fXX45ZbbkleN2vWLIYOHVrq9wcAACDzhPMAAABQBn/4wx9i\n",
              "4MCByeuioqI466yz4thjj41XXnkl5XewL1u2LH7/+99Hr1694pVXXkk+36BBgxg3blzsscceOzzz\n",
              "zDPPLBHe33DDDXHrrbdGUVFRifsKCwvjzjvvjIMOOihWrVpV4hPxOzJ06NAS7z9q1Ki45ZZboqCg\n",
              "oMR927ZtiyeffDL222+/mDJlSuTn50eDBg126oxMGTRoUNStWzd5ffPNN8eNN94Yb731VsyZMyfm\n",
              "zZuX/LEzDQE7cvDBB5e4/tnPfha///3v4/3334+5c+eWOGv9+vVf+35nnnlm1KlTJ3m9YMGC5OPv\n",
              "fve729XoAwAAULUJ5wEAAKAMGjZsGP/85z+3C2afffbZGDx4cLRt2zYGDx4cp59+epxwwgkxcODA\n",
              "aNu2bVx88cWxatWq5P2dO3eO1157LfbZZ5+vPbNXr14lKs2Li4vj0ksvjbZt28aJJ54Y3/nOd+Kb\n",
              "3/xmNG/ePH7wgx/EqlWromvXrnH11Vfv1M+pT58+8d3vfjd5vW3btrjsssuiTZs2ceyxx8Z3v/vd\n",
              "OO6446Jt27Zx0kknxdy5cyMi4rbbbotmzZrt1BmZ0rBhwxLtBps2bYorr7wy9t9//+jatWvsscce\n",
              "yR+33357mc7q1q1bHH300cnrlStXxsUXXxx77713dOnSpcRZY8eO/dr3a968edpPx6u0BwAAqH5y\n",
              "KnsBAAAAqO6aNWsWL730Ulx//fVx8803x5YtW5KzJUuWxJIlS9K+tk6dOnHBBRfEtddeu9OfbI+I\n",
              "+O1vfxuzZs2KV199NfncsmXL4qmnntru3h49esRzzz0XL7/88k6//1/+8peYO3duvPHGG8nnVq1a\n",
              "Fc8++2zK+6+//vq46KKLvrZivzLceuutMX369BJ/rSrKnXfeGUcddVRMnTq1XN7vvPPOi4ceeqjE\n",
              "c/vuu2/07du3XN4fAACAzPHJeQAAACgHubm5cd1118WcOXNi5MiR0a5du5163fDhw+P222/fpWA+\n",
              "4vMK/Oeffz6uuuqqtFXyzZo1i5EjR8Z7770XnTp12qX3r1evXkyYMCGuvvrqaNy4ccp7srOz48gj\n",
              "j4wJEybElVdeuUvvn0kNGjSICRMmxKOPPhrf/va3o3fv3tG4cePIySn/zyy0bds23nvvvbj33ntj\n",
              "2LBh0a1bt2jUqFFkZZXuf8EMGTIkunfvXuK5c889tzxWBQAAIMMSxcXFxZW9BAAAANREs2bNismT\n",
              "J8fChQtjw4YNUVRUFNOmTduu0vz6668vU7hdUFAQr776anz44YexevXqaNGiRXTq1CkOOeSQcvle\n",
              "8k2bNsWbb74ZM2bMiDVr1kTTpk2jbdu2se+++0br1q3L/P7s2KBBg+K9996LiM//oMHixYvT/oEM\n",
              "AAAAqi7hPAAAAGRQcXFx/OAHP4i77rqrxPN33XVXnHXWWZW0FVXV1KlTo1+/fsnrH/zgB/G3v/2t\n",
              "EjcCAACgtNTaAwAAQAYlEon429/+Ft/+9rdLPH/eeefFuHHjKmkrqqqvBvEq7QEAAKovn5wHAACA\n",
              "SlBUVBTf+ta34tFHH00+V79+/Rg/fnzss88+lbgZVcXq1aujY8eOsW7duoiIGDhwYLz//vuVvBUA\n",
              "AACl5ZPzAAAAUAlycnJi9OjRceyxxyaf27BhQxx//PHx4YcfVuJmVBVXXnllMpiPiPjxj39cidsA\n",
              "AABQVj45DwAAAFDJVq9eHatXr45t27bFggUL4p577ol77rknOe/SpUvMnDkzcnJyKm9JAAAAysR/\n",
              "0QEAAABUsttvvz1GjRqVdv7HP/5RMA8AAFDNqbUHAAAAqMJuuOGGOProoyt7DQAAAMrIH7kGAAAA\n",
              "qEKys7OjefPmsd9++8VPfvKTOOywwyp7JQAAAMqB75wHAAAAAAAAgAqm1h4AAAAAAAAAKphwHgAA\n",
              "AAAAAAAqmHAeAAAAAAAAACqYcB4AAAAAAAAAKphwHgAAAAAAAAAqmHAeAAAAAAAAACqYcB4AAAAA\n",
              "AAAAKphwHgAAAAAAAAAqmHAeAAAAAAAAACqYcB4AAAAAAAAAKphwHgAAAAAAAAAqmHAeAAAAAAAA\n",
              "ACqYcB4AAAAAAAAAKphwHgAAAAAAAAAqmHCe7Zx44olx4oknVvYaAAAAAAAAADVGTmUvQNUzZ86c\n",
              "yl4BAAAAAAAAoEbxyXkAAAAAAAAAqGDCeQAAAAAAAACoYMJ5AAAAAAAAAKhgwnkAAAAAAAAAqGDC\n",
              "eQAAAAAAAACoYMJ5AAAAAAAAAKhgwnkAAAAAAAAAqGDCeQAAAAAAAACoYMJ5AAAAAAAAAKhgwnkA\n",
              "AAAAAAAAqGDCeQAAAAAAAACoYMJ5AAAAAAAAAKhgwnkAAAAAAAAAqGDCeQAAAAAAAACoYMJ5AAAA\n",
              "AAAAAKhgwnkAAAAAAAAAqGDCeQAAAAAAAACoYMJ5AAAAAAAAAKhgwnkAAAAAAAAAqGDCeQAAAAAA\n",
              "AACoYMJ5AAAAAAAAAKhgwnkAAAAAAAAAqGDCeQAAAAAAAACoYMJ5AAAAAAAAAKhgwnkAAAAAAAAA\n",
              "qGDCeQAAAAAAAACoYMJ5AAAAAAAAAKhgwnkAAAAAAAAAqGDCeQAAAAAAAACoYFUqnN+6dWtMnjw5\n",
              "7rzzzrjgggti7733jjp16kQikYhEIhGDBw8u9Xu/9NJL8b3vfS+6d+8e9evXj6ZNm0b//v1j5MiR\n",
              "MXPmzPL7SVTR8wEAAAAAAACoPIni4uLiyl4iIuLxxx+P73znO7Fx48a09xx66KHx8ssv79L7rl27\n",
              "Ns4777z4xz/+kfae3NzcGDVqVPziF7/YpfeuDueXRp8+fSIiYtq0aZW8CQAAAAAAAEDNkFPZC3xh\n",
              "9erVOwzmS6OwsDBOOeWUGD9+fPK5vn37xsCBA2Pz5s3x2muvxeLFi6OwsDCuuOKKKCwsjKuvvrrG\n",
              "nA8AAAAAAABA1VClau0jIlq1ahXHH398jBo1KsaNGxcXX3xxqd/r+uuvTwbj+fn5MXr06JgyZUrc\n",
              "e++98Y9//CPmzZsXI0eOTN5/7bXXxiuvvFLmn0NVOR8AAAAAAACAqqHK1Np/9tlnsWXLlujYsWOJ\n",
              "56+99toYNWpUROxarf3SpUujc+fOsWHDhoiI+Mtf/hI//OEPU9572mmnJWvn999//3jzzTdL+bOo\n",
              "OueXhVp7AAAAAAAAgPJVZT4537p16+2C+bK49957k8F49+7d47zzzkt77y233BJZWZ//pfjXv/4V\n",
              "//73v6v9+QAAAAAAAABUHVUmnC9vjz/+ePLxmWeeGYlEIu29HTt2jMMOOyx5/dhjj1X78wEAAAAA\n",
              "AACoOmpkOL958+Z46623kteDBw/+2tcMGTIk+fiL74mvrudT9YyfuSSmLlpT2WsAAAAAAAAAlSSn\n",
              "sheoCLNmzYpt27ZFREQikYhvfOMbX/uagQMHJh/PmDGjWp9P1bFmU2Fc//T0GPv+wujRqmE8+eMD\n",
              "Iy8nu7LXAgAAAAAAADKsRn5yftasWcnHLVu2jPz8/K99zZe/737lypWxbNmyans+VcPLs5bGUf/7\n",
              "aox9f2FERMxasi5+/9KHlbwVAAAAAAAAUBlq5CfnV6xYkXzcqlWrnXpN69atS1yvXLkyWrRoUS3P\n",
              "/8LSpUtLFfIXFBRETk6N/EcjIwq3bosrH5sa/3hvwXazP788J77Zu3UM6NAk84sBAAAAAAAAlaZG\n",
              "JrDr169PPq5bt+5Ovear9335Parb+V/405/+FKNGjSrVa8v6BwNqs9zsrFhXUJhytq044udjJsXT\n",
              "Pz4o8nPV2wMAAAAAAEBtUSNr7Tdv3px8XKdOnZ16TV5eXonrTZs2VdvzqXzXn9Q3mtVP/ff+o6Xr\n",
              "4/YX1dsDAAAAAABAbVIjw/kvf8f7li1bduo1BQUFJa539hPvVfF8Kl+zBnlxw8l9087/79U5MXH+\n",
              "qgxuBAAAAAAAAFSmGllr36BBg+Tjnf0E+lfv+/J7VLfzv3DhhRfGiBEjdvl1J510ku+cLwfH9GsT\n",
              "JwxoG09N+nS72bbiiEvGTIpxPzlYvT0AAAAAAADUAjUygW3WrFny8ZIlS3bqNZ999lmJ66ZNm1bb\n",
              "87/QsmXLaNmy5S6/7qsV+5TedSf2iX/NWRHL1xdsN5u7bEP85p+z4pfH9a6EzQAAAAAAAIBMqpG1\n",
              "9j169Eg+Xrp0aYnvgE9n/vz5ycdNmzaNFi1aVNvzqTp2q18nbjwlfb39Ha9/HO9/sjKDGwEAAAAA\n",
              "AACVocaG81lZn//UiouL44MPPvja10ycODH5uFevXtX6fKqWo/q0jpP3bJtyVlwcccmYybFpy9YM\n",
              "bwUAAAAAAABkUo0M5/Pz82O//fZLXr/88stf+5pXXnkl+fiwww6r1udT9Vx7Yp9o0TD11wV8vHxD\n",
              "3Pr8rAxvBAAAAAAAAGRSjQznIyJOPvnk5ON77rlnh/cuWLAgXnrppZSvra7nU7U0qVcnfnVKv7Tz\n",
              "u9/8ON6euyKDGwEAAAAAAACZVGPD+e9///tRv379iIiYNWtW3HHHHWnvveyyy2Lr1s9rxffff/8Y\n",
              "OHBgtT+fqueI3q1i6MB2KWfFxREjx06OjVuKMrwVAAAAAAAAkAk1Npxv2bJl/OxnP0te/+QnP4mH\n",
              "H364xD2FhYVx+eWXx+jRo5PP/epXv9rh+3bq1CkSiUQkEok488wzM34+1ds1x/eJVo1S19vPX7kx\n",
              "bnlOvT0AAAAAAADURIni4uLiyl7iC8cee2x8+umnJZ777LPPYsmSJRERUb9+/ejatet2rxs3bly0\n",
              "bdt2u+cLCwvj6KOPjvHjxyef69evXwwcODA2b94cr776aixevDg5GzVqVFx99dU73LFTp07xySef\n",
              "RMTnn47fUWV9RZyfCX369ImIiGnTplXyJjXThJlL46x73k07H33ufrF/l2YZ3AgAAAAAAACoaFUq\n",
              "nP9y8L0rPv744+jUqVPK2Zo1a+K8887b7lPrX5abmxvXXnttXHHFFbu049eF8xVxfiYI5yvepWMn\n",
              "xcPvLUw5a79b3Xj+fw6J+nk5Gd4KAAAAAAAAqCg1ttb+C40bN45//OMf8cILL8R3v/vd6NKlS9Sr\n",
              "Vy8aN24cffv2jZ///OcxadKkCgvGK/t8qqYrj+8dbRrnp5wtXLUpfvXsjAxvBAAAAAAAAFSkKvXJ\n",
              "eaoGn5zPjFdmL4vv3/VO2vkDP9g3DuzaPIMbAQAAAAAAABWlxn9yHqqqQ7u3iNP36ZB2funYybFu\n",
              "c2EGNwIAAAAAAAAqinAeKtEVx/aKdk3qppwtWr0pbho3M8MbAQAAAAAAABVBOA+VqGF+btw8rH/a\n",
              "+eh35sers5dlcCMAAAAAAACgIgjnoZId1K15fGffjmnnlz0yOdaqtwcAAAAAAIBqTTgPVcAvju0V\n",
              "7XdLXW+/eM3muPHpGRneCAAAAAAAAChPwnmoAhrk5cQtw9PX2//jvQUxYdbSDG4EAAAAAAAAlCfh\n",
              "PFQRB3RpHt/ff/e088sfmRxrNqq3BwAAAAAAgOpIOA9VyGXH9IyOTeulnC1ZWxDXPT09wxsBAAAA\n",
              "AAAA5UE4D1VIvTo5cesO6u0fmbgwXpqxJIMbAQAAAAAAAOVBOA9VzL6dm8VZB3ZKO//Fo1Ni9cYt\n",
              "mVsIAAAAAAAAKDPhPFRBlx7VMzo1S11vv3RdQYx6Sr09AAAAAAAAVCfCeaiC6tbJjttGDIhEIvX8\n",
              "sX8vin9O+yyzSwEAAAAAAAClJpyHKmrvTk3jnAP3SDu/4rGpsWqDensAAAAAAACoDoTzUIVdclSP\n",
              "6Ny8fsrZ8vUFcc2T0zK8EQAAAAAAAFAawnmowvJzs+O2UwdEVpp6+ycnfRrPTlmc2aUAAAAAAACA\n",
              "XSachypuYMfd4txDOqedX/n41FixviCDGwEAAAAAAAC7SjgP1cBPj+geXVs2SDlbsWFLXP2EensA\n",
              "AAAAAACoyoTzUA3k52bHbSPS19s/M2VxPD3508wuBQAAAAAAAOw04TxUE3t2aBLnH9ol7fyqx6fG\n",
              "snXq7QEAAAAAAKAqEs5DNXLxEd2ie6vU9farNhbGlY9PieLi4gxvBQAAAAAAAHwd4TxUI3k52fGb\n",
              "EXtGdpp+++enLYknJ6m3BwAAAAAAgKpGOA/VTL/2jePCwenr7a95closXbc5gxsBAAAAAAAAX0c4\n",
              "D9XQjw/rFj1bN0w5W72xMH752FT19gAAAAAAAFCFCOehGqqTkxW3jRgQOWnq7V+YviQe/2BRhrcC\n",
              "AAAAAAAA0hHOQzXVt13j+NFhXdPOr3liWixZq94eAAAAAAAAqgLhPFRjFw3pGr3bNEo5W7u5KH7x\n",
              "6BT19gAAAAAAAFAFCOehGsvNzorfnDogcrNT19uPn7k0Hpmo3h4AAAAAAAAqm3AeqrlebRrFTw7r\n",
              "lnY+6qlpsXjNpgxuBAAAAAAAAHyVcB5qgPMHd4l+7RqnnK3bXBSXP6LeHgAAAAAAACqTcB5qgNzs\n",
              "rLhtxICok536X+lXZi+Lh99bkOGtAAAAAAAAgC8I56GG6NG6YVx8RPp6+xuenhGLVqu3BwAAAAAA\n",
              "gMognIca5IeHdI4B7dPU2xcUxeWPTFZvDwAAAAAAAJVAOA81SM4X9fY5qf/Vfu3D5TH6HfX2AAAA\n",
              "AAAAkGnCeahhurVqGD8/snva+Y3PTI8FKzdmcCMAAAAAAABAOA810A8O7hzf6Ngk5WzDlq1x2SOT\n",
              "Y9s29fYAAAAAAACQKcJ5qIGysxJx24gBkZem3v7NOSvigXfmZ3grAAAAAAAAqL2E81BDdWnRIEYe\n",
              "1SPt/FfjZsT8FertAQAAAAAAIBOE81CDnXXgHrH37rulnG3csjVGjp2k3h4AAAAAAAAyQDgPNVh2\n",
              "ViJuHTEg8nNT/6v+9scr4+//mpfZpQAAAAAAAKAWEs5DDbdH8/px6VE9085vfm5WzFu+IYMbAQAA\n",
              "AAAAQO0jnIda4MwDOsU+nZqmnG0qVG8PAAAAAAAAFU04D7VAVlYibh3RP+rmZqecvztvVdz95rzM\n",
              "LgUAAAAAAAC1iHAeaondm9WPXxybvt7+ludmxtxl6zO4EQAAAAAAANQewnmoRb677+6xX+fU9fYF\n",
              "RdvikjGTYqt6ewAAAAAAACh3wnmoRbKyEnHr8AFRr07qevuJ81fHXa9/nOGtAAAAAAAAoOYTzkMt\n",
              "06Fpvbji2F5p57f+c1Z8tFS9PQAAAAAAAJQn4TzUQt/Zt2Mc1LV5ytmWom3x8zGTomjrtgxvBQAA\n",
              "AAAAADWXcB5qoUQiEb8e1i8a5OWknE9asDr+9pp6ewAAAAAAACgvwnmopdrvVi9+eVz6evv/fWF2\n",
              "fLhkXQY3AgAAAAAAgJpLOA+12GmDOsTB3dLU229Vbw8AAAAAAADlRTgPtVgikYibh/WPhmnq7Scv\n",
              "XBN/fXVuhrcCAAAAAACAmkc4D7Vc2yZ146oTeqed3/7i7Jj52doMbgQAAAAAAAA1j3AeiBF7tY8h\n",
              "PVqknBVuLY5LxkyKQvX2AAAAAAAAUGrCeSASiUT8amj/aJifut5+6qK18eeX52R4KwAAAAAAAKg5\n",
              "hPNARES0bpwf157QJ+389y99GNM+XZPBjQAAAAAAAKDmEM4DSUMHtosjerVMOSvaVhyXjJkcW4rU\n",
              "2wMAAAAAAMCuEs4DSYlEIm46pV80rpubcj5j8dr444SPMrwVAAAAAAAAVH/CeaCElo3yY9SJ6evt\n",
              "/zTho5i6SL09AAAAAAAA7ArhPLCdk/ZsG9/s3Srl7PN6+0lRULQ1w1sBAAAAAABA9SWcB7aTSCTi\n",
              "xlP6xW71Utfbz/xsXfzhJfX2AAAAAAAAsLOE80BKLRrmxXUn9U07//Mrc2LywtWZWwgAAAAAAACq\n",
              "MeE8kNbx/dvEMX1bp5xt3VYcP39YvT0AAAAAAADsDOE8kFYikYjrT+4bTevXSTn/cOn6uP3FDzO8\n",
              "FQAAAAAAAFQ/wnlgh5o3yIvrd1Bv/9dX5sS/56/K4EYAAAAAAABQ/Qjnga91XP82cXz/Niln24oj\n",
              "LhkzKTYXqrcHAAAAAACAdITzwE657qS+0bxB6nr7Ocs2xG9fmJ3hjQAAAAAAAKD6EM4DO6Vp/Tpx\n",
              "w8n90s7/9trceP+TlRncCAAAAAAAAKoP4Tyw047u2zpO2rNtyllxccQlYybHpi3q7QEAAAAAAOCr\n",
              "hPPALrn2hD7RomFeytnHyzfEbf+cleGNAAAAAAAAoOoTzgO7ZLf6deKmU9LX29/1xsfxzsfq7QEA\n",
              "AAAAAODLhPPALjuyd6sY+o12KWfFxRGXjp0UG7cUZXgrAAAAAAAAqLqE80CpXHNCn2iZpt5+3oqN\n",
              "cctz6u0BAAAAAADgC8J5oFQa18uNXw9LX29/z5vz4q25KzK4EQAAAAAAAFRdwnmg1A7r2SpG7NU+\n",
              "7Xzk2EmxoUC9PQAAAAAAAAjngTK58vje0aZxfsrZgpWb4tfPzszwRgAAAAAAAFD1COeBMmlcNzd+\n",
              "Pax/2vl9b30Sb360PIMbAQAAAAAAQNUjnAfK7NDuLeK0QR3SzkeOnRzr1dsDAAAAAABQiwnngXLx\n",
              "y+N6Rds09faLVm+Km8bNyPBGAAAAAAAAUHUI54Fy0TA/N24ZPiDt/MG358drHy7L4EYAAAAAAABQ\n",
              "dQjngXJzULfm8e19O6adXzZ2cqzbXJjBjQAAAAAAAKBqEM4D5eqKY3tFuyZ1U84+XbM5bnxGvT0A\n",
              "AAAAAAC1j3AeKFcN8nLi1uH9084fendBvDxraQY3AgAAAAAAgMonnAfK3QFdm8f39t897fzyR6bE\n",
              "mk3q7QEAAAAAAKg9hPNAhbjs6J7RoWnqevvP1m6O65+enuGNAAAAAAAAoPII54EKUT8vJ24dPiDt\n",
              "fOz7C2P8zCUZ3AgAAAAAAAAqj3AeqDD7dW4WZx7QKe388kemxJqN6u0BAAAAAACo+YTzQIW69Oge\n",
              "0alZvZSzpesKYtRT0zK8EQAAAAAAAGSecB6oUPXq5MStIwZEIpF6/ui/F8UL09XbAwAAAAAAULMJ\n",
              "54EKN6hT0zj7wD3Szq94bEqs2rAlgxsBAAAAAABAZgnngYy45Js9onPz+ilny9YVxLXq7QEAAAAA\n",
              "AKjBhPNARtStkx23jhgQWWnq7Z/44NN4burizC4FAAAAAAAAGSKcBzJmr913i3MP7px2fuXjU2Ol\n",
              "ensAAAAAAABqIOE8kFE/PbJ7dGmRut5++fotcfUTUzO8EQAAAAAAAFQ84TyQUfm52XHbDurtn568\n",
              "OJ6ZrN4eAAAAAACAmkU4D2TcNzruFj88tEva+VVPTI3l6wsyuBEAAAAAAABULOE8UCn+54hu0b1V\n",
              "g5SzlRu2xFWPT43i4uIMbwUAAAAAAAAVQzgPVIq8nM/r7bPT9Ns/O/WzeEq9PQAAAAAAADWEcB6o\n",
              "NP3bN4kLdlBvf/UTU2Ppus0Z3AgAAAAAAAAqhnAeqFQ/Prxr9GzdMOVs9cbC+OVj6u0BAAAAAACo\n",
              "/oTzQKX6ot4+J029/QvTl8QTH3ya4a0AAAAAAACgfAnngUrXt13juGhI17Tza56cFkvXqrcHAAAA\n",
              "AACg+hLOA1XCRUO6Rq82jVLO1mwqjCsem6LeHgAAAAAAgGpLOA9UCXVysuI3O6i3f3HG0nh04qIM\n",
              "bwUAAAAAAADlQzgPVBm92zaKnxzeLe382qemxWdr1NsDAAAAAABQ/QjngSrlgsFdom+71PX26zYX\n",
              "xeWPTlZvDwAAAAAAQLUjnAeqlNzsrPjNiD0jNzt1vf3Ls5bFmPcWZngrAAAAAAAAKBvhPFDl9Gjd\n",
              "MP7niO5p59c/PT0+Xb0pgxsBAAAAAABA2QjngSrph4d0jv7tG6ecrSsoisseUW8PAAAAAABA9SGc\n",
              "B6qknOys+M2IAVEnO/UvU699uDweendBhrcCAAAAAACA0hHOA1VWt1YN42ffTF9vf8PT02Phqo0Z\n",
              "3AgAAAAAAABKRzgPVGnnHtw59uzQJOVsw5at6u0BAAAAAACoFoTzQJWWnZWI20YMiDo5qX+5euOj\n",
              "FfHA2/MzvBUAAAAAAADsGuE8UOV1bdkgRn6zR9r5TeNmxIKV6u0BAAAAAACouoTzQLVw9kF7xF67\n",
              "75ZytnHL1hg5dlJs26beHgAAAAAAgKpJOA9UC9lZibh1eP/Iz039y9Zbc1fGfW99kuGtAAAAAAAA\n",
              "YOcI54Fqo3OLBjHyqJ5p579+dmZ8smJDBjcCAAAAAACAnSOcB6qVsw7oFPt0appytqlwa4wcM1m9\n",
              "PQAAAAAAAFWOcB6oVrKyEnHL8P5RNzc75fydeSvjnjfnZXYpAAAAAAAA+BrCeaDa6dS8flx+TPp6\n",
              "+1uenxkfL1dvDwAAAAAAQNUhnAeqpTP22z3265y63n5z4bYYOWZSbFVvDwAAAAAAQBUhnAeqpays\n",
              "RNwybEDUq5O63v69T1bF3W98nOGtAAAAAAAAIDXhPFBtdWxWL35xbK+081ufnxUfLV2fwY0AAAAA\n",
              "AAAgNeE8UK19Z5+OcWDXZilnBUXb4hL19gAAAAAAAFQBwnmgWsvKSsTNw/pH/TT19h8sWB1/e21u\n",
              "hrcCAAAAAACAkoTzQLXXfrd68cvjeqed//aF2fHhknUZ3AgAAAAAAABKEs4DNcLp+3SIg7s1Tznb\n",
              "8p96+6Kt2zK8FQAAAAAAAHxOOA/UCInE5/X2DfNyUs4nLVwTf31VvT0AAAAAAACVQzgP1Bhtm9SN\n",
              "q45PX29/+4uzY9Zn6u0BAAAAAADIPOE8UKOM2Lt9DO7RIuWscGtxXDJmUhSqtwcAAAAAACDDhPNA\n",
              "jZJIJOJXQ/tFw/zU9fZTFq2Jv7w8J8NbAQAAAAAAUNsJ54Eap03junHNCX3Szn8//sOY/unaDG4E\n",
              "AAAAAABAbSecB2qkYQPbxeE9W6acqbcHAAAAAAAg04TzQI2USCTipqH9olGaevvpi9fG/5vwUYa3\n",
              "AgAAAAAAoLYSzgM1VqtG+THqpPT19n8c/1FMXbQmgxsBAAAAAABQWwnngRrt5D3bxZG9W6WcFW37\n",
              "vN5+S5F6ewAAAAAAACqWcB6o0RKJRNx4St9oUi835XzmZ+viD+M/zPBWAAAAAAAA1DbCeaDGa9kw\n",
              "P647qW/a+Z9enhOTF67O3EIAAAAAAADUOsJ5oFY4oX+bOLpP65Szrf+pty8o2prhrQAAAAAAAKgt\n",
              "hPNArZBIJOKGU/pG0/p1Us5nL1kfv3tRvT0AAAAAAAAVQzgP1BrNG+TF9Tuot//LK3PigwWrM7cQ\n",
              "AAAAAAAAtYZwHqhVjuvfJo7r3yblbFtxxM8f/iA2F6q3BwAAAAAAoHwJ54Fa57oT+0SzNPX2c5Zt\n",
              "iP99cXaGNwIAAAAAAKCmqzXh/CuvvBLnnntu9OzZMxo3bhx169aNzp07x8knnxyjR4+OoqKiCjv7\n",
              "X//6V1x44YUxcODAaNq0aeTm5kajRo2iW7duceqpp8aDDz4YBQUFFXY+UFKzBnlxw8np6+3/9urc\n",
              "eP+TVRncCAAAAAAAgJouUVxcXFzZS1SkFStWxBlnnBHPPvvsDu/ba6+94v7774+ePXuW69nnnHNO\n",
              "PPHEE197b5cuXeLee++NAw88sNzOL60+ffpERMS0adMqeROoWD8Z/e94ctKnKWedm9ePcRcfHPm5\n",
              "2RneCgAAAAAAgJqoRofzq1ativ322y9mz/5vRXXnzp1j//33j/z8/JgzZ0688cYbUVhYGBERrVq1\n",
              "irfeeis6depU5rM3bdoUBxxwQHzwwQfJ51q0aBHf+MY3on379rFs2bKYNm1azJ07NzmvV69ejB8/\n",
              "Pvbdd98yn18Wwnlqi1UbtsSR//tqLF+furniBwftEVce3zvDWwEAAAAAAFAT1eha+3POOScZzOfn\n",
              "58ff//73mDNnTtx///1xxx13xIQJE2LGjBkxaNCgiIhYsmRJDBs2LMrjzyvcfPPNyWA+kUjEDTfc\n",
              "EJ988kk8//zzceedd8aTTz4ZH330UYwePToaN24cEREbN26Mc889t8xnAztnt/p14qZT0tfb3/nG\n",
              "x/HuvJUZ3AgAAAAAAICaqsaG8++//3489thjyeu77rorzjjjjO3u69KlS/zzn/+Mjh07RkTExIkT\n",
              "48EHHyzz+ffcc0/y8U9+8pP45S9/GXXr1i1xTyKRiNNOOy3uuOOO5HNTpkyJKVOmlPl8YOd8s0/r\n",
              "OOUb7VLOiosjRo6ZFJu2bM3wVgAAAAAAANQ0NTacHzNmTPJx//794/TTT097b5MmTeKKK65IXv/u\n",
              "d78r09lr166NTz75JHm9o7MjIk4++eSoV69e8vrLNfxAxbvmhN7RsmFeytm8FRvjludnZngjAAAA\n",
              "AAAAapoaG86//fbbycfHHnvs195/3HHHJR+/++67MX/+/FKfvX79+hLXu+222w7vz8nJiUaNGiWv\n",
              "t23bVuqzgV3XpF6d+NXQfmnnd78xL96auyKDGwEAAAAAAFDT1NhwfsmSJcnHu++++9fe365du8jO\n",
              "zk5ejx8/vtRnt2jRIvLz85PX06ZN2+H9y5Yti6VLlyavBwwYUOqzgdI5vFerGL5X+7TzS8dOjo1b\n",
              "ijK4EQAAAAAAADVJjQ3ni4uLd+n+RCIRiUQief11gfqO5ObmxjHHHJO8vuGGG2Ljxo1p77/sssuS\n",
              "n5Y//PDDo3v37qU+Gyi9q47vHa0b5aeczV+5MW5+Vr09AAAAAAAApVNjw/kWLVokH+9MRf2iRYui\n",
              "qOi/n4qdMWNGmc6/6aabokGDBhERMXHixOjfv3/ce++98dFHH8XmzZtjwYIF8cwzz8TBBx8cd999\n",
              "d0RE9O7dO/kYyLzGdXPjV8PS19vf+69P4s05yzO4EQAAAAAAADVFTmUvUFH22muveO211yIi4rnn\n",
              "noubbrpph/ePGzeuxPXKlSvLdH7Pnj3jjTfeiBNOOCHmz58fc+bMiTPPPDPlvU2aNIkzzjgjbrzx\n",
              "xmjYsGGZzv2ypUuXxrJly3b5dQUFBZGTU2P/0YAdGtKjZXxr7w7xj/cWpJxfOnZyPPc/h0SDPP+O\n",
              "AAAAAAAAsPMSxbva/15NvPzyyzFkyJDk9ZgxY2L48OEp7123bl3sueeeMXfu3ORzffv2jSlTppR5\n",
              "j4KCgrjjjjvisssuiw0bNqS851vf+lZcfPHFsf/++5f5vC+79tprY9SoUaV6bYsWLWLp0qXlug9U\n",
              "F2s3F8bR//tqfLpmc8r5d/btGDeekv4T9gAAAAAAAPBVNbbWfvDgwXHggQcmr88888x46KGHtrtv\n",
              "3rx5cfTRR5cI5iMiNm3aVOYdli9fHhdccEH89Kc/jQ0bNkTr1q1j6NChcd5558Wpp54au+++e0RE\n",
              "/OMf/4gDDjggfvjDH8bWrVvLfC5QNo3yc+Pm4f3Tzh94e368/qF6ewAAAAAAAHZeje5lvv/++2PQ\n",
              "oEGxfPny2LBhQ5x++ulx1VVXxX777Rf5+fkxZ86ceP3116OwsDDq1asXBx98cDz//PMREWWul//w\n",
              "ww/jsMMOi4ULF0ZeXl788Y9/jB/+8Icl6uKLi4vjoYceivPPPz/Wrl0b//d//xfZ2dnxpz/9qUxn\n",
              "A2V3cLcWcfo+HWP0O/NTzi97ZHI89z8HR8P83AxvBgAAAAAAQHVUY2vtv/Dhhx/GsGHDdlhR36pV\n",
              "q3jggQfiiSeeiD/84Q8R8fkn7ydMmFCqM4uKiuIb3/hGTJ06NSIi7r777rTfNx8R8cILL8Q3v/nN\n",
              "5PXbb78d++yzT6nO/rLSfuf8SSedFDk5OTFz5swy7wDV2fqCojjqf1+NRatTN2mcvk+H+NXQ9J+w\n",
              "BwAAAAAAgC/U6E/OR0R069YtPvjgg3j44Ydj7Nix8c4778SyZcsiLy8vOnfuHEOHDo3zzz8/mjdv\n",
              "HnfeeWfydR06dCj1mY888kgymO/Ro0d8//vf3+H9Rx55ZBxxxBHx4osvRsTnYX55hPMtW7aMli1b\n",
              "7vLr8vLyynw21AQN8nLiluH94zt3vJ1yPvqdBXF03zZxaPcWGd4MAAAAAACA6qbGh/MREVlZWXHa\n",
              "aafFaaedtsP7pk2blnw8aNCgUp/33HPPJR8PGTIkEonE177msMMOS4bz7733XqnPBsrXgV2bxxn7\n",
              "7R73vfVJyvnlj0yO5396SDRSbw8AAAAAAMAOZFX2AlXF6tWrY8aMGcnrAw44oNTvtWjRouTjZs2a\n",
              "7dRrmjdvnny8Zs2aUp8NlL/Lj+kZHZrWTTlbvGZz3PD09AxvBAAAAAAAQHUjnP+PRx99NAoLCyMi\n",
              "onfv3rHXXnuV+r3q1v1viLdy5cqdes2KFSuSj5s0aVLqs4HyVz8vJ24ZNiDt/OH3FsaEmUszuBEA\n",
              "AAAAAADVjXA+IgoKCuLGG29MXp9//vller+OHTsmH0+YMGGnXjN+/Pjk465du5bpfKD87d+lWZx5\n",
              "QKe088sfnRxrNhZmbiEAAAAAAACqlVofzhcXF8cFF1wQc+fOjYiIvn37ljmcP+KII5KPZ86cGffd\n",
              "d98O7x8/fny88MILyeujjjqqTOcDFePSo3vE7s3qpZwtWVsQo56eluGNAAAAAAAAqC5qdDj/z3/+\n",
              "M6655ppk8P5Vc+bMiRNOOCHuvvvuiPi8jv6uu+6K3NzclPfPmzcvEolE8sc999yT8r7jjjsuunfv\n",
              "nrw+77zz4i9/+Uts3bq1xH3FxcXx8MMPx9ChQ5PPdejQIU477bRd+WkCGVKvTk7cOnxAJBKp549O\n",
              "XBQvTl+S2aUAAAAAAACoFnIqe4GKtHLlyrjuuuviuuuui+7du0e/fv2iWbNmsW7dupg1a1ZMnDgx\n",
              "eW9+fn488cQTMWjQoDKfm5OTE3//+9/jsMMOi40bN8bmzZvjggsuiOuuuy4OOOCAaN68eaxZsybe\n",
              "euutmDdvXvJ1eXl58eCDD0ZeXl6ZdwAqxj57NI2zDtgj7nrj45TzXzw2JfbutFs0qVcnw5sBAAAA\n",
              "AABQldXocP7LZs+eHbNnz04523vvveOvf/1rDBw4sNzO23fffWPChAlxxhlnJM9dvHhxPPLIIynv\n",
              "32OPPeK+++6LAw88sNx2ACrGyKN6xIRZS+Pj5Ru2my1bVxDXPjktbj/tG5WwGQAAAAAAAFVVjQ7n\n",
              "jz/++HjsscfipZdeirfffjsWL14cy5Yti7p160abNm1in332iREjRsQxxxwTWVnl3/C/zz77xLRp\n",
              "0+LJJ5+Mxx9/PN5777349NNPY/369VG/fv1o1apV7LXXXnHiiSfG8OHD09bpA1VL3TrZcduI/jH8\n",
              "L/+K4uLt549/8Gkc3bdNHN23deaXAwAAAAAAoEpKFBenipaozfr06RMREdOmTavkTaBqu2ncjPi/\n",
              "V+emnDVvUCf++dNDo2l99fYAAAAAAABElP/HxQFqiZ8d2T06t6ifcrZ8/Za45kl/wAUAAAAAAIDP\n",
              "CecBSik/NztuGzEgshKp509N+jTGTVmc2aUAAAAAAACokoTzAGUwsONucd4hXdLOr3x8aixfX5DB\n",
              "jQAAAAAAAKiKhPMAZfQ/R3SLbi0bpJyt3LAlrn5iaoY3AgAAAAAAoKoRzgOU0Rf19tlp+u3HTfks\n",
              "np78aYa3AgAAAAAAoCoRzgOUgwEdmsT5h3ZOO7/q8amxbJ16ewAAAAAAgNpKOA9QTn5yeLfo0aph\n",
              "ytmqjYVx5eNTori4OMNbAQAAAAAAUBUI5wHKSV5Odvzm1PT19s9PWxJPTlJvDwAAAAAAUBsJ5wHK\n",
              "Ud92jeOiIV3Tzq9+YlosXbs5gxsBAAAAAABQFQjnAcrZj4Z0jV5tGqWcrdlUGFc8pt4eAAAAAACg\n",
              "thHOA5SzOjlZcduI/pGTpt7+xRlL47F/L8rwVgAAAAAAAFQm4TxABejTtnH8+LBuaefXPjktPluj\n",
              "3h4AAAAAAKC2EM4DVJALh3SJPm1T19uv3VwUv3h0snp7AAAAAACAWkI4D1BBcrOz4jenDojc7NT1\n",
              "9hNmLYux7y/M8FYAAAAAAABUBuE8QAXq2bpRXHx4+nr7656aHovXbMrgRgAAAAAAAFQG4TxABTv/\n",
              "0C7Rr13jlLN1BUVx2SNT1NsDAAAAAADUcMJ5gAqW8596+zrZqX/JfXX2svjHuwsyvBUAAAAAAACZ\n",
              "JJwHyIDurRrGT4/snnZ+wzMzYtFq9fYAAAAAAAA1lXAeIEPOPXiPGNChScrZ+oKiuGzsZPX2AAAA\n",
              "AAAANZRwHiBDcrKz4jcj+kednNS/9L7+0fJ48J35Gd4KAAAAAACATBDOA2RQ15YN45Jvpq+3v/GZ\n",
              "GbFg5cYMbgQAAAAAAEAmCOcBMuycgzrHwI5NUs42btkal46dHNu2qbcHAAAAAACoSYTzABmWnZWI\n",
              "20YMiLw09fb/mrsiHnj7kwxvBQAAAAAAQEUSzgNUgs4tGsTIo3qknd80bmbMX6HeHgAAAAAAoKYQ\n",
              "zgNUkrMO3CMGddot5WxT4da4ZOwk9fYAAAAAAAA1hHAeoJJkZyXi1uEDIj839S/F73y8Mu7917zM\n",
              "LgUAAAAAAECFEM4DVKJOzevH5Uf3TDu/+bmZ8fHyDRncCAAAAAAAgIognAeoZN/bv1Psu0fTlLPN\n",
              "hdti5JhJsVW9PQAAAAAAQLUmnAeoZFn/qbevVyc75fy9T1bF3W98nOGtAAAAAAAAKE/CeYAqoGOz\n",
              "evGLY9LX29/6/KyYs2x9BjcCAAAAAACgPAnnAaqI7+y7exzQpVnKWUGRensAAAAAAIDqTDgPUEVk\n",
              "ZSXi5mH9o36aevuJ81fHna/PzfBWAAAAAAAAlAfhPEAV0qFpvbjiuF5p57f9c3Z8tHRdBjcCAAAA\n",
              "AACgPAjnAaqYb+/TMQ7q2jzlbEvRtvj5mMlRtHVbhrcCAAAAAACgLITzAFVMIpGIm4f3jwZ5OSnn\n",
              "kxasjv97Tb09AAAAAABAdSKcB6iC2jWpG1cdn77e/vYXPoxZn6m3BwAAAAAAqC6E8wBV1Kl7d4hD\n",
              "u7dIOduydVtcMmZSFKq3BwAAAAAAqBaE8wBVVCKRiF8P6xcN81PX209ZtCb++sqcDG8FAAAAAABA\n",
              "aQjnAaqwNo3rxtXH9047/91LH8aMxWszuBEAAAAAAAClIZwHqOKG79U+DuvZMuWscGuxensAAAAA\n",
              "AIBqQDgPUMUlEon41dB+0ShNvf20T9fGnyaotwcAAAAAAKjKhPMA1UCrRvlx7Yl90s7/MP7DmPbp\n",
              "mgxuBAAAAAAAwK4QzgNUE6d8o10c0atVylnRtuL4+cOTYkuRensAAAAAAICqSDgPUE0kEom4aWjf\n",
              "aFIvN+V85mfr4o/jP8zwVgAAAAAAAOwM4TxANdKyYX6M2kG9/f97eU5MXaTeHgAAAAAAoKoRzgNU\n",
              "MycOaBtH9Uldb7/1P/X2BUVbM7wVAAAAAAAAOyKcB6hmEolE3HByv9gtTb39rCXr4vcvqbcHAAAA\n",
              "AACoSoTzANVQi4Z5cf3JfdPO//zynJi0YHXmFgIAAAAAAGCHhPMA1dTx/dvGcf3apJxtK474+ZhJ\n",
              "sblQvT0AAAAAAEBVIJwHqMauO6lPNKtfJ+Xso6Xr4/YX1dsDAAAAAABUBcJ5gGqsWYO8uGEH9fb/\n",
              "9+qcmDh/VQY3AgAAAAAAIBXhPEA1d0y/NnHCgLYpZ9uKIy5Rbw8AAAAAAFDphPMANcB1J/aJ5g3y\n",
              "Us7mLtsQv/nnrAxvBAAAAAAAwJcJ5wFqgN3q14mbTklfb3/H6x/H+5+szOBGAAAAAAAAfJlwHqCG\n",
              "+Gaf1nHynqnr7YuLIy4ZMzk2bVFvDwAAAAAAUBmE8wA1yLUn9okWDVPX23+8fEPc+rx6ewAAAAAA\n",
              "gMognAeoQZrUqxO/OqVf2vndb34cb89dkcGNAAAAAAAAiBDOA9Q4R/RuFcMGtk85Ky6OGDl2cmzc\n",
              "UpThrQAAAAAAAGo34TxADXT1Cb2jVaPU9fbzV26MW55Tbw8AAAAAAJBJwnmAGqhx3dz49dD+aef3\n",
              "vDkv/jVHvT0AAAAAAECmCOcBaqghPVvGqXunrrePiBg5dlJsKFBvDwAAAAAAkAnCeYAa7Mrje0eb\n",
              "xvkpZwtXbYpfPTsjwxsBAAAAAADUTsJ5gBqsUX5u/HpY+nr7+9+aH298tDyDGwEAAAAAANROwnmA\n",
              "Gu7Q7i3i9H06pJ1fOnZyrNtcmMGNAAAAAAAAah/hPEAtcMWxvaJdk7opZ4tWb4qbxs3M8EYAAAAA\n",
              "AAC1i3AeoBZomJ8bN++g3n70O/Pj1dnLMrgRAAAAAABA7SKcB6glDurWPL67X8e088semRxr1dsD\n",
              "AAAAAABUCOE8QC3yi2N6RfvdUtfbL16zOW58ekaGNwIAAAAAAKgdhPMAtUj9vJy4ZXj6evt/vLcg\n",
              "JsxamsGNAAAAAAAAagfhPEAtc0CX5vH9/XdPO7/8kcmxZqN6ewAAAAAAgPIknAeohS47pmd0bFov\n",
              "5WzJ2oK47unpGd4IAAAAAACgZhPOA9RC9erkxK07qLd/ZOLCeGnGkgxuBAAAAAAAULMJ5wFqqX07\n",
              "N4uzDuyUdv6LR6fE6o1bMrcQAAAAAABADSacB6jFLj2qZ3Rqlrrefum6ghj1lHp7AAAAAACA8iCc\n",
              "B6jF6tbJjttGDIhEIvX8sX8viuenfZbZpQAAAAAAAGog4TxALbd3p6bxg4P2SDv/5WNTY9UG9fYA\n",
              "AAAAAABlIZwHIH7+zR7RuUX9lLPl6wvimienZXgjAAAAAACAmkU4D0Dk535eb5+Vpt7+yUmfxrNT\n",
              "Fmd2KQAAAAAAgBpEOA9AREQM7LhbnHtI57TzKx+fGivWF2RwIwAAAAAAgJpDOA9A0k+P6B5dWzZI\n",
              "OVuxYUtc/YR6ewAAAAAAgNIQzgOQ9HX19s9MWRxPT/40s0sBAAAAAADUAMJ5AErYs0OTOP/QLmnn\n",
              "Vz0+NZatU28PAAAAAACwK4TzAGzn4iO6RfdWqevtV20sjCsfnxLFxcUZ3goAAAAAAKD6Es4DsJ28\n",
              "nOz4zYg9IztNv/3z05bEk5PU2wMAAAAAAOws4TwAKfVr3zguGpy+3v6aJ6fF0nWbM7gRAAAAAABA\n",
              "9SWcByCtHx3WLXq2bphytnpjYfzysanq7QEAAAAAAHaCcB6AtOrkZMVtIwZETpp6+xemL4nHP1iU\n",
              "4a0AAAAAAACqH+E8ADvUt13j+NFhXdPOr3liWixZq94eAAAAAABgR4TzAHyti4Z0jd5tGqWcrd1c\n",
              "FL94dIp6ewAAAAAAgB0QzgPwtXKzs+I3pw6I3OzU9fbjZy6NRyaqtwcAAAAAAEhHOA/ATunVplH8\n",
              "5LBuaeejnpoWi9dsyuBGAAAAAAAA1YdwHoCddv7gLtGvXeOUs3Wbi+LyR9TbAwAAAAAApCKcB2Cn\n",
              "5WZnxW0jBkSd7NS/fbwye1k8/N6CDG8FAAAAAABQ9QnnAdglPVo3jP85Mn29/Q1Pz4hFq9XbAwAA\n",
              "AAAAfJlwHoBddt7BnWNAhyYpZ+sKiuLyRyartwcAAAAAAPgS4TwAuywnOytuG94/6uSk/m3ktQ+X\n",
              "x+h31NsDAAAAAAB8QTgPQKl0a9Uwfn5k97TzG5+ZHgtWbszgRgAAAAAAAFWXcB6AUvvBwZ3jGx2b\n",
              "pJxt2LI1Lntkcmzbpt4eAAAAAABAOA9AqWVnJeK2EQMiL029/ZtzVsQD78zP8FYAAAAAAABVj3Ae\n",
              "gDLp0qJBjDyqR9r5r8bNiPkr1NsDAAAAAAC1m3AegDI768A9Yu/dd0s527hla4wcO0m9PQAAAAAA\n",
              "UKsJ5wEos+ysRNw6YkDk56b+beXtj1fG3/81L7NLAQAAAAAAVCHCeQDKxR7N68dlR/dMO7/5uVkx\n",
              "b/mGDG4EAAAAAABQdQjnASg339+/U+yzR9OUs02F6u0BAAAAAIDaSzgPQLnJykrErcP7R93c7JTz\n",
              "d+etirvfnJfZpQAAAAAAAKoA4TwA5Wr3ZvXjF8emr7e/5bmZMXfZ+gxuBAAAAAAAUPmE8wCUu+/u\n",
              "u3vs37lZyllB0ba4ZMyk2KreHgAAAAAAqEWE8wCUu6ysRNwyvH/Uq5O63n7i/NVx1+sfZ3grAAAA\n",
              "AACAyiOcB6BCdGhaL644tlfa+a3/nBUfLVVvDwAAAAAA1A7CeQAqzHf27RgHdW2ecralaFv8fMyk\n",
              "KNq6LcNbAQAAAAAAZJ5wHoAKk0gk4tfD+kWDvJyU80kLVsffXlNvDwAAAAAA1HzCeQAqVPvd6sUv\n",
              "j0tfb/+/L8yOD5esy+BGAAAAAAAAmSecB6DCnTaoQxzcLU29/Vb19gAAAAAAQM0nnAegwiUSibh5\n",
              "WP9omKbefvLCNfHXV+dmeCsAAAAAAIDMEc4DkBFtm9SNq07onXZ++4uzY+ZnazO4EQAAAAAAQOYI\n",
              "5wHImBF7tY8hPVqknBVuLY6fPzwpCtXbAwAAAAAANZBwHoCMSSQS8auh/aNhfup6+2mfro0/vzwn\n",
              "w1sBAAAAAABUPOE8ABnVunF+XHtCn7Tz37/0YUz7dE0GNwIAAAAAAKh4wnkAMm7owHZxRK+WKWdF\n",
              "24rjkjGTY0uRensAAAAAAKDmEM4DkHGJRCJuOqVfNK6bm3I+Y/Ha+OOEjzK8FQAAAAAAQMURzgNQ\n",
              "KVo2yo9RJ6avt//ThI9i6iL19gAAAAAAQM0gnAeg0py0Z9v4Zu9WKWef19tPioKirRneCgAAAAAA\n",
              "oPwJ5wGoNIlEIm48pV/sVi91vf3Mz9bFH15Sbw8AAAAAAFR/wnkAKlWLhnlx3Ul9087//MqcmLxw\n",
              "deYWAgAAAAAAqADCeQAq3fH928Sx/VqnnG3dVhw/f1i9PQAAAAAAUL0J5wGodIlEIq47qW80rV8n\n",
              "5fzDpevj9hc/zPBWAAAAAAAA5Uc4D0CV0LxBXly/g3r7v74yJ/49f1UGNwIAAAAAACg/wnkAqozj\n",
              "+reJ4/u3STnbVhxxyZhJsblQvT0AAAAAAFD9COcBqFKuO6lvNG+Qut5+zrIN8dsXZmd4IwAAAAAA\n",
              "gLITzgNQpTStXyduOLlf2vnfXpsb73+yMoMbAQAAAAAAlJ1wHoAq5+i+reOkPdumnBUXR1wyZnJs\n",
              "2qLeHgAAAAAAqD6E8wBUSdee0CdaNMxLOft4+Ya47Z+zMrwRAAAAAABA6QnnAaiSdqtfJ246JX29\n",
              "/V1vfBzvfKzeHgAAAAAAqB6E8wBUWUf2bhVDB7ZLOSsujrh07KTYuKUow1sBAAAAAADsOuE8AFXa\n",
              "Ncf3iVaNUtfbz1uxMW55Tr09AAAAAABQ9QnnAajSGtfLjV8NTV9vf8+b8+KtuSsyuBEAAAAAAMCu\n",
              "E84DUOUd1rNVjNirfdr5yLGTYkOBensAAAAAAKDqEs4DUC1ceXzvaNM4P+VswcpN8etnZ2Z4IwAA\n",
              "AAAAgJ0nnAegWmhcNzd+Pax/2vl9b30Sb360PIMbAQAAAAAA7DzhPADVxqHdW8RpgzqknY8cOznW\n",
              "q7cHAAAAAACqIOE8ANXKL4/rFW3T1NsvWr0pbho3I8MbAQAAAAAAfD3hPADVSsP83Lhl+IC08wff\n",
              "nh+vfbgsgxsBAAAAAAB8vVoRzr/yyitx7rnnRs+ePaNx48ZRt27d6Ny5c5x88skxevToKCqq+Ark\n",
              "iRMnxuWXXx577713tGnTJvLy8qJt27YxcODAOPvss+O+++6Lzz77rML3AKgJDurWPL6zb8e088vG\n",
              "To51mwszuBEAAAAAAMCOJYqLi4sre4mKsmLFijjjjDPi2Wef3eF9e+21V9x///3Rs2fPct9h6dKl\n",
              "8bOf/SweeOCBr733oosuij/+8Y/lvsOu6tOnT0RETJs2rZI3AUhvfUFRHPW/r8ai1ZtSzk8b1CF+\n",
              "Pax/hrcCAAAAAABILaeyF6goq1atigMOOCBmz56dfK5z586x//77R35+fsyZMyfeeOONKCwsjPff\n",
              "fz8GDx4cb731VnTq1Kncdpg/f34MHjw4Pv744+RzPXr0iH79+kWzZs1i48aNMWfOnPjggw9i48aN\n",
              "5XYuQG3QIC8nbh3eP759x9sp5w+9uyCO7ts6BvdomeHNAAAAAAAAtldjw/lzzjknGczn5+fH//3f\n",
              "/8UZZ5xR4p45c+bE6aefHu+++24sWbIkhg0bFu+9914kEokyn79mzZoYMmRIMpgfMmRI3H777dG/\n",
              "//af4tyyZUuMHz8+1q1bV+ZzAWqTA7o2j+/tv3v8/V+fpJxf/siUeP6nh0TjurkZ3gwAAAAAAKCk\n",
              "Gllr//7778fee++dvH7wwQfj9NNPT3nv6tWrY8CAATF//vyIiLj//vvjO9/5Tpl3OPfcc+OOO+6I\n",
              "iIhvfetb8cADD0R2dnaZ3zcT1NoD1cmGgqI45nevxfyVqRtIhu/VPm4bMSDDWwEAAAAAAJSUVdkL\n",
              "VIQxY8YkH/fv3z9tMB8R0aRJk7jiiiuS17/73e/KfP4HH3yQDOY7dOgQf/vb36pNMA9Q3dTPy4lb\n",
              "hqf/bvmx7y+M8TOXZHAjAAAAAACA7dXIcP7tt//7/cPHHnvs195/3HHHJR+/++67yU/Rl9Zf/vKX\n",
              "5OOLLrooGjZsWKb3A2DH9uvcLM48oFPa+eWPTIk1GwsztxAAAAAAAMBX1MhwfsmS/35Ccvfdd//a\n",
              "+9u1a1fik+3jx48v9dlbt26N0aNHJ6+HDRtW6vcCYOddenSP6NSsXsrZ0nUFMeopX9UBAAAAAABU\n",
              "nhoZzhcXF+/S/YlEIhKJRPK6LN+1PnXq1Fi7dm1ERDRu3Di6dOkSRUVFcffdd8fhhx8erVu3jry8\n",
              "vGjXrl0cc8wx8ec//zkKCgpKfR4An6tXJyduHTEgvvTLeQmP/ntRvDBdvT0AAAAAAFA5amQ436JF\n",
              "i+TjnamoX7RoURQVFSWvZ8yYUeqz33333eTjDh06xMKFC+PAAw+Ms88+O8aPHx9LliyJLVu2xKef\n",
              "fhrPPfdcXHjhhdG9e/cSrwOgdAZ1ahrnHLhH2vkVj02JVRu2ZHAjAAAAAACAz+VU9gIVYa+99orX\n",
              "XnstIiKee+65uOmmm3Z4/7hx40pcr1y5stRnL1iwoMT1Mccck/wkfs+ePWPQoEGRnZ0dkydPjokT\n",
              "J0bE53+AYPDgwfHqq6/GXnvtVeqzv2rp0qWxbNmyXX5dQUFB5OTUyH80gFrgkqN6xPiZS2Pu8g3b\n",
              "zZatK4hrn5oWvzvtG5WwGQAAAAAAUJvVyAT2pJNOittvvz0iIv7973/H2LFjY/jw4SnvXbduXfz6\n",
              "17/e7rnSWr16dfLx1KlTIyKiXr16cc8998SIESNK3DthwoQ49dRTY/ny5bFx48b41re+FdOnT486\n",
              "deqU+vwv+9Of/hSjRo0q1Wu/3D4AUJ3k52bHrSMGxIi/vBnbUnzLyRMffBrH9G0dR/dtk/nlAAAA\n",
              "AACAWqtG1toPHjw4DjzwwOT1mWeeGQ899NB2982bNy+OPvromDt3bonnN23aVOqzN2zY/pOa999/\n",
              "/3bBfETEkCFD4sknn4ysrM//NsyZMyceeOCBUp8NwOf22n23OPfgzmnnv3xsaqxYX5DBjQAAAAAA\n",
              "gNquRobzEZ8H4s2bN4+IzwPz008/Pbp16xZnnHFGnHvuuXHYYYdF9+7d480334x69erFUUcdlXxt\n",
              "w4YNS31ufn5+iev9998/TjnllLT377///jF06NDk9T/+8Y9Snw3Af/30yO7RpUX9lLMVG7bE1U9O\n",
              "y/BGAAAAAABAbVYja+0jIjp16hRvvvlmDBs2LKZMmRIRER999FF89NFHJe5r1apVPPDAA/HEE0/E\n",
              "888/HxERTZo0KfW5DRo0KHG9o2D+y/eMHTs2IiLefPPNUp/9VRdeeGHKT+x/nZNOOsl3zgPVXn5u\n",
              "dvzm1D1j6J/eSFlv/8zkxXFs38VxXH/19gAAAAAAQMWr0Qlst27d4oMPPoiHH344xo4dG++8804s\n",
              "W7Ys8vLyonPnzjF06NA4//zzo3nz5nHnnXcmX9ehQ4dSn9msWbMS17179/7a1/Tq1Sv5eN26dbFu\n",
              "3boyfXr/Cy1btoyWLVvu8uvy8vLKfDZAVbBnhybxw0O7xJ9fnpNyftUTU2Pfzk2jeQO/7gEAAAAA\n",
              "ABWrRofzERFZWVlx2mmnxWmnnbbD+6ZN+2+98aBBg0p9Xs+ePUtcf/WT9Kl8NYgvr3AegIj/OaJb\n",
              "vDRjScxesn672coNW+Kqx6fGn74zMBKJRCVsBwAAAAAA1BY19jvnd8Xq1atjxowZyesDDjig1O/V\n",
              "t2/fEtfr128fBn3VunXrSlw3bty41OcDUFJeTnbcNmJAZGelDt+fnfpZPDV5cYa3AgAAAAAAahvh\n",
              "fEQ8+uijUVhYGBGf19DvtddepX6vPfbYI/bYY4/k9fTp07/2NV/+gwFNmzaN+vXrl/p8ALbXv32T\n",
              "uODQLmnnVz8xNZau25zBjQAAAAAAgNqm1ofzBQUFceONNyavzz///DK/59ChQ5OPH3/88a+9/8v3\n",
              "HHLIIWU+H4Dt/fjwrtGzdeqvDFm9sTB++djUKC4uzvBWAAAAAABAbVGrw/ni4uK44IILYu7cuRHx\n",
              "eSV9eYTzF1xwQeTm5kZExJtvvhlPPvlk2nvfeeedePTRR5PXZ555ZpnPB2B7X9Tb56Spt39h+pJ4\n",
              "4oNPM7wVAAAAAABQW9TYcP6f//xnXHPNNcng/avmzJkTJ5xwQtx9990REVG3bt246667kqH6V82b\n",
              "Ny8SiUTyxz333JP27C5dusSFF16YvP72t79dIoD/wiuvvBLHH398bN26NSIi9ttvvzjxxBN39qcI\n",
              "wC7q265xXDSka9r5NU9Oi6Vr1dsDAAAAAADlL6eyF6goK1eujOuuuy6uu+666N69e/Tr1y+aNWsW\n",
              "69ati1mzZsXEiROT9+bn58cTTzwRgwYNKrfzb7755pg4cWK89tprsWHDhhg2bFj06tUrBg0aFNnZ\n",
              "2TF58uR4//33k/e3adMmHn744UgkUn+iE4DycdGQrvHC9CUxffHa7WZrNhXGFY9Nib99b2+/HgMA\n",
              "AAAAAOWqxobzXzZ79uyYPXt2ytnee+8df/3rX2PgwIHlemZeXl489dRTccEFF8To0aMjImLGjBkx\n",
              "Y8aM7e7dd999Y8yYMdGhQ4dy3QGA7dXJyYrbRgyIE//4ehRt2/475l+csTQenbgohu3VvhK2AwAA\n",
              "AAAAaqoaW2t//PHHx2OPPRY/+tGPYtCgQdG+ffvIy8uLJk2aRK9eveL73/9+PP300/H222+XezD/\n",
              "hcaNG8eDDz4Yr7zySpxzzjnRo0ePaNCgQdStWzc6deoUp512Wjz66KPxr3/9SzAPkEG92zaKnxze\n",
              "Le382qemxWdr1NsDAAAAAADlJ1FcXLz9xwap1fr06RMREdOmTavkTQAqTuHWbXHKn96IqYu2r7eP\n",
              "iBjco0XcfeYg9fYAAAAAAEC5qLGfnAeAHcnNzorfjNgzcrNTh+8vz1oWY95bmOGtAAAAAACAmko4\n",
              "D0Ct1aN1w/ifI7qnnV//9PT4dPWmDG4EAAAAAADUVMJ5AGq1Hx7SOfq3b5xytq6gKC57ZHL4BhgA\n",
              "AAAAAKCshPMA1Go52VnxmxEDok526t8SX/tweTz07oIMbwUAAAAAANQ0wnkAar1urRrGz76Zvt7+\n",
              "hqenx8JVGzO4EQAAAAAAUNMI5wEgIs49uHN8o2OTlLMNW7aqtwcAAAAAAMpEOA8AEZGdlYhbhw+I\n",
              "Ojmpf2t846MV8cDb8zO8FQAAAAAAUFMI5wHgP7q2bBAjv9kj7fymcTNiwUr19gAAAAAAwK4TzgPA\n",
              "l5x90B6x1+67pZxt3LI1Ro6dFNu2qbcHAAAAAAB2jXAeAL7k83r7/pGfm/q3yLfmroz73vokw1sB\n",
              "AAAAAADVnXAeAL6ic4sGMfKonmnnv352ZnyyYkMGNwIAAAAAAKo74TwApHDWAZ1in05NU842FW6N\n",
              "kWMmq7cHAAAAAAB2mnAeAFLIykrELcP7R93c7JTzd+atjHvenJfZpQAAAAAAgGpLOA8AaXRqXj8u\n",
              "PyZ9vf0tz8+Mj5ertwcAAAAAAL6ecB4AduCM/XaP/TqnrrffXLgtRo6ZFFvV2wMAAAAAAF9DOA8A\n",
              "O5CVlYhbhw+IenVS19u/98mquPuNjzO8FQAAAAAAUN0I5wHga3RoWi9+cWyvtPNbn58VHy1dn8GN\n",
              "AAAAAACA6kY4DwA74Tv7dIwDuzZLOSso2haXqLcHAAAAAAB2QDgPADshKysRNw/rH/XT1Nt/sGB1\n",
              "/O21uRneCgAAAAAAqC6E8wCwk9rvVi9+eVzvtPPfvjA7PlyyLoMbAQAAAAAA1YVwHgB2wen7dIiD\n",
              "uzVPOdvyn3r7oq3bMrwVAAAAAABQ1QnnAWAXJBKf19s3zMtJOZ+0cE389VX19gAAAAAAQEnCeQDY\n",
              "RW2b1I2rjk9fb3/7i7Nj1mfq7QEAAAAAgP8SzgNAKYzYu30M7tEi5axwa3FcMmZSFKq3BwAAAAAA\n",
              "/kM4DwClkEgk4tdD+0fD/NT19lMWrYm/vDwnw1sBAAAAAABVlXAeAEqpdeP8uOaEPmnnvx//YUz/\n",
              "dG0GNwIAAAAAAKoq4TwAlMGwge3i8J4tU86+qLffUqTeHgAAAAAAajvhPACUQSKRiJuG9ovGdXNT\n",
              "zqcvXhv/b8JHGd4KAAAAAACoaoTzAFBGrRrlx7Un9k47/38TPoqpi9ZkcCMAAAAAAKCqEc4DQDk4\n",
              "ec92cWTvVilnRdvU2wMAAAAAQG0nnAeAcpBIJOLGU/pGk3qp6+1nfrYu/jD+wwxvBQAAAAAAVBXC\n",
              "eQAoJy0b5sd1J/VNO//Ty3Ni8sLVmVsIAAAAAACoMoTzAFCOTujfJo7p2zrlbOt/6u0LirZmeCsA\n",
              "AAAAAKCyCecBoBwlEom4/uS+0bR+nZTz2UvWx+9eVG8PAAAAAAC1jXAeAMpZ8wZ5cf0O6u3/8sqc\n",
              "+GDB6swtBAAAAAAAVDrhPABUgOP6t4nj+rdJOdtWHPHzhz+IzYXq7QEAAAAAoLYQzgNABbn+pL7R\n",
              "vEHqevs5yzbE/744O8MbAQAAAAAAlUU4DwAVpGn9OnHDyenr7f/26tx4/5NVGdwIAAAAAACoLMJ5\n",
              "AKhAR/dtEycOaJtytq04YuSYSertAQAAAACgFhDOA0AFG3Vin2jeIC/lbO7yDXHb87MyvBEAAAAA\n",
              "AJBpwnkAqGC71a8TN52Svt7+zjc+jnfnrczgRgAAAAAAQKYJ5wEgA77Zp3Wc8o12KWfF/6m337RF\n",
              "vT0AAAAAANRUwnkAyJBrTugdLRumrreft2Jj3PL8zAxvBAAAAAAAZIpwHgAypEm9OvGrof3Szu9+\n",
              "Y168NXdFBjcCAAAAAAAyRTgPABl0eK9WMXyv9mnnl46dHBu3FGVwIwAAAAAAIBOE8wCQYVcd3zta\n",
              "N8pPOZu/cmPc/Kx6ewAAAAAAqGmE8wCQYY3r5savhqWvt7/3X5/Em3OWZ3AjAAAAAACgognnAaAS\n",
              "DOnRMr61d4e080vHTo71BertAQAAAACgphDOA0Al+eXxvaJt49T19gtXbYpfjZuR4Y0AAAAAAICK\n",
              "IpwHgErSKD83bh7eP+38gbfnx+sfqrcHAAAAAICaQDgPAJXo4G4t4vR9OqadX/bI5Fi3uTCDGwEA\n",
              "AAAAABVBOA8AleyXx/WKdk3qppwtWr0pblJvDwAAAAAA1Z5wHgAqWYO8nLhlB/X2o99ZEK/MXpbB\n",
              "jQAAAAAAgPImnAeAKuDArs3jjP12Tzu//JHJsVa9PQAAAAAAVFvCeQCoIi4/pmd0aJq63n7xms1x\n",
              "w9PTM7wRAAAAAABQXoTzAFBF1M/LiVuGDUg7f/i9hTFh5tIMbgQAAAAAAJQX4TwAVCH7d2kWZx7Q\n",
              "Ke388kcnx5qN6u0BAAAAAKC6Ec4DQBVz6dE9Yvdm9VLOlqwtiFFPT8vwRgAAAAAAQFkJ5wGgiqlX\n",
              "JyduHT4gEonU80cnLooXpy/J7FIAAAAAAECZCOcBoAraZ4+mcdYBe6Sd/+KxKbF645YMbgQAAAAA\n",
              "AJSFcB4AqqiRR/WIPZrXTzlbtq4grn1SvT0AAAAAAFQXwnkAqKLq1smO20b0T1tv//gHn8ZzUz/L\n",
              "7FIAAAAAAECpCOcBoArba/emce7BndPOr3x8SqzcoN4eAAAAAACqOuE8AFRxPzuye3Rpkbrefvn6\n",
              "LXGNensAAAAAAKjyhPMAUMXl52bHbSMGRFaaevunJn0a46YszuxSAAAAAADALhHOA0A18I2Ou8V5\n",
              "h3RJO7/y8amxfH1BBjcCAAAAAAB2hXAeAKqJ/zmiW3Rr2SDlbOWGLXHV41OjuLg4w1sBAAAAAAA7\n",
              "QzgPANXEF/X22Wn67Z+d+lk8PVm9PQAAAAAAVEXCeQCoRgZ0aBLnH9o57fzqJ6bGsnXq7QEAAAAA\n",
              "oKoRzgNANfOTw7tFj1YNU85WbSyMKx+fot4eAAAAAACqGOE8AFQzeTnZ8ZtT09fbPz9tSTw56dMM\n",
              "bwUAAAAAAOyIcB4AqqG+7RrHRUO6pp1f/cS0WLp2cwY3AgAAAAAAdkQ4DwDV1I+GdI1ebRqlnK3Z\n",
              "VBhXPKbeHgAAAAAAqgrhPABUU3VysuK2Ef0jJ029/YszlsZj/16U4a0AAAAAAIBUhPMAUI31ads4\n",
              "fnxYt7Tza5+cFp+tUW8PAAAAAACVTTgPANXchUO6RJ+2qevt124uil88Olm9PQAAAAAAVDLhPABU\n",
              "c7nZWfGbUwdEbnbqevsJs5bF2PcXZngrAAAAAADgy4TzAFAD9GzdKC4+PH29/XVPTY/FazZlcCMA\n",
              "AAAAAODLhPMAUEOcf2iX6NeuccrZuoKiuOyRKertAQAAAACgkgjnAaCGyPlPvX2d7NS/vb86e1n8\n",
              "490FGd4KAAAAAACIEM4DQI3SvVXD+OmR3dPOb3hmRixard4eAAAAAAAyTTgPADXMuQfvEXt2aJJy\n",
              "tr6gKC4bO1m9PQAAAAAAZJhwHgBqmJzsrLhtxICok5P6t/nXP1oeD74zP8NbAQAAAABA7SacB4Aa\n",
              "qGvLBnHJN9PX29/4zIxYsHJjBjcCAAAAAIDaTTgPADXUOQd1joEdm6ScbdyyNS4dOzm2bVNvDwAA\n",
              "AAAAmSCcB4AaKjsrEbeNGBB5aert/zV3RTzw9icZ3goAAAAAAGon4TwA1GCdWzSIkUf1SDu/adzM\n",
              "mL9CvT0AAAAA/5+9+46Tqj73B/7MUpbei3QEQTpGBRWjYouKYKHkioarRr0xJrk3RaOJiTWxe2+K\n",
              "iTG5sbcrKGLFrlFRUImUlY5Ik16lLCy7vz+M8xOdoe3O7O7s+/168Xqds8855/uQZE4O89l5BoBM\n",
              "E84DQI47/8j9o1/HxilrW7bviEvHTDHeHgAAAAAAMkw4DwA5rlpeIm4d3jdq1Uj9f/uTPl4T972z\n",
              "ILtNAQAAAABAFSOcB4AqoGOzunHFyd3S1m8ePzM+XrUpix0BAAAAAEDVIpwHgCri34/oGIft3yRl\n",
              "bev24rhs9JTYYbw9AAAAAABkhHAeAKqIvH+Nt69Ts1rK+vufrI173v44y10BAAAAAEDVIJwHgCqk\n",
              "fdM68YtT0o+3v/WFWTFv5WdZ7AgAAAAAAKoG4TwAVDHnHNYhBnRumrJWWGS8PQAAAAAAZIJwHgCq\n",
              "mLy8RNw8rE/UTTPefvLCdfH3t+ZnuSsAAAAAAMhtwnkAqILaNakTvzy1e9r6bS/OjrkrNmaxIwAA\n",
              "AAAAyG3CeQCoos7u3z6+eUCzlLVtRcXxs9FTo2hHcZa7AgAAAACA3CScB4AqKpFIxM3D+0S9/Oop\n",
              "61MWrYu/vmm8PQAAAAAAlAXhPABUYW0a1Y5fD04/3v53L82JWcuMtwcAAAAAgNISzgNAFfftQ9vF\n",
              "MV2bp6xt21Ecl46eEtuNtwcAAAAAgFIRzgNAFZdIJOKmYb2jfq3U4+2nLVkfd70xL8tdAQAAAABA\n",
              "bhHOAwDRqmHtuGpwj7T1378yJ2Z8uiGLHQEAAAAAQG4RzgMAEREx/JC2cVy3Filr23eUGG8PAAAA\n",
              "AAClIJwHACLi8/H2Nw7tHQ3SjLcvWLoh/vya8fYAAAAAALAvhPMAQFLLBrXimtN6pq3/8dU5UbB0\n",
              "fRY7AgAAAACA3CCcBwB2cuY32sQJ3VumrBUVl8TPHpsS24qMtwcAAAAAgL0hnAcAdpJIJOKGob2i\n",
              "UZ0aKeszl22MO16dk+WuAAAAAACgchPOAwBf06J+rbh2F+Pt//T6vJi22Hh7AAAAAADYU8J5ACCl\n",
              "0/q2jpN6ph5vv6O4JC4dPSUKi3ZkuSsAAAAAAKichPMAQEqJRCJ+c0bvaJxmvP2s5RvjD68Ybw8A\n",
              "AAAAAHtCOA8ApNW8fn5cf0avtPU7X58XUxaty15DAAAAAABQSQnnAYBdGtyndZzau1XKWnFJxM9G\n",
              "T4mt2423BwAAAACAXRHOAwC7dd3pPaNp3Zopa3NXfBa/e9l4ewAAAAAA2BXhPACwW03r5cdvdjHe\n",
              "/q//mBeTF67NYkcAAAAAAFC5COcBgD1ySu9WMaRv65S14pKIS423BwAAAACAtITzAMAeu+60ntGs\n",
              "Xn7K2vyVm+L2F2dluSMAAAAAAKgchPMAwB5rXLdm3HBm+vH2//vWx/HBJ2uy2BEAAAAAAFQOwnkA\n",
              "YK98q+d+ccZBqcfbl5REXDp6amzZZrw9AAAAAAB8mXAeANhr15zWM5rXTz3e/uNVm+LWF4y3BwAA\n",
              "AACALxPOAwB7rVGdmnHjmb3T1u+Z8HFMnL86ix0BAAAAAEDFJpwHAPbJCT1axrCD26aslZREXDZm\n",
              "amzeVpTlrgAAAAAAoGISzgMA++yqIT2iZYPU4+0Xrtkct4w33h4AAAAAACKE8wBAKTSsXSNuGtYn\n",
              "bf3eCQvinXnG2wMAAAAAgHAeACiVYw9sEd8+NPV4+4iIy8ZMiU2FxtsDAAAAAFC1CecBgFL71eAe\n",
              "0aphrZS1xWu3xI3Pz8hyRwAAAAAAULEI5wGAUmtQq0bcvIvx9g++uzDenrsqix0BAAAAAEDFIpwH\n",
              "AMrE0V2bx8j+7dLWfz5mamzcuj2LHQEAAAAAQMUhnAcAyswvB3WPNo1qp6wtWbclbnhuZpY7AgAA\n",
              "AACAikE4DwCUmfq7GW//yKSF8Y/ZK7PYEQAAAAAAVAzCeQCgTH2zS7P4zuHt09Yvf3xqbDDeHgAA\n",
              "AACAKkY4DwCUuV+c0j3aNk493v7T9Vvjt8/MyHJHAAAAAABQvoTzAECZq5tfPW4d3jdt/f/eXxSv\n",
              "zVqRxY4AAAAAAKB8CecBgIw4onPTOPeIDmnrVzw+NdZvNt4eAAAAAICqQTgPAGTM5ad0i/ZN6qSs\n",
              "Ld9QGNc981GWOwIAAAAAgPIhnAcAMqZOzepx24i+kUikrj8+eXG8MmN5dpsCAAAAAIByIJwHADKq\n",
              "//5N4rwBHdPWf/HEtFi3eVv2GgIAAAAAgHIgnAcAMu7nJ3WLjk1Tj7dfsbEwrn3aeHsAAAAAAHKb\n",
              "cB4AyLjaNavtcrz92H8uiRcKlmW3KQAAAAAAyCLhPACQFYd2bBIXfnP/tPUrx06PtZuMtwcAAAAA\n",
              "IDcJ5wGArPnZtw6MTs3rpqyt+qwwrn6qIMsdAQAAAABAdgjnAYCsqVXj8/H2eWnG2z81ZWk8P+3T\n",
              "7DYFAAAAAABZIJwHALLq4PaN46KjO6Wt/+rJ6bH6s8IsdgQAAAAAAJlXJcL5N954Iy666KLo1q1b\n",
              "NGzYMGrXrh2dOnWKM844Ix555JEoKirKaj8//elPI5FIJP907Ngxq+sDQHn7yQld44AW9VLWVm/a\n",
              "FleNM94eAAAAAIDckigpKSkp7yYyZfXq1TFq1Kh4/vnnd3ncIYccEg8++GB069Yt4z1NmjQpjjji\n",
              "iCguLk7+rEOHDrFgwYKMr72nevbsGRERBQWCEQAyZ8qidTH0zgmxozj1o8gdZ38jBvdpneWuAAAA\n",
              "AAAgM3L2k/Nr166NAQMG7BTMd+rUKc4555y44IILYuDAgVGjRo2IiPjggw9i4MCBGQ/It2/fHhde\n",
              "eOFOwTwAVFV92zWK7+1ivP2vn5weKzcabw8AAAAAQG7I2XD+ggsuiNmzZ0dERK1ateL++++PefPm\n",
              "xYMPPhj/+7//G6+99lrMmDEj+vXrFxERy5cvj2HDhkUmBwncfPPNMW3atIiIOPvsszO2DgBUFv91\n",
              "Qpfo2jL1ePu1m7fHr56cltH/bwYAAAAAgGzJyXD+gw8+iLFjxyb377777hg1atTXjuvcuXO8+OKL\n",
              "0b59+4iImDx5cjz88MMZ6WnmzJnxm9/8JiIizjnnnDjxxBMzsg4AVCb51avF7SMOimp5iZT1FwqW\n",
              "x1NTlma5KwAAAAAAKHs5Gc6PHj06ud2nT58YOXJk2mMbNWoUv/zlL5P7v//978u8n5KSkrjwwguj\n",
              "sLAwGjduHP/93/9d5msAQGXVu23D+MHAzmnrVz9VECs2bs1iRwAAAAAAUPZyMpyfOHFicnvQoEG7\n",
              "Pf7UU09Nbr/33nuxcOHCMu3nzjvvjLfffjsiIm699dZo0aJFmV4fACq7Hx7XJbrtVz9lbd3m7XHl\n",
              "2OnG2wMAAAAAUKnlZDi/fPny5HaHDh12e3ybNm2iWrVqyf1XX321zHpZtGhRXHHFFRERcdRRR8V3\n",
              "v/vdMrs2AOSKmtXz4rYRfaN6mvH2L320PJ78cEmWuwIAAAAAgLKTk+H83n6yLpFIRCLx/8OAgoKC\n",
              "MuvlkksuiY0bN0bNmjXjrrvu2mkdAOD/69WmYfzwuAPS1q8eVxDLNxhvDwAAAABA5ZST4Xzz5s2T\n",
              "23syon7JkiVRVFSU3J8xY0aZ9PHoo4/GM888ExERl19+eXTv3r1MrgsAueoHxx4QPVo1SFnbsLUo\n",
              "fvHENOPtAQAAAAColKqXdwOZcMghh8Sbb74ZERHjx4+PG264YZfHP/fcczvtr1mzptQ9rF69Ov7z\n",
              "P/8zIiK6du0aV155ZamvubdWrFgRK1eu3OvzCgsLo3r1nPyfBgAVXI1qeXH7t/vGaXe8Fdt3fD2E\n",
              "f3Xminh88pIYfkjbcugOAAAAAAD2XU4msKeffnr87ne/i4iIf/7znzFmzJgYPnx4ymM3btwYN910\n",
              "09d+Vlo/+clPksH4X/7yl8jPzy/1NffWn//857j22mv36dwvTx8AgGzq3qpB/OdxXeL2l2anrF/7\n",
              "dEEceUDTaNWwdpY7AwAAAACAfZeTY+0HDhwYRx55ZHL/vPPOi0cfffRrxy1YsCBOPvnkmD9//k4/\n",
              "37JlS6nWf/HFF+OBBx6IiIhzzz03jj322FJdDwCqmosHdo7ebRqmrG3cWhRXPG68PQAAAAAAlUtO\n",
              "hvMREQ8++GA0a9YsIiI2bdoUI0eOjC5dusSoUaPioosuiuOOOy66du0aEyZMiDp16sRJJ52UPLd+\n",
              "/fr7vO6mTZvie9/7XkRENG3aNG677bbS/UUAoAqqUS0vbhvRN2pWS/2o8sbslfHY+4uy3BUAAAAA\n",
              "AOy7nBxrHxHRsWPHmDBhQgwbNiymTZsWERFz586NuXPn7nRcy5Yt46GHHopx48bFCy+8EBERjRo1\n",
              "2ud1r7zyyliwYEFERNx+++3JXxAoD5dcckmMGDFir887/fTTfec8AOXuwP3qx49P7BK3jJ+Vsv6b\n",
              "Z2bEN7s0jzaNjLcHAAAAAKDiy+kEtkuXLvHhhx/GY489FmPGjIlJkybFypUrIz8/Pzp16hRDhw6N\n",
              "iy++OJo1axZ///vfk+e1a9dun9abPHly/PGPf4yIiGOPPTbOPffcMvl77KsWLVpEixYt9vq8/Pz8\n",
              "DHQDAHvvP47qFC8ULI8pi9Z9rbaxsCiueHxq3P/d/pFIJLLfHAAAAAAA7IWcDucjIvLy8uKss86K\n",
              "s846a5fHFRQUJLf79eu3T2tNnTo1iouLIyJi4cKFcfjhh6c9duXKlcntTz/9dKdjf/3rX8epp566\n",
              "Tz0AQC6pXi0vbhveJ07941uxraj4a/U356yKRyYtirMPa18O3QEAAAAAwJ7L+XB+T6xbty5mzJiR\n",
              "3B8wYECprzlv3ryYN2/eHh27bdu2mDhxYnL/y8E9AFR1XVrWj5+d2DVufH5myvpvn/0ojurSLNo1\n",
              "qZPlzgAAAAAAYM/llXcDFcETTzwR27dvj4iIHj16xCGHHFLOHQEAX3bhUZ3iG+0bpaxt2rYjLn98\n",
              "ahQXl2S3KQAAAAAA2AtVPpwvLCyM3/72t8n9iy++eJ+vdd5550VJScke/bnnnnuS53Xo0GGn2nnn\n",
              "nVeavxIA5JxqeYm4bUTfyK+e+tFlwrzV8dCkhVnuCgAAAAAA9lyVDudLSkri+9//fsyfPz8iInr1\n",
              "6lWqcB4AyJzOzevFZScdmLZ+43MzYuHqzVnsCAAAAAAA9lzOhvMvvvhiXH311cng/avmzZsXQ4YM\n",
              "SX6CvXbt2nH33XdHjRo1Uh6/YMGCSCQSyT/33ntvploHANI4/8j949AOjVPWNm/bEZeNmWK8PQAA\n",
              "AAAAFVL18m4gU9asWRPXXXddXHfdddG1a9fo3bt3NG3aNDZu3BizZs2KyZMnJ4+tVatWjBs3Lvr1\n",
              "61eOHQMAu1MtLxG3jugbp/z+H7F1e/HX6hM/XhP3v7Mgzjty/3LoDgAAAAAA0svZcP7LZs+eHbNn\n",
              "z05ZO/TQQ+Ouu+6Kgw8+OMtdAQD7Yv9mdePyk7vFtU9/lLJ+8/hZMfDAFtGxWd0sdwYAAAAAAOnl\n",
              "7Fj7wYMHx9ixY+OHP/xh9OvXL9q2bRv5+fnRqFGj6N69e5x77rnxzDPPxMSJEwXzAFDJnHtEx+i/\n",
              "f5OUtS3bjbcHAAAAAKDiSZSUlHjnmp307NkzIiIKCgrKuRMASO+T1Zvi5N+9GVu270hZ//XgHnHB\n",
              "N423BwAAAACgYsjZT84DALmtQ9O68YtB3dLWbxk/M+av/CyLHQEAAAAAQHrCeQCg0vrOYR3iiE5N\n",
              "U9YKi4rj0tFTYofx9gAAAAAAVADCeQCg0srLS8Qtw/tE3ZrVUtYnL1wXd7/1cZa7AgAAAACArxPO\n",
              "AwCVWrsmdeIXg7qnrd/64qyYu8J4ewAAAAAAypdwHgCo9M45rH1884BmKWvbiorjZ6OnRNGO4ix3\n",
              "BQAAAAAA/59wHgCo9BKJRNw0rHfUy6+esj5l0br425vG2wMAAAAAUH6E8wBATmjbuE786tT04+3/\n",
              "56XZMWf5xix2BAAAAAAA/59wHgDIGf/Wr10c3bV5ytq2HcbbAwAAAABQfoTzAEDOSCQScdPQ3lE/\n",
              "zXj7qYvXx13/mJ/lrgAAAAAAQDgPAOSY1o1qx6+H9Ehb/93Ls2Pmsg1Z7AgAAAAAAITzAEAOGnFI\n",
              "2zj2wNTj7bfvKImfPTYlthtvDwAAAABAFgnnAYCck0gk4sahfaJBrdTj7QuWbog7X5+X5a4AAAAA\n",
              "AKjKhPMAQE7ar2GtuHpIz7T1P7wyJwqWrs9iRwAAAAAAVGXCeQAgZw09uE2c0L1FylpRcUlcOnpq\n",
              "bCsy3h4AAAAAgMwTzgMAOSuRSMQNZ/aOhrVrpKzP+HRD3PHa3Cx3BQAAAABAVSScBwByWosGteK6\n",
              "09OPt//za3Nj+hLj7QEAAAAAyCzhPACQ807r2zq+1aNlytrn4+2nRGHRjix3BQAAAABAVSKcBwBy\n",
              "XiKRiN+e2Tsa10k93n7mso3xx1eMtwcAAAAAIHOE8wBAldC8fn5cd3qvtPU735gXUxaty15DAAAA\n",
              "AABUKcJ5AKDKGNynVQzqvV/K2o5/jbffut14ewAAAAAAyp5wHgCoMhKJRFx/eq9oWrdmyvqcFZ/F\n",
              "71+Zk+WuAAAAAACoCoTzAECV0rReflx/Rvrx9ne9MS/+uXBtFjsCAAAAAKAqEM4DAFXOoN6tYnCf\n",
              "VilrxSVhvD0AAAAAAGVOOA8AVEnXnd4rmtVLPd5+3spN8d8vzc5yRwAAAAAA5DLhPABQJTWpWzN+\n",
              "c0bvtPW/vTk/PvhkTRY7AgAAAAAglwnnAYAq6+Re+8XpB7VOWSspibh09NTYss14ewAAAAAASk84\n",
              "DwBUadcM6RnN6+enrH28alPc9uKsLHcEAAAAAEAuEs4DAFVa47o144Yz04+3v/vtj2PSx8bbAwAA\n",
              "AABQOsJ5AKDKO7FHyxh6cJuUtZKSiJ+PmRKbtxVluSsAAAAAAHKJcB4AICKuHtwzWjZIPd5+werN\n",
              "cct44+0BAAAAANh3wnkAgIhoWKdG3Dg0/Xj7eycsiHfnr85iRwAAAAAA5BLhPADAvxzXrWWMOKRt\n",
              "2vplY6bEpkLj7QEAAAAA2HvCeQCAL/nV4B7RqmGtlLVFa7bETc/PzHJHAAAAAADkAuE8AMCXNKxd\n",
              "I24a1idt/YF3P4kJc1dlsSMAAAAAAHKBcB4A4CuO6do8zurXLm39sjFT4zPj7QEAAAAA2AvCeQCA\n",
              "FK48tXu0TjPefsm6LXHDczOy3BEAAAAAAJWZcB4AIIX6tWrELcP7pq0/PHFhvDlnZRY7AgAAAACg\n",
              "MhPOAwCk8c0uzeKcw9qnrV8+Zmps3Lo9ix0BAAAAAFBZCecBAHbhF4O6R5tGtVPWlq7fGr991nh7\n",
              "AAAAAAB2TzgPALAL9fKrx63D+6StP/reonh91oosdgQAAAAAQGUknAcA2I0BBzSLfz+iQ9r6FY9P\n",
              "i/VbjLcHAAAAACA94TwAwB64/ORu0b5JnZS1ZRu2xvXPfJTljgAAAAAAqEyE8wAAe6Dubsbbj/lg\n",
              "cbw6c3kWOwIAAAAAoDIRzgMA7KHDOjWN8wZ0TFu/4vFpsX6z8fYAAAAAAHydcB4AYC/8/OQDo2PT\n",
              "1OPtV2wsjGufLshyRwAAAAAAVAbCeQCAvVCnZvW4dUTfSCRS15/455J46SPj7QEAAAAA2JlwHgBg\n",
              "L/Xr2CQuOHL/tPVfjp0Wazdty2JHAAAAAABUdMJ5AIB9cOlJB0anZnVT1lZuLIxrjLcHAAAAAOBL\n",
              "hPMAAPugVo1qceuIvpGXZrz9uA+Xxvjpn2a3KQAAAAAAKizhPADAPjqkQ+O46KhOaetXjp0eqz8r\n",
              "zGJHAAAAAABUVMJ5AIBS+MmJXaNz89Tj7Vdv2hZXPWW8PQAAAAAAwnkAgFKpVaNa3P7tg9KOt392\n",
              "6qfx7FTj7QEAAAAAqjrhPABAKR3UrlF875jOaeu/Hjc9VhlvDwAAAABQpQnnAQDKwI9P6BJdW9ZL\n",
              "WVuzaVv8+snpUVJSkuWuAAAAAACoKITzAABlIL96tbhtRN+olma+/fPTl8XTxtsDAAAAAFRZwnkA\n",
              "gDLSp22juGRg+vH2V42bHis2bs1iRwAAAAAAVBTCeQCAMvSj47pEt/3qp6yt27w9rhxrvD0AAAAA\n",
              "QFUknAcAKEM1q+fFbSP6RvU04+1f+mh5jPtwaZa7AgAAAACgvAnnAQDKWK82DeMHxx6Qtn71UwWx\n",
              "fIPx9gAAAAAAVYlwHgAgA35w7AHRo1WDlLX1W7bHL5+YZrw9AAAAAEAVIpwHAMiAL8bb16iWerz9\n",
              "KzNXxBOTl2S5KwAAAAAAyotwHgAgQ3q0bhA/Oq5L2vo1TxfEsvXG2wMAAAAAVAXCeQCADPr+wM7R\n",
              "q03q8fYbtxbFFU9MNd4eAAAAAKAKEM4DAGRQjWp5cfuIg9KOt3991soY/f7iLHcFAAAAAEC2CecB\n",
              "ADLswP3qx49P6Jq2fv0zH8XSdVuy2BEAAAAAANkmnAcAyILvHd0p+rZtmLK2sbAoLn/ceHsAAAAA\n",
              "gFwmnAcAyILq1fLithF9o2a11I9fb85ZFY++tyjLXQEAAAAAkC3CeQCALOnSsn789Fvpx9v/5pmP\n",
              "YvHazVnsCAAAAACAbBHOAwBk0UVHdYpvtG+UsrZp2w7j7QEAAAAAcpRwHgAgi6rlJeK2EX0jv3rq\n",
              "x7C3566OhyYuzHJXAAAAAABkmnAeACDLOjevF5d+68C09RuemxGL1hhvDwAAAACQS4TzAADl4Lvf\n",
              "3D8O6dA4ZW3zth1x2ZgpUVxsvD0AAAAAQK4QzgMAlINqeYm4dXifqFUj9ePYu/PXxAPvfpLlrgAA\n",
              "AAAAyBThPABAOenUvF78/KRuaes3PT8zPlm9KYsdAQAAAACQKcJ5AIBydN6AjtG/Y5OUtS3bd8Rl\n",
              "o6cabw8AAAAAkAOE8wAA5SgvLxG3DO8TtWtUS1mftGBN3DthQXabAgAAAACgzAnnAQDKWcdmdeOK\n",
              "U9KPt7/lhZnx8Srj7QEAAAAAKjPhPABABTDq8A5xeKfU4+23bi+Oy0ZPiR3G2wMAAAAAVFrCeQCA\n",
              "CiAvLxG3Du8bdWqmHm///idr4563P85yVwAAAAAAlBXhPABABdGuSZ34xaDuaeu3vjAr5q74LIsd\n",
              "AQAAAABQVoTzAAAVyDn928eRBzRNWSssKo5LjbcHAAAAAKiUhPMAABVIXl4ibh7WJ+qmGW//4aJ1\n",
              "8bc352e5KwAAAAAASks4DwBQwbRtXCd+NbhH2vp/vzQ75izfmMWOAAAAAAAoLeE8AEAFdFa/dnFU\n",
              "l2Ypa9v+Nd6+aEdxlrsCAAAAAGBfCecBACqgROLz8fb186unrE9ZvD7u+ofx9gAAAAAAlYVwHgCg\n",
              "gmrdqHb8ehfj7X/38uyYtcx4ewAAAACAykA4DwBQgY04tG0MPLB5ytr2HSVx6egpsd14ewAAAACA\n",
              "Ck84DwBQgSUSibhpaJ+oXyv1ePtpS9bHX16fl+WuAAAAAADYW8J5AIAKbr+GteLqIT3T1v/w6pz4\n",
              "aOmGLHYEAAAAAMDeEs4DAFQCww5uE8d3a5Gy9sV4+21FxtsDAAAAAFRUwnkAgEogkUjEDUN7R8Pa\n",
              "NVLWP/p0Q/zptblZ7goAAAAAgD0lnAcAqCRaNqgV156Wfrz9n16bG9OXrM9iRwAAAAAA7CnhPABA\n",
              "JXL6Qa3jxB4tU9aKio23BwAAAACoqITzAACVSCKRiN+e2Ssa1Uk93n7mso3xx1fnZLkrAAAAAAB2\n",
              "RzgPAFDJtKhfK647vVfa+p9fnxdTF6/LXkMAAAAAAOyWcB4AoBIa0qdVnNJrv5S1Hf8ab19YtCPL\n",
              "XQEAAAAAkI5wHgCgEkokEnH9Gb2iSd2aKeuzl38Wv3/ZeHsAAAAAgIpCOA8AUEk1q5cf1+9ivP1f\n",
              "3pgXHy5al72GAAAAAABISzgPAFCJndqnVZzap1XKWnFJxM8e+zC2bjfeHgAAAACgvAnnAQAquetP\n",
              "7xXN6qUebz9v5ab4n5dmZ7kjAAAAAAC+SjgPAFDJNalbM35zRu+09b+9OT8++GRtFjsCAAAAAOCr\n",
              "hPMAADng5F77xWl9W6esFZdEXDZ6ivH2AAAAAADlSDgPAJAjrj2tZzSrl5+yNn/VprjthVlZ7ggA\n",
              "AAAAgC8I5wEAckTjujXjhjN7pa3//e2P470Fa7LYEQAAAAAAXxDOAwDkkG/13C+GfqNNylrJv8bb\n",
              "b9lmvD0AAAAAQLYJ5wEAcszVQ3pGi/qpx9svWL05bnlhZpY7AgAAAABAOA8AkGMa1qkRNw7tnbZ+\n",
              "z9sL4t35q7PYEQAAAAAAwnkAgBx0fPeWMfyQtmnrPx8zNTZvK8piRwAAAAAAVZtwHgAgR/16cI/Y\n",
              "r0GtlLWFazbHzc8bbw8AAAAAkC3CeQCAHNWwdo24aVj68fb3vfNJTJi3KosdAQAAAABUXcJ5AIAc\n",
              "NvDAFvFvh7ZLW//5mKnxWaHx9gAAAAAAmSacBwDIcVcO7h6tG6Yeb7947Za48bkZWe4IAAAAAKDq\n",
              "Ec4DAOS4BrVqxM3D+6StPzRxYbw1x3h7AAAAAIBMEs4DAFQBR3VpHmcf1j5t/fLHp8bGrduz2BEA\n",
              "AAAAQNUinAcAqCJ+Oah7tGlUO2VtybotcYPx9gAAAAAAGSOcBwCoIurlV49bdjHe/pFJi+KN2Suz\n",
              "2BEAAAAAQNUhnAcAqEKOPKBZjDq8Q9r6FY9PjQ3G2wMAAAAAlDnhPABAFXPFKd2iXZPU4+0/Xb81\n",
              "fvPMR1nuCAAAAAAg9wnnAQCqmLr51ePW4X3T1h97f3G8NnNFFjsCAAAAAMh9wnkAgCro8E5N47wB\n",
              "HdPWr3hiaqzfbLw9AAAAAEBZEc4DAFRRPz/5wOjQtE7K2vINhXHtMwVZ7ggAAAAAIHcJ5wEAqqg6\n",
              "NT8fb59IpK4/MXlJvPzR8uw2BQAAAACQo4TzAABVWP/9m8R3j9w/bf0XY6fFus3bstgRAAAAAEBu\n",
              "Es4DAFRxl37rwNi/Wd2UtZUbC+Oap4y3BwAAAAAoLeE8AEAVV7tmtbhtRJ+04+2f/HBpjJ++LLtN\n",
              "AQAAAADkGOE8AABxSIcmcdFRndLWf/XktFizyXh7AAAAAIB9JZwHACAiIn56Ytfo3Dz1ePtVn22L\n",
              "q423BwAAAADYZ8J5AAAiIqJWjWpx24i+kZdmvP3TU5bGc9M+zW5TAAAAAAA5QjgPAEDSN9o3jv84\n",
              "unPa+q+enB6rPivMYkcAAAAAALlBOA8AwE5+fEKX6NKiXsramk3b4tdPTo+SkpIsdwUAAAAAULkJ\n",
              "5wEA2MkX4+2rpZlv//z0ZfHMVOPtAQAAAAD2hnAeAICv6duuUXz/mPTj7a8aNz1WbjTeHgAAAABg\n",
              "TwnnAQBI6UfHHxAHtqyfsrZ28/b41ZPTjLcHAAAAANhDwnkAAFLKr14tbv92+vH2LxQsj6emLM1y\n",
              "VwAAAAAAlZNwHgCAtHq1aRg/OPaAtPWrxhXEig1bs9gRAAAAAEDlJJwHAGCXfnjsAdG9VYOUtfVb\n",
              "tscvxxpvDwAAAACwO8J5AAB2qWb1vLhtRJ+onma8/cszVsTYfy7JclcAAAAAAJWLcB4AgN3q2bph\n",
              "/Oi4Lmnr1zxVEMvWG28PAAAAAJCOcB4AgD1yybGdo2fr1OPtN2wtil88MdV4ewAAAACANITzAADs\n",
              "kRrV8uL2b/eNGtVSj7d/bdbKGP3B4ix3BQAAAABQOQjnAQDYY932axA/PqFr2vr1T38Un67fksWO\n",
              "AAAAAAAqB+E8AAB75XtHd4o+bRumrG0sLIrLH59mvD0AAAAAwFdUiXD+jTfeiIsuuii6desWDRs2\n",
              "jNq1a0enTp3ijDPOiEceeSSKiorKfM0FCxbE3/72t/jOd74Tffv2jcaNG0eNGjWiSZMm0adPn/je\n",
              "974Xb7zxRpmvCwCQadWr5cVtI/pGzWqpHyX/MXtl/N97i7LcFQAAAABAxZYoyeGPNa1evTpGjRoV\n",
              "zz///C6PO+SQQ+LBBx+Mbt26lXrNf/7zn3HxxRfHpEmT9uj4gQMHxn333Rft27cv9dplpWfPnhER\n",
              "UVBQUM6dAAAV2Z2vz4ubx89MWauXXz1e+MnR0aZR7Sx3BQAAAABQMeVsOL927do4/PDDY/bs2cmf\n",
              "derUKY444oioVatWzJs3L95+++3Yvn17RES0bNky3n333ejYsWOp1n300Udj5MiRO/2sa9eu0atX\n",
              "r2jWrFmsW7cuJkyYEIsXL07WW7duHW+++WZ06tSpVGuXFeE8ALAninYUx/C/vBMfLlqXsv7NA5rF\n",
              "Axf0j0Qikd3GAAAAAAAqoOrl3UCmXHDBBclgvlatWvHXv/41Ro0atdMx8+bNi5EjR8Z7770Xy5cv\n",
              "j2HDhsX7779fJm8gH3DAAXHhhRfGd77znWjTps1OteLi4rj33nvjRz/6UWzevDmWLl0a55xzTkyY\n",
              "MMGb1wBApfHFePtBf3gzthUVf63+1txV8fCkhXHOYR3KoTsAAAAAgIolJz85/8EHH8Shhx6a3H/4\n",
              "4Ye/9mn2L6xbty769u0bCxcujIiIBx98MM4555x9XvuNN96Ijz/+OEaNGhXVqlXb5bFjx46NoUOH\n",
              "JvfHjx8fJ5100j6vXVZ8ch4A2Bt//ce8uOG51OPt69SsFi/8+Oho16ROlrsCAAAAAKhY8sq7gUwY\n",
              "PXp0crtPnz5pg/mIiEaNGsUvf/nL5P7vf//7Uq19zDHHxHnnnbfbYD4i4swzz4z+/fsn95999tlS\n",
              "rQ0AUB4u+GanOLh9o5S1zdt2xM/HTI3i4pz7fVAAAAAAgL2Sk+H8xIkTk9uDBg3a7fGnnnpqcvu9\n",
              "995Lfoo+G4488sjk9oIFC7K2LgBAWamWl4jbRvSN/OqpHy3fmb86Hpr4SZa7AgAAAACoWHIynF++\n",
              "fHlyu0OH3X/HaZs2bXb6pPurr76akb5S+fJ3zO/YsSNr6wIAlKVOzevFz0/ulrZ+w3MzY+HqzVns\n",
              "CAAAAACgYsnJcL6kZO/GpiYSiZ1C8mx+1/q0adOS2+3atcvaugAAZe38AR2jX8fGKWtbtu+IS8dM\n",
              "Md4eAAAAAKiycjKcb968eXJ7T0bUL1myJIqKipL7M2bMyEhfX7Vw4cKdPqV/wgknZGVdAIBMyMtL\n",
              "xK3D+0atGqkfMSd9vCbue2dBdpsCAAAAAKggqpd3A5lwyCGHxJtvvhkREePHj48bbrhhl8c/99xz\n",
              "O+2vWbMmY7192U9/+tPkKPv27dvHkCFDyvT6K1asiJUrV+71eYWFhVG9ek7+TwMAyLCOzerGFSd3\n",
              "i2ue/ihl/ebxM2PggS1i/2Z1s9wZAAAAAED5SpTs7Qz4SuD111+PY489Nrk/evToGD58eMpjN27c\n",
              "GAcddFDMnz8/+bNevXrtNG4+E+67774477zzkvsPPfRQnH322WW6xjXXXBPXXnvtPp3bvHnzWLFi\n",
              "RZn2AwBUDcXFJTHyb+/GxI9T/8LjoR0ax/9974iolpdIWQcAAAAAyEU5OdZ+4MCBceSRRyb3zzvv\n",
              "vHj00Ue/dtyCBQvi5JNP3imYj4jYsmVLRvt7//334+KLL07ujxw5ssyDeQCA8vLFePs6NaulrL//\n",
              "ydq45+2Ps9wVAAAAAED5yslwPiLiwQcfjGbNmkVExKZNm2LkyJHRpUuXGDVqVFx00UVx3HHHRdeu\n",
              "XWPChAlRp06dOOmkk5Ln1q9fP2N9ffzxxzFkyJDYunVrRET06dMn/vKXv2RsPQCA8tC+aZ34xSnd\n",
              "0tZvfWFWzFv5WRY7AgAAAAAoXzk51v4Lc+bMiWHDhu1yRH3Lli3joYceinHjxsUf//jHiPj8k/ev\n",
              "vfZamffz6aefxlFHHRXz5s2LiIhOnTrFW2+9Fa1atSrztSL2/TvnTz/99KhevXrMnDkzA10BAFVF\n",
              "cXFJfOfvE2PCvNUp6we3bxSjLx5gvD0AAAAAUCVUL+8GMqlLly7x4YcfxmOPPRZjxoyJSZMmxcqV\n",
              "KyM/Pz86deoUQ4cOjYsvvjiaNWsWf//735PntWvXrsx7Wb16dZx44onJYL5Vq1bx8ssvZyyYj4ho\n",
              "0aJFtGjRYq/Py8/Pz0A3AEBVk5eXiJuH9YmTf/eP2LRtx9fqkxeui7+/NT/+4+jO5dAdAAAAAEB2\n",
              "5XQ4HxGRl5cXZ511Vpx11lm7PK6goCC53a9fvzLtYcOGDXHSSScl12jWrFm8/PLLsf/++5fpOgAA\n",
              "FU27JnXiylN7xC/Hpp5kdNuLs+O4bi3igBaZ+1ohAAAAAICKIGe/c35vrFu3LmbMmJHcHzBgQJld\n",
              "e9OmTTFo0KD44IMPIiKiYcOGMX78+OjRo0eZrQEAUJGN7N8ujurSLGVtW1Fx/Gz01CjaUZzlrgAA\n",
              "AAAAsks4HxFPPPFEbN++PSIievToEYccckiZXHfr1q1x2mmnxdtvvx0REXXq1Ilnn322zK4PAFAZ\n",
              "JBKJuGlYn6iXn3po05RF6+Kvb87PclcAAAAAANlV5cP5wsLC+O1vf5vcv/jii8vkutu3b49hw4bF\n",
              "q6++GhGff4/7uHHj4sgjjyyT6wMAVCZtGtWOXw/unrb+u5fmxKxlG7PYEQAAAABAdlXpcL6kpCS+\n",
              "//3vx/z5n39Sq1evXmUSzu/YsSPOPvvseO655yIionr16vHYY4/FCSecUOprAwBUVt8+tF0c07V5\n",
              "ytq2HcVx6egpsd14ewAAAAAgR+VsOP/iiy/G1VdfnQzev2revHkxZMiQuOeeeyIionbt2nH33XdH\n",
              "jRo1Uh6/YMGCSCQSyT/33ntvyuNKSkriggsuiDFjxkRERF5eXjzwwANx2mmnlf4vBQBQiX0+3r53\n",
              "1K+Verz9tCXr46435mW5KwAAAACA7Ej9zmgOWLNmTVx33XVx3XXXRdeuXaN3797RtGnT2LhxY8ya\n",
              "NSsmT56cPLZWrVoxbty46NevX6nXvfPOO+O+++5L7nfu3DneeuuteOutt/bo/DvuuKPUPQAAVFSt\n",
              "GtaOqwb3iMvGTE1Z//0rc+L47i2je6sGWe4MAAAAACCzcjac/7LZs2fH7NmzU9YOPfTQuOuuu+Lg\n",
              "gw8uk7VWrFix0/6cOXNizpw5e3y+cB4AyHXDD2kbz09fFq/OXPG12vYdJXHp6Cnx5A+OjBrVcnbI\n",
              "EwAAAABQBeXsO56DBw+OsWPHxg9/+MPo169ftG3bNvLz86NRo0bRvXv3OPfcc+OZZ56JiRMnllkw\n",
              "DwDA7iUSibhxaO9okGa8fcHSDfHn14y3BwAAAAByS6KkpKSkvJugYunZs2dERBQUFJRzJwBALhv7\n",
              "z8Xxk/+bkrJWPS8R4354ZPRs3TDLXQEAAAAAZEbOfnIeAICK7YyD2sQJ3VumrBUVl8TPHpsS24qK\n",
              "s9wVAAAAAEBmCOcBACgXiUQibhjaKxrVqZGyPnPZxrjj1TlZ7goAAAAAIDOE8wAAlJsW9WvFtaf1\n",
              "TFv/0+vzYtri9VnsCAAAAAAgM4TzAACUq9P6to6Te+6XsrajuCQuHT0lCot2ZLkrAAAAAICyJZwH\n",
              "AKBcJRKJuP6MXtE4zXj7Wcs3xh9eMd4eAAAAAKjchPMAAJS75vXz4/ozeqWt3/n6vJiyaF32GgIA\n",
              "AAAAKGPCeQAAKoTBfVrHqb1bpawVl0T8bPSU2LrdeHsAAAAAoHISzgMAUGFcd3rPaFq3Zsra3BWf\n",
              "xe9eNt4eAAAAAKichPMAAFQYTevlx292Md7+r/+YF5MXrs1iRwAAAAAAZUM4DwBAhXJK71YxpG/r\n",
              "lLXikohLjbcHAAAAACoh4TwAABXOdaf1jGb18lPW5q/cFLe/OCvLHQEAAAAAlI5wHgCACqdx3Zpx\n",
              "w5npx9v/71sfx/sL1mSxIwAAAACA0hHOAwBQIX2r535x5jfapKyVlERcNmZqbNlmvD0AAAAAUDkI\n",
              "5wEAqLCuHtIjmtdPPd7+41Wb4tYXjLcHAAAAACoH4TwAABVWozo148Yze6et3zPh45g4f3UWOwIA\n",
              "AAAA2DfCeQAAKrQTerSMYQe3TVn7Yrz95m1FWe4KAAAAAGDvCOcBAKjwrhrSI1o2SD3efuGazXHL\n",
              "eOPtAQAAAICKTTgPAECF17B2jbhpWJ+09XsnLIh35hlvDwAAAABUXMJ5AAAqhWMPbBHfPjT1ePuI\n",
              "iMvGTIlNhcbbAwAAAAAVk3AeAIBK41eDe0SrhrVS1hav3RI3Pj8jyx0BAAAAAOwZ4TwAAJVGg1o1\n",
              "4uZdjLd/8N2F8fbcVVnsCAAAAABgzwjnAQCoVI7u2jxG9m+ftv7zMVNj49btWewIAAAAAGD3hPMA\n",
              "AFQ6vxzULdo0qp2ytmTdlrjhuZlZ7ggAAAAAYNeE8wAAVDr1dzPe/pFJC+Mfs1dmsSMAAAAAgF0T\n",
              "zgMAUCl9s0uz+M7h6cfbX/741NhgvD0AAAAAUEEI5wEAqLR+cUr3aNs49Xj7T9dvjd8+MyPLHQEA\n",
              "AAAApCacBwCg0qqbXz1uHd43bf3/3l8Ur81akcWOAAAAAABSE84DAFCpHdG5aZx7RIe09Ssenxrr\n",
              "NxtvDwAAAACUL+E8AACV3uWndIv2TeqkrC3fUBjXPfNRljsCAAAAANiZcB4AgEqvTs3qcduIvpFI\n",
              "pK4/PnlxvDJjeXabAgAAAAD4EuE8AAA5of/+TeL8Afunrf/iiWmxbvO2LHYEAAAAAPD/CecBAMgZ\n",
              "l510YOzfrG7K2oqNhXHt08bbAwAAAADlQzgPAEDOqF2zWtw6vE/a8fZj/7kkXihYlt2mAAAAAABC\n",
              "OA8AQI45tGOTuPCb6cfbXzl2eqzdZLw9AAAAAJBdwnkAAHLOz751YHRqnnq8/arPCuPqpwqy3BEA\n",
              "AAAAUNUJ5wEAyDm1alSL20b0jbw04+2fmrI0np/2aXabAgAAAACqNOE8AAA56eD2jeOiozulrf/q\n",
              "yemx+rPCLHYEAAAAAFRlwnkAAHLWT07oGge0qJeytnrTtrhqnPH2AAAAAEB2COcBAMhZtWpUi9tH\n",
              "9I1qaebbPzvt03hm6tIsdwUAAAAAVEXCeQAAclrfdo3i4mPSj7f/9ZPTY+VG4+0BAAAAgMwSzgMA\n",
              "kPP+8/gucWDL+ilrazdvj189OS1KSkqy3BUAAAAAUJUI5wEAyHn51avFbbsYb/9CwfJ4aorx9gAA\n",
              "AABA5gjnAQCoEnq3bRg/GNg5bf3qpwpixcatWewIAAAAAKhKhPMAAFQZPzyuS3TbL/V4+3Wbt8eV\n",
              "Y6cbbw8AAAAAZIRwHgCAKqNm9by4/dt9o3qa8fYvfbQ8nvxwSZa7AgAAAACqAuE8AABVSs/WDeOH\n",
              "xx2Qtn71uIJYvsF4ewAAAACgbAnnAQCocn5w7AHRo1WDlLUNW4viF09MM94eAAAAAChTwnkAAKqc\n",
              "GtU+H29fo1rq8favzlwRj0823h4AAAAAKDvCeQAAqqTurRrEfx3fJW392qcL4tP1W7LYEQAAAACQ\n",
              "y4TzAABUWRcf0zl6t2mYsrZxa1Fc8bjx9gAAAABA2RDOAwBQZVWvlhe3jegbNaulfix+Y/bKeOz9\n",
              "RVnuCgAAAADIRcJ5AACqtAP3qx8/PjH9ePvrn5kRS9YZbw8AAAAAlI5wHgCAKu8/juoUfds1Sln7\n",
              "rLAornh8qvH2AAAAAECpCOcBAKjyqlfLi9tH9Ima1VM/Hr85Z1U8Msl4ewAAAABg3wnnAQAgIg5o\n",
              "UT9+dmLXtPXfPvtRLFqzOYsdAQAAAAC5RDgPAAD/cuFRneIb7RulrG3atiMuf3xqFBcbbw8AAAAA\n",
              "7D3hPAAA/Eu1vETcNqJv5KcZbz9h3up4aNLCLHcFAAAAAOQC4TwAAHxJ5+b14rKTDkxbv/G5GbFw\n",
              "tfH2AAAAAMDeEc4DAMBXnH/k/nFoh8Ypa5u37YjLxkwx3h4AAAAA2CvCeQAA+IpqeYm4dUTfqFUj\n",
              "9ePyxI/XxP3vLMhuUwAAAABApSacBwCAFPZvVjcuP7lb2vrN42fFglWbstgRAAAAAFCZCecBACCN\n",
              "c4/oGP33b5KytmW78fYAAAAAwJ4TzgMAQBp5eYm4bXjfqF2jWsr6ewvWxj0TFmS3KQAAAACgUhLO\n",
              "AwDALrRvWid+MSj9ePtbxs+M+Ss/y2JHAAAAAEBlJJwHAIDd+M5hHeKITk1T1gqLiuPS0VNih/H2\n",
              "AAAAAMAuCOcBAGA38vISccvwPlG3Zurx9pMXrou73/o4y10BAAAAAJWJcB4AAPZAuyZ14heDuqet\n",
              "3/rirJi7wnh7AAAAACA14TwAAOyhcw5rH988oFnK2rai4vjZ6ClRtKM4y10BAAAAAJWBcB4AAPZQ\n",
              "IpGIm4b1jnr51VPWpyxaF39703h7AAAAAODrhPMAALAX2jauE786Nf14+/95aXbMWb4xix0BAAAA\n",
              "AJWBcB4AAPbSv/VrF0d3bZ6ytm2H8fYAAAAAwNcJ5wEAYC8lEom4eVjvqJ9mvP3Uxevjrn/Mz3JX\n",
              "AAAAAEBFJpwHAIB90Kph7fj1kB5p6797eXbMXLYhix0BAAAAABWZcB4AAPbRiEPaxrEHph5vv31H\n",
              "SfzssSmx3Xh7AAAAACCE8wAAsM8SiUTcOLRPNKiVerx9wdINcefr87LcFQAAAABQEQnnAQCgFPZr\n",
              "WCuuHtIzbf0Pr8yJgqXrs9gRAAAAAFARCecBAKCUhh7cJk7o3iJlrai4JC4dPTW2FRlvDwAAAABV\n",
              "mXAeAABKKZFIxA1n9o6GtWukrM/4dEPc8drcLHcFAAAAAFQkwnkAACgDLRrUiutOTz/e/s+vzY3p\n",
              "S4y3BwAAAICqSjgPAABl5LS+reOkni1T1j4fbz8lCot2ZLkrAAAAAKAiEM4DAEAZSSQS8Zszekfj\n",
              "OqnH289ctjH++Irx9gAAAABQFQnnAQCgDDWvnx/Xnd4rbf3ON+bFlEXrstcQAAAAAFAhCOcBAKCM\n",
              "De7TKgb13i9lbce/xttv3W68PQAAAABUJcJ5AAAoY4lEIq4/vVc0rVszZX3Ois/i96/MyXJXAAAA\n",
              "AEB5Es4DAEAGNK2XH9efkX68/V1vzIt/LlybxY4AAAAAgPIknAcAgAwZ1LtVDO7TKmWtuCSMtwcA\n",
              "AACAKkQ4DwAAGXTd6b2iWb3U4+3nrdwU//3S7Cx3BAAAAACUB+E8AABkUJO6NeM3Z/ROW//bm/Pj\n",
              "g0/WZLEjAAAAAKA8COcBACDDTu61X5xxUOuUtZKSiEtHT40t24y3BwAAAIBcJpwHAIAsuOa0ntG8\n",
              "fn7K2serNsVtL87KckcAAAAAQDYJ5wEAIAsa1akZN5yZfrz93W9/HJM+Nt4eAAAAAHKVcB4AALLk\n",
              "xB4tY+jBbVLWSkoiLhszJTZvK8pyVwAAAABANgjnAQAgi64e3DNaNkg93v6T1ZvjlvHG2wMAAABA\n",
              "LhLOAwBAFjWsUyNuGtonbf3eCQvi3fmrs9gRAAAAAJANwnkAAMiyY7u1iBGHtE1bv2zMlNhUaLw9\n",
              "AAAAAOQS4TwAAJSDXw3uEa0a1kpZW7RmS9z0/MwsdwQAAAAAZJJwHgAAykHD2jXipmHpx9s/8O4n\n",
              "MWHuqix2BAAAAABkknAeAADKyTFdm8fI/u3S1i8bMzU+M94eAAAAAHKCcB4AAMrRLwd1jzaNaqes\n",
              "LVm3JW54bkaWOwIAAAAAMkE4DwAA5ah+rRpx8y7G2z88cWG8OWdlFjsCAAAAADJBOA8AAOXsm12a\n",
              "xTmHtU9bv3zM1Ni4dXsWOwIAAAAAyppwHgAAKoBfDOoebRunHm+/dP3W+O2zxtsDAAAAQGUmnAcA\n",
              "gAqgXn71uGV4+vH2j763KF6ftSKLHQEAAAAAZUk4DwAAFcSAzs3i34/okLZ+xePTYv0W4+0BAAAA\n",
              "oDISzgMAQAVy+cndon2TOilryzZsjeuf+SjLHQEAAAAAZUE4DwAAFUjd/Opx6y7G24/5YHG8OnN5\n",
              "FjsCAAAAAMqCcB4AACqYwzo1jfMGdExbv+LxabF+s/H2AAAAAFCZCOcBAKAC+vnJB0bHpqnH26/Y\n",
              "WBjXPl2Q5Y4AAAAAgNIQzgMAQAVUp2b1uHVE30gkUtef+OeSeOkj4+0BAAAAoLIQzgMAQAXVr2OT\n",
              "uODI/dPWfzl2WqzdtC2LHQEAAAAA+0o4DwAAFdilJx0YnZrVTVlbubEwrjHeHgAAAAAqBeE8AABU\n",
              "YLVqVItbR/SNvDTj7cd9uDTGT/80u00BAAAAAHtNOA8AABXcIR0ax0VHdUpbv3Ls9Fj9WWEWOwIA\n",
              "AAAA9pZwHgAAKoGfnNg1OjdPPd5+9aZtcdVTxtsDAAAAQEUmnAcAgEqgVo1qcfu3D0o73v7ZqZ/G\n",
              "s1ONtwcAAACAiko4DwAAlcRB7RrF947pnLb+63HTY5Xx9gAAAABQIQnnAQCgEvnxCV2ia8t6KWtr\n",
              "Nm2LXz85PUpKSrLcFQAAAACwO8J5AACoRPKrV4vbRvSNamnm2z8/fVk8bbw9AAAAAFQ4wnkAAKhk\n",
              "+rRtFJcMTD/e/qpx02PFxq1Z7AgAAAAA2B3hPAAAVEI/Oq5LdNuvfsraus3b48qxxtsDAAAAQEUi\n",
              "nAcAgEqoZvW8uG1E36ieZrz9Sx8tj3EfLs1yVwAAAABAOsJ5AACopHq1aRg/OPaAtPWrnyqI5RuM\n",
              "twcAAACAikA4DwAAldgPjj0gerRqkLK2fsv2+OUT04y3BwAAAIAKQDgPAACV2Bfj7WtUSz3e/pWZ\n",
              "K+KJyUuy3BUAAAAA8FXCeQAAqOR6tG4QPzquS9r6NU8XxLL1xtsDAAAAQHkSzgMAQA74/sDO0atN\n",
              "6vH2G7cWxRVPTDXeHgAAAADKkXAeAAByQI1qeXH7iIPSjrd/fdbKGP3+4ix3BQAAAAB8QTgPAAA5\n",
              "4sD96sePT+iatn79Mx/F0nVbstgRAAAAAPAF4TwAAOSQ7x3dKfq2bZiytrGwKC5/3Hh7AAAAACgP\n",
              "wnkAAMgh1avlxW0j+kbNaqkf9d+csyoefW9RlrsCAAAAAITzAACQY7q0rB8//Vb68fa/eeajWLx2\n",
              "cxY7AgAAAACE8wAAkIMuOqpTfKN9o5S1Tdt2GG8PAAAAAFkmnAcAgBxULS8Rt43oG/nVUz/yvz13\n",
              "dTw0cWGWuwIAAACAqks4DwAAOapz83px6bcOTFu/4bkZsWiN8fYAAAAAkA3CeQAAyGHf/eb+cUiH\n",
              "xilrm7ftiMvGTIniYuPtAQAAACDThPMAAJDDquUl4tbhfaJWjdSP/u/OXxMPvPtJlrsCAAAAgKpH\n",
              "OA8AADmuU/N68fOTuqWt3/T8zPhk9aYsdgQAAAAAVY9wHgAAqoDzBnSM/h2bpKxt2b4jLhs91Xh7\n",
              "AAAAAMgg4TwAAFQBeXmJuHVEn6hdo1rK+qQFa+LeCQuy2xQAAAAAVCHCeQAAqCI6NK0bV5ySfrz9\n",
              "LS/MjI9XGW8PAAAAAJkgnAcAgCpk1OEd4vBOqcfbb91eHJeNnhI7jLcHAAAAgDInnAcAgCokLy8R\n",
              "tw7vG3Vqph5v//4na+Oetz/OclcAAAAAkPuqRDj/xhtvxEUXXRTdunWLhg0bRu3ataNTp05xxhln\n",
              "xCOPPBJFRUUZW3vbtm3xwAMPxKBBg6JDhw5Rq1ataNWqVQwYMCBuu+22WLVqVcbWBgCAVNo1qRO/\n",
              "GNQ9bf3WF2bF3BWfZbEjAAAAAMh9iZKSkpydWbl69eoYNWpUPP/887s87pBDDokHH3wwunVL//2b\n",
              "+2LmzJkxcuTI+PDDD9Me06JFi7jnnnti0KBBZbp2afTs2TMiIgoKCsq5EwAAMqW4uCRG3T0x3p67\n",
              "OmX9oHaN4vHvD4hqeYksdwYAAAAAuSlnw/m1a9fG4YcfHrNnz07+rFOnTnHEEUdErVq1Yt68efH2\n",
              "22/H9u3bIyKiZcuW8e6770bHjh3LZP3FixfHYYcdFkuXLo2IiEQiEUcffXR07tw5Vq5cGS+//HJs\n",
              "2bIlIiJq1KgR48ePj+OOO65M1i4t4TwAQNWweO3mOOl//hGbtu1IWb/ilG5x8TGds9wVAAAAAOSm\n",
              "nA3nhw4dGmPHjo2IiFq1asVf//rXGDVq1E7HzJs3L0aOHBnvvfdeREQcfPDB8f7770ciUfpPBx19\n",
              "9NHx5ptvRkREhw4dYty4cdG3b99kfdWqVXHWWWfFK6+8EhERTZo0iXnz5kWjRo1KvXZpCecBAKqO\n",
              "RyYtjF88MS1lrWb1vHj2R9+MLi3rZ7krAAAAAMg9Ofmd8x988EEymI+IuPvuu78WzEdEdO7cOV58\n",
              "8cVo3759RERMnjw5Hn744VKv/9xzzyWD+Zo1a8bTTz+9UzAfEdGsWbMYN25cdOrUKSIi1qxZE7fc\n",
              "ckup1wYAgL1xVr92cVSXZilr24qK49LRU6JoR3GWuwIAAACA3JOT4fzo0aOT23369ImRI0emPbZR\n",
              "o0bxy1/+Mrn/+9//vtTr/+lPf0pun3vuudG7d++Ux9WtWzeuu+665P5dd90VRUVFpV4fAAD2VCKR\n",
              "iJuH9Yn6+dVT1qcsXh93/WN+lrsCAAAAgNyTk+H8xIkTk9uDBg3a7fGnnnpqcvu9996LhQsX7vPa\n",
              "n332WXJUfUTE+eefv8vjhw0bFvXq1YuIzz89/49//GOf1wYAgH3RulHt+PXgHmnrv3t5dsxatjGL\n",
              "HQEAAABA7snJcH758uXJ7Q4dOuz2+DZt2kS1atWS+6+++uo+rz1hwoQoLCyMiM8/Gd+vX79dHl+r\n",
              "Vq044ogjymRtAADYVyMObRsDD2yesrZ9R0lcOnpKbDfeHgAAAAD2WerZlZVcSUnJXh2fSCQikUgk\n",
              "9wsKCvZ57RkzZiS3e/fuHdWr7/4/4oMPPjheeumlr50PAADZkkgk4qahfeLE/3kjNm79+lctTVuy\n",
              "Pi4bPSW6t2pQDt0BAAAA8IUhfVtH60a1y7sN9kFOhvPNmzePmTNnRkTs0Yj6JUuW7PRd76UJyGfN\n",
              "mpXc3pNP7UdEtG/fPrn9Rd8AAJBt+zWsFVcP6RmXjp6Ssv7kh0vjyQ+XZrkrAAAAAL6sb7tGwvlK\n",
              "KifD+UMOOSTefPPNiIgYP3583HDDDbs8/rnnnttpf82aNfu89urVq5PbLVu23KNz9ttvvzJZ+6tW\n",
              "rFgRK1eu3OvzCgsL9+gT/wAA5J5hB7eJ56d9Gq/MXFHerQAAAABATsnJBPb000+P3/3udxER8c9/\n",
              "/jPGjBkTw4cPT3nsxo0b46abbvraz/bVZ599ltyuXXvPfmPly8d9+fzS+vOf/xzXXnvtPp3bvHnq\n",
              "7xsFACC3JRKJuGFo7/jW//wj1m/ZXt7tAAAAAEDOyCvvBjJh4MCBceSRRyb3zzvvvHj00Ue/dtyC\n",
              "BQvi5JNPjvnz5+/08y1btuzz2lu3bk1u16xZc4/Oyc/PL5O1AQCgLLRsUCuuPa1nebcBAAAAADkl\n",
              "J8P5iIgHH3wwmjVrFhERmzZtipEjR0aXLl1i1KhRcdFFF8Vxxx0XXbt2jQkTJkSdOnXipJNOSp5b\n",
              "v379fV63Vq1aye1t27bt0TmFhYXJ7T39tD0AAGTS6Qe1jn87tF15twEAAAAAOSMnx9pHRHTs2DEm\n",
              "TJgQw4YNi2nTpkVExNy5c2Pu3Lk7HdeyZct46KGHYty4cfHCCy9ERESjRo32ed169eolt/f0U/Bf\n",
              "Pu7L55fWJZdcEiNGjNjr804//XTfOQ8AUMUlEom4aVjv6NW2Ybw2c0Ws+qxw9ycBAAAAkHH18uV4\n",
              "lVVO/zfXpUuX+PDDD+Oxxx6LMWPGxKRJk2LlypWRn58fnTp1iqFDh8bFF18czZo1i7///e/J89q1\n",
              "2/dPCDVt2jS5vXz58j06Z9myZcntJk2a7PPaX9WiRYto0aLFXp/35TH7AABUXYlEIkYd3iFGHd6h\n",
              "vFsBAAAAgEovp8P5iIi8vLw466yz4qyzztrlcQUFBcntfv367fN6Bx54YHL7k08+2aNzFi5cmNzu\n",
              "1q3bPq8NAAAAAAAAQMWUs985vzfWrVsXM2bMSO4PGDBgn6/VvXv35Pa0adOiqKhot+dMnjw55fkA\n",
              "AAAAAAAA5AbhfEQ88cQTsX379oiI6NGjRxxyyCH7fK0BAwYkx8Jv2rQp3n///V0eX1hYGO+++25y\n",
              "/7jjjtvntQEAAAAAAAComKp8OF9YWBi//e1vk/sXX3xxqa5Xr169OP7445P799577y6Pf+KJJ2Lj\n",
              "xo0R8fn3zR999NGlWh8AAAAAAACAiqdKh/MlJSXx/e9/P+bPnx8REb169Sp1OB8RcckllyS37733\n",
              "3p2+z/7LNm/eHFdddVVy/z/+4z+ievXqpV4fAAAAAAAAgIolZ8P5F198Ma6++upk8P5V8+bNiyFD\n",
              "hsQ999wTERG1a9eOu+++O2rUqJHy+AULFkQikUj+2dUn4k899dQ46qijIuLzT+YPHjw4pk6dutMx\n",
              "q1evjjPOOCPmzp0bEZ9/av7yyy/f278mAAAAAAAAAJVAzn5Me82aNXHdddfFddddF127do3evXtH\n",
              "06ZNY+PGjTFr1qyYPHly8thatWrFuHHjol+/fmW2/sMPPxz9+/ePTz/9NBYsWBAHHXRQHHPMMdG5\n",
              "c+dYuXJlvPzyy7F58+aIiKhevXo89thj0ahRozJbHwAAAAAAAICKI2fD+S+bPXt2zJ49O2Xt0EMP\n",
              "jbvuuisOPvjgMl2zbdu28eqrr8bIkSPjww8/jJKSknj99dfj9ddf3+m45s2bxz333LPT99QDAAAA\n",
              "AAAAkFtyNpwfPHhwjB07Nl555ZWYOHFifPrpp7Fy5cqoXbt2tGrVKvr37x8jRoyIU045JfLyMjPd\n",
              "v1u3bjFx4sR49NFH45FHHomCgoJYvnx5NGrUKDp16hRDhw6N888/P5o1a5aR9QEAAAAAAACoGBIl\n",
              "JSUl5d0EFUvPnj0jIqKgoKCcOwEAAAAAAADIDZn5yDgAAAAAAAAAkCScBwAAAAAAAIAME84DAAAA\n",
              "AAAAQIYJ5wEAAAAAAAAgw4TzAAAAAAAAAJBhwnkAAAAAAAAAyDDhPAAAAAAAAABkmHAeAAAAAAAA\n",
              "ADJMOA8AAAAAAAAAGSacBwAAAAAAAIAME84DAAAAAAAAQIYJ5wEAAAAAAAAgw4TzAAAAAAAAAJBh\n",
              "wnkAAAAAAAAAyDDhPAAAAAAAAABkmHAeAAAAAAAAADJMOA8AAAAAAAAAGSacBwAAAAAAAIAME84D\n",
              "AAAAAAAAQIYJ5wEAAAAAAAAgw4TzAAAAAAAAAJBhwnkAAAAAAAAAyDDhPAAAAAAAAABkmHAeAAAA\n",
              "AAAAADJMOA8AAAAAAAAAGSacBwAAAAAAAIAME84DAAAAAAAAQIYlSkpKSsq7CSqW+vXrx/bt26Nz\n",
              "587l3QoAAAAAAABAmevcuXM89dRTWV2zelZXo1KoW7dubNq0qbzbyAk7duyINWvWJPebNGkS1apV\n",
              "K8eOgFzjPgNkmvsMkGnuM0AmuccAmeY+A2Sa+0xu8cl5yKCCgoLo1atXcn/69OnRs2fPcuwIyDXu\n",
              "M0Cmuc8AmeY+A2SSewyQae4zQKa5z+QW3zkPAAAAAAAAABkmnAcAAAAAAACADBPOAwAAAAAAAECG\n",
              "CecBAAAAAAAAIMOE8wAAAAAAAACQYcJ5AAAAAAAAAMgw4TwAAAAAAAAAZJhwHgAAAAAAAAAyTDgP\n",
              "AAAAAAAAABkmnAcAAAAAAACADBPOAwAAAAAAAECGCecBAAAAAAAAIMOE8wAAAAAAAACQYdXLuwHI\n",
              "Zc2bN4+rr756p32AsuQ+A2Sa+wyQae4zQCa5xwCZ5j4DZJr7TG5JlJSUlJR3EwAAAAAAAACQy4y1\n",
              "BwAAAAAAAIAME84DAAAAAAAAQIYJ5wEAAAAAAAAgw4TzAAAAAAAAAJBhwnkAAAAAAAAAyDDhPAAA\n",
              "AAAAAABkmHAeAAAAAAAAADJMOA8AAAAAAAAAGSacBwAAAAAAAIAME84DAAAAAAAAQIYJ5wEAAAAA\n",
              "AAAgw4TzAAAAAAAAAJBhwnkAAAAAAAAAyDDhPKSwbdu2eOCBB2LQoEHRoUOHqFWrVrRq1SoGDBgQ\n",
              "t912W6xatSon1wayJ9uv9XvvvTcSicRe/bnwwgvLtAcgO3bs2BFTp06Nv//97/H9738/Dj300KhZ\n",
              "s2bytT1w4MCM9+B5BnJbed1nPM9A1bBgwYL429/+Ft/5zneib9++0bhx46hRo0Y0adIk+vTpE9/7\n",
              "3vfijTfeyGgPJSUlMXbs2Bg+fHh07tw5ateuHc2bN49DDz00rr322li4cGFG1wcyq7zuM6+//vpe\n",
              "P8uccMIJZd4HkFmrVq2KcePGxZVXXhmnnXZa9OzZM3mfqVOnTrRp0yZOOumkuPHGG2PJkiUZ68N7\n",
              "MxVYCbCTGTNmlBx00EElEZH2T4sWLUqeffbZnFobyJ7yeK3fc889u1wv1Z8LLrigzNYHsmPs2LEl\n",
              "derU2eVr+5hjjsloD55nILeV533G8wzktsmTJ5f0799/j1/fAwcOLPnkk0/KvI8lS5aUHHfccbtc\n",
              "u169eiX33HNPma8NZFZ532dee+21vX6WOf7448tsfSA7Tj311D1+jefn55dcc801JTt27CjTHrw3\n",
              "U7FVDyBp8eLFcfzxx8fSpUsjIiKRSMTRRx8dnTt3jpUrV8bLL78cW7ZsiRUrVsQZZ5wR48ePj+OO\n",
              "O67Srw1kT0V4rXfr1i2OP/743R43YMCAMl0XyLx169bF5s2by239inCPAzKrvO8zX/A8A7ln1qxZ\n",
              "MWnSpJ1+1rVr1+jVq1c0a9Ys1q1bFxMmTIjFixdHxOefQD3iiCPizTffjE6dOpVJDxs2bIiTTjop\n",
              "pk+fnvxZ//79o2fPnrF+/fp49dVXY926dfHZZ5/F+eefH3l5efHv//7vZbI2kHkV4T7zhdatW8eZ\n",
              "Z5652+O6detWpusC2dWsWbPo3r17dOjQIerVqxebN2+OuXPnxqRJk6KoqCgKCwvjmmuuifnz58d9\n",
              "991XJmt6b6biE87Dl5x99tnJG1aHDh1i3Lhx0bdv32R91apVcdZZZ8Urr7wS27dvjxEjRsS8efOi\n",
              "UaNGlXptIHsqwmv9sMMOizvuuKPMrgdUPC1btox+/fol/7zwwgvx+9//PuPrVoR7HJAd5XWf+YLn\n",
              "GchdBxxwQFx44YXxne98J9q0abNTrbi4OO6999740Y9+FJs3b46lS5fGOeecExMmTIhEIlHqtX/4\n",
              "wx8mg/kmTZrE6NGjd3qzetOmTfG9730vHnrooYiIuOiii2LAgAFxwAEHlHptIHvK8z7zhS5duniW\n",
              "gRw1cODAGDJkSBx//PFpnxGWL18eP/nJT+KRRx6JiIj7778/hgwZEsOHDy/1+t6bqfh85zz8y3PP\n",
              "PRdvvvlmRETUrFkznn766Z1uWBGf/5bTuHHjkr8puWbNmrjlllsq9dpA9nitA5l28sknxyeffBLL\n",
              "li2Lp59+Oq666qo45ZRTsvIPLPc4qBrK8z4D5LZWrVrFPffcEzNnzozLL7/8a4FZREReXl5897vf\n",
              "jQcffDD5s3fffTdefPHFUq8/ffr0ZOgeEfHwww9/7VNkdevWjfvvvz85lWPbtm1x1VVXlXptIDvK\n",
              "+z4DVA2XXnppfO9739vlL++1bNkyHnrooZ2eNe66665Sr+29mcpBOA//8qc//Sm5fe6550bv3r1T\n",
              "Hle3bt247rrrkvt33XVXFBUVVdq1gezxWgcybb/99ov27duXy9rucVA1lOd9BshtxxxzTJx33nlR\n",
              "rVq13R575plnRv/+/ZP7zz77bKnXv/POO6O4uDgiIk488cQ46aSTUh6Xl5e30xvYjz32WKxatarU\n",
              "6wOZV973GYAvSyQScf755yf3//nPf5b6mt6bqRyE8xARn332WbzyyivJ/S/fEFMZNmxY1KtXLyI+\n",
              "/62if/zjH5VybSB7vNaBXOYeBwBk25FHHpncXrBgQamuVVJSEk899VRyf3fPMkceeWTy03A7duzY\n",
              "6Vwgd5TlfQYglebNmye3N27cWKpreW+m8hDOQ0RMmDAhCgsLI+Lz3xjq16/fLo+vVatWHHHEEcn9\n",
              "V199tVKuDWSP1zqQy9zjAIBs+/J3P+/YsaNU15ozZ04sXrw4uT9w4MDdnnPssccmtz3LQG4qy/sM\n",
              "QCofffRRcrtjx46lupb3ZiqP6uXdAFQEM2bMSG737t07qlff/Uvj4IMPjpdeeulr51emtYHsqUiv\n",
              "9XXr1sXo0aOjoKAg1q9fHw0aNIjWrVvHEUccEb17997pH58Ae6Ii3eOAqsHzDDBt2rTkdrt27Up1\n",
              "rS8/i+y3337RqlWr3Z5z8MEHpzwfyB1leZ/5qi1btsTTTz8dU6ZMiTVr1kTdunWjZcuWcdhhh8U3\n",
              "vvGNPfo3FVC5LV26NG677bbk/vDhw0t1Pe/NVB7u8BARs2bNSm536NBhj8758vcszpw5s1KuDWRP\n",
              "RXqtjxs3LsaNG5ey1qVLl7j88svju9/9rje1gT1Wke5xQNXgeQaqtoULF+706a4TTjihVNfzLAN8\n",
              "VVnfZ75q0qRJcdppp6WstW7dOn7yk5/Ef/3Xf0WNGjXKdF2gfG3evDkWLFgQzz//fNxyyy2xYsWK\n",
              "iIjo3r17XHHFFaW6tueZysNYe4iI1atXJ7dbtmy5R+fst99+ye01a9ZUyrWB7Kksr/U5c+bEhRde\n",
              "GKeddlps2rQpK2sClV9luccBVYPnGch9P/3pT5Mjptu3bx9Dhgwp1fVK+yyzefPm5BhZIDeU9X1m\n",
              "byxdujQuu+yyOProo2P58uVZWxcoe2+99VYkEonkn7p160bPnj3j0ksvTQbzgwYNigkTJkT9+vVL\n",
              "tZb3ZioP4TxExGeffZbcrl279h6d8+Xjvnx+ZVobyJ6K8Fpv3759/OxnP4vnnnsuFi1aFFu3bo1N\n",
              "mzbFrFmz4s9//nN069YteewzzzwTZ599dhQXF5d6XSD3VYR7HFA1eJ4B7rvvvnj88ceT+zfeeGPk\n",
              "5+eX6pqlfZb56jWAyi0T95kvNG/ePC655JIYO3ZszJ8/PzZv3hxbt26N+fPnx3333bfTd0S/++67\n",
              "MWTIkNiyZUuZrA1ULI0bN45HHnkknn322WjUqFGpr+e9mcrDWHuIiK1btya3a9asuUfnfPmBrDQP\n",
              "SOW5NpA95f1aP+OMM+Lf//3fIy/v67+X17Vr1+jatWtccMEFcfHFF8c999wTERFPPfVUPPzww/Gd\n",
              "73ynVGsDua+873FA1eB5Bnj//ffj4osvTu6PHDkyzj777FJft7TPMhGeZyBXZOo+ExFx6KGHxuLF\n",
              "i1PeZ/bff//Yf//9Y9SoUXH11VfH9ddfHxER7733Xtx+++3xq1/9qkx6ALKrdevW8YMf/CAiIkpK\n",
              "SmLjxo0xa9asmDx5cqxduzZGjhwZf/3rX+Mvf/lLdO3atVRreW+m8vDJeYiIWrVqJbe3bdu2R+d8\n",
              "eVzZnv4WUkVbG8ie8n6tN2rUKOUb2V9Ws2bN+N///d846qijkj+7+eabS7UuUDWU9z0OqBo8z0DV\n",
              "9vHHH8eQIUOSbzz36dMn/vKXv5TJtUv7LBPheQZyQSbvMxER9erV221glkgk4rrrrtvpFwL++7//\n",
              "O4qKisqsDyB7OnXqFHfccUfccccd8ac//Snuv//+mDhxYnzyySdx3nnnRUTEa6+9FocffnhMnTq1\n",
              "VGt5b6byEM5DfP5g9IU9/e2gLx/35fMr09pA9lSW13peXl5cffXVyf3p06fH4sWLs7I2UHlVlnsc\n",
              "UDV4noHc8+mnn8aJJ54Yy5Yti4jP3+geP358NGjQoEyuX9pnma9eA6h8Mn2f2VvXXXddcnvt2rXx\n",
              "7rvvlksfQGa0bt067rnnnvjP//zPiPj8dX7WWWfFjh079vma3pupPITzEBFNmzZNbi9fvnyPzvni\n",
              "QS0iokmTJpVybSB7KtNr/eijj44aNWok92fMmJG1tYHKqTLd44CqwfMM5I7Vq1fHiSeeGPPmzYuI\n",
              "iFatWsXLL78crVq1KrM1SvssU6dOnTL7Pmog+7Jxn9lbnTt3jo4dOyb3PctAbrrxxhuTvwQ0Y8aM\n",
              "eP755/f5Wt6bqTyE8xARBx54YHL7k08+2aNzFi5cmNzu1q1bpVwbyJ7K9FqvUaNGNGvWLLm/atWq\n",
              "rK0NVE6V6R4HVA2eZyA3bNiwIU466aQoKCiIiIhmzZrFyy+/HPvvv3+ZruNZBqqubN1n9sWXfznA\n",
              "swzkpjp16sSAAQOS+2+//fY+X8vzTOUhnIeI6N69e3J72rRpe/QdPpMnT055fmVaG8ieyvZa37Rp\n",
              "U3K7bt26WV0bqHwq2z0OqBo8z0DltmnTphg0aFB88MEHERHRsGHDGD9+fPTo0aPM1/rys8iyZct2\n",
              "+hRZOp5loPLL5n1mX3iWgaqhcePGye3Vq1fv83W8N1N5COchIgYMGJAcP7Zp06Z4//33d3l8YWHh\n",
              "Tt/zc9xxx1XKtYHsqUyv9fnz58eGDRuS+61bt87a2kDlVJnucUDV4HkGKretW7fGaaedlvz0WJ06\n",
              "deLZZ5+NQw45JCPrdenSJdq2bZvcf/3113d7zhtvvJHc9iwDlU+27zN7a/PmzTFr1qzkvmcZyF2f\n",
              "fvppcrs0o+W9N1N5COchIurVqxfHH398cv/ee+/d5fFPPPFEbNy4MSI+v1keffTRlXJtIHsq02v9\n",
              "7rvvTm43bNgwDjrooKytDVROlekeB1QNnmeg8tq+fXsMGzYsXn311YiIyM/Pj3HjxsWRRx6ZsTUT\n",
              "iUScdtppyf3dPcu88847MXv27IiIqFatWgwZMiRjvQFlrzzuM3vr4YcfjsLCwoj4/B7l30yQm1av\n",
              "Xh3vvPNOcr80n1733kzlIZyHf7nkkkuS2/fee2/ye4a+avPmzXHVVVcl9//jP/4jqlevXmnXBrKn\n",
              "vF7rn3322R4fO2HChLj99tuT+2eddZb7DLBHPM8AmeR5BqqGHTt2xNlnnx3PPfdcRERUr149Hnvs\n",
              "sTjhhBMyvvbFF18ceXmfv1X6wgsvxEsvvZTyuOLi4vj5z3+e3B8xYkQ0b9484/0BZaO87jObN2+O\n",
              "4uLiPTp2zpw5ccUVVyT3v/Wtb0WLFi0y1RpQhtasWbPHxxYXF8cPf/jD5C/i5Ofnx+DBg0u1vvdm\n",
              "KgfhPPzLqaeeGkcddVREfD7OY/DgwTF16tSdjlm9enWcccYZMXfu3Ij4/LeJLr/88pTXW7BgQSQS\n",
              "ieSfXf2WUlmvDVRM5XWfGTNmTPTv3z/uv//+WL9+fcpjtm7dGn/4wx/ihBNOiK1bt0ZERKNGjeLq\n",
              "q6/el78qkCM8zwCZ5nkG+EJJSUlccMEFMWbMmIiIyMvLiwceeGCnT7Tviy/fY6655pq0x/Xu3TvO\n",
              "Oeec5P7IkSO/Nt5+06ZNcd5558Vbb70VERE1a9aM66+/vlT9AdlTnveZSZMmRc+ePePOO++MFStW\n",
              "pDxmx44d8eCDD8YRRxyR/N7pmjVrxs0331yq/oDsuf/++6Nfv35x//337/Q1W181derUGDRoUDz6\n",
              "6KPJn1122WXRtGnTrx3rvZnc49cg4Esefvjh6N+/f3z66aexYMGCOOigg+KYY46Jzp07x8qVK+Pl\n",
              "l1+OzZs3R8T//63KRo0aVfq1gewpr9f6e++9F+eee25Ur149unXrFt26dYvGjRvHjh07YsmSJfHO\n",
              "O+/s9MBYu3btGDduXLRq1arUawPZNWjQoFi6dOlOP1u2bFly+/3330853vm5554r9fcYep6BqqG8\n",
              "7jOeZyC33XnnnXHfffcl9zt37hxvvfVWMgjfnTvuuKPUPdxxxx0xefLkKCgoiNWrV8exxx4bhx12\n",
              "WPTo0SM2bNgQr776aqxduzZ5/F//+tc44IADSr0ukB3lfZ+ZOXNmXHLJJfHDH/4wDjjggOjZs2c0\n",
              "adIk8vLyYtmyZfHOO+/EqlWrksdXq1Yt7r///ujbt2+p1gWy6/3339/p3y0HHnhgNG7cOBKJRKxe\n",
              "vTqmTp2aDMa/MGzYsDL7pWLvzVR8wnn4krZt28arr74aI0eOjA8//DBKSkri9ddf/9pvSjdv3jzu\n",
              "ueeenb6/ozKvDWRPeb/Wi4qKYvr06TF9+vS0x/Tv3z/uvffeUn3HEVB+Pvroo/jkk0/S1jdt2hRT\n",
              "pkz52s+3bdtW6rXL+x4HZEd53mciPM9ArvrqJ0nnzJkTc+bM2ePzyyKcb9CgQbz44osxatSo5HdR\n",
              "T5w4MSZOnLjTcfXq1Ys//OEPce6555Z6TSB7KsJ9JuLzUdazZ8+O2bNnpz3mwAMPjLvvvjsGDBhQ\n",
              "JmsC2ZGfn5/c3pN/t9SvXz+uueaa+K//+q+oVq1amfTgvZmKTzgPX9GtW7eYOHFiPProo/HII49E\n",
              "QUFBLF++PBo1ahSdOnWKoUOHxvnnnx/NmjXLqbWB7Mn2a33kyJHRtWvXmDBhQrz77rsxb968WLVq\n",
              "VaxevTqKi4ujYcOGsf/++8fhhx8ew4cPj29+85tlsi5QNXmeATLB8wyQLa1bt46XX345xo4dGw89\n",
              "9FBMnjw5Pv3006hXr160b98+hgwZEhdccEG0b9++vFsFKpGjjjoq3n///XjnnXdiwoQJMWvWrFi9\n",
              "enWsXr06CgsLo2HDhtGuXbs47LDD4rTTTouTTz45EolEebcN7KXvf//7cfzxx8fLL78cEydOjIKC\n",
              "gli4cGGsW7cuIj7/RcBWrVrFQQcdFCeccEIMGzYs6tWrV+Z9eG+mYkuUlJSUlHcTAAAAAAAAAJDL\n",
              "8sq7AQAAAAAAAADIdcJ5AAAAAAAAAMgw4TwAAAAAAAAAZJhwHgAAAAAAAAAyTDgPAAAAAAAAABkm\n",
              "nAcAAAAAAACADBPOAwAAAAAAAECGCecBAAAAAAAAIMOE8wAAAAAAAACQYcJ5AAAAAAAAAMgw4TwA\n",
              "AACwT6655ppIJBKRSCTimmuuKe92AAAAoEITzgMAAECOW7BgQTJEL6s/wngAAADYO8J5AAAAAAAA\n",
              "AMiw6uXdAAAAAJBZDRo0iB/84Ae7PGbSpEnx3nvvRURE69at48wzz9zl8f37949JkyaVWY8AAACQ\n",
              "6xIlJSUl5d0EAAAAUL6uueaauPbaayMi4phjjonXX3+9fBsCAACAHGOsPQAAAAAAAABkmHAeAAAA\n",
              "AAAAADJMOA8AAADsk2uuuSYSiUQkEom45pprUh5z7733Jo8577zzIiKiuLg4Hn744TjllFOiXbt2\n",
              "kZ+fHy1btoxhw4bFO++887VrbNu2LR544IE4/vjjo127dlGrVq1o3759nHvuuTFjxoy96nn79u3x\n",
              "wAMPxLe//e3o1KlT1K9fP+rWrRv7779/jBw5MsaOHRu+ARAAAIBMqF7eDQAAAABVx6pVq+Lf/u3f\n",
              "4tVXX93p5ytWrIgnnngixo4dG3//+9/j/PPPj4iIuXPnxmmnnfa1EH7RokVx//33x6OPPhr/93//\n",
              "F2ecccZu13799dfjwgsvjHnz5n2ttmDBgliwYEE8+uijcfjhh8eYMWOiTZs2+/4XBQAAgK8QzgMA\n",
              "AABZUVRUFEOHDo0333wzatWqFcccc0y0b98+1qxZE6+88kqsW7cuSkpK4sILL4wuXbpE165d47jj\n",
              "jotFixZFgwYN4uijj45WrVrF8uXL4+WXX47NmzfHtm3b4uyzz46CgoLYf//90649evToOOecc2L7\n",
              "9u0REVG7du04/PDDo2PHjpGXlxezZ8+Od955J4qKiuLdd9+NI444It57771o2bJltv7jAQAAIMcJ\n",
              "5wEAAICsGDNmTBQWFsbpp58ef/3rX6NFixbJ2tq1a+P000+PN998M4qLi+Oqq66Khg0bxqJFi+Li\n",
              "iy+OW265JerXr588fvHixfGtb30rZsyYEVu2bInrr78+7r777pTrFhQUxLnnnhvbt2+PRCIRP/vZ\n",
              "z+LKK6+MRo0a7XTc/Pnz49xzz4233norFi1aFOeff34899xzGfnPAgAAgKrHd84DAAAAWVFYWBgD\n",
              "Bw6Mxx9/fKdgPiKicePG8cADD0S1atUiIuK1116LJ598Ms4999y48847dwrmIyLatm0bf/vb35L7\n",
              "Y8aMiaKiopTr/ud//mds2bIlIiJuv/32uPXWW78WzEdEdOrUKcaPHx89evSIiIjnn38+Jk6cuM9/\n",
              "XwAAAPgy4TwAAACQNf/zP/+TDOC/qkOHDjFgwIDkfn5+ftxyyy1pr3XkkUdGu3btIiJi48aNMXPm\n",
              "zK8dM2XKlOT323/jG9+IH//4x7vsr27duvHrX/86uf/QQw/t8ngAAADYU8J5AAAAICs6d+4cBx10\n",
              "0C6P6d27d3L7qKOO+ton7L+qV69eye2PP/74a/Uvj6UfOXJkJBKJ3fZ53HHHJbffeuut3R4PAAAA\n",
              "e8J3zgMAAABZ8eUgPZ3GjRsnt3v27Lnb45s0aZLc3rBhw9fq77zzTnL7tddei08++WS31ywpKUlu\n",
              "L1q0aLfHAwAAwJ4QzgMAAABZ0bBhw90eU736/3+rYm+P3759+9fqS5cuTW4///zzu73eV61du3av\n",
              "zwEAAIBUjLUHAAAAsmJPRsqX5vhU1q9fX6rzd+zYUeoeAAAAIEI4DwAAAOSwunXrJrefeOKJKCkp\n",
              "2es/AAAAUBaE8wAAAEDOatmyZXJ72bJl5dgJAAAAVZ1wHgAAAMhZhx12WHL77bffLsdOAAAAqOqE\n",
              "8wAAAEDOGjx4cHL7iSeeiOXLl5djNwAAAFRlwnkAAAAgZ/Xv3z8GDhwYERFbtmyJUaNGxbZt2/bo\n",
              "3G3btsXatWsz2B0AAABViXAeAAAAyGl//OMfo169ehER8dJLL8XRRx8dEydOTHv87Nmz4/rrr4+O\n",
              "HTsahQ8AAECZqV7eDQAAAABkUq9eveKRRx6Jf/u3f4vNmzfHxIkT4/DDD4/OnTvHwQcfHE2aNImt\n",
              "W7fGihUrYurUqbFkyZLybhkAAIAcJJwHAAAAct7gwYNjwoQJccEFF8QHH3wQERHz5s2LefPmpT2n\n",
              "Y8eO0bZt22y1CAAAQI4TzgMAAABVQt++feP999+PF198MZ588sl4++23Y+nSpbFu3brIz8+P5s2b\n",
              "x4EHHhiHHXZYnHTSSXHEEUdEIpEo77YBAADIEYmSkpKS8m4CAAAAAAAAAHJZXnk3AAAAAAAAAAC5\n",
              "TjgPAAAAAAAAABkmnAcAAAAAAACADBPOAwAAAAAAAECGCecBAAAAAAAAIMOE8/D/2rNjAQAAAIBB\n",
              "/taj2FcaAQAAAAAAAMzkPAAAAAAAAADM5DwAAAAAAAAAzOQ8AAAAAAAAAMzkPAAAAAAAAADM5DwA\n",
              "AAAAAAAAzOQ8AAAAAAAAAMzkPAAAAAAAAADM5DwAAAAAAAAAzOQ8AAAAAAAAAMzkPAAAAAAAAADM\n",
              "5DwAAAAAAAAAzOQ8AAAAAAAAAMzkPAAAAAAAAADM5DwAAAAAAAAAzOQ8AAAAAAAAAMzkPAAAAAAA\n",
              "AADM5DwAAAAAAAAAzOQ8AAAAAAAAAMzkPAAAAAAAAADM5DwAAAAAAAAAzOQ8AAAAAAAAAMzkPAAA\n",
              "AAAAAADM5DwAAAAAAAAAzOQ8AAAAAAAAAMzkPAAAAAAAAADM5DwAAAAAAAAAzOQ8AAAAAAAAAMzk\n",
              "PAAAAAAAAADM5DwAAAAAAAAAzOQ8AAAAAAAAAMwCNeo48oDqlS4AAAAASUVORK5CYII=\n",
              "\">\n",
              "      </div>\n",
              "      <script type=\"text/javascript\">\n",
              "        (() => {\n",
              "          const chartElement = document.getElementById(\"chart-a37bdfbf-efb5-4575-b5e7-44e28d356f89\");\n",
              "          async function getCodeForChartHandler(event) {\n",
              "            const chartCodeResponse =  await google.colab.kernel.invokeFunction(\n",
              "                'getCodeForChart', [\"chart-a37bdfbf-efb5-4575-b5e7-44e28d356f89\"], {});\n",
              "            const responseJson = chartCodeResponse.data['application/json'];\n",
              "            await google.colab.notebook.addCell(responseJson.code, 'code');\n",
              "          }\n",
              "          chartElement.onclick = getCodeForChartHandler;\n",
              "        })();\n",
              "      </script>\n",
              "      <style>\n",
              "        .colab-quickchart-chart-with-code  {\n",
              "            display: block;\n",
              "            float: left;\n",
              "            border: 1px solid transparent;\n",
              "        }\n",
              "\n",
              "        .colab-quickchart-chart-with-code:hover {\n",
              "            cursor: pointer;\n",
              "            border: 1px solid #aaa;\n",
              "        }\n",
              "      </style>"
            ]
          },
          "metadata": {}
        }
      ],
      "source": [
        "show(results)"
      ]
    },
    {
      "cell_type": "markdown",
      "id": "small-encoding",
      "metadata": {
        "id": "small-encoding"
      },
      "source": [
        "The left column is the timestamps; the right column is the quantities."
      ]
    },
    {
      "cell_type": "markdown",
      "id": "following-contrary",
      "metadata": {
        "id": "following-contrary"
      },
      "source": [
        "## Plotting\n",
        "\n",
        "`results` provides a function called `plot` we can use to plot\n",
        "the results, and the ModSim library provides `decorate`, which we can use to label the axes and give the figure a title:"
      ]
    },
    {
      "cell_type": "code",
      "execution_count": 43,
      "id": "saved-hands",
      "metadata": {
        "id": "saved-hands",
        "outputId": "4f39af3d-1d97-406c-d504-0e204eb1fbab",
        "colab": {
          "base_uri": "https://localhost:8080/",
          "height": 309
        }
      },
      "outputs": [
        {
          "output_type": "display_data",
          "data": {
            "text/plain": [
              "<Figure size 450x300 with 1 Axes>"
            ],
            "image/png": "[encoded data removed]"
          },
          "metadata": {}
        }
      ],
      "source": [
        "results.plot()\n",
        "\n",
        "decorate(title='Olin-Wellesley bikeshare',\n",
        "         xlabel='Time step (min)',\n",
        "         ylabel='Number of bikes')"
      ]
    },
    {
      "cell_type": "markdown",
      "id": "egyptian-korea",
      "metadata": {
        "id": "egyptian-korea"
      },
      "source": [
        "The result should be a plot with time on the $x$-axis and the number of bikes on the $y$-axis.\n",
        "Since we only ran three time steps, it might not be very interesting."
      ]
    },
    {
      "cell_type": "markdown",
      "id": "limited-interstate",
      "metadata": {
        "id": "limited-interstate"
      },
      "source": [
        "## Summary\n",
        "\n",
        "This chapter introduces the tools we need to run simulations, record the results, and plot them.\n",
        "\n",
        "We used a `State` object to represent the state of the system.\n",
        "Then we used the `flip` function and an `if` statement to simulate a single time step.\n",
        "We used a `for` loop to simulate a series of steps, and a `TimeSeries` to record the results.\n",
        "Finally, we used `plot` and `decorate` to plot the results.\n",
        "\n",
        "In the next chapter, we will extend this simulation to make it a little more realistic."
      ]
    },
    {
      "cell_type": "markdown",
      "id": "fallen-surprise",
      "metadata": {
        "id": "fallen-surprise"
      },
      "source": [
        "## Exercises\n",
        "\n",
        "Before you go on, you might want to work on the following exercises."
      ]
    },
    {
      "cell_type": "markdown",
      "id": "capital-internship",
      "metadata": {
        "id": "capital-internship"
      },
      "source": [
        "### Exercise 1\n",
        "\n",
        "What happens if you spell the name of a state variable wrong?  Edit the following cell, change the spelling of `wellesley`, and run it.\n",
        "\n",
        "The error message uses the word *attribute*, which is another name for what we are calling a state variable."
      ]
    },
    {
      "cell_type": "code",
      "execution_count": 46,
      "id": "helpful-zambia",
      "metadata": {
        "id": "helpful-zambia",
        "outputId": "4d50d4f6-b8ff-4265-82e1-b6081b952431",
        "colab": {
          "base_uri": "https://localhost:8080/"
        }
      },
      "outputs": [
        {
          "output_type": "execute_result",
          "data": {
            "text/plain": [
              "2"
            ]
          },
          "metadata": {},
          "execution_count": 46
        }
      ],
      "source": [
        "bikeshare = State(olin=10, wellesley=2)\n",
        "\n",
        "bikeshare.wellesley"
      ]
    },
    {
      "cell_type": "markdown",
      "id": "dirty-multiple",
      "metadata": {
        "id": "dirty-multiple"
      },
      "source": [
        "### Exercise 2\n",
        "\n",
        "Make a `State` object with a third state variable, called `downtown`, with initial value 0, and display the state of the system."
      ]
    },
    {
      "cell_type": "code",
      "execution_count": 47,
      "id": "beneficial-mainland",
      "metadata": {
        "id": "beneficial-mainland",
        "outputId": "5d547e10-41e0-4032-bdfc-0826cf123180",
        "colab": {
          "base_uri": "https://localhost:8080/"
        }
      },
      "outputs": [
        {
          "output_type": "execute_result",
          "data": {
            "text/plain": [
              "olin         10\n",
              "wellesley     2\n",
              "downtown      0\n",
              "Name: state, dtype: int64"
            ]
          },
          "metadata": {},
          "execution_count": 47
        }
      ],
      "source": [
        "bikesharenew = State(olin=10, wellesley=2, downtown = 0)\n",
        "bikesharenew"
      ]
    },
    {
      "cell_type": "markdown",
      "id": "christian-madrid",
      "metadata": {
        "id": "christian-madrid"
      },
      "source": [
        "### Exercise 3\n",
        "\n",
        "Wrap the code in the chapter in a function named `run_simulation` that takes three parameters, named `p1`, `p2`, and `num_steps`.\n",
        "\n",
        "It should:\n",
        "\n",
        "1. Create a `TimeSeries` object to hold the results.\n",
        "\n",
        "2. Use a for loop to run `step` the number of times specified by `num_steps`, passing along the specified values of `p1` and `p2`.\n",
        "\n",
        "3. After each step, it should save the number of bikes at Olin in the `TimeSeries`.\n",
        "\n",
        "4. After the for loop, it should plot the results and\n",
        "\n",
        "5. Decorate the axes.\n",
        "\n",
        "To test your function:\n",
        "\n",
        "1. Create a `State` object with the initial state of the system.\n",
        "\n",
        "2. Call `run_simulation` with parameters `p1=0.3`, `p2=0.2`, and `num_steps=60`."
      ]
    },
    {
      "cell_type": "code",
      "source": [
        "def run_simulation(p1, p2, num_steps):\n",
        "    newresults = TimeSeries()\n",
        "    newresults[0] = bikeshare.olin\n",
        "    for i in range(num_steps):\n",
        "        print(i)\n",
        "        step(p1,p2)\n",
        "        newresults[i+1] = bikeshare.olin\n",
        "\n",
        "    newresults.plot()\n",
        "\n",
        "    decorate(title = \"Time series of olin \", xlabel = \"Time\", ylabel = \" number of bikes\")"
      ],
      "metadata": {
        "id": "bjrObOx2Zvc-"
      },
      "id": "bjrObOx2Zvc-",
      "execution_count": 78,
      "outputs": []
    },
    {
      "cell_type": "code",
      "execution_count": 80,
      "id": "spare-honduras",
      "metadata": {
        "id": "spare-honduras",
        "outputId": "6909f706-4990-4d67-8279-fcc7c96e76ad",
        "colab": {
          "base_uri": "https://localhost:8080/",
          "height": 1000
        }
      },
      "outputs": [
        {
          "output_type": "stream",
          "name": "stdout",
          "text": [
            "0\n",
            "1\n",
            "Moving a bike to Wellesley\n",
            "2\n",
            "3\n",
            "4\n",
            "5\n",
            "Moving a bike to Wellesley\n",
            "6\n",
            "7\n",
            "8\n",
            "9\n",
            "10\n",
            "11\n",
            "12\n",
            "Moving a bike to Olin\n",
            "13\n",
            "14\n",
            "15\n",
            "Moving a bike to Olin\n",
            "16\n",
            "Moving a bike to Olin\n",
            "17\n",
            "Moving a bike to Wellesley\n",
            "18\n",
            "Moving a bike to Wellesley\n",
            "Moving a bike to Olin\n",
            "19\n",
            "20\n",
            "21\n",
            "22\n",
            "23\n",
            "24\n",
            "Moving a bike to Olin\n",
            "25\n",
            "26\n",
            "27\n",
            "Moving a bike to Wellesley\n",
            "28\n",
            "29\n",
            "30\n",
            "31\n",
            "32\n",
            "Moving a bike to Wellesley\n",
            "Moving a bike to Olin\n",
            "33\n",
            "34\n",
            "35\n",
            "36\n",
            "Moving a bike to Olin\n",
            "37\n",
            "Moving a bike to Wellesley\n",
            "Moving a bike to Olin\n",
            "38\n",
            "Moving a bike to Wellesley\n",
            "39\n",
            "Moving a bike to Wellesley\n",
            "40\n",
            "Moving a bike to Olin\n",
            "41\n",
            "Moving a bike to Wellesley\n",
            "42\n",
            "43\n",
            "Moving a bike to Wellesley\n",
            "44\n",
            "45\n",
            "46\n",
            "47\n",
            "48\n",
            "49\n",
            "50\n",
            "51\n",
            "52\n",
            "Moving a bike to Wellesley\n",
            "53\n",
            "54\n",
            "Moving a bike to Olin\n",
            "55\n",
            "56\n",
            "57\n",
            "58\n",
            "Moving a bike to Olin\n",
            "59\n",
            "Moving a bike to Olin\n"
          ]
        },
        {
          "output_type": "display_data",
          "data": {
            "text/plain": [
              "<Figure size 450x300 with 1 Axes>"
            ],
            "image/png": "[encoded data removed]"
          },
          "metadata": {}
        }
      ],
      "source": [
        "bikeshare = State(wellesley = 10, olin = 15)\n",
        "run_simulation(0.3,0.2,60)"
      ]
    },
    {
      "cell_type": "markdown",
      "id": "instructional-finnish",
      "metadata": {
        "id": "instructional-finnish"
      },
      "source": [
        "## Under the Hood\n",
        "\n",
        "This section contains additional information about the functions we've used and pointers to their documentation.\n",
        "\n",
        "You don't need to know anything in this section, so if you are already feeling overwhelmed, you might want to skip it.\n",
        "But if you are curious, read on."
      ]
    },
    {
      "cell_type": "markdown",
      "id": "quick-citizen",
      "metadata": {
        "id": "quick-citizen"
      },
      "source": [
        "`State` and `TimeSeries` objects are based on the `Series` object defined by the Pandas library.\n",
        "The documentation is at <https://pandas.pydata.org/pandas-docs/stable/reference/api/pandas.Series.html>.\n",
        "\n",
        "`Series` objects provide their own `plot` function, which is why we call it like this:\n",
        "\n",
        "```\n",
        "results.plot()\n",
        "```\n",
        "\n",
        "Instead of like this:\n",
        "\n",
        "```\n",
        "plot(results)\n",
        "```\n",
        "\n",
        "You can read the documentation of `Series.plot` at <https://pandas.pydata.org/pandas-docs/stable/reference/api/pandas.Series.plot.html>."
      ]
    },
    {
      "cell_type": "markdown",
      "id": "digital-stretch",
      "metadata": {
        "id": "digital-stretch"
      },
      "source": [
        "`decorate` is based on Matplotlib, which is a widely used plotting library for Python.  Matplotlib provides separate functions for `title`, `xlabel`, and `ylabel`.\n",
        "`decorate` makes them a little easier to use.\n",
        "For the list of keyword arguments you can pass to `decorate`, see <https://matplotlib.org/3.2.2/api/axes_api.html?highlight=axes#module-matplotlib.axes>.\n",
        "\n",
        "The `flip` function uses NumPy's `random` function to generate a random number between 0 and 1, then returns `True` or `False` with the given probability.\n",
        "\n",
        "You can get the source code for `flip` (or any other function) by running the following cell."
      ]
    },
    {
      "cell_type": "code",
      "execution_count": null,
      "id": "agricultural-midwest",
      "metadata": {
        "id": "agricultural-midwest"
      },
      "outputs": [],
      "source": [
        "source_code(flip)"
      ]
    },
    {
      "cell_type": "code",
      "execution_count": null,
      "id": "junior-lindsay",
      "metadata": {
        "id": "junior-lindsay"
      },
      "outputs": [],
      "source": []
    }
  ],
  "metadata": {
    "celltoolbar": "Tags",
    "kernelspec": {
      "display_name": "Python 3 (ipykernel)",
      "language": "python",
      "name": "python3"
    },
    "language_info": {
      "codemirror_mode": {
        "name": "ipython",
        "version": 3
      },
      "file_extension": ".py",
      "mimetype": "text/x-python",
      "name": "python",
      "nbconvert_exporter": "python",
      "pygments_lexer": "ipython3",
      "version": "3.10.6"
    },
    "colab": {
      "provenance": [],
      "include_colab_link": true
    }
  },
  "nbformat": 4,
  "nbformat_minor": 5
}