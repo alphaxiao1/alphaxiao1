{
  "cells": [
    {
      "cell_type": "markdown",
      "metadata": {
        "id": "view-in-github",
        "colab_type": "text"
      },
      "source": [
        "<a href=\"https://colab.research.google.com/github/alphaxiao1/alphaxiao1/blob/main/chapters/chap14.ipynb\" target=\"_parent\"><img src=\"https://colab.research.google.com/assets/colab-badge.svg\" alt=\"Open In Colab\"/></a>"
      ]
    },
    {
      "cell_type": "markdown",
      "id": "infrared-shower",
      "metadata": {
        "id": "infrared-shower"
      },
      "source": [
        "# Nondimensionalization"
      ]
    },
    {
      "cell_type": "markdown",
      "id": "documentary-steal",
      "metadata": {
        "tags": [],
        "id": "documentary-steal"
      },
      "source": [
        "*Modeling and Simulation in Python*\n",
        "\n",
        "Copyright 2021 Allen Downey\n",
        "\n",
        "License: [Creative Commons Attribution-NonCommercial-ShareAlike 4.0 International](https://creativecommons.org/licenses/by-nc-sa/4.0/)"
      ]
    },
    {
      "cell_type": "code",
      "execution_count": 1,
      "id": "earned-kidney",
      "metadata": {
        "tags": [],
        "id": "earned-kidney",
        "outputId": "809ed4b1-901e-4e41-8ecd-e4a09a3a30c8",
        "colab": {
          "base_uri": "https://localhost:8080/"
        }
      },
      "outputs": [
        {
          "output_type": "stream",
          "name": "stdout",
          "text": [
            "Downloaded modsim.py\n"
          ]
        }
      ],
      "source": [
        "# download modsim.py if necessary\n",
        "\n",
        "from os.path import basename, exists\n",
        "\n",
        "def download(url):\n",
        "    filename = basename(url)\n",
        "    if not exists(filename):\n",
        "        from urllib.request import urlretrieve\n",
        "        local, _ = urlretrieve(url, filename)\n",
        "        print('Downloaded ' + local)\n",
        "\n",
        "download('https://raw.githubusercontent.com/AllenDowney/' +\n",
        "         'ModSimPy/master/modsim.py')"
      ]
    },
    {
      "cell_type": "code",
      "execution_count": 2,
      "id": "forty-hammer",
      "metadata": {
        "tags": [],
        "id": "forty-hammer"
      },
      "outputs": [],
      "source": [
        "# import functions from modsim\n",
        "\n",
        "from modsim import *"
      ]
    },
    {
      "cell_type": "code",
      "execution_count": 3,
      "id": "middle-surge",
      "metadata": {
        "tags": [],
        "id": "middle-surge",
        "outputId": "7cf83441-e051-4446-dae7-e6c67980a19e",
        "colab": {
          "base_uri": "https://localhost:8080/"
        }
      },
      "outputs": [
        {
          "output_type": "stream",
          "name": "stdout",
          "text": [
            "Downloaded chap11.py\n"
          ]
        }
      ],
      "source": [
        "download('https://github.com/AllenDowney/ModSimPy/raw/master/' +\n",
        "         'chap11.py')"
      ]
    },
    {
      "cell_type": "code",
      "execution_count": 4,
      "id": "hybrid-making",
      "metadata": {
        "tags": [],
        "id": "hybrid-making",
        "outputId": "af34c883-f3b8-45e0-ed0b-88eb9ec105a8",
        "colab": {
          "base_uri": "https://localhost:8080/"
        }
      },
      "outputs": [
        {
          "output_type": "stream",
          "name": "stdout",
          "text": [
            "Downloaded chap12.py\n"
          ]
        }
      ],
      "source": [
        "download('https://github.com/AllenDowney/ModSimPy/raw/master/' +\n",
        "         'chap12.py')"
      ]
    },
    {
      "cell_type": "code",
      "execution_count": 5,
      "id": "inclusive-characteristic",
      "metadata": {
        "tags": [],
        "id": "inclusive-characteristic",
        "outputId": "895db67e-1d1a-4558-b691-9e312ebce79b",
        "colab": {
          "base_uri": "https://localhost:8080/"
        }
      },
      "outputs": [
        {
          "output_type": "stream",
          "name": "stdout",
          "text": [
            "Downloaded chap13.py\n"
          ]
        }
      ],
      "source": [
        "download('https://github.com/AllenDowney/ModSimPy/raw/master/' +\n",
        "         'chap13.py')"
      ]
    },
    {
      "cell_type": "code",
      "execution_count": 6,
      "id": "grave-occasions",
      "metadata": {
        "tags": [],
        "id": "grave-occasions"
      },
      "outputs": [],
      "source": [
        "# import code from previous notebooks\n",
        "\n",
        "from chap11 import make_system\n",
        "from chap11 import update_func\n",
        "from chap11 import run_simulation\n",
        "from chap11 import plot_results\n",
        "\n",
        "from chap12 import calc_total_infected\n",
        "\n",
        "from chap13 import sweep_beta\n",
        "from chap13 import sweep_parameters"
      ]
    },
    {
      "cell_type": "markdown",
      "id": "brief-trademark",
      "metadata": {
        "id": "brief-trademark"
      },
      "source": [
        "In the previous chapter we swept the parameters of the Kermack-McKendrick (KM) model: the contact rate, `beta`, and the recovery rate, `gamma`.\n",
        "For each pair of parameters, we ran a simulation and computed the total fraction of the population infected.\n",
        "\n",
        "In this chapter we'll investigate the relationship between the parameters and this metric, using both simulation and analysis."
      ]
    },
    {
      "cell_type": "markdown",
      "id": "weekly-award",
      "metadata": {
        "id": "weekly-award"
      },
      "source": [
        "The figures in the previous chapter suggest that there is a relationship between the parameters of the KM model, `beta` and `gamma`, and the fraction of the population that is infected. Let's think what that relationship might be.\n",
        "\n",
        "-   When `beta` exceeds `gamma`, there are more contacts\n",
        "    than recoveries during each day. The difference between `beta` and `gamma` might be called the *excess contact rate*, in units of contacts per day.\n",
        "\n",
        "-   As an alternative, we might consider the ratio `beta/gamma`, which\n",
        "    is the number of contacts per recovery. Because the numerator and\n",
        "    denominator are in the same units, this ratio is *dimensionless*, which means it has no units.\n",
        "\n",
        "Describing physical systems using dimensionless parameters is often a\n",
        "useful move in the modeling and simulation game. In fact, it is so useful that it has a name: *nondimensionalization* (see\n",
        "<http://modsimpy.com/nondim>).\n",
        "So that's what we'll try first."
      ]
    },
    {
      "cell_type": "markdown",
      "id": "legendary-terrorism",
      "metadata": {
        "id": "legendary-terrorism"
      },
      "source": [
        "## Exploring the Results\n",
        "\n",
        "In the previous chapter, we wrote a function, `sweep_parameters`,\n",
        "that takes an array of values for `beta` and an array of values for `gamma`.\n",
        "It runs a simulation for each pair of parameters and returns a `SweepFrame` with the results.\n",
        "\n",
        "I'll run it again with the following arrays of parameters."
      ]
    },
    {
      "cell_type": "code",
      "execution_count": 7,
      "id": "genetic-morris",
      "metadata": {
        "id": "genetic-morris"
      },
      "outputs": [],
      "source": [
        "beta_array = [0.1, 0.2, 0.3, 0.4, 0.5,\n",
        "              0.6, 0.7, 0.8, 0.9, 1.0 , 1.1]\n",
        "gamma_array = [0.2, 0.4, 0.6, 0.8]\n",
        "frame = sweep_parameters(beta_array, gamma_array)"
      ]
    },
    {
      "cell_type": "markdown",
      "id": "hearing-cycle",
      "metadata": {
        "id": "hearing-cycle"
      },
      "source": [
        "Here's what the first few rows look like:"
      ]
    },
    {
      "cell_type": "code",
      "execution_count": 8,
      "id": "appointed-terrorist",
      "metadata": {
        "id": "appointed-terrorist",
        "outputId": "0c44dc69-55bf-4342-f6b6-76c333e5bc32",
        "colab": {
          "base_uri": "https://localhost:8080/",
          "height": 237
        }
      },
      "outputs": [
        {
          "output_type": "execute_result",
          "data": {
            "text/plain": [
              "                0.2       0.4       0.6       0.8\n",
              "Parameter                                        \n",
              "0.1        0.010756  0.003642  0.002191  0.001567\n",
              "0.2        0.118984  0.010763  0.005447  0.003644\n",
              "0.3        0.589095  0.030185  0.010771  0.006526\n",
              "0.4        0.801339  0.131563  0.020917  0.010780\n",
              "0.5        0.896577  0.396409  0.046140  0.017640"
            ],
            "text/html": [
              "\n",
              "  <div id=\"df-abb2d52a-4854-4408-bae9-2cd95a9b9b36\" class=\"colab-df-container\">\n",
              "    <div>\n",
              "<style scoped>\n",
              "    .dataframe tbody tr th:only-of-type {\n",
              "        vertical-align: middle;\n",
              "    }\n",
              "\n",
              "    .dataframe tbody tr th {\n",
              "        vertical-align: top;\n",
              "    }\n",
              "\n",
              "    .dataframe thead th {\n",
              "        text-align: right;\n",
              "    }\n",
              "</style>\n",
              "<table border=\"1\" class=\"dataframe\">\n",
              "  <thead>\n",
              "    <tr style=\"text-align: right;\">\n",
              "      <th></th>\n",
              "      <th>0.2</th>\n",
              "      <th>0.4</th>\n",
              "      <th>0.6</th>\n",
              "      <th>0.8</th>\n",
              "    </tr>\n",
              "    <tr>\n",
              "      <th>Parameter</th>\n",
              "      <th></th>\n",
              "      <th></th>\n",
              "      <th></th>\n",
              "      <th></th>\n",
              "    </tr>\n",
              "  </thead>\n",
              "  <tbody>\n",
              "    <tr>\n",
              "      <th>0.1</th>\n",
              "      <td>0.010756</td>\n",
              "      <td>0.003642</td>\n",
              "      <td>0.002191</td>\n",
              "      <td>0.001567</td>\n",
              "    </tr>\n",
              "    <tr>\n",
              "      <th>0.2</th>\n",
              "      <td>0.118984</td>\n",
              "      <td>0.010763</td>\n",
              "      <td>0.005447</td>\n",
              "      <td>0.003644</td>\n",
              "    </tr>\n",
              "    <tr>\n",
              "      <th>0.3</th>\n",
              "      <td>0.589095</td>\n",
              "      <td>0.030185</td>\n",
              "      <td>0.010771</td>\n",
              "      <td>0.006526</td>\n",
              "    </tr>\n",
              "    <tr>\n",
              "      <th>0.4</th>\n",
              "      <td>0.801339</td>\n",
              "      <td>0.131563</td>\n",
              "      <td>0.020917</td>\n",
              "      <td>0.010780</td>\n",
              "    </tr>\n",
              "    <tr>\n",
              "      <th>0.5</th>\n",
              "      <td>0.896577</td>\n",
              "      <td>0.396409</td>\n",
              "      <td>0.046140</td>\n",
              "      <td>0.017640</td>\n",
              "    </tr>\n",
              "  </tbody>\n",
              "</table>\n",
              "</div>\n",
              "    <div class=\"colab-df-buttons\">\n",
              "\n",
              "  <div class=\"colab-df-container\">\n",
              "    <button class=\"colab-df-convert\" onclick=\"convertToInteractive('df-abb2d52a-4854-4408-bae9-2cd95a9b9b36')\"\n",
              "            title=\"Convert this dataframe to an interactive table.\"\n",
              "            style=\"display:none;\">\n",
              "\n",
              "  <svg xmlns=\"http://www.w3.org/2000/svg\" height=\"24px\" viewBox=\"0 -960 960 960\">\n",
              "    <path d=\"M120-120v-720h720v720H120Zm60-500h600v-160H180v160Zm220 220h160v-160H400v160Zm0 220h160v-160H400v160ZM180-400h160v-160H180v160Zm440 0h160v-160H620v160ZM180-180h160v-160H180v160Zm440 0h160v-160H620v160Z\"/>\n",
              "  </svg>\n",
              "    </button>\n",
              "\n",
              "  <style>\n",
              "    .colab-df-container {\n",
              "      display:flex;\n",
              "      gap: 12px;\n",
              "    }\n",
              "\n",
              "    .colab-df-convert {\n",
              "      background-color: #E8F0FE;\n",
              "      border: none;\n",
              "      border-radius: 50%;\n",
              "      cursor: pointer;\n",
              "      display: none;\n",
              "      fill: #1967D2;\n",
              "      height: 32px;\n",
              "      padding: 0 0 0 0;\n",
              "      width: 32px;\n",
              "    }\n",
              "\n",
              "    .colab-df-convert:hover {\n",
              "      background-color: #E2EBFA;\n",
              "      box-shadow: 0px 1px 2px rgba(60, 64, 67, 0.3), 0px 1px 3px 1px rgba(60, 64, 67, 0.15);\n",
              "      fill: #174EA6;\n",
              "    }\n",
              "\n",
              "    .colab-df-buttons div {\n",
              "      margin-bottom: 4px;\n",
              "    }\n",
              "\n",
              "    [theme=dark] .colab-df-convert {\n",
              "      background-color: #3B4455;\n",
              "      fill: #D2E3FC;\n",
              "    }\n",
              "\n",
              "    [theme=dark] .colab-df-convert:hover {\n",
              "      background-color: #434B5C;\n",
              "      box-shadow: 0px 1px 3px 1px rgba(0, 0, 0, 0.15);\n",
              "      filter: drop-shadow(0px 1px 2px rgba(0, 0, 0, 0.3));\n",
              "      fill: #FFFFFF;\n",
              "    }\n",
              "  </style>\n",
              "\n",
              "    <script>\n",
              "      const buttonEl =\n",
              "        document.querySelector('#df-abb2d52a-4854-4408-bae9-2cd95a9b9b36 button.colab-df-convert');\n",
              "      buttonEl.style.display =\n",
              "        google.colab.kernel.accessAllowed ? 'block' : 'none';\n",
              "\n",
              "      async function convertToInteractive(key) {\n",
              "        const element = document.querySelector('#df-abb2d52a-4854-4408-bae9-2cd95a9b9b36');\n",
              "        const dataTable =\n",
              "          await google.colab.kernel.invokeFunction('convertToInteractive',\n",
              "                                                    [key], {});\n",
              "        if (!dataTable) return;\n",
              "\n",
              "        const docLinkHtml = 'Like what you see? Visit the ' +\n",
              "          '<a target=\"_blank\" href=https://colab.research.google.com/notebooks/data_table.ipynb>data table notebook</a>'\n",
              "          + ' to learn more about interactive tables.';\n",
              "        element.innerHTML = '';\n",
              "        dataTable['output_type'] = 'display_data';\n",
              "        await google.colab.output.renderOutput(dataTable, element);\n",
              "        const docLink = document.createElement('div');\n",
              "        docLink.innerHTML = docLinkHtml;\n",
              "        element.appendChild(docLink);\n",
              "      }\n",
              "    </script>\n",
              "  </div>\n",
              "\n",
              "\n",
              "<div id=\"df-eae70530-210d-4029-aab0-b7dadf499fd2\">\n",
              "  <button class=\"colab-df-quickchart\" onclick=\"quickchart('df-eae70530-210d-4029-aab0-b7dadf499fd2')\"\n",
              "            title=\"Suggest charts\"\n",
              "            style=\"display:none;\">\n",
              "\n",
              "<svg xmlns=\"http://www.w3.org/2000/svg\" height=\"24px\"viewBox=\"0 0 24 24\"\n",
              "     width=\"24px\">\n",
              "    <g>\n",
              "        <path d=\"M19 3H5c-1.1 0-2 .9-2 2v14c0 1.1.9 2 2 2h14c1.1 0 2-.9 2-2V5c0-1.1-.9-2-2-2zM9 17H7v-7h2v7zm4 0h-2V7h2v10zm4 0h-2v-4h2v4z\"/>\n",
              "    </g>\n",
              "</svg>\n",
              "  </button>\n",
              "\n",
              "<style>\n",
              "  .colab-df-quickchart {\n",
              "      --bg-color: #E8F0FE;\n",
              "      --fill-color: #1967D2;\n",
              "      --hover-bg-color: #E2EBFA;\n",
              "      --hover-fill-color: #174EA6;\n",
              "      --disabled-fill-color: #AAA;\n",
              "      --disabled-bg-color: #DDD;\n",
              "  }\n",
              "\n",
              "  [theme=dark] .colab-df-quickchart {\n",
              "      --bg-color: #3B4455;\n",
              "      --fill-color: #D2E3FC;\n",
              "      --hover-bg-color: #434B5C;\n",
              "      --hover-fill-color: #FFFFFF;\n",
              "      --disabled-bg-color: #3B4455;\n",
              "      --disabled-fill-color: #666;\n",
              "  }\n",
              "\n",
              "  .colab-df-quickchart {\n",
              "    background-color: var(--bg-color);\n",
              "    border: none;\n",
              "    border-radius: 50%;\n",
              "    cursor: pointer;\n",
              "    display: none;\n",
              "    fill: var(--fill-color);\n",
              "    height: 32px;\n",
              "    padding: 0;\n",
              "    width: 32px;\n",
              "  }\n",
              "\n",
              "  .colab-df-quickchart:hover {\n",
              "    background-color: var(--hover-bg-color);\n",
              "    box-shadow: 0 1px 2px rgba(60, 64, 67, 0.3), 0 1px 3px 1px rgba(60, 64, 67, 0.15);\n",
              "    fill: var(--button-hover-fill-color);\n",
              "  }\n",
              "\n",
              "  .colab-df-quickchart-complete:disabled,\n",
              "  .colab-df-quickchart-complete:disabled:hover {\n",
              "    background-color: var(--disabled-bg-color);\n",
              "    fill: var(--disabled-fill-color);\n",
              "    box-shadow: none;\n",
              "  }\n",
              "\n",
              "  .colab-df-spinner {\n",
              "    border: 2px solid var(--fill-color);\n",
              "    border-color: transparent;\n",
              "    border-bottom-color: var(--fill-color);\n",
              "    animation:\n",
              "      spin 1s steps(1) infinite;\n",
              "  }\n",
              "\n",
              "  @keyframes spin {\n",
              "    0% {\n",
              "      border-color: transparent;\n",
              "      border-bottom-color: var(--fill-color);\n",
              "      border-left-color: var(--fill-color);\n",
              "    }\n",
              "    20% {\n",
              "      border-color: transparent;\n",
              "      border-left-color: var(--fill-color);\n",
              "      border-top-color: var(--fill-color);\n",
              "    }\n",
              "    30% {\n",
              "      border-color: transparent;\n",
              "      border-left-color: var(--fill-color);\n",
              "      border-top-color: var(--fill-color);\n",
              "      border-right-color: var(--fill-color);\n",
              "    }\n",
              "    40% {\n",
              "      border-color: transparent;\n",
              "      border-right-color: var(--fill-color);\n",
              "      border-top-color: var(--fill-color);\n",
              "    }\n",
              "    60% {\n",
              "      border-color: transparent;\n",
              "      border-right-color: var(--fill-color);\n",
              "    }\n",
              "    80% {\n",
              "      border-color: transparent;\n",
              "      border-right-color: var(--fill-color);\n",
              "      border-bottom-color: var(--fill-color);\n",
              "    }\n",
              "    90% {\n",
              "      border-color: transparent;\n",
              "      border-bottom-color: var(--fill-color);\n",
              "    }\n",
              "  }\n",
              "</style>\n",
              "\n",
              "  <script>\n",
              "    async function quickchart(key) {\n",
              "      const quickchartButtonEl =\n",
              "        document.querySelector('#' + key + ' button');\n",
              "      quickchartButtonEl.disabled = true;  // To prevent multiple clicks.\n",
              "      quickchartButtonEl.classList.add('colab-df-spinner');\n",
              "      try {\n",
              "        const charts = await google.colab.kernel.invokeFunction(\n",
              "            'suggestCharts', [key], {});\n",
              "      } catch (error) {\n",
              "        console.error('Error during call to suggestCharts:', error);\n",
              "      }\n",
              "      quickchartButtonEl.classList.remove('colab-df-spinner');\n",
              "      quickchartButtonEl.classList.add('colab-df-quickchart-complete');\n",
              "    }\n",
              "    (() => {\n",
              "      let quickchartButtonEl =\n",
              "        document.querySelector('#df-eae70530-210d-4029-aab0-b7dadf499fd2 button');\n",
              "      quickchartButtonEl.style.display =\n",
              "        google.colab.kernel.accessAllowed ? 'block' : 'none';\n",
              "    })();\n",
              "  </script>\n",
              "</div>\n",
              "\n",
              "    </div>\n",
              "  </div>\n"
            ]
          },
          "metadata": {},
          "execution_count": 8
        }
      ],
      "source": [
        "frame.head()"
      ]
    },
    {
      "cell_type": "markdown",
      "id": "catholic-alfred",
      "metadata": {
        "id": "catholic-alfred"
      },
      "source": [
        "The `SweepFrame` has one row for each value of `beta` and one column for each value of `gamma`.\n",
        "We can print the values in the `SweepFrame` like this:"
      ]
    },
    {
      "cell_type": "code",
      "execution_count": 9,
      "id": "collected-waterproof",
      "metadata": {
        "id": "collected-waterproof",
        "outputId": "78c861b5-51a3-4986-8eb2-48c7ffcdea55",
        "colab": {
          "base_uri": "https://localhost:8080/"
        }
      },
      "outputs": [
        {
          "output_type": "stream",
          "name": "stdout",
          "text": [
            "0.1 0.2 0.010756340768063644\n",
            "0.2 0.2 0.11898421353185373\n",
            "0.3 0.2 0.5890954199973404\n",
            "0.4 0.2 0.8013385277185551\n",
            "0.5 0.2 0.8965769637207062\n",
            "0.6 0.2 0.942929291399791\n",
            "0.7 0.2 0.966299311298026\n",
            "0.8 0.2 0.9781518959989762\n",
            "0.9 0.2 0.9840568957948106\n",
            "1.0 0.2 0.9868823507202488\n",
            "1.1 0.2 0.988148177093735\n",
            "0.1 0.4 0.0036416926514175607\n",
            "0.2 0.4 0.010763463373360094\n",
            "0.3 0.4 0.030184952469116566\n",
            "0.4 0.4 0.131562924303259\n",
            "0.5 0.4 0.3964094037932606\n",
            "0.6 0.4 0.5979016626615987\n",
            "0.7 0.4 0.7284704154876106\n",
            "0.8 0.4 0.8144604459153759\n",
            "0.9 0.4 0.8722697237137128\n",
            "1.0 0.4 0.9116692168795855\n",
            "1.1 0.4 0.9386802509510287\n",
            "0.1 0.6 0.002190722188881611\n",
            "0.2 0.6 0.005446688837466351\n",
            "0.3 0.6 0.010771139974975585\n",
            "0.4 0.6 0.020916599304195316\n",
            "0.5 0.6 0.04614035896610047\n",
            "0.6 0.6 0.13288938996079536\n",
            "0.7 0.6 0.3118432512847451\n",
            "0.8 0.6 0.47832565854255393\n",
            "0.9 0.6 0.605687582114665\n",
            "1.0 0.6 0.7014254793376209\n",
            "1.1 0.6 0.7738176405451065\n",
            "0.1 0.8 0.0015665254038139675\n",
            "0.2 0.8 0.003643953969662994\n",
            "0.3 0.8 0.006526163529085194\n",
            "0.4 0.8 0.010779807499500693\n",
            "0.5 0.8 0.017639902596349066\n",
            "0.6 0.8 0.030291868201986594\n",
            "0.7 0.8 0.05882382948158804\n",
            "0.8 0.8 0.13358889291095588\n",
            "0.9 0.8 0.2668895539427739\n",
            "1.0 0.8 0.40375121210421994\n",
            "1.1 0.8 0.519583469821867\n"
          ]
        }
      ],
      "source": [
        "for gamma in frame.columns:\n",
        "    column = frame[gamma]\n",
        "    for beta in column.index:\n",
        "        metric = column[beta]\n",
        "        print(beta, gamma, metric)"
      ]
    },
    {
      "cell_type": "markdown",
      "id": "unexpected-surgeon",
      "metadata": {
        "id": "unexpected-surgeon"
      },
      "source": [
        "This is the first example we've seen with one `for` loop inside another:\n",
        "\n",
        "-   Each time the outer loop runs, it selects a value of `gamma` from\n",
        "    the columns of the `SweepFrame` and extracts the corresponding\n",
        "    column.\n",
        "\n",
        "-   Each time the inner loop runs, it selects a value of `beta` from the index of the column and selects the corresponding element, which is the fraction of the population that got infected.\n",
        "\n",
        "Since there are 11 rows and 4 columns, the total number of lines in the output is 44.\n",
        "\n",
        "The following function uses the same loops to enumerate the elements of the `SweepFrame`, but instead of printing a line for each element, it plots a point."
      ]
    },
    {
      "cell_type": "code",
      "execution_count": 10,
      "id": "polar-flash",
      "metadata": {
        "id": "polar-flash"
      },
      "outputs": [],
      "source": [
        "from matplotlib.pyplot import plot\n",
        "\n",
        "def plot_sweep_frame(frame):\n",
        "    for gamma in frame.columns:\n",
        "        column = frame[gamma]\n",
        "        for beta in column.index:\n",
        "            metric = column[beta]\n",
        "            plot(beta/gamma, metric, '.', color='C1')"
      ]
    },
    {
      "cell_type": "markdown",
      "id": "shared-boxing",
      "metadata": {
        "id": "shared-boxing"
      },
      "source": [
        "For each element of the `SweepFrame` it plots a point with the ratio `beta/gamma` as the $x$ coordinate and `metric` -- which is the fraction of the population that's infected -- as the $y$ coordinate.\n",
        "\n",
        "Here's what it looks like:"
      ]
    },
    {
      "cell_type": "code",
      "execution_count": 11,
      "id": "incorporate-launch",
      "metadata": {
        "id": "incorporate-launch",
        "outputId": "7840cd4e-0ffb-4fe3-86af-7d8f2fb3d2f5",
        "colab": {
          "base_uri": "https://localhost:8080/",
          "height": 309
        }
      },
      "outputs": [
        {
          "output_type": "display_data",
          "data": {
            "text/plain": [
              "<Figure size 450x300 with 1 Axes>"
            ],
            "image/png": "[encoded data removed]"
          },
          "metadata": {}
        }
      ],
      "source": [
        "plot_sweep_frame(frame)\n",
        "\n",
        "decorate(xlabel='Contact number (beta/gamma)',\n",
        "         ylabel='Fraction infected')"
      ]
    },
    {
      "cell_type": "markdown",
      "id": "tropical-colony",
      "metadata": {
        "id": "tropical-colony"
      },
      "source": [
        "The results fall on a single curve, at least approximately. That means that we can predict the fraction of the population that will be infected based on a single parameter, the ratio `beta/gamma`. We don't need to know the values of `beta` and `gamma` separately."
      ]
    },
    {
      "cell_type": "markdown",
      "id": "lightweight-surfing",
      "metadata": {
        "id": "lightweight-surfing"
      },
      "source": [
        "## Contact Number\n",
        "\n",
        "From Chapter 11, recall that the number of new infections in a\n",
        "given day is $\\beta s i N$, and the number of recoveries is\n",
        "$\\gamma i N$. If we divide these quantities, the result is\n",
        "$\\beta s / \\gamma$, which is the number of new infections per recovery\n",
        "(as a fraction of the population).\n",
        "\n",
        "When a new disease is introduced to a susceptible population, $s$ is\n",
        "approximately 1, so the number of people infected by each sick person is $\\beta / \\gamma$. This ratio is called the *contact number* or *basic reproduction number* (see <http://modsimpy.com/contact>). By convention it is usually denoted $R_0$, but in the context of an SIR model, that notation is confusing, so we'll use $c$ instead."
      ]
    },
    {
      "cell_type": "markdown",
      "id": "banner-egyptian",
      "metadata": {
        "id": "banner-egyptian"
      },
      "source": [
        "The results in the previous section suggest that there is a relationship between $c$ and the total number of infections. We can derive this relationship by analyzing the differential equations from\n",
        "Chapter 11:\n",
        "\n",
        "$$\\begin{aligned}\n",
        "\\frac{ds}{dt} &= -\\beta s i \\\\\n",
        "\\frac{di}{dt} &= \\beta s i - \\gamma i\\\\\n",
        "\\frac{dr}{dt} &= \\gamma i\\end{aligned}$$\n",
        "\n",
        "In the same way we divided the\n",
        "contact rate by the infection rate to get the dimensionless quantity\n",
        "$c$, now we'll divide $di/dt$ by $ds/dt$ to get a ratio of rates:\n",
        "\n",
        "$$\\frac{di}{ds} = \\frac{\\beta s i - \\gamma i}{-\\beta s i}$$\n",
        "\n",
        "Which we can simplify as\n",
        "\n",
        "$$\\frac{di}{ds} = -1 + \\frac{\\gamma}{\\beta s}$$\n",
        "\n",
        "Replacing $\\beta/\\gamma$ with $c$, we can write\n",
        "\n",
        "$$\\frac{di}{ds} = -1 + \\frac{1}{c s}$$"
      ]
    },
    {
      "cell_type": "markdown",
      "id": "noticed-mouse",
      "metadata": {
        "id": "noticed-mouse"
      },
      "source": [
        "Dividing one differential equation by another is not an obvious move, but in this case it is useful because it gives us a relationship between $i$, $s$, and $c$ that does not depend on time. From that relationship, we can derive an equation that relates $c$ to the final value of $s$. In theory, this equation makes it possible to infer $c$ by observing the course of an epidemic."
      ]
    },
    {
      "cell_type": "markdown",
      "id": "accessible-bernard",
      "metadata": {
        "id": "accessible-bernard"
      },
      "source": [
        "Here's how the derivation goes. We multiply both sides of the previous\n",
        "equation by $ds$:\n",
        "\n",
        "$$di = \\left( -1 + \\frac{1}{cs} \\right) ds$$\n",
        "\n",
        "And then integrate both sides:\n",
        "\n",
        "$$i = -s + \\frac{1}{c} \\log s + q$$\n",
        "\n",
        "where $q$ is a constant of integration. Rearranging terms yields:\n",
        "\n",
        "$$q = i + s - \\frac{1}{c} \\log s$$\n",
        "\n",
        "Now let's see if we can figure out what $q$ is. At the beginning of an epidemic, if the fraction infected is small and nearly everyone is susceptible, we can use the approximations $i(0) = 0$ and $s(0) = 1$ to compute $q$:\n",
        "\n",
        "$$q = 0 + 1 + \\frac{1}{c} \\log 1$$\n",
        "\n",
        "Since $\\log 1 = 0$, we get $q = 1$."
      ]
    },
    {
      "cell_type": "markdown",
      "id": "instrumental-placement",
      "metadata": {
        "id": "instrumental-placement"
      },
      "source": [
        "Now, at the end of the epidemic, let's assume that $i(\\infty) = 0$, and $s(\\infty)$ is an unknown quantity, $s_{\\infty}$. Now we have:\n",
        "\n",
        "$$q = 1 = 0 + s_{\\infty}- \\frac{1}{c} \\log s_{\\infty}$$\n",
        "\n",
        "Solving for $c$, we get\n",
        "\n",
        "$$c = \\frac{\\log s_{\\infty}}{s_{\\infty}- 1}$$\n",
        "\n",
        "By relating $c$ and $s_{\\infty}$, this equation makes it possible to estimate $c$ based on data, and possibly predict the behavior of future epidemics."
      ]
    },
    {
      "cell_type": "markdown",
      "id": "under-dating",
      "metadata": {
        "id": "under-dating"
      },
      "source": [
        "## Analysis and Simulation\n",
        "\n",
        "Let's compare this analytic result to the results from simulation. I'll create an array of values for $s_{\\infty}$."
      ]
    },
    {
      "cell_type": "code",
      "execution_count": 12,
      "id": "architectural-growth",
      "metadata": {
        "id": "architectural-growth"
      },
      "outputs": [],
      "source": [
        "s_inf_array = linspace(0.003, 0.99, 50)"
      ]
    },
    {
      "cell_type": "markdown",
      "id": "oriented-turtle",
      "metadata": {
        "id": "oriented-turtle"
      },
      "source": [
        "And compute the corresponding values of $c$:"
      ]
    },
    {
      "cell_type": "code",
      "execution_count": 13,
      "id": "narrative-embassy",
      "metadata": {
        "id": "narrative-embassy"
      },
      "outputs": [],
      "source": [
        "from numpy import log\n",
        "\n",
        "c_array = log(s_inf_array) / (s_inf_array - 1)"
      ]
    },
    {
      "cell_type": "markdown",
      "id": "assisted-public",
      "metadata": {
        "id": "assisted-public"
      },
      "source": [
        "To get the total infected, we compute the difference between $s(0)$ and\n",
        "$s(\\infty)$, then store the results in a `Series`:"
      ]
    },
    {
      "cell_type": "code",
      "execution_count": 14,
      "id": "canadian-assumption",
      "metadata": {
        "id": "canadian-assumption"
      },
      "outputs": [],
      "source": [
        "frac_infected = 1 - s_inf_array"
      ]
    },
    {
      "cell_type": "markdown",
      "id": "published-generation",
      "metadata": {
        "id": "published-generation"
      },
      "source": [
        "The ModSim library provides a function called `make_series` we can use to put `c_array` and `frac_infected` in a Pandas `Series`."
      ]
    },
    {
      "cell_type": "code",
      "execution_count": 15,
      "id": "antique-watch",
      "metadata": {
        "id": "antique-watch"
      },
      "outputs": [],
      "source": [
        "frac_infected_series = make_series(c_array, frac_infected)"
      ]
    },
    {
      "cell_type": "markdown",
      "id": "conscious-bathroom",
      "metadata": {
        "id": "conscious-bathroom"
      },
      "source": [
        "Now we can plot the results:"
      ]
    },
    {
      "cell_type": "code",
      "execution_count": 16,
      "id": "fallen-router",
      "metadata": {
        "id": "fallen-router",
        "outputId": "0b2e609b-2266-4971-c07b-afb6f0e8a7a6",
        "colab": {
          "base_uri": "https://localhost:8080/",
          "height": 309
        }
      },
      "outputs": [
        {
          "output_type": "display_data",
          "data": {
            "text/plain": [
              "<Figure size 450x300 with 1 Axes>"
            ],
            "image/png": "[encoded data removed]"
          },
          "metadata": {}
        }
      ],
      "source": [
        "plot_sweep_frame(frame)\n",
        "frac_infected_series.plot(label='analysis')\n",
        "\n",
        "decorate(xlabel='Contact number (c)',\n",
        "         ylabel='Fraction infected')"
      ]
    },
    {
      "cell_type": "markdown",
      "id": "billion-worthy",
      "metadata": {
        "id": "billion-worthy"
      },
      "source": [
        "When the contact number exceeds 1, analysis and simulation agree. When\n",
        "the contact number is less than 1, they do not: analysis indicates there should be no infections; in the simulations there are a small number of infections.\n",
        "\n",
        "The reason for the discrepancy is that the simulation divides time into a discrete series of days, whereas the analysis treats time as a\n",
        "continuous quantity.\n",
        "When the contact number is large, these two models agree; when it is small, they diverge."
      ]
    },
    {
      "cell_type": "markdown",
      "id": "alternate-surprise",
      "metadata": {
        "id": "alternate-surprise"
      },
      "source": [
        "## Estimating Contact Number\n",
        "\n",
        "The previous figure shows that if we know the contact number, we can estimate the fraction of the population that will be infected with just a few arithmetic operations.\n",
        "We don't have to run a simulation.\n",
        "\n",
        "We can also read the figure the other way; if we know what fraction of the population was affected by a past outbreak, we can estimate the contact number.\n",
        "Then, if we know one of the parameters, like `gamma`, we can use the contact number to estimate the other parameter, like `beta`.\n",
        "\n",
        "At least in theory, we can.\n",
        "In practice, it might not work very well, because of the shape of the curve.\n",
        "\n",
        "* When the contact number is low, the curve is quite steep, which means that small changes in $c$ yield big changes in the number of infections. If we observe that the total fraction infected is anywhere from 20% to 80%, we would conclude that $c$ is near 2.\n",
        "\n",
        "* And when the contact number is high, the curve is nearly flat, which means that it's hard to see the difference between values of $c$ between 3 and 6.\n",
        "\n",
        "With the uncertainty of real data, we might not be able to estimate $c$ with much precision.\n",
        "But as one of the exercises below, you'll have a chance to try."
      ]
    },
    {
      "cell_type": "markdown",
      "id": "related-council",
      "metadata": {
        "id": "related-council"
      },
      "source": [
        "## Summary\n",
        "\n",
        "In this chapter we used simulations to explore the relationship between `beta`, `gamma`, and the fraction infected.\n",
        "Then we used analysis to explain that relationship.\n",
        "\n",
        "With that, we are done with the Kermack-McKendrick model.\n",
        "In the next chapter we'll move on to thermal systems and the notorious coffee cooling problem."
      ]
    },
    {
      "cell_type": "markdown",
      "id": "removed-conviction",
      "metadata": {
        "id": "removed-conviction"
      },
      "source": [
        "## Exercises\n",
        "\n",
        "This chapter is available as a Jupyter notebook where you can read the text, run the code, and work on the exercises.\n",
        "You can access the notebooks at <https://allendowney.github.io/ModSimPy/>."
      ]
    },
    {
      "cell_type": "markdown",
      "id": "textile-program",
      "metadata": {
        "id": "textile-program"
      },
      "source": [
        "### Exercise 1\n",
        "\n",
        " At the beginning of this chapter, I suggested two ways to relate `beta` and `gamma`: we could compute their difference or their ratio.\n",
        "\n",
        "Because the ratio is dimensionless, I suggested we explore it first, and that led us to discover the contact number, which is `beta/gamma`.\n",
        "When we plotted the fraction infected as a function of the contact number, we found that this metric falls on a single curve, at least approximately.\n",
        "That indicates that the ratio is enough to predict the results; we don't have to know `beta` and `gamma` individually.\n",
        "\n",
        "But that leaves a question open: what happens if we do the same thing using the difference instead of the ratio?\n",
        "\n",
        "Write a version of `plot_sweep_frame`, called `plot_sweep_frame_difference`, that plots the fraction infected versus the difference `beta-gamma`.\n",
        "\n",
        "What do the results look like, and what does that imply?"
      ]
    },
    {
      "cell_type": "code",
      "execution_count": 27,
      "id": "current-tiger",
      "metadata": {
        "id": "current-tiger"
      },
      "outputs": [],
      "source": [
        "# prompt: At the beginning of this chapter, I suggested two ways to relate beta and gamma: we could compute their difference or their ratio.  Because the ratio is dimensionless, I suggested we explore it first, and that led us to discover the contact number, which is beta/gamma. When we plotted the fraction infected as a function of the contact number, we found that this metric falls on a single curve, at least approximately. That indicates that the ratio is enough to predict the results; we don't have to know beta and gamma individually.  But that leaves a question open: what happens if we do the same thing using the difference instead of the ratio?  Write a version of plot_sweep_frame, called plot_sweep_frame_difference, that plots the fraction infected versus the difference beta-gamma.  What do the results look like, and what does that imply?\n",
        "\n",
        "def plot_sweep_frame_difference(frame, label):\n",
        "  \"\"\"\n",
        "  Plot a frame of simulation results.\n",
        "\n",
        "  Args:\n",
        "    frame: A dataframe with columns beta, gamma, c, and frac_infected.\n",
        "    label: A label for the plot.\n",
        "  \"\"\"\n",
        "\n",
        "  plot(frame.beta - frame.gamma, frame.frac_infected, label=label)\n"
      ]
    },
    {
      "cell_type": "code",
      "execution_count": 28,
      "id": "specialized-regression",
      "metadata": {
        "id": "specialized-regression"
      },
      "outputs": [],
      "source": [
        "def plot_sweep_frame_difference(frame, label):\n",
        "  \"\"\"\n",
        "  Plot a frame of simulation results.\n",
        "\n",
        "  Args:\n",
        "    frame: A dataframe with columns beta, gamma, c, and frac_infected.\n",
        "    label: A label for the plot.\n",
        "  \"\"\"\n",
        "\n",
        "  plot(frame.beta - frame.gamma, frame.frac_infected, label=label)"
      ]
    },
    {
      "cell_type": "code",
      "execution_count": null,
      "id": "canadian-authentication",
      "metadata": {
        "id": "canadian-authentication"
      },
      "outputs": [],
      "source": [
        "# Solution goes here"
      ]
    },
    {
      "cell_type": "markdown",
      "id": "angry-perfume",
      "metadata": {
        "id": "angry-perfume"
      },
      "source": [
        "### Exercise 2\n",
        "\n",
        " Suppose you run a survey at the end of the semester and find that 26% of students had the Freshman Plague at some point.\n",
        "What is your best estimate of `c`?\n",
        "\n",
        "Hint: if you display `frac_infected_series`, you can read off the answer."
      ]
    },
    {
      "cell_type": "code",
      "execution_count": null,
      "id": "focused-magnet",
      "metadata": {
        "id": "focused-magnet"
      },
      "outputs": [],
      "source": [
        "# Solution goes here"
      ]
    },
    {
      "cell_type": "markdown",
      "id": "charged-sample",
      "metadata": {
        "id": "charged-sample"
      },
      "source": [
        "### Exercise 3\n",
        "\n",
        "So far the only metric we have considered is the total fraction of the population that gets infected over the course of an epidemic.  That is an important metric, but it is not the only one we care about.\n",
        "\n",
        "For example, if we have limited resources to deal with infected people, we might also be concerned about the number of people who are sick at the peak of the epidemic, which is the maximum of `I`.\n",
        "\n",
        "Write a version of `sweep_beta` that computes this metric, and use it to compute a `SweepFrame` for a range of values of `beta` and `gamma`.\n",
        "Make a contour plot that shows the value of this metric as a function of `beta` and `gamma`.\n",
        "\n",
        "Then use `plot_sweep_frame` to plot the maximum of `I` as a function of the contact number, `beta/gamma`.\n",
        "Do the results fall on a single curve?"
      ]
    },
    {
      "cell_type": "code",
      "execution_count": null,
      "id": "greatest-palestine",
      "metadata": {
        "id": "greatest-palestine"
      },
      "outputs": [],
      "source": [
        "# Solution goes here"
      ]
    },
    {
      "cell_type": "code",
      "execution_count": null,
      "id": "average-practitioner",
      "metadata": {
        "id": "average-practitioner"
      },
      "outputs": [],
      "source": [
        "# Solution goes here"
      ]
    },
    {
      "cell_type": "code",
      "execution_count": null,
      "id": "elegant-gamma",
      "metadata": {
        "id": "elegant-gamma"
      },
      "outputs": [],
      "source": [
        "# Solution goes here"
      ]
    },
    {
      "cell_type": "code",
      "execution_count": null,
      "id": "plain-dayton",
      "metadata": {
        "id": "plain-dayton"
      },
      "outputs": [],
      "source": [
        "# Solution goes here"
      ]
    },
    {
      "cell_type": "code",
      "execution_count": null,
      "id": "sexual-services",
      "metadata": {
        "id": "sexual-services"
      },
      "outputs": [],
      "source": [
        "# Solution goes here"
      ]
    },
    {
      "cell_type": "code",
      "execution_count": null,
      "id": "central-fever",
      "metadata": {
        "id": "central-fever"
      },
      "outputs": [],
      "source": [
        "# Solution goes here"
      ]
    },
    {
      "cell_type": "code",
      "execution_count": null,
      "id": "tropical-advancement",
      "metadata": {
        "id": "tropical-advancement"
      },
      "outputs": [],
      "source": [
        "# Solution goes here"
      ]
    },
    {
      "cell_type": "markdown",
      "id": "editorial-coating",
      "metadata": {
        "id": "editorial-coating"
      },
      "source": [
        "## Under the Hood\n",
        "\n",
        "ModSim provides `make_series` to make it easier to create a Pandas Series.  In this chapter, we used it like this:"
      ]
    },
    {
      "cell_type": "code",
      "execution_count": 33,
      "id": "corresponding-india",
      "metadata": {
        "id": "corresponding-india"
      },
      "outputs": [],
      "source": [
        "frac_infected_series = make_series(c_array, frac_infected)"
      ]
    },
    {
      "cell_type": "markdown",
      "id": "comparable-strap",
      "metadata": {
        "id": "comparable-strap"
      },
      "source": [
        "If you import `Series` from Pandas, you can make a `Series` yourself, like this:"
      ]
    },
    {
      "cell_type": "code",
      "execution_count": 34,
      "id": "constant-christianity",
      "metadata": {
        "id": "constant-christianity"
      },
      "outputs": [],
      "source": [
        "from pandas import Series\n",
        "\n",
        "frac_infected_series = Series(frac_infected, c_array)"
      ]
    },
    {
      "cell_type": "markdown",
      "id": "wireless-president",
      "metadata": {
        "id": "wireless-president"
      },
      "source": [
        "The difference is that the arguments are in reverse order: the first argument is stored as the values in the `Series`; the second argument is stored as the index.\n",
        "\n",
        "I find that order counterintuitive, which is why I use `make_series`.\n",
        "`make_series` takes the same optional keyword arguments as `Series`, which you can read about at <https://pandas.pydata.org/pandas-docs/stable/reference/api/pandas.Series.html>."
      ]
    },
    {
      "cell_type": "code",
      "execution_count": null,
      "id": "hidden-recipient",
      "metadata": {
        "id": "hidden-recipient"
      },
      "outputs": [],
      "source": []
    }
  ],
  "metadata": {
    "celltoolbar": "Tags",
    "kernelspec": {
      "display_name": "Python 3 (ipykernel)",
      "language": "python",
      "name": "python3"
    },
    "language_info": {
      "codemirror_mode": {
        "name": "ipython",
        "version": 3
      },
      "file_extension": ".py",
      "mimetype": "text/x-python",
      "name": "python",
      "nbconvert_exporter": "python",
      "pygments_lexer": "ipython3",
      "version": "3.10.6"
    },
    "colab": {
      "provenance": [],
      "include_colab_link": true
    }
  },
  "nbformat": 4,
  "nbformat_minor": 5
}